{
 "cells": [
  {
   "cell_type": "code",
   "execution_count": 2,
   "id": "c2317bdb-101c-4e45-879d-8ae950680c62",
   "metadata": {
    "tags": []
   },
   "outputs": [],
   "source": [
    "import sys\n",
    "sys.path.append('/home/airg/rabedi/UCSB')"
   ]
  },
  {
   "cell_type": "code",
   "execution_count": 3,
   "id": "49f7a354-48e4-411a-9da1-a594ecadc7cf",
   "metadata": {
    "tags": []
   },
   "outputs": [],
   "source": [
    "import os\n",
    "import pickle\n",
    "import pandas as pd\n",
    "import rasterio\n",
    "from datatorch import *\n",
    "from tqdm import tqdm"
   ]
  },
  {
   "cell_type": "code",
   "execution_count": null,
   "id": "cc79cd22-9122-4872-acfa-2fd1ad2a8d42",
   "metadata": {
    "tags": []
   },
   "outputs": [],
   "source": [
    "# Configuration\n",
    "usage = \"train\"  # \"train\", \"validate\",\n",
    "pickle_dir = \"./pickles/finetune\"\n",
    "pickle_file = os.path.join(pickle_dir, f\"{usage}_data.pkl\")\n",
    "catalog_csv = \"./finetune.csv\"\n",
    "data_path = \"/home/airg/data/labels/cropland\"\n",
    "\n",
    "os.makedirs(pickle_dir, exist_ok=True)\n",
    "\n",
    "catalog_df = pd.read_csv(catalog_csv)\n",
    "\n",
    "# initializing dataset\n",
    "dataset = ImageData(\n",
    "    data_path=data_path,\n",
    "    log_dir=\"./logs\",\n",
    "    catalog=catalog_df,\n",
    "    data_size=224,\n",
    "    buffer=0,\n",
    "    buffer_comp=0,\n",
    "    usage=usage, \n",
    "    img_path_cols=\"image\",\n",
    "    label_path_col=\"label\",\n",
    "    label_group=[0, 1, 2, 3, 4],\n",
    "    apply_normalization=True,\n",
    "    normal_strategy=\"min_max\",\n",
    "    stat_procedure=\"lab\",\n",
    "    global_stats=None,\n",
    "    trans=None,\n",
    "    parallel=False,\n",
    "    clip_val=0\n",
    ")\n",
    "\n",
    "metadata_list = []\n",
    "for rel_path in dataset.catalog[\"image\"]:\n",
    "    full_path = os.path.join(data_path, rel_path)\n",
    "    try:\n",
    "        with rasterio.open(full_path) as src:\n",
    "            metadata_list.append(src.meta)\n",
    "    except Exception as e:\n",
    "        print(f\"Warning: Failed to read metadata from {full_path}: {e}\")\n",
    "        metadata_list.append(None)\n",
    "\n",
    "to_save = {\n",
    "    \"images\": dataset.img,                                      # list of image arrays\n",
    "    \"labels\": dataset.label,                                    # list of label arrays\n",
    "    \"image_paths\": dataset.catalog[\"image\"].tolist(),           # relative image file paths\n",
    "    \"label_paths\": dataset.catalog[\"label\"].tolist(),           # relative label file paths\n",
    "    \"metadata\": metadata_list                                   # rasterio metadata for each image\n",
    "}\n",
    "\n",
    "with open(pickle_file, \"wb\") as f:\n",
    "    pickle.dump(to_save, f)\n",
    "\n",
    "print(f\"Saved {len(dataset.img)} samples to {pickle_file}\")"
   ]
  },
  {
   "cell_type": "code",
   "execution_count": 7,
   "id": "29f14264-0c17-4057-a18c-eddd7b820169",
   "metadata": {
    "collapsed": true,
    "jupyter": {
     "outputs_hidden": true
    },
    "tags": []
   },
   "outputs": [
    {
     "name": "stderr",
     "output_type": "stream",
     "text": [
      "Processing test tiles:   0%|                   | 8/3779 [00:00<00:51, 73.64it/s]"
     ]
    },
    {
     "name": "stdout",
     "output_type": "stream",
     "text": [
      "----------Prediction data loaded for tile BF0431785, year 2017-----------\n",
      "----------Prediction data loaded for tile SD3918874, year 2018-----------\n",
      "----------Prediction data loaded for tile SN0393402, year 2020-----------\n",
      "----------Prediction data loaded for tile ML3544736, year 2019-----------\n",
      "----------Prediction data loaded for tile SD4628707, year 2018-----------\n",
      "----------Prediction data loaded for tile SN0572586, year 2017-----------\n",
      "----------Prediction data loaded for tile SD4738223, year 2019-----------\n",
      "----------Prediction data loaded for tile NG1224862, year 2019-----------\n",
      "----------Prediction data loaded for tile CM0100290, year 2017-----------\n",
      "----------Prediction data loaded for tile ET1481065, year 2022-----------\n",
      "----------Prediction data loaded for tile ET2310040, year 2021-----------\n",
      "----------Prediction data loaded for tile ET2366964, year 2020-----------\n",
      "----------Prediction data loaded for tile UG0378067, year 2022-----------\n",
      "----------Prediction data loaded for tile ET2487669, year 2021-----------\n",
      "----------Prediction data loaded for tile ML2303293, year 2021-----------\n",
      "----------Prediction data loaded for tile NG2065466, year 2020-----------\n"
     ]
    },
    {
     "name": "stderr",
     "output_type": "stream",
     "text": [
      "Processing test tiles:   1%|                  | 24/3779 [00:00<00:51, 72.28it/s]"
     ]
    },
    {
     "name": "stdout",
     "output_type": "stream",
     "text": [
      "----------Prediction data loaded for tile CM0246406, year 2018-----------\n",
      "----------Prediction data loaded for tile KE1648498, year 2021-----------\n",
      "----------Prediction data loaded for tile KE0870366, year 2021-----------\n",
      "----------Prediction data loaded for tile UG0307480, year 2021-----------\n",
      "----------Prediction data loaded for tile KE1318589, year 2020-----------\n",
      "----------Prediction data loaded for tile CD5627976, year 2018-----------\n",
      "----------Prediction data loaded for tile CD6788719, year 2022-----------\n",
      "----------Prediction data loaded for tile SO1566607, year 2020-----------\n",
      "----------Prediction data loaded for tile NE3404049, year 2018-----------\n",
      "----------Prediction data loaded for tile ET0071185, year 2018-----------\n",
      "----------Prediction data loaded for tile SN0408719, year 2017-----------\n",
      "----------Prediction data loaded for tile BF0531383, year 2021-----------\n",
      "----------Prediction data loaded for tile BF0878324, year 2018-----------\n",
      "----------Prediction data loaded for tile CI0135845, year 2019-----------\n",
      "----------Prediction data loaded for tile ET1351003, year 2017-----------\n"
     ]
    },
    {
     "name": "stderr",
     "output_type": "stream",
     "text": [
      "Processing test tiles:   1%|▏                 | 40/3779 [00:00<00:51, 72.86it/s]"
     ]
    },
    {
     "name": "stdout",
     "output_type": "stream",
     "text": [
      "----------Prediction data loaded for tile TD4178148, year 2019-----------\n",
      "----------Prediction data loaded for tile ET2059385, year 2018-----------\n",
      "----------Prediction data loaded for tile NG2396734, year 2019-----------\n",
      "----------Prediction data loaded for tile UG0380328, year 2019-----------\n",
      "----------Prediction data loaded for tile KE1269054, year 2019-----------\n",
      "----------Prediction data loaded for tile TZ0559184, year 2021-----------\n",
      "----------Prediction data loaded for tile CD5199290, year 2021-----------\n",
      "----------Prediction data loaded for tile TZ1784701, year 2019-----------\n",
      "----------Prediction data loaded for tile MW0156665, year 2019-----------\n",
      "----------Prediction data loaded for tile ZW0587625, year 2020-----------\n",
      "----------Prediction data loaded for tile SZ0006492, year 2021-----------\n",
      "----------Prediction data loaded for tile ZA1764626, year 2017-----------\n",
      "----------Prediction data loaded for tile SD4430648, year 2019-----------\n",
      "----------Prediction data loaded for tile ET0506879, year 2020-----------\n",
      "----------Prediction data loaded for tile ML3950043, year 2019-----------\n"
     ]
    },
    {
     "name": "stderr",
     "output_type": "stream",
     "text": [
      "Processing test tiles:   1%|▎                 | 56/3779 [00:00<00:50, 73.12it/s]"
     ]
    },
    {
     "name": "stdout",
     "output_type": "stream",
     "text": [
      "----------Prediction data loaded for tile SD5929447, year 2018-----------\n",
      "----------Prediction data loaded for tile BJ0119042, year 2021-----------\n",
      "----------Prediction data loaded for tile SD4710002, year 2019-----------\n",
      "----------Prediction data loaded for tile CI0026468, year 2022-----------\n",
      "----------Prediction data loaded for tile BF0884935, year 2021-----------\n",
      "----------Prediction data loaded for tile TD3951844, year 2019-----------\n",
      "----------Prediction data loaded for tile ET1573571, year 2022-----------\n",
      "----------Prediction data loaded for tile NG1882895, year 2018-----------\n",
      "----------Prediction data loaded for tile ET1703983, year 2021-----------\n",
      "----------Prediction data loaded for tile ET1787507, year 2022-----------\n",
      "----------Prediction data loaded for tile NG2058958, year 2021-----------\n",
      "----------Prediction data loaded for tile NG2055973, year 2017-----------\n",
      "----------Prediction data loaded for tile ET2784178, year 2017-----------\n",
      "----------Prediction data loaded for tile KE0988430, year 2019-----------\n",
      "----------Prediction data loaded for tile KE0998103, year 2022-----------\n",
      "----------Prediction data loaded for tile KE1154354, year 2017-----------\n"
     ]
    },
    {
     "name": "stderr",
     "output_type": "stream",
     "text": [
      "Processing test tiles:   2%|▎                 | 72/3779 [00:00<00:50, 73.37it/s]"
     ]
    },
    {
     "name": "stdout",
     "output_type": "stream",
     "text": [
      "----------Prediction data loaded for tile ZM1227136, year 2017-----------\n",
      "----------Prediction data loaded for tile ZM2424240, year 2018-----------\n",
      "----------Prediction data loaded for tile ZW0250172, year 2021-----------\n",
      "----------Prediction data loaded for tile MZ2413931, year 2020-----------\n",
      "----------Prediction data loaded for tile ZA0727396, year 2022-----------\n",
      "----------Prediction data loaded for tile ZA1219560, year 2021-----------\n",
      "----------Prediction data loaded for tile ZW1185250, year 2020-----------\n",
      "----------Prediction data loaded for tile ZA1507286, year 2020-----------\n",
      "----------Prediction data loaded for tile ZW1147845, year 2021-----------\n",
      "----------Prediction data loaded for tile SD3955630, year 2019-----------\n",
      "----------Prediction data loaded for tile GW0047887, year 2022-----------\n",
      "----------Prediction data loaded for tile ML4174872, year 2021-----------\n",
      "----------Prediction data loaded for tile BJ0074668, year 2020-----------\n",
      "----------Prediction data loaded for tile UG0700529, year 2018-----------\n",
      "----------Prediction data loaded for tile NG1181939, year 2020-----------\n",
      "----------Prediction data loaded for tile BF0841254, year 2018-----------\n"
     ]
    },
    {
     "name": "stderr",
     "output_type": "stream",
     "text": [
      "Processing test tiles:   2%|▍                 | 88/3779 [00:01<00:50, 73.54it/s]"
     ]
    },
    {
     "name": "stdout",
     "output_type": "stream",
     "text": [
      "----------Prediction data loaded for tile TZ0622729, year 2017-----------\n",
      "----------Prediction data loaded for tile ET2304920, year 2018-----------\n",
      "----------Prediction data loaded for tile TZ0275217, year 2021-----------\n",
      "----------Prediction data loaded for tile TZ1145954, year 2019-----------\n",
      "----------Prediction data loaded for tile CD6270240, year 2019-----------\n",
      "----------Prediction data loaded for tile AO2049087, year 2022-----------\n",
      "----------Prediction data loaded for tile ZM1229160, year 2018-----------\n",
      "----------Prediction data loaded for tile MW0344476, year 2022-----------\n",
      "----------Prediction data loaded for tile ZW0203299, year 2020-----------\n",
      "----------Prediction data loaded for tile ZW0813736, year 2017-----------\n",
      "----------Prediction data loaded for tile MZ2262256, year 2022-----------\n",
      "----------Prediction data loaded for tile SD4009434, year 2020-----------\n",
      "----------Prediction data loaded for tile SD4601807, year 2020-----------\n",
      "----------Prediction data loaded for tile ML3873710, year 2021-----------\n",
      "----------Prediction data loaded for tile NG0571307, year 2022-----------\n",
      "----------Prediction data loaded for tile BF0731541, year 2017-----------\n"
     ]
    },
    {
     "name": "stderr",
     "output_type": "stream",
     "text": [
      "Processing test tiles:   3%|▍                | 104/3779 [00:01<00:50, 73.28it/s]"
     ]
    },
    {
     "name": "stdout",
     "output_type": "stream",
     "text": [
      "----------Prediction data loaded for tile NG0977601, year 2021-----------\n",
      "----------Prediction data loaded for tile ML4234712, year 2022-----------\n",
      "----------Prediction data loaded for tile CM0166501, year 2018-----------\n",
      "----------Prediction data loaded for tile NG1828304, year 2017-----------\n",
      "----------Prediction data loaded for tile NG2097797, year 2020-----------\n",
      "----------Prediction data loaded for tile ET2029468, year 2021-----------\n",
      "----------Prediction data loaded for tile NG2145824, year 2022-----------\n",
      "----------Prediction data loaded for tile NG2687809, year 2018-----------\n",
      "----------Prediction data loaded for tile TZ0518700, year 2017-----------\n",
      "----------Prediction data loaded for tile MZ0766892, year 2022-----------\n",
      "----------Prediction data loaded for tile AO3092685, year 2018-----------\n",
      "----------Prediction data loaded for tile AO3043773, year 2020-----------\n",
      "----------Prediction data loaded for tile ET1078513, year 2018-----------\n",
      "----------Prediction data loaded for tile ZW1031819, year 2017-----------\n",
      "----------Prediction data loaded for tile ZA2368685, year 2021-----------\n"
     ]
    },
    {
     "name": "stderr",
     "output_type": "stream",
     "text": [
      "Processing test tiles:   3%|▌                | 120/3779 [00:01<00:49, 73.56it/s]"
     ]
    },
    {
     "name": "stdout",
     "output_type": "stream",
     "text": [
      "----------Prediction data loaded for tile AO3361410, year 2019-----------\n",
      "----------Prediction data loaded for tile MW0362354, year 2018-----------\n",
      "----------Prediction data loaded for tile BJ0097825, year 2022-----------\n",
      "----------Prediction data loaded for tile CD0821965, year 2020-----------\n",
      "----------Prediction data loaded for tile BI0056309, year 2019-----------\n",
      "----------Prediction data loaded for tile CM0078728, year 2018-----------\n",
      "----------Prediction data loaded for tile CM0218660, year 2019-----------\n",
      "----------Prediction data loaded for tile ET0741517, year 2018-----------\n",
      "----------Prediction data loaded for tile ET1464634, year 2021-----------\n",
      "----------Prediction data loaded for tile TZ1383719, year 2022-----------\n",
      "----------Prediction data loaded for tile ET0899608, year 2019-----------\n",
      "----------Prediction data loaded for tile ET1430119, year 2020-----------\n",
      "----------Prediction data loaded for tile ET1573463, year 2022-----------\n",
      "----------Prediction data loaded for tile ET2458536, year 2018-----------\n",
      "----------Prediction data loaded for tile ET2865922, year 2020-----------\n",
      "----------Prediction data loaded for tile KE1078011, year 2019-----------\n"
     ]
    },
    {
     "name": "stderr",
     "output_type": "stream",
     "text": [
      "Processing test tiles:   4%|▌                | 136/3779 [00:01<00:49, 73.60it/s]"
     ]
    },
    {
     "name": "stdout",
     "output_type": "stream",
     "text": [
      "----------Prediction data loaded for tile KE1389730, year 2018-----------\n",
      "----------Prediction data loaded for tile KE1624369, year 2021-----------\n",
      "----------Prediction data loaded for tile KE1705114, year 2017-----------\n",
      "----------Prediction data loaded for tile ML3270161, year 2018-----------\n",
      "----------Prediction data loaded for tile ML3903190, year 2020-----------\n",
      "----------Prediction data loaded for tile ML4080543, year 2022-----------\n",
      "----------Prediction data loaded for tile MZ0721848, year 2017-----------\n",
      "----------Prediction data loaded for tile MZ0826245, year 2022-----------\n",
      "----------Prediction data loaded for tile NE3579948, year 2022-----------\n",
      "----------Prediction data loaded for tile NE3603996, year 2018-----------\n",
      "----------Prediction data loaded for tile NG0270980, year 2019-----------\n",
      "----------Prediction data loaded for tile NG0385876, year 2019-----------\n",
      "----------Prediction data loaded for tile NG0650247, year 2019-----------\n",
      "----------Prediction data loaded for tile NG0917610, year 2020-----------\n",
      "----------Prediction data loaded for tile NG1453574, year 2022-----------\n",
      "----------Prediction data loaded for tile NG2302598, year 2020-----------\n"
     ]
    },
    {
     "name": "stderr",
     "output_type": "stream",
     "text": [
      "Processing test tiles:   4%|▋                | 152/3779 [00:02<00:49, 73.68it/s]"
     ]
    },
    {
     "name": "stdout",
     "output_type": "stream",
     "text": [
      "----------Prediction data loaded for tile NG2458697, year 2017-----------\n",
      "----------Prediction data loaded for tile NG2300063, year 2021-----------\n",
      "----------Prediction data loaded for tile SD4436638, year 2018-----------\n",
      "----------Prediction data loaded for tile SD5143792, year 2022-----------\n",
      "----------Prediction data loaded for tile SD5453839, year 2017-----------\n",
      "----------Prediction data loaded for tile SD5824641, year 2021-----------\n",
      "----------Prediction data loaded for tile TD4238040, year 2018-----------\n",
      "----------Prediction data loaded for tile MZ0798419, year 2019-----------\n",
      "----------Prediction data loaded for tile NE3862232, year 2021-----------\n",
      "----------Prediction data loaded for tile TZ0543948, year 2021-----------\n",
      "----------Prediction data loaded for tile TZ0884698, year 2018-----------\n",
      "----------Prediction data loaded for tile TZ1079919, year 2022-----------\n",
      "----------Prediction data loaded for tile TZ2276382, year 2017-----------\n",
      "----------Prediction data loaded for tile ZA0828927, year 2017-----------\n",
      "----------Prediction data loaded for tile ZM1404640, year 2018-----------\n",
      "----------Prediction data loaded for tile ZM1687974, year 2017-----------\n"
     ]
    },
    {
     "name": "stderr",
     "output_type": "stream",
     "text": [
      "Processing test tiles:   4%|▊                | 168/3779 [00:02<00:49, 73.67it/s]"
     ]
    },
    {
     "name": "stdout",
     "output_type": "stream",
     "text": [
      "----------Prediction data loaded for tile ZM2500695, year 2019-----------\n",
      "----------Prediction data loaded for tile ZW0431480, year 2022-----------\n",
      "----------Prediction data loaded for tile AO1903123, year 2019-----------\n",
      "----------Prediction data loaded for tile AO2878351, year 2020-----------\n",
      "----------Prediction data loaded for tile BF0291471, year 2018-----------\n",
      "----------Prediction data loaded for tile CD5001924, year 2020-----------\n",
      "----------Prediction data loaded for tile CD5659117, year 2020-----------\n",
      "----------Prediction data loaded for tile CD7484056, year 2017-----------\n",
      "----------Prediction data loaded for tile CD6476976, year 2020-----------\n",
      "----------Prediction data loaded for tile ET1135458, year 2021-----------\n",
      "----------Prediction data loaded for tile KE1018171, year 2020-----------\n",
      "----------Prediction data loaded for tile KE1431131, year 2020-----------\n",
      "----------Prediction data loaded for tile ML3214222, year 2017-----------\n",
      "----------Prediction data loaded for tile ML4134071, year 2021-----------\n",
      "----------Prediction data loaded for tile NE3338012, year 2022-----------\n",
      "----------Prediction data loaded for tile NG0408524, year 2018-----------\n"
     ]
    },
    {
     "name": "stderr",
     "output_type": "stream",
     "text": [
      "Processing test tiles:   5%|▊                | 184/3779 [00:02<00:48, 73.59it/s]"
     ]
    },
    {
     "name": "stdout",
     "output_type": "stream",
     "text": [
      "----------Prediction data loaded for tile NG0692712, year 2020-----------\n",
      "----------Prediction data loaded for tile NG1517219, year 2018-----------\n",
      "----------Prediction data loaded for tile SD4197740, year 2019-----------\n",
      "----------Prediction data loaded for tile SD4609767, year 2018-----------\n",
      "----------Prediction data loaded for tile SD4992751, year 2022-----------\n",
      "----------Prediction data loaded for tile SD5369753, year 2021-----------\n",
      "----------Prediction data loaded for tile SD5337744, year 2021-----------\n",
      "----------Prediction data loaded for tile SN0141623, year 2021-----------\n",
      "----------Prediction data loaded for tile SN0461631, year 2022-----------\n",
      "----------Prediction data loaded for tile SN0402118, year 2020-----------\n",
      "----------Prediction data loaded for tile SO1756568, year 2019-----------\n",
      "----------Prediction data loaded for tile TD4009533, year 2019-----------\n",
      "----------Prediction data loaded for tile TD4024459, year 2018-----------\n",
      "----------Prediction data loaded for tile TG0057947, year 2017-----------\n",
      "----------Prediction data loaded for tile TZ0293647, year 2020-----------\n",
      "----------Prediction data loaded for tile TZ0942884, year 2021-----------\n"
     ]
    },
    {
     "name": "stderr",
     "output_type": "stream",
     "text": [
      "Processing test tiles:   5%|▉                | 200/3779 [00:02<00:48, 73.70it/s]"
     ]
    },
    {
     "name": "stdout",
     "output_type": "stream",
     "text": [
      "----------Prediction data loaded for tile TZ1314615, year 2022-----------\n",
      "----------Prediction data loaded for tile TZ3055576, year 2019-----------\n",
      "----------Prediction data loaded for tile UG0119920, year 2020-----------\n",
      "----------Prediction data loaded for tile ZA0314643, year 2022-----------\n",
      "----------Prediction data loaded for tile ZA1958050, year 2018-----------\n",
      "----------Prediction data loaded for tile ZA1509166, year 2020-----------\n",
      "----------Prediction data loaded for tile ZA2418622, year 2022-----------\n",
      "----------Prediction data loaded for tile ZM0854608, year 2018-----------\n",
      "----------Prediction data loaded for tile ZM1765017, year 2017-----------\n",
      "----------Prediction data loaded for tile AO2874563, year 2021-----------\n",
      "----------Prediction data loaded for tile BJ0119889, year 2022-----------\n",
      "----------Prediction data loaded for tile CG0976705, year 2019-----------\n",
      "----------Prediction data loaded for tile CM0223812, year 2020-----------\n",
      "----------Prediction data loaded for tile ET0155165, year 2017-----------\n",
      "----------Prediction data loaded for tile ET0813464, year 2019-----------\n",
      "----------Prediction data loaded for tile ET1533137, year 2019-----------\n"
     ]
    },
    {
     "name": "stderr",
     "output_type": "stream",
     "text": [
      "Processing test tiles:   6%|▉                | 216/3779 [00:02<00:48, 73.24it/s]"
     ]
    },
    {
     "name": "stdout",
     "output_type": "stream",
     "text": [
      "----------Prediction data loaded for tile ET1598838, year 2022-----------\n",
      "----------Prediction data loaded for tile ET1749908, year 2021-----------\n",
      "----------Prediction data loaded for tile ET1843055, year 2018-----------\n",
      "----------Prediction data loaded for tile ET2209610, year 2018-----------\n",
      "----------Prediction data loaded for tile ET2564304, year 2021-----------\n",
      "----------Prediction data loaded for tile ET2929500, year 2019-----------\n",
      "----------Prediction data loaded for tile GN0232719, year 2020-----------\n",
      "----------Prediction data loaded for tile KE1079421, year 2019-----------\n",
      "----------Prediction data loaded for tile KE0977478, year 2020-----------\n",
      "----------Prediction data loaded for tile ML3063560, year 2021-----------\n",
      "----------Prediction data loaded for tile MZ0835359, year 2017-----------\n",
      "----------Prediction data loaded for tile MZ1661932, year 2017-----------\n",
      "----------Prediction data loaded for tile MZ1732381, year 2022-----------\n",
      "----------Prediction data loaded for tile NA0368449, year 2020-----------\n"
     ]
    },
    {
     "name": "stderr",
     "output_type": "stream",
     "text": [
      "Processing test tiles:   6%|█                | 232/3779 [00:03<00:50, 70.43it/s]"
     ]
    },
    {
     "name": "stdout",
     "output_type": "stream",
     "text": [
      "----------Prediction data loaded for tile NE3903491, year 2022-----------\n",
      "----------Prediction data loaded for tile NG0383084, year 2021-----------\n",
      "----------Prediction data loaded for tile NG0384398, year 2021-----------\n",
      "----------Prediction data loaded for tile NG0296111, year 2018-----------\n",
      "----------Prediction data loaded for tile NG0524233, year 2022-----------\n",
      "----------Prediction data loaded for tile NG0512641, year 2017-----------\n",
      "----------Prediction data loaded for tile NG1614777, year 2018-----------\n",
      "----------Prediction data loaded for tile NG1711814, year 2020-----------\n",
      "----------Prediction data loaded for tile RW0009162, year 2019-----------\n",
      "----------Prediction data loaded for tile RW0068108, year 2022-----------\n",
      "----------Prediction data loaded for tile SD3852806, year 2019-----------\n",
      "----------Prediction data loaded for tile SD4442387, year 2022-----------\n",
      "----------Prediction data loaded for tile SD4869065, year 2019-----------\n",
      "----------Prediction data loaded for tile SN0429911, year 2020-----------\n",
      "----------Prediction data loaded for tile SO1831574, year 2020-----------\n"
     ]
    },
    {
     "name": "stderr",
     "output_type": "stream",
     "text": [
      "Processing test tiles:   7%|█                | 248/3779 [00:03<00:49, 71.12it/s]"
     ]
    },
    {
     "name": "stdout",
     "output_type": "stream",
     "text": [
      "----------Prediction data loaded for tile TD3511711, year 2018-----------\n",
      "----------Prediction data loaded for tile SO0450306, year 2018-----------\n",
      "----------Prediction data loaded for tile TZ1057454, year 2020-----------\n",
      "----------Prediction data loaded for tile TZ1267419, year 2018-----------\n",
      "----------Prediction data loaded for tile TZ1467940, year 2020-----------\n",
      "----------Prediction data loaded for tile UG0403919, year 2020-----------\n",
      "----------Prediction data loaded for tile UG0404771, year 2018-----------\n",
      "----------Prediction data loaded for tile ZA0194019, year 2019-----------\n",
      "----------Prediction data loaded for tile ZA1671464, year 2018-----------\n",
      "----------Prediction data loaded for tile ZA2411122, year 2022-----------\n",
      "----------Prediction data loaded for tile ZM1342034, year 2022-----------\n",
      "----------Prediction data loaded for tile ZM1888422, year 2020-----------\n",
      "----------Prediction data loaded for tile ZA0798774, year 2018-----------\n",
      "----------Prediction data loaded for tile ZW0083549, year 2020-----------\n",
      "----------Prediction data loaded for tile ZW0188138, year 2017-----------\n"
     ]
    },
    {
     "name": "stderr",
     "output_type": "stream",
     "text": [
      "Processing test tiles:   7%|█▏               | 264/3779 [00:03<00:48, 71.80it/s]"
     ]
    },
    {
     "name": "stdout",
     "output_type": "stream",
     "text": [
      "----------Prediction data loaded for tile ZW0291598, year 2021-----------\n",
      "----------Prediction data loaded for tile ZW0326961, year 2020-----------\n",
      "----------Prediction data loaded for tile BJ0040798, year 2022-----------\n",
      "----------Prediction data loaded for tile BJ0227124, year 2019-----------\n",
      "----------Prediction data loaded for tile BJ0243474, year 2022-----------\n",
      "----------Prediction data loaded for tile CM0761547, year 2022-----------\n",
      "----------Prediction data loaded for tile ET1233411, year 2021-----------\n",
      "----------Prediction data loaded for tile ET2186965, year 2018-----------\n",
      "----------Prediction data loaded for tile KE1204916, year 2020-----------\n",
      "----------Prediction data loaded for tile KE1425686, year 2019-----------\n",
      "----------Prediction data loaded for tile ML2400657, year 2019-----------\n",
      "----------Prediction data loaded for tile ML3730347, year 2022-----------\n",
      "----------Prediction data loaded for tile MW0321240, year 2021-----------\n",
      "----------Prediction data loaded for tile MZ2209919, year 2020-----------\n",
      "----------Prediction data loaded for tile NE3661727, year 2022-----------\n"
     ]
    },
    {
     "name": "stderr",
     "output_type": "stream",
     "text": [
      "Processing test tiles:   7%|█▏               | 272/3779 [00:03<00:48, 71.85it/s]"
     ]
    },
    {
     "name": "stdout",
     "output_type": "stream",
     "text": [
      "----------Prediction data loaded for tile NE3719725, year 2019-----------\n",
      "----------Prediction data loaded for tile NE3894164, year 2020-----------\n",
      "----------Prediction data loaded for tile NG0046509, year 2022-----------\n",
      "----------Prediction data loaded for tile NG0908725, year 2022-----------\n",
      "----------Prediction data loaded for tile NG1314104, year 2022-----------\n",
      "----------Prediction data loaded for tile NG1503725, year 2018-----------\n",
      "----------Prediction data loaded for tile NG2223233, year 2020-----------\n",
      "----------Prediction data loaded for tile SD5102361, year 2018-----------\n",
      "----------Prediction data loaded for tile SD5750048, year 2017-----------\n",
      "----------Prediction data loaded for tile SN0390090, year 2019-----------\n",
      "----------Prediction data loaded for tile SN0505936, year 2019-----------\n",
      "----------Prediction data loaded for tile SO1762820, year 2022-----------\n",
      "----------Prediction data loaded for tile TD4110555, year 2020-----------\n",
      "----------Prediction data loaded for tile TD4179677, year 2019-----------\n",
      "----------Prediction data loaded for tile TZ1574769, year 2021-----------\n"
     ]
    },
    {
     "name": "stderr",
     "output_type": "stream",
     "text": [
      "Processing test tiles:   8%|█▎               | 288/3779 [00:03<00:48, 72.24it/s]"
     ]
    },
    {
     "name": "stdout",
     "output_type": "stream",
     "text": [
      "----------Prediction data loaded for tile TZ1756677, year 2018-----------\n",
      "----------Prediction data loaded for tile UG0035870, year 2019-----------\n",
      "----------Prediction data loaded for tile UG0407828, year 2021-----------\n",
      "----------Prediction data loaded for tile ZA1056102, year 2017-----------\n",
      "----------Prediction data loaded for tile ZA1248445, year 2022-----------\n",
      "----------Prediction data loaded for tile ZM1650642, year 2019-----------\n",
      "----------Prediction data loaded for tile ZW0447510, year 2020-----------\n",
      "----------Prediction data loaded for tile ZW1127465, year 2019-----------\n",
      "----------Prediction data loaded for tile AO3954226, year 2018-----------\n",
      "----------Prediction data loaded for tile BF0425575, year 2019-----------\n",
      "----------Prediction data loaded for tile BF0555264, year 2021-----------\n",
      "----------Prediction data loaded for tile BF0574149, year 2022-----------\n",
      "----------Prediction data loaded for tile BW1936560, year 2022-----------\n",
      "----------Prediction data loaded for tile CD6811221, year 2021-----------\n",
      "----------Prediction data loaded for tile ET1217800, year 2021-----------\n"
     ]
    },
    {
     "name": "stderr",
     "output_type": "stream",
     "text": [
      "Processing test tiles:   8%|█▎               | 304/3779 [00:04<00:47, 72.54it/s]"
     ]
    },
    {
     "name": "stdout",
     "output_type": "stream",
     "text": [
      "----------Prediction data loaded for tile KE1634131, year 2018-----------\n",
      "----------Prediction data loaded for tile ML3625533, year 2022-----------\n",
      "----------Prediction data loaded for tile ML4000917, year 2018-----------\n",
      "----------Prediction data loaded for tile MZ0656184, year 2017-----------\n",
      "----------Prediction data loaded for tile NG0084875, year 2018-----------\n",
      "----------Prediction data loaded for tile NG0196617, year 2021-----------\n",
      "----------Prediction data loaded for tile NG0547983, year 2020-----------\n",
      "----------Prediction data loaded for tile NE3727750, year 2022-----------\n",
      "----------Prediction data loaded for tile NG0925214, year 2018-----------\n",
      "----------Prediction data loaded for tile NG1397998, year 2018-----------\n",
      "----------Prediction data loaded for tile RW0043400, year 2019-----------\n",
      "----------Prediction data loaded for tile SD4254073, year 2022-----------\n",
      "----------Prediction data loaded for tile SD5640617, year 2018-----------\n",
      "----------Prediction data loaded for tile SN0421197, year 2017-----------\n",
      "----------Prediction data loaded for tile TD3978965, year 2017-----------\n"
     ]
    },
    {
     "name": "stderr",
     "output_type": "stream",
     "text": [
      "Processing test tiles:   8%|█▍               | 320/3779 [00:04<00:47, 73.03it/s]"
     ]
    },
    {
     "name": "stdout",
     "output_type": "stream",
     "text": [
      "----------Prediction data loaded for tile TZ0519945, year 2019-----------\n",
      "----------Prediction data loaded for tile TZ0837396, year 2018-----------\n",
      "----------Prediction data loaded for tile TZ1115731, year 2020-----------\n",
      "----------Prediction data loaded for tile TZ1183890, year 2017-----------\n",
      "----------Prediction data loaded for tile TZ1222127, year 2019-----------\n",
      "----------Prediction data loaded for tile TZ2994441, year 2020-----------\n",
      "----------Prediction data loaded for tile ZA1061431, year 2018-----------\n",
      "----------Prediction data loaded for tile ZA1166671, year 2017-----------\n",
      "----------Prediction data loaded for tile ZA1398101, year 2019-----------\n",
      "----------Prediction data loaded for tile ZA1853306, year 2021-----------\n",
      "----------Prediction data loaded for tile ZA2293659, year 2017-----------\n",
      "----------Prediction data loaded for tile ZM1522110, year 2018-----------\n",
      "----------Prediction data loaded for tile ZM2164253, year 2017-----------\n",
      "----------Prediction data loaded for tile ZW0414458, year 2020-----------\n",
      "----------Prediction data loaded for tile AO2826342, year 2022-----------\n",
      "----------Prediction data loaded for tile BF0672737, year 2018-----------\n"
     ]
    },
    {
     "name": "stderr",
     "output_type": "stream",
     "text": [
      "Processing test tiles:   9%|█▌               | 336/3779 [00:04<00:46, 73.42it/s]"
     ]
    },
    {
     "name": "stdout",
     "output_type": "stream",
     "text": [
      "----------Prediction data loaded for tile CD2408850, year 2022-----------\n",
      "----------Prediction data loaded for tile CM0603074, year 2018-----------\n",
      "----------Prediction data loaded for tile ET0582992, year 2022-----------\n",
      "----------Prediction data loaded for tile ET0912623, year 2020-----------\n",
      "----------Prediction data loaded for tile ET0959644, year 2021-----------\n",
      "----------Prediction data loaded for tile ET1582565, year 2017-----------\n",
      "----------Prediction data loaded for tile ET2089063, year 2017-----------\n",
      "----------Prediction data loaded for tile ET2358024, year 2021-----------\n",
      "----------Prediction data loaded for tile ET2387701, year 2018-----------\n",
      "----------Prediction data loaded for tile ET2401179, year 2020-----------\n",
      "----------Prediction data loaded for tile KE0502311, year 2020-----------\n",
      "----------Prediction data loaded for tile KE0919814, year 2018-----------\n",
      "----------Prediction data loaded for tile MW0322012, year 2019-----------\n",
      "----------Prediction data loaded for tile MZ0671748, year 2020-----------\n",
      "----------Prediction data loaded for tile MZ0908943, year 2022-----------\n",
      "----------Prediction data loaded for tile MZ1007956, year 2019-----------\n"
     ]
    },
    {
     "name": "stderr",
     "output_type": "stream",
     "text": [
      "Processing test tiles:   9%|█▌               | 352/3779 [00:04<00:46, 73.52it/s]"
     ]
    },
    {
     "name": "stdout",
     "output_type": "stream",
     "text": [
      "----------Prediction data loaded for tile NE3477296, year 2021-----------\n",
      "----------Prediction data loaded for tile NG0073322, year 2017-----------\n",
      "----------Prediction data loaded for tile NE4002562, year 2021-----------\n",
      "----------Prediction data loaded for tile NG0812044, year 2022-----------\n",
      "----------Prediction data loaded for tile NG1391425, year 2018-----------\n",
      "----------Prediction data loaded for tile NG1866300, year 2018-----------\n",
      "----------Prediction data loaded for tile NG2241641, year 2020-----------\n",
      "----------Prediction data loaded for tile NG2410673, year 2017-----------\n",
      "----------Prediction data loaded for tile SD4053986, year 2021-----------\n",
      "----------Prediction data loaded for tile SD5075861, year 2017-----------\n",
      "----------Prediction data loaded for tile TD3403412, year 2022-----------\n",
      "----------Prediction data loaded for tile TG0177328, year 2018-----------\n",
      "----------Prediction data loaded for tile TZ0522758, year 2021-----------\n",
      "----------Prediction data loaded for tile TZ0519990, year 2019-----------\n",
      "----------Prediction data loaded for tile TZ2492231, year 2019-----------\n",
      "----------Prediction data loaded for tile UG0136473, year 2020-----------\n"
     ]
    },
    {
     "name": "stderr",
     "output_type": "stream",
     "text": [
      "Processing test tiles:  10%|█▋               | 368/3779 [00:05<00:46, 73.65it/s]"
     ]
    },
    {
     "name": "stdout",
     "output_type": "stream",
     "text": [
      "----------Prediction data loaded for tile UG0598089, year 2019-----------\n",
      "----------Prediction data loaded for tile ZA0064750, year 2021-----------\n",
      "----------Prediction data loaded for tile ZA1806209, year 2019-----------\n",
      "----------Prediction data loaded for tile ZM1365411, year 2022-----------\n",
      "----------Prediction data loaded for tile ZM1719534, year 2019-----------\n",
      "----------Prediction data loaded for tile ZW0505165, year 2022-----------\n",
      "----------Prediction data loaded for tile ZW0551951, year 2017-----------\n",
      "----------Prediction data loaded for tile ZW0517850, year 2022-----------\n",
      "----------Prediction data loaded for tile AO2055464, year 2021-----------\n",
      "----------Prediction data loaded for tile AO2822581, year 2017-----------\n",
      "----------Prediction data loaded for tile CD5751012, year 2022-----------\n",
      "----------Prediction data loaded for tile CI0064933, year 2022-----------\n",
      "----------Prediction data loaded for tile ET0871514, year 2018-----------\n",
      "----------Prediction data loaded for tile ET1953036, year 2019-----------\n",
      "----------Prediction data loaded for tile ET2313030, year 2021-----------\n",
      "----------Prediction data loaded for tile ET2926633, year 2020-----------\n"
     ]
    },
    {
     "name": "stderr",
     "output_type": "stream",
     "text": [
      "Processing test tiles:  10%|█▋               | 384/3779 [00:05<00:46, 73.58it/s]"
     ]
    },
    {
     "name": "stdout",
     "output_type": "stream",
     "text": [
      "----------Prediction data loaded for tile KE1435930, year 2017-----------\n",
      "----------Prediction data loaded for tile KE1868304, year 2021-----------\n",
      "----------Prediction data loaded for tile ML3429126, year 2018-----------\n",
      "----------Prediction data loaded for tile NE3658585, year 2018-----------\n",
      "----------Prediction data loaded for tile NE3868680, year 2020-----------\n",
      "----------Prediction data loaded for tile NG0243633, year 2021-----------\n",
      "----------Prediction data loaded for tile NG0618916, year 2019-----------\n",
      "----------Prediction data loaded for tile NG1633071, year 2021-----------\n",
      "----------Prediction data loaded for tile NG2452193, year 2019-----------\n",
      "----------Prediction data loaded for tile SD4792384, year 2022-----------\n",
      "----------Prediction data loaded for tile SD5325708, year 2022-----------\n",
      "----------Prediction data loaded for tile SN0265407, year 2021-----------\n",
      "----------Prediction data loaded for tile SD5829483, year 2022-----------\n",
      "----------Prediction data loaded for tile TD4032554, year 2019-----------\n",
      "----------Prediction data loaded for tile TG0137098, year 2021-----------\n",
      "----------Prediction data loaded for tile TZ0121530, year 2022-----------\n"
     ]
    },
    {
     "name": "stderr",
     "output_type": "stream",
     "text": [
      "Processing test tiles:  11%|█▊               | 400/3779 [00:05<00:46, 72.99it/s]"
     ]
    },
    {
     "name": "stdout",
     "output_type": "stream",
     "text": [
      "----------Prediction data loaded for tile TZ0836073, year 2020-----------\n",
      "----------Prediction data loaded for tile NG0500564, year 2020-----------\n",
      "----------Prediction data loaded for tile TZ1490563, year 2018-----------\n",
      "----------Prediction data loaded for tile TZ2501755, year 2021-----------\n",
      "----------Prediction data loaded for tile UG0260280, year 2019-----------\n",
      "----------Prediction data loaded for tile ZA0998115, year 2018-----------\n",
      "----------Prediction data loaded for tile ZA2163876, year 2017-----------\n",
      "----------Prediction data loaded for tile ZM0952811, year 2020-----------\n",
      "----------Prediction data loaded for tile ZM1456474, year 2019-----------\n",
      "----------Prediction data loaded for tile ZM2149436, year 2017-----------\n",
      "----------Prediction data loaded for tile ZM1835604, year 2021-----------\n",
      "----------Prediction data loaded for tile ZW0441809, year 2018-----------\n",
      "----------Prediction data loaded for tile ZW0822450, year 2021-----------\n",
      "----------Prediction data loaded for tile BJ0052790, year 2022-----------\n",
      "----------Prediction data loaded for tile BJ0184661, year 2018-----------\n"
     ]
    },
    {
     "name": "stderr",
     "output_type": "stream",
     "text": [
      "Processing test tiles:  11%|█▊               | 416/3779 [00:05<00:46, 72.75it/s]"
     ]
    },
    {
     "name": "stdout",
     "output_type": "stream",
     "text": [
      "----------Prediction data loaded for tile BJ0261886, year 2017-----------\n",
      "----------Prediction data loaded for tile BJ0328622, year 2021-----------\n",
      "----------Prediction data loaded for tile NG1935520, year 2021-----------\n",
      "----------Prediction data loaded for tile NG1911481, year 2020-----------\n",
      "----------Prediction data loaded for tile CD3428486, year 2020-----------\n",
      "----------Prediction data loaded for tile ET1529552, year 2020-----------\n",
      "----------Prediction data loaded for tile CM0187548, year 2020-----------\n",
      "----------Prediction data loaded for tile ET2753755, year 2017-----------\n",
      "----------Prediction data loaded for tile KE1297228, year 2017-----------\n",
      "----------Prediction data loaded for tile ML3808626, year 2020-----------\n",
      "----------Prediction data loaded for tile ML3784893, year 2022-----------\n",
      "----------Prediction data loaded for tile UG0411156, year 2022-----------\n",
      "----------Prediction data loaded for tile UG0338999, year 2020-----------\n",
      "----------Prediction data loaded for tile ZA2238477, year 2017-----------\n",
      "----------Prediction data loaded for tile MW0070526, year 2021-----------\n"
     ]
    },
    {
     "name": "stderr",
     "output_type": "stream",
     "text": [
      "Processing test tiles:  11%|█▉               | 432/3779 [00:05<00:46, 72.69it/s]"
     ]
    },
    {
     "name": "stdout",
     "output_type": "stream",
     "text": [
      "----------Prediction data loaded for tile MW0082545, year 2020-----------\n",
      "----------Prediction data loaded for tile MZ0457015, year 2020-----------\n",
      "----------Prediction data loaded for tile MZ0569436, year 2017-----------\n",
      "----------Prediction data loaded for tile NE3530458, year 2022-----------\n",
      "----------Prediction data loaded for tile NE3697196, year 2021-----------\n",
      "----------Prediction data loaded for tile MZ1695457, year 2018-----------\n",
      "----------Prediction data loaded for tile NE3324366, year 2018-----------\n",
      "----------Prediction data loaded for tile NG2027798, year 2022-----------\n",
      "----------Prediction data loaded for tile NG0415141, year 2018-----------\n",
      "----------Prediction data loaded for tile NG0554478, year 2022-----------\n",
      "----------Prediction data loaded for tile NG0829668, year 2020-----------\n",
      "----------Prediction data loaded for tile NG0936381, year 2018-----------\n",
      "----------Prediction data loaded for tile NG1113976, year 2019-----------\n",
      "----------Prediction data loaded for tile NG1262483, year 2022-----------\n",
      "----------Prediction data loaded for tile NG1309799, year 2018-----------\n"
     ]
    },
    {
     "name": "stderr",
     "output_type": "stream",
     "text": [
      "Processing test tiles:  12%|██               | 448/3779 [00:06<00:45, 72.75it/s]"
     ]
    },
    {
     "name": "stdout",
     "output_type": "stream",
     "text": [
      "----------Prediction data loaded for tile NG1559741, year 2018-----------\n",
      "----------Prediction data loaded for tile NG1730598, year 2021-----------\n",
      "----------Prediction data loaded for tile NG2359250, year 2020-----------\n",
      "----------Prediction data loaded for tile SD4050720, year 2018-----------\n",
      "----------Prediction data loaded for tile SD4597828, year 2022-----------\n",
      "----------Prediction data loaded for tile SD4665718, year 2017-----------\n",
      "----------Prediction data loaded for tile SD4882870, year 2017-----------\n",
      "----------Prediction data loaded for tile KE1634177, year 2019-----------\n",
      "----------Prediction data loaded for tile ZA2362972, year 2020-----------\n",
      "----------Prediction data loaded for tile SD5554493, year 2019-----------\n",
      "----------Prediction data loaded for tile SD5588093, year 2020-----------\n",
      "----------Prediction data loaded for tile SD5645804, year 2017-----------\n",
      "----------Prediction data loaded for tile SN0310965, year 2020-----------\n",
      "----------Prediction data loaded for tile SD6031144, year 2019-----------\n",
      "----------Prediction data loaded for tile SO1565376, year 2021-----------\n"
     ]
    },
    {
     "name": "stderr",
     "output_type": "stream",
     "text": [
      "Processing test tiles:  12%|██               | 464/3779 [00:06<00:45, 72.74it/s]"
     ]
    },
    {
     "name": "stdout",
     "output_type": "stream",
     "text": [
      "----------Prediction data loaded for tile TD3374920, year 2018-----------\n",
      "----------Prediction data loaded for tile TD3545161, year 2021-----------\n",
      "----------Prediction data loaded for tile TD3614596, year 2022-----------\n",
      "----------Prediction data loaded for tile TD4002795, year 2017-----------\n",
      "----------Prediction data loaded for tile TG0052541, year 2018-----------\n",
      "----------Prediction data loaded for tile TG0119647, year 2017-----------\n",
      "----------Prediction data loaded for tile TZ0344657, year 2018-----------\n",
      "----------Prediction data loaded for tile TZ0864663, year 2019-----------\n",
      "----------Prediction data loaded for tile UG0368380, year 2018-----------\n",
      "----------Prediction data loaded for tile ZA1809185, year 2019-----------\n",
      "----------Prediction data loaded for tile ZM1330620, year 2021-----------\n",
      "----------Prediction data loaded for tile ZM1356587, year 2021-----------\n",
      "----------Prediction data loaded for tile ZA1913999, year 2018-----------\n",
      "----------Prediction data loaded for tile ZW0515425, year 2019-----------\n",
      "----------Prediction data loaded for tile ZW0557462, year 2020-----------\n"
     ]
    },
    {
     "name": "stderr",
     "output_type": "stream",
     "text": [
      "Processing test tiles:  12%|██               | 472/3779 [00:06<00:45, 72.57it/s]"
     ]
    },
    {
     "name": "stdout",
     "output_type": "stream",
     "text": [
      "----------Prediction data loaded for tile ZW0774487, year 2022-----------\n",
      "----------Prediction data loaded for tile ZW0887120, year 2018-----------\n",
      "----------Prediction data loaded for tile ZW1000507, year 2020-----------\n",
      "----------Prediction data loaded for tile ZW1013829, year 2017-----------\n",
      "----------Prediction data loaded for tile ZW1068588, year 2020-----------\n",
      "----------Prediction data loaded for tile AO2899850, year 2022-----------\n",
      "----------Prediction data loaded for tile BJ0055484, year 2018-----------\n",
      "----------Prediction data loaded for tile BJ0223882, year 2017-----------\n",
      "----------Prediction data loaded for tile CD0866715, year 2019-----------\n",
      "----------Prediction data loaded for tile BF0683783, year 2020-----------\n",
      "----------Prediction data loaded for tile CD1259825, year 2021-----------\n",
      "----------Prediction data loaded for tile CD5600813, year 2019-----------\n",
      "----------Prediction data loaded for tile ET0243433, year 2019-----------\n",
      "----------Prediction data loaded for tile ET1012109, year 2022-----------\n",
      "----------Prediction data loaded for tile ET1425935, year 2020-----------\n",
      "----------Prediction data loaded for tile ET2348267, year 2018-----------\n"
     ]
    },
    {
     "name": "stderr",
     "output_type": "stream",
     "text": [
      "Processing test tiles:  13%|██▏              | 488/3779 [00:06<00:44, 73.49it/s]"
     ]
    },
    {
     "name": "stdout",
     "output_type": "stream",
     "text": [
      "----------Prediction data loaded for tile ET3049276, year 2020-----------\n",
      "----------Prediction data loaded for tile GN0200210, year 2019-----------\n",
      "----------Prediction data loaded for tile ET1741362, year 2019-----------\n",
      "----------Prediction data loaded for tile KE0750359, year 2019-----------\n",
      "----------Prediction data loaded for tile KE1338413, year 2019-----------\n",
      "----------Prediction data loaded for tile ML3625599, year 2017-----------\n",
      "----------Prediction data loaded for tile ML3555568, year 2022-----------\n",
      "----------Prediction data loaded for tile ML4234035, year 2022-----------\n",
      "----------Prediction data loaded for tile NE3637731, year 2019-----------\n",
      "----------Prediction data loaded for tile NE4026252, year 2021-----------\n",
      "----------Prediction data loaded for tile NE3988890, year 2019-----------\n",
      "----------Prediction data loaded for tile NG0331989, year 2018-----------\n",
      "----------Prediction data loaded for tile NG0443358, year 2017-----------\n",
      "----------Prediction data loaded for tile NG0461755, year 2018-----------\n",
      "----------Prediction data loaded for tile NG0431864, year 2020-----------\n",
      "----------Prediction data loaded for tile NG0883411, year 2018-----------\n"
     ]
    },
    {
     "name": "stderr",
     "output_type": "stream",
     "text": [
      "Processing test tiles:  13%|██▎              | 504/3779 [00:06<00:44, 73.98it/s]"
     ]
    },
    {
     "name": "stdout",
     "output_type": "stream",
     "text": [
      "----------Prediction data loaded for tile NG1336238, year 2017-----------\n",
      "----------Prediction data loaded for tile NG1650996, year 2022-----------\n",
      "----------Prediction data loaded for tile NG1658688, year 2017-----------\n",
      "----------Prediction data loaded for tile NG1711445, year 2021-----------\n",
      "----------Prediction data loaded for tile NG1855695, year 2017-----------\n",
      "----------Prediction data loaded for tile SD3847669, year 2017-----------\n",
      "----------Prediction data loaded for tile SD4290827, year 2018-----------\n",
      "----------Prediction data loaded for tile SD4350428, year 2021-----------\n",
      "----------Prediction data loaded for tile SD4815586, year 2021-----------\n",
      "----------Prediction data loaded for tile SD5241210, year 2018-----------\n",
      "----------Prediction data loaded for tile SD5414342, year 2022-----------\n",
      "----------Prediction data loaded for tile SD5426012, year 2017-----------\n",
      "----------Prediction data loaded for tile SD5799263, year 2018-----------\n",
      "----------Prediction data loaded for tile SD5808747, year 2021-----------\n",
      "----------Prediction data loaded for tile SD6031894, year 2020-----------\n",
      "----------Prediction data loaded for tile TD3039742, year 2022-----------\n"
     ]
    },
    {
     "name": "stderr",
     "output_type": "stream",
     "text": [
      "Processing test tiles:  14%|██▎              | 520/3779 [00:07<00:43, 74.21it/s]"
     ]
    },
    {
     "name": "stdout",
     "output_type": "stream",
     "text": [
      "----------Prediction data loaded for tile SD4671145, year 2017-----------\n",
      "----------Prediction data loaded for tile TD4048107, year 2017-----------\n",
      "----------Prediction data loaded for tile TD4189094, year 2022-----------\n",
      "----------Prediction data loaded for tile TG0117369, year 2020-----------\n",
      "----------Prediction data loaded for tile TZ0049333, year 2021-----------\n",
      "----------Prediction data loaded for tile TZ0332501, year 2021-----------\n",
      "----------Prediction data loaded for tile TZ0773755, year 2018-----------\n",
      "----------Prediction data loaded for tile TZ1099724, year 2020-----------\n",
      "----------Prediction data loaded for tile TZ0496694, year 2019-----------\n",
      "----------Prediction data loaded for tile TZ1445649, year 2022-----------\n",
      "----------Prediction data loaded for tile TZ2214372, year 2019-----------\n",
      "----------Prediction data loaded for tile TZ2521450, year 2019-----------\n",
      "----------Prediction data loaded for tile TZ2538442, year 2021-----------\n",
      "----------Prediction data loaded for tile UG0288863, year 2020-----------\n",
      "----------Prediction data loaded for tile ZM0017150, year 2022-----------\n",
      "----------Prediction data loaded for tile ZM1184835, year 2019-----------\n"
     ]
    },
    {
     "name": "stderr",
     "output_type": "stream",
     "text": [
      "Processing test tiles:  14%|██▍              | 536/3779 [00:07<00:44, 73.65it/s]"
     ]
    },
    {
     "name": "stdout",
     "output_type": "stream",
     "text": [
      "----------Prediction data loaded for tile ZM2342982, year 2021-----------\n",
      "----------Prediction data loaded for tile ZW0720975, year 2019-----------\n",
      "----------Prediction data loaded for tile ZW0907643, year 2018-----------\n",
      "----------Prediction data loaded for tile ZW1038765, year 2020-----------\n",
      "----------Prediction data loaded for tile AO0632385, year 2022-----------\n",
      "----------Prediction data loaded for tile BF0257633, year 2018-----------\n",
      "----------Prediction data loaded for tile BF0544172, year 2021-----------\n",
      "----------Prediction data loaded for tile BJ0175570, year 2022-----------\n",
      "----------Prediction data loaded for tile BF0678852, year 2019-----------\n",
      "----------Prediction data loaded for tile CD0584560, year 2020-----------\n",
      "----------Prediction data loaded for tile CD7522757, year 2017-----------\n",
      "----------Prediction data loaded for tile CI0150756, year 2022-----------\n",
      "----------Prediction data loaded for tile CM0298031, year 2019-----------\n",
      "----------Prediction data loaded for tile CM0151069, year 2019-----------\n",
      "----------Prediction data loaded for tile CM0439816, year 2020-----------\n"
     ]
    },
    {
     "name": "stderr",
     "output_type": "stream",
     "text": [
      "Processing test tiles:  15%|██▍              | 552/3779 [00:07<00:43, 73.62it/s]"
     ]
    },
    {
     "name": "stdout",
     "output_type": "stream",
     "text": [
      "----------Prediction data loaded for tile ET0127362, year 2021-----------\n",
      "----------Prediction data loaded for tile ET0004591, year 2021-----------\n",
      "----------Prediction data loaded for tile ET0144276, year 2022-----------\n",
      "----------Prediction data loaded for tile ET0578930, year 2020-----------\n",
      "----------Prediction data loaded for tile ET0700706, year 2019-----------\n",
      "----------Prediction data loaded for tile ET1442908, year 2022-----------\n",
      "----------Prediction data loaded for tile ZA1100793, year 2019-----------\n",
      "----------Prediction data loaded for tile ZA1262020, year 2022-----------\n",
      "----------Prediction data loaded for tile ZA1741924, year 2021-----------\n",
      "----------Prediction data loaded for tile ZA1796221, year 2020-----------\n",
      "----------Prediction data loaded for tile KE0964348, year 2022-----------\n",
      "----------Prediction data loaded for tile ML3191463, year 2022-----------\n",
      "----------Prediction data loaded for tile MW0051578, year 2022-----------\n",
      "----------Prediction data loaded for tile NE3678284, year 2018-----------\n",
      "----------Prediction data loaded for tile NE3785491, year 2018-----------\n",
      "----------Prediction data loaded for tile NG0419384, year 2017-----------\n"
     ]
    },
    {
     "name": "stderr",
     "output_type": "stream",
     "text": [
      "Processing test tiles:  15%|██▌              | 568/3779 [00:07<00:43, 73.99it/s]"
     ]
    },
    {
     "name": "stdout",
     "output_type": "stream",
     "text": [
      "----------Prediction data loaded for tile NG0901545, year 2020-----------\n",
      "----------Prediction data loaded for tile NG1166374, year 2017-----------\n",
      "----------Prediction data loaded for tile NG1226958, year 2021-----------\n",
      "----------Prediction data loaded for tile NG1231314, year 2017-----------\n",
      "----------Prediction data loaded for tile MW0189683, year 2022-----------\n",
      "----------Prediction data loaded for tile NG1664949, year 2022-----------\n",
      "----------Prediction data loaded for tile NG1712751, year 2019-----------\n",
      "----------Prediction data loaded for tile NG1761582, year 2020-----------\n",
      "----------Prediction data loaded for tile NG1863123, year 2021-----------\n",
      "----------Prediction data loaded for tile NG1957466, year 2021-----------\n",
      "----------Prediction data loaded for tile NG2161359, year 2017-----------\n",
      "----------Prediction data loaded for tile SD3802992, year 2017-----------\n",
      "----------Prediction data loaded for tile SD4113296, year 2018-----------\n",
      "----------Prediction data loaded for tile SD4262263, year 2017-----------\n",
      "----------Prediction data loaded for tile SD5244238, year 2018-----------\n",
      "----------Prediction data loaded for tile SD5404245, year 2018-----------\n"
     ]
    },
    {
     "name": "stderr",
     "output_type": "stream",
     "text": [
      "Processing test tiles:  15%|██▋              | 584/3779 [00:07<00:43, 74.11it/s]"
     ]
    },
    {
     "name": "stdout",
     "output_type": "stream",
     "text": [
      "----------Prediction data loaded for tile SN0269441, year 2021-----------\n",
      "----------Prediction data loaded for tile TD4123807, year 2020-----------\n",
      "----------Prediction data loaded for tile TZ0715935, year 2019-----------\n",
      "----------Prediction data loaded for tile TZ0941382, year 2017-----------\n",
      "----------Prediction data loaded for tile TZ1164596, year 2018-----------\n",
      "----------Prediction data loaded for tile TZ1345744, year 2017-----------\n",
      "----------Prediction data loaded for tile TZ2109623, year 2022-----------\n",
      "----------Prediction data loaded for tile UG0181746, year 2020-----------\n",
      "----------Prediction data loaded for tile ZA1083417, year 2021-----------\n",
      "----------Prediction data loaded for tile ZA2050749, year 2019-----------\n",
      "----------Prediction data loaded for tile ZM1726594, year 2018-----------\n",
      "----------Prediction data loaded for tile ZW0409101, year 2022-----------\n",
      "----------Prediction data loaded for tile SD4858169, year 2022-----------\n",
      "----------Prediction data loaded for tile ZM1926765, year 2021-----------\n",
      "----------Prediction data loaded for tile ZW1133878, year 2020-----------\n"
     ]
    },
    {
     "name": "stderr",
     "output_type": "stream",
     "text": [
      "Processing test tiles:  16%|██▋              | 600/3779 [00:08<00:43, 73.27it/s]"
     ]
    },
    {
     "name": "stdout",
     "output_type": "stream",
     "text": [
      "----------Prediction data loaded for tile AO2901654, year 2021-----------\n",
      "----------Prediction data loaded for tile AO1992831, year 2020-----------\n",
      "----------Prediction data loaded for tile BJ0224529, year 2022-----------\n",
      "----------Prediction data loaded for tile BJ0264836, year 2017-----------\n",
      "----------Prediction data loaded for tile CD0247946, year 2018-----------\n",
      "----------Prediction data loaded for tile CI0132460, year 2018-----------\n",
      "----------Prediction data loaded for tile CI0989312, year 2020-----------\n",
      "----------Prediction data loaded for tile ET0887759, year 2020-----------\n",
      "----------Prediction data loaded for tile ET0894750, year 2019-----------\n",
      "----------Prediction data loaded for tile ET0828582, year 2017-----------\n",
      "----------Prediction data loaded for tile ET1487440, year 2022-----------\n",
      "----------Prediction data loaded for tile ET2437753, year 2018-----------\n",
      "----------Prediction data loaded for tile KE1246149, year 2022-----------\n",
      "----------Prediction data loaded for tile KE1846114, year 2019-----------\n",
      "----------Prediction data loaded for tile ML3116700, year 2018-----------\n"
     ]
    },
    {
     "name": "stderr",
     "output_type": "stream",
     "text": [
      "Processing test tiles:  16%|██▊              | 616/3779 [00:08<00:43, 72.62it/s]"
     ]
    },
    {
     "name": "stdout",
     "output_type": "stream",
     "text": [
      "----------Prediction data loaded for tile ML3430212, year 2020-----------\n",
      "----------Prediction data loaded for tile ET1760416, year 2017-----------\n",
      "----------Prediction data loaded for tile NE3988919, year 2019-----------\n",
      "----------Prediction data loaded for tile NG0123949, year 2021-----------\n",
      "----------Prediction data loaded for tile ET0868132, year 2019-----------\n",
      "----------Prediction data loaded for tile SD4242797, year 2017-----------\n",
      "----------Prediction data loaded for tile SD4475930, year 2020-----------\n",
      "----------Prediction data loaded for tile TG0048385, year 2017-----------\n",
      "----------Prediction data loaded for tile TZ0303882, year 2022-----------\n",
      "----------Prediction data loaded for tile TZ0269088, year 2022-----------\n",
      "----------Prediction data loaded for tile TZ0518408, year 2017-----------\n",
      "----------Prediction data loaded for tile TZ0528338, year 2022-----------\n",
      "----------Prediction data loaded for tile TZ1022478, year 2018-----------\n",
      "----------Prediction data loaded for tile TZ1194890, year 2019-----------\n",
      "----------Prediction data loaded for tile TZ1361688, year 2017-----------\n"
     ]
    },
    {
     "name": "stderr",
     "output_type": "stream",
     "text": [
      "Processing test tiles:  17%|██▊              | 632/3779 [00:08<00:44, 71.38it/s]"
     ]
    },
    {
     "name": "stdout",
     "output_type": "stream",
     "text": [
      "----------Prediction data loaded for tile TZ1375629, year 2017-----------\n",
      "----------Prediction data loaded for tile UG0067214, year 2019-----------\n",
      "----------Prediction data loaded for tile ZA0097419, year 2017-----------\n",
      "----------Prediction data loaded for tile ZA1410400, year 2020-----------\n",
      "----------Prediction data loaded for tile ZM1978559, year 2020-----------\n",
      "----------Prediction data loaded for tile ZW0316211, year 2020-----------\n",
      "----------Prediction data loaded for tile ZW0754757, year 2017-----------\n",
      "----------Prediction data loaded for tile ZW0424802, year 2019-----------\n",
      "----------Prediction data loaded for tile ZW0689645, year 2021-----------\n",
      "----------Prediction data loaded for tile AO2415049, year 2018-----------\n",
      "----------Prediction data loaded for tile BI0063870, year 2020-----------\n",
      "----------Prediction data loaded for tile BJ0206818, year 2017-----------\n",
      "----------Prediction data loaded for tile ZW1180614, year 2020-----------\n",
      "----------Prediction data loaded for tile CD6839421, year 2019-----------\n",
      "----------Prediction data loaded for tile CI0199210, year 2017-----------\n"
     ]
    },
    {
     "name": "stderr",
     "output_type": "stream",
     "text": [
      "Processing test tiles:  17%|██▉              | 648/3779 [00:08<00:43, 72.59it/s]"
     ]
    },
    {
     "name": "stdout",
     "output_type": "stream",
     "text": [
      "----------Prediction data loaded for tile CM0129479, year 2019-----------\n",
      "----------Prediction data loaded for tile CI0676239, year 2020-----------\n",
      "----------Prediction data loaded for tile CM0138503, year 2018-----------\n",
      "----------Prediction data loaded for tile ET0276061, year 2019-----------\n",
      "----------Prediction data loaded for tile ET1006966, year 2021-----------\n",
      "----------Prediction data loaded for tile ET1536995, year 2019-----------\n",
      "----------Prediction data loaded for tile ET2220656, year 2022-----------\n",
      "----------Prediction data loaded for tile ML3468367, year 2020-----------\n",
      "----------Prediction data loaded for tile NG0504337, year 2019-----------\n",
      "----------Prediction data loaded for tile NG0530609, year 2017-----------\n",
      "----------Prediction data loaded for tile NG1273630, year 2017-----------\n",
      "----------Prediction data loaded for tile NG1840849, year 2019-----------\n",
      "----------Prediction data loaded for tile NG1982184, year 2021-----------\n",
      "----------Prediction data loaded for tile SD3811497, year 2019-----------\n",
      "----------Prediction data loaded for tile SD4313081, year 2020-----------\n",
      "----------Prediction data loaded for tile SD4530337, year 2021-----------\n"
     ]
    },
    {
     "name": "stderr",
     "output_type": "stream",
     "text": [
      "Processing test tiles:  18%|██▉              | 664/3779 [00:09<00:42, 73.57it/s]"
     ]
    },
    {
     "name": "stdout",
     "output_type": "stream",
     "text": [
      "----------Prediction data loaded for tile SD4665123, year 2017-----------\n",
      "----------Prediction data loaded for tile SD5994711, year 2020-----------\n",
      "----------Prediction data loaded for tile SO1506612, year 2017-----------\n",
      "----------Prediction data loaded for tile TD3976565, year 2022-----------\n",
      "----------Prediction data loaded for tile TZ0992043, year 2017-----------\n",
      "----------Prediction data loaded for tile UG0473344, year 2019-----------\n",
      "----------Prediction data loaded for tile UG0516787, year 2019-----------\n",
      "----------Prediction data loaded for tile ZA0819617, year 2021-----------\n",
      "----------Prediction data loaded for tile ZA1632930, year 2020-----------\n",
      "----------Prediction data loaded for tile ZA2650625, year 2019-----------\n",
      "----------Prediction data loaded for tile ZW0191718, year 2018-----------\n",
      "----------Prediction data loaded for tile AO3147859, year 2018-----------\n",
      "----------Prediction data loaded for tile BF0243268, year 2022-----------\n",
      "----------Prediction data loaded for tile BJ0152889, year 2021-----------\n",
      "----------Prediction data loaded for tile CI0355400, year 2022-----------\n",
      "----------Prediction data loaded for tile ET0069531, year 2018-----------\n"
     ]
    },
    {
     "name": "stderr",
     "output_type": "stream",
     "text": [
      "Processing test tiles:  18%|███              | 680/3779 [00:09<00:42, 73.77it/s]"
     ]
    },
    {
     "name": "stdout",
     "output_type": "stream",
     "text": [
      "----------Prediction data loaded for tile ET2041633, year 2021-----------\n",
      "----------Prediction data loaded for tile KE1182466, year 2020-----------\n",
      "----------Prediction data loaded for tile MW0150421, year 2019-----------\n",
      "----------Prediction data loaded for tile MZ1609587, year 2021-----------\n",
      "----------Prediction data loaded for tile MZ2614358, year 2019-----------\n",
      "----------Prediction data loaded for tile NA0337375, year 2018-----------\n",
      "----------Prediction data loaded for tile NE3661478, year 2020-----------\n",
      "----------Prediction data loaded for tile NE3865781, year 2021-----------\n",
      "----------Prediction data loaded for tile MW0302329, year 2017-----------\n",
      "----------Prediction data loaded for tile NG0371389, year 2020-----------\n",
      "----------Prediction data loaded for tile NG0644188, year 2020-----------\n",
      "----------Prediction data loaded for tile NG1580730, year 2022-----------\n",
      "----------Prediction data loaded for tile SD3723383, year 2021-----------\n",
      "----------Prediction data loaded for tile SD4124484, year 2020-----------\n",
      "----------Prediction data loaded for tile SD4810093, year 2017-----------\n",
      "----------Prediction data loaded for tile SD5096758, year 2019-----------\n"
     ]
    },
    {
     "name": "stderr",
     "output_type": "stream",
     "text": [
      "Processing test tiles:  18%|███▏             | 696/3779 [00:09<00:41, 73.64it/s]"
     ]
    },
    {
     "name": "stdout",
     "output_type": "stream",
     "text": [
      "----------Prediction data loaded for tile SD5467105, year 2021-----------\n",
      "----------Prediction data loaded for tile TZ0476823, year 2018-----------\n",
      "----------Prediction data loaded for tile TZ1188683, year 2022-----------\n",
      "----------Prediction data loaded for tile TZ1237351, year 2017-----------\n",
      "----------Prediction data loaded for tile TZ1571004, year 2017-----------\n",
      "----------Prediction data loaded for tile TZ2380208, year 2020-----------\n",
      "----------Prediction data loaded for tile TZ2889122, year 2018-----------\n",
      "----------Prediction data loaded for tile ZA0084002, year 2020-----------\n",
      "----------Prediction data loaded for tile ZA1339630, year 2020-----------\n",
      "----------Prediction data loaded for tile ZM2486150, year 2021-----------\n",
      "----------Prediction data loaded for tile ZW0509723, year 2019-----------\n",
      "----------Prediction data loaded for tile NG0634562, year 2022-----------\n",
      "----------Prediction data loaded for tile BI0025514, year 2017-----------\n",
      "----------Prediction data loaded for tile BJ0040267, year 2021-----------\n",
      "----------Prediction data loaded for tile CD1333616, year 2019-----------\n",
      "----------Prediction data loaded for tile CD1340454, year 2019-----------\n"
     ]
    },
    {
     "name": "stderr",
     "output_type": "stream",
     "text": [
      "Processing test tiles:  19%|███▏             | 712/3779 [00:09<00:41, 73.94it/s]"
     ]
    },
    {
     "name": "stdout",
     "output_type": "stream",
     "text": [
      "----------Prediction data loaded for tile CD5764830, year 2019-----------\n",
      "----------Prediction data loaded for tile ET0277346, year 2019-----------\n",
      "----------Prediction data loaded for tile ET0705746, year 2021-----------\n",
      "----------Prediction data loaded for tile ET0708369, year 2018-----------\n",
      "----------Prediction data loaded for tile ET0727494, year 2019-----------\n",
      "----------Prediction data loaded for tile ET2312883, year 2022-----------\n",
      "----------Prediction data loaded for tile ET2822573, year 2020-----------\n",
      "----------Prediction data loaded for tile GM0022416, year 2022-----------\n",
      "----------Prediction data loaded for tile ML3634253, year 2017-----------\n",
      "----------Prediction data loaded for tile ML4022184, year 2017-----------\n",
      "----------Prediction data loaded for tile MZ0712287, year 2021-----------\n",
      "----------Prediction data loaded for tile NG0344134, year 2018-----------\n",
      "----------Prediction data loaded for tile NG0517314, year 2018-----------\n",
      "----------Prediction data loaded for tile NG0729284, year 2022-----------\n",
      "----------Prediction data loaded for tile NG1319846, year 2022-----------\n",
      "----------Prediction data loaded for tile NG2238707, year 2021-----------\n"
     ]
    },
    {
     "name": "stderr",
     "output_type": "stream",
     "text": [
      "Processing test tiles:  19%|███▎             | 728/3779 [00:09<00:41, 73.25it/s]"
     ]
    },
    {
     "name": "stdout",
     "output_type": "stream",
     "text": [
      "----------Prediction data loaded for tile SD4253077, year 2020-----------\n",
      "----------Prediction data loaded for tile SD4298140, year 2020-----------\n",
      "----------Prediction data loaded for tile SD5048880, year 2017-----------\n",
      "----------Prediction data loaded for tile SD5082667, year 2017-----------\n",
      "----------Prediction data loaded for tile SD6204045, year 2019-----------\n",
      "----------Prediction data loaded for tile TD4146595, year 2021-----------\n",
      "----------Prediction data loaded for tile TZ1515807, year 2018-----------\n",
      "----------Prediction data loaded for tile TZ1494746, year 2020-----------\n",
      "----------Prediction data loaded for tile UG0225903, year 2022-----------\n",
      "----------Prediction data loaded for tile UG0510756, year 2022-----------\n",
      "----------Prediction data loaded for tile UG0344651, year 2019-----------\n",
      "----------Prediction data loaded for tile UG0523221, year 2017-----------\n",
      "----------Prediction data loaded for tile ZA0968444, year 2022-----------\n",
      "----------Prediction data loaded for tile ZA1200631, year 2022-----------\n",
      "----------Prediction data loaded for tile ZA2199959, year 2019-----------\n"
     ]
    },
    {
     "name": "stderr",
     "output_type": "stream",
     "text": [
      "Processing test tiles:  20%|███▎             | 744/3779 [00:10<00:41, 73.09it/s]"
     ]
    },
    {
     "name": "stdout",
     "output_type": "stream",
     "text": [
      "----------Prediction data loaded for tile ZA2256298, year 2018-----------\n",
      "----------Prediction data loaded for tile ZA2213507, year 2019-----------\n",
      "----------Prediction data loaded for tile ZM0321550, year 2022-----------\n",
      "----------Prediction data loaded for tile ZM0830452, year 2019-----------\n",
      "----------Prediction data loaded for tile ZM1835391, year 2017-----------\n",
      "----------Prediction data loaded for tile ZM2264711, year 2021-----------\n",
      "----------Prediction data loaded for tile ZW0115260, year 2021-----------\n",
      "----------Prediction data loaded for tile ZW0609288, year 2020-----------\n",
      "----------Prediction data loaded for tile ZW1110592, year 2017-----------\n",
      "----------Prediction data loaded for tile BF0333416, year 2021-----------\n",
      "----------Prediction data loaded for tile ZW1168610, year 2022-----------\n",
      "----------Prediction data loaded for tile CD2619278, year 2018-----------\n",
      "----------Prediction data loaded for tile CD7511165, year 2020-----------\n",
      "----------Prediction data loaded for tile ET1190147, year 2021-----------\n",
      "----------Prediction data loaded for tile ET1301435, year 2018-----------\n"
     ]
    },
    {
     "name": "stderr",
     "output_type": "stream",
     "text": [
      "Processing test tiles:  20%|███▍             | 752/3779 [00:10<00:42, 71.11it/s]"
     ]
    },
    {
     "name": "stdout",
     "output_type": "stream",
     "text": [
      "----------Prediction data loaded for tile ET1520595, year 2018-----------\n",
      "----------Prediction data loaded for tile ET1864794, year 2019-----------\n",
      "----------Prediction data loaded for tile GM0024217, year 2021-----------\n",
      "----------Prediction data loaded for tile KE1366444, year 2020-----------\n",
      "----------Prediction data loaded for tile ML3786112, year 2018-----------\n",
      "----------Prediction data loaded for tile MZ1165133, year 2021-----------\n",
      "----------Prediction data loaded for tile MZ1901122, year 2017-----------\n",
      "----------Prediction data loaded for tile MZ2569323, year 2021-----------\n",
      "----------Prediction data loaded for tile NE3926183, year 2020-----------\n",
      "----------Prediction data loaded for tile NG0504309, year 2019-----------\n",
      "----------Prediction data loaded for tile NG1286766, year 2021-----------\n",
      "----------Prediction data loaded for tile NG1324819, year 2018-----------\n",
      "----------Prediction data loaded for tile NG1572892, year 2018-----------\n",
      "----------Prediction data loaded for tile NG2296282, year 2022-----------\n",
      "----------Prediction data loaded for tile SD3617945, year 2019-----------\n"
     ]
    },
    {
     "name": "stderr",
     "output_type": "stream",
     "text": [
      "Processing test tiles:  20%|███▍             | 768/3779 [00:10<00:42, 71.30it/s]"
     ]
    },
    {
     "name": "stdout",
     "output_type": "stream",
     "text": [
      "----------Prediction data loaded for tile SD4514038, year 2022-----------\n",
      "----------Prediction data loaded for tile SD4719148, year 2018-----------\n",
      "----------Prediction data loaded for tile SD5798751, year 2017-----------\n",
      "----------Prediction data loaded for tile SN0418351, year 2021-----------\n",
      "----------Prediction data loaded for tile TD4127641, year 2021-----------\n",
      "----------Prediction data loaded for tile TD4152600, year 2020-----------\n",
      "----------Prediction data loaded for tile UG0534160, year 2019-----------\n",
      "----------Prediction data loaded for tile UG0547231, year 2017-----------\n",
      "----------Prediction data loaded for tile ZW0154120, year 2021-----------\n",
      "----------Prediction data loaded for tile ZW0354451, year 2017-----------\n",
      "----------Prediction data loaded for tile ZW1132709, year 2019-----------\n",
      "----------Prediction data loaded for tile AO2518491, year 2018-----------\n",
      "----------Prediction data loaded for tile AO2503661, year 2019-----------\n",
      "----------Prediction data loaded for tile BF0751712, year 2017-----------\n",
      "----------Prediction data loaded for tile BJ0320683, year 2021-----------\n"
     ]
    },
    {
     "name": "stderr",
     "output_type": "stream",
     "text": [
      "Processing test tiles:  21%|███▌             | 784/3779 [00:10<00:44, 67.30it/s]"
     ]
    },
    {
     "name": "stdout",
     "output_type": "stream",
     "text": [
      "----------Prediction data loaded for tile CD2111001, year 2020-----------\n",
      "----------Prediction data loaded for tile CD5288858, year 2019-----------\n",
      "----------Prediction data loaded for tile AO2944240, year 2020-----------\n",
      "----------Prediction data loaded for tile ET0781091, year 2020-----------\n",
      "----------Prediction data loaded for tile ET3289290, year 2018-----------\n",
      "----------Prediction data loaded for tile KE1264428, year 2021-----------\n",
      "----------Prediction data loaded for tile TZ1278473, year 2022-----------\n",
      "----------Prediction data loaded for tile KE1227535, year 2017-----------\n",
      "----------Prediction data loaded for tile MW0349039, year 2021-----------\n",
      "----------Prediction data loaded for tile NG0662162, year 2022-----------\n",
      "----------Prediction data loaded for tile NG1032473, year 2018-----------\n",
      "----------Prediction data loaded for tile NG1269326, year 2020-----------\n",
      "----------Prediction data loaded for tile NG1339306, year 2020-----------\n",
      "----------Prediction data loaded for tile NG1526151, year 2022-----------\n"
     ]
    },
    {
     "name": "stderr",
     "output_type": "stream",
     "text": [
      "Processing test tiles:  21%|███▌             | 800/3779 [00:10<00:42, 70.56it/s]"
     ]
    },
    {
     "name": "stdout",
     "output_type": "stream",
     "text": [
      "----------Prediction data loaded for tile NG1641565, year 2021-----------\n",
      "----------Prediction data loaded for tile NG1757842, year 2022-----------\n",
      "----------Prediction data loaded for tile NG1957623, year 2022-----------\n",
      "----------Prediction data loaded for tile NG1883747, year 2017-----------\n",
      "----------Prediction data loaded for tile NG1995451, year 2018-----------\n",
      "----------Prediction data loaded for tile SD4639900, year 2020-----------\n",
      "----------Prediction data loaded for tile SD4951272, year 2018-----------\n",
      "----------Prediction data loaded for tile SD5078637, year 2021-----------\n",
      "----------Prediction data loaded for tile TD3532949, year 2020-----------\n",
      "----------Prediction data loaded for tile TD4117073, year 2019-----------\n",
      "----------Prediction data loaded for tile TD4148512, year 2021-----------\n",
      "----------Prediction data loaded for tile TD4171021, year 2018-----------\n",
      "----------Prediction data loaded for tile TG0020417, year 2017-----------\n",
      "----------Prediction data loaded for tile TZ0444939, year 2019-----------\n",
      "----------Prediction data loaded for tile TZ1099402, year 2021-----------\n",
      "----------Prediction data loaded for tile TZ2405839, year 2019-----------\n"
     ]
    },
    {
     "name": "stderr",
     "output_type": "stream",
     "text": [
      "Processing test tiles:  22%|███▋             | 816/3779 [00:11<00:41, 72.05it/s]"
     ]
    },
    {
     "name": "stdout",
     "output_type": "stream",
     "text": [
      "----------Prediction data loaded for tile UG0414823, year 2018-----------\n",
      "----------Prediction data loaded for tile ZM2354954, year 2020-----------\n",
      "----------Prediction data loaded for tile ZW0466787, year 2020-----------\n",
      "----------Prediction data loaded for tile ET1331458, year 2017-----------\n",
      "----------Prediction data loaded for tile ET1571642, year 2020-----------\n",
      "----------Prediction data loaded for tile ET1867169, year 2022-----------\n",
      "----------Prediction data loaded for tile ET2334742, year 2022-----------\n",
      "----------Prediction data loaded for tile ET1966703, year 2022-----------\n",
      "----------Prediction data loaded for tile NA0189921, year 2021-----------\n",
      "----------Prediction data loaded for tile NG0896301, year 2022-----------\n",
      "----------Prediction data loaded for tile NG1797010, year 2017-----------\n",
      "----------Prediction data loaded for tile NG1846698, year 2019-----------\n",
      "----------Prediction data loaded for tile NG1862967, year 2020-----------\n",
      "----------Prediction data loaded for tile NG2661059, year 2017-----------\n",
      "----------Prediction data loaded for tile SD4057232, year 2017-----------\n",
      "----------Prediction data loaded for tile SD4768763, year 2022-----------\n"
     ]
    },
    {
     "name": "stderr",
     "output_type": "stream",
     "text": [
      "Processing test tiles:  22%|███▋             | 832/3779 [00:11<00:40, 72.47it/s]"
     ]
    },
    {
     "name": "stdout",
     "output_type": "stream",
     "text": [
      "----------Prediction data loaded for tile UG0623700, year 2020-----------\n",
      "----------Prediction data loaded for tile UG0665553, year 2021-----------\n",
      "----------Prediction data loaded for tile ZM2203895, year 2022-----------\n",
      "----------Prediction data loaded for tile AO2963980, year 2017-----------\n",
      "----------Prediction data loaded for tile BF0208080, year 2022-----------\n",
      "----------Prediction data loaded for tile BF0489634, year 2018-----------\n",
      "----------Prediction data loaded for tile BF0531098, year 2017-----------\n",
      "----------Prediction data loaded for tile BI0018736, year 2019-----------\n",
      "----------Prediction data loaded for tile BJ0227488, year 2021-----------\n",
      "----------Prediction data loaded for tile BW1754516, year 2021-----------\n",
      "----------Prediction data loaded for tile CD0792501, year 2020-----------\n",
      "----------Prediction data loaded for tile CD1250769, year 2020-----------\n",
      "----------Prediction data loaded for tile CD5580533, year 2020-----------\n",
      "----------Prediction data loaded for tile CD5842404, year 2020-----------\n",
      "----------Prediction data loaded for tile CI0042207, year 2020-----------\n"
     ]
    },
    {
     "name": "stderr",
     "output_type": "stream",
     "text": [
      "Processing test tiles:  22%|███▊             | 848/3779 [00:11<00:40, 72.98it/s]"
     ]
    },
    {
     "name": "stdout",
     "output_type": "stream",
     "text": [
      "----------Prediction data loaded for tile CM0114509, year 2019-----------\n",
      "----------Prediction data loaded for tile CM0335232, year 2020-----------\n",
      "----------Prediction data loaded for tile ET0456415, year 2021-----------\n",
      "----------Prediction data loaded for tile CM0156038, year 2022-----------\n",
      "----------Prediction data loaded for tile ET0660219, year 2019-----------\n",
      "----------Prediction data loaded for tile ET0944617, year 2022-----------\n",
      "----------Prediction data loaded for tile ET1567913, year 2018-----------\n",
      "----------Prediction data loaded for tile ET1704478, year 2020-----------\n",
      "----------Prediction data loaded for tile ET1592360, year 2018-----------\n",
      "----------Prediction data loaded for tile ET1757555, year 2017-----------\n",
      "----------Prediction data loaded for tile ET1692706, year 2018-----------\n",
      "----------Prediction data loaded for tile ET1833244, year 2019-----------\n",
      "----------Prediction data loaded for tile ET2183851, year 2017-----------\n",
      "----------Prediction data loaded for tile ET2487297, year 2017-----------\n",
      "----------Prediction data loaded for tile ET2510994, year 2019-----------\n"
     ]
    },
    {
     "name": "stderr",
     "output_type": "stream",
     "text": [
      "Processing test tiles:  23%|███▉             | 864/3779 [00:11<00:39, 72.97it/s]"
     ]
    },
    {
     "name": "stdout",
     "output_type": "stream",
     "text": [
      "----------Prediction data loaded for tile ET0369572, year 2022-----------\n",
      "----------Prediction data loaded for tile ET0672498, year 2020-----------\n",
      "----------Prediction data loaded for tile GM0000576, year 2020-----------\n",
      "----------Prediction data loaded for tile GN0387220, year 2019-----------\n",
      "----------Prediction data loaded for tile KE0934899, year 2017-----------\n",
      "----------Prediction data loaded for tile KE1639191, year 2021-----------\n",
      "----------Prediction data loaded for tile KE1789499, year 2022-----------\n",
      "----------Prediction data loaded for tile KE1718399, year 2022-----------\n",
      "----------Prediction data loaded for tile ML3195019, year 2018-----------\n",
      "----------Prediction data loaded for tile ML3988572, year 2018-----------\n",
      "----------Prediction data loaded for tile ML4227680, year 2019-----------\n",
      "----------Prediction data loaded for tile MW0188413, year 2018-----------\n",
      "----------Prediction data loaded for tile MZ0381402, year 2018-----------\n",
      "----------Prediction data loaded for tile MZ0826301, year 2021-----------\n",
      "----------Prediction data loaded for tile MZ0859275, year 2019-----------\n"
     ]
    },
    {
     "name": "stderr",
     "output_type": "stream",
     "text": [
      "Processing test tiles:  23%|███▉             | 880/3779 [00:12<00:40, 72.31it/s]"
     ]
    },
    {
     "name": "stdout",
     "output_type": "stream",
     "text": [
      "----------Prediction data loaded for tile MZ1056503, year 2019-----------\n",
      "----------Prediction data loaded for tile MZ1121508, year 2017-----------\n",
      "----------Prediction data loaded for tile MZ1163510, year 2017-----------\n",
      "----------Prediction data loaded for tile MZ1630109, year 2021-----------\n",
      "----------Prediction data loaded for tile MZ2617540, year 2018-----------\n",
      "----------Prediction data loaded for tile NA0120753, year 2018-----------\n",
      "----------Prediction data loaded for tile NA0094286, year 2018-----------\n",
      "----------Prediction data loaded for tile NE3401300, year 2021-----------\n",
      "----------Prediction data loaded for tile KE1619121, year 2018-----------\n",
      "----------Prediction data loaded for tile ML2686177, year 2017-----------\n",
      "----------Prediction data loaded for tile NE3720897, year 2020-----------\n",
      "----------Prediction data loaded for tile NE3730283, year 2018-----------\n",
      "----------Prediction data loaded for tile NE3791036, year 2019-----------\n",
      "----------Prediction data loaded for tile NE3831688, year 2022-----------\n",
      "----------Prediction data loaded for tile NE4001644, year 2020-----------\n"
     ]
    },
    {
     "name": "stderr",
     "output_type": "stream",
     "text": [
      "Processing test tiles:  24%|████             | 896/3779 [00:12<00:39, 72.18it/s]"
     ]
    },
    {
     "name": "stdout",
     "output_type": "stream",
     "text": [
      "----------Prediction data loaded for tile NE4001992, year 2017-----------\n",
      "----------Prediction data loaded for tile NG0048562, year 2017-----------\n",
      "----------Prediction data loaded for tile NG0205532, year 2017-----------\n",
      "----------Prediction data loaded for tile NG0232861, year 2022-----------\n",
      "----------Prediction data loaded for tile NG0430276, year 2017-----------\n",
      "----------Prediction data loaded for tile NG0501924, year 2020-----------\n",
      "----------Prediction data loaded for tile NG0522191, year 2021-----------\n",
      "----------Prediction data loaded for tile NG0600274, year 2018-----------\n",
      "----------Prediction data loaded for tile NG0611342, year 2020-----------\n",
      "----------Prediction data loaded for tile NG0631726, year 2018-----------\n",
      "----------Prediction data loaded for tile NG0643194, year 2017-----------\n",
      "----------Prediction data loaded for tile NG0645193, year 2022-----------\n",
      "----------Prediction data loaded for tile NG0683668, year 2017-----------\n",
      "----------Prediction data loaded for tile NG0687460, year 2020-----------\n",
      "----------Prediction data loaded for tile NG0843327, year 2022-----------\n"
     ]
    },
    {
     "name": "stderr",
     "output_type": "stream",
     "text": [
      "Processing test tiles:  24%|████             | 904/3779 [00:12<00:40, 71.85it/s]"
     ]
    },
    {
     "name": "stdout",
     "output_type": "stream",
     "text": [
      "----------Prediction data loaded for tile NG1280546, year 2020-----------\n",
      "----------Prediction data loaded for tile NG1206689, year 2019-----------\n",
      "----------Prediction data loaded for tile NG1392453, year 2019-----------\n",
      "----------Prediction data loaded for tile NG1449813, year 2021-----------\n",
      "----------Prediction data loaded for tile NG1578887, year 2017-----------\n",
      "----------Prediction data loaded for tile NG1607744, year 2021-----------\n",
      "----------Prediction data loaded for tile NG1647592, year 2022-----------\n",
      "----------Prediction data loaded for tile NG1665763, year 2020-----------\n",
      "----------Prediction data loaded for tile NG1757714, year 2020-----------\n",
      "----------Prediction data loaded for tile NG1739762, year 2020-----------\n",
      "----------Prediction data loaded for tile NG2109666, year 2019-----------\n",
      "----------Prediction data loaded for tile NG2274135, year 2017-----------\n",
      "----------Prediction data loaded for tile NG2309958, year 2021-----------\n",
      "----------Prediction data loaded for tile NG2481161, year 2021-----------\n",
      "----------Prediction data loaded for tile NG2509961, year 2022-----------\n"
     ]
    },
    {
     "name": "stderr",
     "output_type": "stream",
     "text": [
      "Processing test tiles:  24%|████▏            | 920/3779 [00:12<00:39, 71.80it/s]"
     ]
    },
    {
     "name": "stdout",
     "output_type": "stream",
     "text": [
      "----------Prediction data loaded for tile NG2793466, year 2021-----------\n",
      "----------Prediction data loaded for tile SD2785182, year 2022-----------\n",
      "----------Prediction data loaded for tile SD3358794, year 2022-----------\n",
      "----------Prediction data loaded for tile SD4192355, year 2018-----------\n",
      "----------Prediction data loaded for tile SD4290028, year 2020-----------\n",
      "----------Prediction data loaded for tile SD4350016, year 2017-----------\n",
      "----------Prediction data loaded for tile SD4880981, year 2017-----------\n",
      "----------Prediction data loaded for tile SD5246735, year 2018-----------\n",
      "----------Prediction data loaded for tile SD5318340, year 2022-----------\n",
      "----------Prediction data loaded for tile SD5935306, year 2018-----------\n",
      "----------Prediction data loaded for tile SD6171245, year 2020-----------\n",
      "----------Prediction data loaded for tile SN0214544, year 2019-----------\n",
      "----------Prediction data loaded for tile SO1568788, year 2018-----------\n",
      "----------Prediction data loaded for tile SO1721246, year 2018-----------\n",
      "----------Prediction data loaded for tile SO1604141, year 2021-----------\n"
     ]
    },
    {
     "name": "stderr",
     "output_type": "stream",
     "text": [
      "Processing test tiles:  25%|████▏            | 936/3779 [00:12<00:39, 71.65it/s]"
     ]
    },
    {
     "name": "stdout",
     "output_type": "stream",
     "text": [
      "----------Prediction data loaded for tile TD2795924, year 2020-----------\n",
      "----------Prediction data loaded for tile TD4081236, year 2022-----------\n",
      "----------Prediction data loaded for tile TD4139752, year 2020-----------\n",
      "----------Prediction data loaded for tile TD4185504, year 2020-----------\n",
      "----------Prediction data loaded for tile TD4197954, year 2018-----------\n",
      "----------Prediction data loaded for tile TG0019354, year 2022-----------\n",
      "----------Prediction data loaded for tile TZ0187410, year 2018-----------\n",
      "----------Prediction data loaded for tile SD5513439, year 2019-----------\n",
      "----------Prediction data loaded for tile TZ0420423, year 2018-----------\n",
      "----------Prediction data loaded for tile TZ1254603, year 2017-----------\n",
      "----------Prediction data loaded for tile TZ1417255, year 2018-----------\n",
      "----------Prediction data loaded for tile TZ1568081, year 2021-----------\n",
      "----------Prediction data loaded for tile TZ1990799, year 2017-----------\n",
      "----------Prediction data loaded for tile TZ2428242, year 2020-----------\n",
      "----------Prediction data loaded for tile TZ2968644, year 2020-----------\n"
     ]
    },
    {
     "name": "stderr",
     "output_type": "stream",
     "text": [
      "Processing test tiles:  25%|████▎            | 952/3779 [00:13<00:39, 71.28it/s]"
     ]
    },
    {
     "name": "stdout",
     "output_type": "stream",
     "text": [
      "----------Prediction data loaded for tile UG0200127, year 2018-----------\n",
      "----------Prediction data loaded for tile UG0220272, year 2021-----------\n",
      "----------Prediction data loaded for tile UG0223211, year 2021-----------\n",
      "----------Prediction data loaded for tile UG0498166, year 2018-----------\n",
      "----------Prediction data loaded for tile ZA0140878, year 2022-----------\n",
      "----------Prediction data loaded for tile ZA0965033, year 2020-----------\n",
      "----------Prediction data loaded for tile ZA1044930, year 2020-----------\n",
      "----------Prediction data loaded for tile ZA1084690, year 2017-----------\n",
      "----------Prediction data loaded for tile ZA2542304, year 2022-----------\n",
      "----------Prediction data loaded for tile ZM0674508, year 2022-----------\n",
      "----------Prediction data loaded for tile ZM1304514, year 2022-----------\n",
      "----------Prediction data loaded for tile ZM1278462, year 2018-----------\n",
      "----------Prediction data loaded for tile TZ2337499, year 2017-----------\n",
      "----------Prediction data loaded for tile ZM1740875, year 2019-----------\n",
      "----------Prediction data loaded for tile ZW0247598, year 2017-----------\n"
     ]
    },
    {
     "name": "stderr",
     "output_type": "stream",
     "text": [
      "Processing test tiles:  26%|████▎            | 968/3779 [00:13<00:39, 71.24it/s]"
     ]
    },
    {
     "name": "stdout",
     "output_type": "stream",
     "text": [
      "----------Prediction data loaded for tile ZW0282807, year 2017-----------\n",
      "----------Prediction data loaded for tile ZW0322300, year 2017-----------\n",
      "----------Prediction data loaded for tile ZW0322940, year 2020-----------\n",
      "----------Prediction data loaded for tile ZW0502359, year 2021-----------\n",
      "----------Prediction data loaded for tile ZW0546176, year 2019-----------\n",
      "----------Prediction data loaded for tile ZW0607346, year 2019-----------\n",
      "----------Prediction data loaded for tile ZW0842601, year 2020-----------\n",
      "----------Prediction data loaded for tile ZW0855721, year 2019-----------\n",
      "----------Prediction data loaded for tile ZW1016951, year 2020-----------\n",
      "----------Prediction data loaded for tile ZW1024818, year 2020-----------\n",
      "----------Prediction data loaded for tile ZW1082895, year 2021-----------\n",
      "----------Prediction data loaded for tile ZW1135294, year 2019-----------\n",
      "----------Prediction data loaded for tile ZW1177889, year 2021-----------\n",
      "----------Prediction data loaded for tile ET0480941, year 2023-----------\n",
      "----------Prediction data loaded for tile ZA1963648, year 2021-----------\n"
     ]
    },
    {
     "name": "stderr",
     "output_type": "stream",
     "text": [
      "Processing test tiles:  26%|████▍            | 984/3779 [00:13<00:39, 71.40it/s]"
     ]
    },
    {
     "name": "stdout",
     "output_type": "stream",
     "text": [
      "----------Prediction data loaded for tile ET1722184, year 2020-----------\n",
      "----------Prediction data loaded for tile KE1739608, year 2023-----------\n",
      "----------Prediction data loaded for tile KE1885268, year 2023-----------\n",
      "----------Prediction data loaded for tile ML3398986, year 2019-----------\n",
      "----------Prediction data loaded for tile ML4237807, year 2019-----------\n",
      "----------Prediction data loaded for tile ML4196847, year 2023-----------\n",
      "----------Prediction data loaded for tile NG0743925, year 2019-----------\n",
      "----------Prediction data loaded for tile NG1614237, year 2021-----------\n",
      "----------Prediction data loaded for tile NG1915706, year 2020-----------\n",
      "----------Prediction data loaded for tile NG2640575, year 2023-----------\n",
      "----------Prediction data loaded for tile SD3930618, year 2020-----------\n",
      "----------Prediction data loaded for tile SD4124721, year 2023-----------\n",
      "----------Prediction data loaded for tile SD4234235, year 2019-----------\n",
      "----------Prediction data loaded for tile SD5143721, year 2021-----------\n",
      "----------Prediction data loaded for tile SN0283454, year 2017-----------\n"
     ]
    },
    {
     "name": "stderr",
     "output_type": "stream",
     "text": [
      "Processing test tiles:  26%|████▏           | 1000/3779 [00:13<00:38, 71.73it/s]"
     ]
    },
    {
     "name": "stdout",
     "output_type": "stream",
     "text": [
      "----------Prediction data loaded for tile TD3068956, year 2023-----------\n",
      "----------Prediction data loaded for tile TD3988037, year 2017-----------\n",
      "----------Prediction data loaded for tile TD4003808, year 2021-----------\n",
      "----------Prediction data loaded for tile TD4037978, year 2017-----------\n",
      "----------Prediction data loaded for tile TG0091405, year 2023-----------\n",
      "----------Prediction data loaded for tile TZ0339493, year 2021-----------\n",
      "----------Prediction data loaded for tile TZ0735366, year 2019-----------\n",
      "----------Prediction data loaded for tile TZ1181152, year 2021-----------\n",
      "----------Prediction data loaded for tile UG0288728, year 2020-----------\n",
      "----------Prediction data loaded for tile UG0511365, year 2017-----------\n",
      "----------Prediction data loaded for tile ZW0144354, year 2017-----------\n",
      "----------Prediction data loaded for tile ZW0391151, year 2020-----------\n",
      "----------Prediction data loaded for tile ZM0779369, year 2017-----------\n",
      "----------Prediction data loaded for tile ZW0504876, year 2019-----------\n",
      "----------Prediction data loaded for tile TD4077274, year 2023-----------\n"
     ]
    },
    {
     "name": "stderr",
     "output_type": "stream",
     "text": [
      "Processing test tiles:  27%|████▎           | 1016/3779 [00:13<00:38, 71.92it/s]"
     ]
    },
    {
     "name": "stdout",
     "output_type": "stream",
     "text": [
      "----------Prediction data loaded for tile NG1922019, year 2023-----------\n",
      "----------Prediction data loaded for tile BF0464411, year 2017-----------\n",
      "----------Prediction data loaded for tile ML3741895, year 2017-----------\n",
      "----------Prediction data loaded for tile ET0664574, year 2017-----------\n",
      "----------Prediction data loaded for tile BW0731172, year 2022-----------\n",
      "----------Prediction data loaded for tile ER0291983, year 2020-----------\n",
      "----------Prediction data loaded for tile ZW0423494, year 2018-----------\n",
      "----------Prediction data loaded for tile ML3636714, year 2023-----------\n",
      "----------Prediction data loaded for tile ZM0885561, year 2020-----------\n",
      "----------Prediction data loaded for tile ZA0804487, year 2023-----------\n",
      "----------Prediction data loaded for tile UG0008577, year 2023-----------\n",
      "----------Prediction data loaded for tile ET2127988, year 2023-----------\n",
      "----------Prediction data loaded for tile UG0769137, year 2017-----------\n",
      "----------Prediction data loaded for tile ZW0293523, year 2023-----------\n",
      "----------Prediction data loaded for tile ZW0132596, year 2023-----------\n"
     ]
    },
    {
     "name": "stderr",
     "output_type": "stream",
     "text": [
      "Processing test tiles:  27%|████▎           | 1024/3779 [00:14<00:38, 71.89it/s]"
     ]
    },
    {
     "name": "stdout",
     "output_type": "stream",
     "text": [
      "----------Prediction data loaded for tile RW0012415, year 2020-----------\n",
      "----------Prediction data loaded for tile ML3760127, year 2023-----------\n",
      "----------Prediction data loaded for tile TZ2903031, year 2018-----------\n",
      "----------Prediction data loaded for tile KE1615511, year 2023-----------\n",
      "----------Prediction data loaded for tile UG0400064, year 2019-----------\n",
      "----------Prediction data loaded for tile NG2937781, year 2023-----------\n",
      "----------Prediction data loaded for tile NG2534692, year 2019-----------\n",
      "----------Prediction data loaded for tile ZW0580180, year 2023-----------\n",
      "----------Prediction data loaded for tile CD1151416, year 2019-----------\n",
      "----------Prediction data loaded for tile ET0047513, year 2019-----------\n",
      "----------Prediction data loaded for tile MW0076497, year 2020-----------\n",
      "----------Prediction data loaded for tile TD3503215, year 2018-----------\n",
      "----------Prediction data loaded for tile ZA0436795, year 2019-----------\n",
      "----------Prediction data loaded for tile NG1267916, year 2023-----------\n",
      "----------Prediction data loaded for tile CM0709771, year 2019-----------\n"
     ]
    },
    {
     "name": "stderr",
     "output_type": "stream",
     "text": [
      "Processing test tiles:  28%|████▍           | 1040/3779 [00:14<00:38, 72.00it/s]"
     ]
    },
    {
     "name": "stdout",
     "output_type": "stream",
     "text": [
      "----------Prediction data loaded for tile BF0483763, year 2021-----------\n",
      "----------Prediction data loaded for tile ET1743729, year 2023-----------\n",
      "----------Prediction data loaded for tile SD4127165, year 2023-----------\n",
      "----------Prediction data loaded for tile TZ2974859, year 2019-----------\n",
      "----------Prediction data loaded for tile NG1247492, year 2018-----------\n",
      "----------Prediction data loaded for tile AO4127460, year 2021-----------\n",
      "----------Prediction data loaded for tile TD3730534, year 2022-----------\n",
      "----------Prediction data loaded for tile UG0041977, year 2023-----------\n",
      "----------Prediction data loaded for tile ML3443498, year 2023-----------\n",
      "----------Prediction data loaded for tile TZ1129771, year 2023-----------\n",
      "----------Prediction data loaded for tile NE3912574, year 2018-----------\n",
      "----------Prediction data loaded for tile TZ1721156, year 2021-----------\n",
      "----------Prediction data loaded for tile TZ1953118, year 2017-----------\n",
      "----------Prediction data loaded for tile NG2350290, year 2018-----------\n",
      "----------Prediction data loaded for tile ZA0951898, year 2023-----------\n"
     ]
    },
    {
     "name": "stderr",
     "output_type": "stream",
     "text": [
      "Processing test tiles:  28%|████▍           | 1056/3779 [00:14<00:37, 71.91it/s]"
     ]
    },
    {
     "name": "stdout",
     "output_type": "stream",
     "text": [
      "----------Prediction data loaded for tile AO2325299, year 2023-----------\n",
      "----------Prediction data loaded for tile TG0175220, year 2023-----------\n",
      "----------Prediction data loaded for tile BI0048615, year 2018-----------\n",
      "----------Prediction data loaded for tile SN0346644, year 2022-----------\n",
      "----------Prediction data loaded for tile ZW1034979, year 2021-----------\n",
      "----------Prediction data loaded for tile TD3293759, year 2023-----------\n",
      "----------Prediction data loaded for tile NG0265793, year 2023-----------\n",
      "----------Prediction data loaded for tile ET1535470, year 2023-----------\n",
      "----------Prediction data loaded for tile UG0100207, year 2022-----------\n",
      "----------Prediction data loaded for tile TZ1627714, year 2021-----------\n",
      "----------Prediction data loaded for tile NG2541845, year 2023-----------\n",
      "----------Prediction data loaded for tile TD4097593, year 2023-----------\n",
      "----------Prediction data loaded for tile ZM1296593, year 2023-----------\n",
      "----------Prediction data loaded for tile SD4133197, year 2021-----------\n",
      "----------Prediction data loaded for tile NG1879351, year 2023-----------\n"
     ]
    },
    {
     "name": "stderr",
     "output_type": "stream",
     "text": [
      "Processing test tiles:  28%|████▌           | 1072/3779 [00:14<00:37, 72.09it/s]"
     ]
    },
    {
     "name": "stdout",
     "output_type": "stream",
     "text": [
      "----------Prediction data loaded for tile TD4228143, year 2022-----------\n",
      "----------Prediction data loaded for tile ET3360730, year 2023-----------\n",
      "----------Prediction data loaded for tile ZA0959334, year 2022-----------\n",
      "----------Prediction data loaded for tile ZA0375202, year 2021-----------\n",
      "----------Prediction data loaded for tile SD5526550, year 2023-----------\n",
      "----------Prediction data loaded for tile TZ0413514, year 2023-----------\n",
      "----------Prediction data loaded for tile ZW0038441, year 2017-----------\n",
      "----------Prediction data loaded for tile CI0602646, year 2023-----------\n",
      "----------Prediction data loaded for tile ZA1250380, year 2018-----------\n",
      "----------Prediction data loaded for tile NG2034939, year 2019-----------\n",
      "----------Prediction data loaded for tile TZ0901545, year 2023-----------\n",
      "----------Prediction data loaded for tile BF0805466, year 2023-----------\n",
      "----------Prediction data loaded for tile NG1338248, year 2017-----------\n",
      "----------Prediction data loaded for tile TZ0966553, year 2019-----------\n",
      "----------Prediction data loaded for tile MZ0831478, year 2023-----------\n"
     ]
    },
    {
     "name": "stderr",
     "output_type": "stream",
     "text": [
      "Processing test tiles:  29%|████▌           | 1088/3779 [00:14<00:37, 72.09it/s]"
     ]
    },
    {
     "name": "stdout",
     "output_type": "stream",
     "text": [
      "----------Prediction data loaded for tile ZM2483369, year 2023-----------\n",
      "----------Prediction data loaded for tile ZW0579994, year 2022-----------\n",
      "----------Prediction data loaded for tile TD4208474, year 2022-----------\n",
      "----------Prediction data loaded for tile ET0490546, year 2023-----------\n",
      "----------Prediction data loaded for tile SD4070299, year 2017-----------\n",
      "----------Prediction data loaded for tile ZM1235721, year 2017-----------\n",
      "----------Prediction data loaded for tile TD4015397, year 2018-----------\n",
      "----------Prediction data loaded for tile SD3924786, year 2020-----------\n",
      "----------Prediction data loaded for tile UG0251482, year 2020-----------\n",
      "----------Prediction data loaded for tile SD8402854, year 2018-----------\n",
      "----------Prediction data loaded for tile MZ0883641, year 2023-----------\n",
      "----------Prediction data loaded for tile NG0680824, year 2023-----------\n",
      "----------Prediction data loaded for tile AO2967484, year 2021-----------\n",
      "----------Prediction data loaded for tile TZ1961261, year 2023-----------\n",
      "----------Prediction data loaded for tile TZ1176526, year 2023-----------\n"
     ]
    },
    {
     "name": "stderr",
     "output_type": "stream",
     "text": [
      "Processing test tiles:  29%|████▋           | 1104/3779 [00:15<00:37, 72.22it/s]"
     ]
    },
    {
     "name": "stdout",
     "output_type": "stream",
     "text": [
      "----------Prediction data loaded for tile AO2385506, year 2020-----------\n",
      "----------Prediction data loaded for tile KE1394931, year 2023-----------\n",
      "----------Prediction data loaded for tile UG0493554, year 2019-----------\n",
      "----------Prediction data loaded for tile TD2821259, year 2023-----------\n",
      "----------Prediction data loaded for tile ZA1054102, year 2023-----------\n",
      "----------Prediction data loaded for tile SD2539915, year 2023-----------\n",
      "----------Prediction data loaded for tile SD3861167, year 2019-----------\n",
      "----------Prediction data loaded for tile NG0596499, year 2017-----------\n",
      "----------Prediction data loaded for tile ET2538894, year 2023-----------\n",
      "----------Prediction data loaded for tile SD4787459, year 2023-----------\n",
      "----------Prediction data loaded for tile CM0138001, year 2023-----------\n",
      "----------Prediction data loaded for tile LS0053730, year 2017-----------\n",
      "----------Prediction data loaded for tile NG0719503, year 2018-----------\n",
      "----------Prediction data loaded for tile MW0374809, year 2023-----------\n",
      "----------Prediction data loaded for tile UG0528905, year 2019-----------\n"
     ]
    },
    {
     "name": "stderr",
     "output_type": "stream",
     "text": [
      "Processing test tiles:  30%|████▋           | 1120/3779 [00:15<00:37, 71.77it/s]"
     ]
    },
    {
     "name": "stdout",
     "output_type": "stream",
     "text": [
      "----------Prediction data loaded for tile ML3700178, year 2018-----------\n",
      "----------Prediction data loaded for tile SD4399361, year 2023-----------\n",
      "----------Prediction data loaded for tile ZM0011142, year 2023-----------\n",
      "----------Prediction data loaded for tile ET1623884, year 2017-----------\n",
      "----------Prediction data loaded for tile SD4509681, year 2020-----------\n",
      "----------Prediction data loaded for tile ZA2296198, year 2020-----------\n",
      "----------Prediction data loaded for tile ZM1537669, year 2023-----------\n",
      "----------Prediction data loaded for tile ET0263615, year 2023-----------\n",
      "----------Prediction data loaded for tile NG1551533, year 2023-----------\n",
      "----------Prediction data loaded for tile NA0326543, year 2023-----------\n",
      "----------Prediction data loaded for tile SD3731744, year 2021-----------\n",
      "----------Prediction data loaded for tile KE1491693, year 2023-----------\n",
      "----------Prediction data loaded for tile KE0688630, year 2021-----------\n",
      "----------Prediction data loaded for tile NG0717422, year 2017-----------\n",
      "----------Prediction data loaded for tile NG1051389, year 2018-----------\n"
     ]
    },
    {
     "name": "stderr",
     "output_type": "stream",
     "text": [
      "Processing test tiles:  30%|████▊           | 1128/3779 [00:15<00:36, 71.77it/s]"
     ]
    },
    {
     "name": "stdout",
     "output_type": "stream",
     "text": [
      "----------Prediction data loaded for tile NG1981916, year 2019-----------\n",
      "----------Prediction data loaded for tile BF0532363, year 2020-----------\n",
      "----------Prediction data loaded for tile CD0772757, year 2017-----------\n",
      "----------Prediction data loaded for tile ML4069461, year 2023-----------\n",
      "----------Prediction data loaded for tile SN0234508, year 2023-----------\n",
      "----------Prediction data loaded for tile ZW0818277, year 2023-----------\n",
      "----------Prediction data loaded for tile ML3664280, year 2022-----------\n",
      "----------Prediction data loaded for tile NG2628040, year 2023-----------\n",
      "----------Prediction data loaded for tile SO1683999, year 2021-----------\n",
      "----------Prediction data loaded for tile NE4014320, year 2019-----------\n",
      "----------Prediction data loaded for tile ET1511060, year 2022-----------\n",
      "----------Prediction data loaded for tile CD5268086, year 2023-----------\n",
      "----------Prediction data loaded for tile ML4264268, year 2023-----------\n",
      "----------Prediction data loaded for tile NG0770631, year 2023-----------\n"
     ]
    },
    {
     "name": "stderr",
     "output_type": "stream",
     "text": [
      "Processing test tiles:  30%|████▊           | 1144/3779 [00:15<00:37, 69.80it/s]"
     ]
    },
    {
     "name": "stdout",
     "output_type": "stream",
     "text": [
      "----------Prediction data loaded for tile ML3990373, year 2021-----------\n",
      "----------Prediction data loaded for tile ZM0775597, year 2023-----------\n",
      "----------Prediction data loaded for tile TZ0409561, year 2023-----------\n",
      "----------Prediction data loaded for tile TD4154870, year 2021-----------\n",
      "----------Prediction data loaded for tile NG1647184, year 2021-----------\n",
      "----------Prediction data loaded for tile AO2537679, year 2017-----------\n",
      "----------Prediction data loaded for tile AO2735645, year 2023-----------\n",
      "----------Prediction data loaded for tile ZA1173757, year 2022-----------\n",
      "----------Prediction data loaded for tile NG1350270, year 2023-----------\n",
      "----------Prediction data loaded for tile NA0123130, year 2018-----------\n",
      "----------Prediction data loaded for tile SD4378538, year 2023-----------\n",
      "----------Prediction data loaded for tile AO1993065, year 2023-----------\n",
      "----------Prediction data loaded for tile NG0633255, year 2017-----------\n",
      "----------Prediction data loaded for tile ZA1102645, year 2023-----------\n",
      "----------Prediction data loaded for tile ZA1435422, year 2017-----------\n"
     ]
    },
    {
     "name": "stderr",
     "output_type": "stream",
     "text": [
      "Processing test tiles:  31%|████▉           | 1160/3779 [00:16<00:36, 71.06it/s]"
     ]
    },
    {
     "name": "stdout",
     "output_type": "stream",
     "text": [
      "----------Prediction data loaded for tile NG1882314, year 2021-----------\n",
      "----------Prediction data loaded for tile ZM1622811, year 2018-----------\n",
      "----------Prediction data loaded for tile SD4981159, year 2018-----------\n",
      "----------Prediction data loaded for tile TD2984517, year 2023-----------\n",
      "----------Prediction data loaded for tile KE1372404, year 2023-----------\n",
      "----------Prediction data loaded for tile BF0435572, year 2019-----------\n",
      "----------Prediction data loaded for tile NG1215738, year 2022-----------\n",
      "----------Prediction data loaded for tile CD6961350, year 2021-----------\n",
      "----------Prediction data loaded for tile LS0066291, year 2022-----------\n",
      "----------Prediction data loaded for tile SD4529614, year 2020-----------\n",
      "----------Prediction data loaded for tile ZW1048367, year 2019-----------\n",
      "----------Prediction data loaded for tile NG1243882, year 2020-----------\n",
      "----------Prediction data loaded for tile ZA0676968, year 2023-----------\n",
      "----------Prediction data loaded for tile NG0648952, year 2023-----------\n",
      "----------Prediction data loaded for tile NG1922932, year 2018-----------\n"
     ]
    },
    {
     "name": "stderr",
     "output_type": "stream",
     "text": [
      "Processing test tiles:  31%|████▉           | 1176/3779 [00:16<00:36, 71.65it/s]"
     ]
    },
    {
     "name": "stdout",
     "output_type": "stream",
     "text": [
      "----------Prediction data loaded for tile NE3829945, year 2022-----------\n",
      "----------Prediction data loaded for tile TZ1956748, year 2021-----------\n",
      "----------Prediction data loaded for tile KE1240977, year 2021-----------\n",
      "----------Prediction data loaded for tile ER0312054, year 2022-----------\n",
      "----------Prediction data loaded for tile NG1341012, year 2023-----------\n",
      "----------Prediction data loaded for tile MZ0739715, year 2018-----------\n",
      "----------Prediction data loaded for tile ZA0710504, year 2022-----------\n",
      "----------Prediction data loaded for tile NG1483800, year 2019-----------\n",
      "----------Prediction data loaded for tile TD4054571, year 2022-----------\n",
      "----------Prediction data loaded for tile TZ1503815, year 2021-----------\n",
      "----------Prediction data loaded for tile TZ1079704, year 2020-----------\n",
      "----------Prediction data loaded for tile NA0246414, year 2021-----------\n",
      "----------Prediction data loaded for tile ET1080134, year 2023-----------\n",
      "----------Prediction data loaded for tile NG0455506, year 2018-----------\n",
      "----------Prediction data loaded for tile TZ2947656, year 2023-----------\n"
     ]
    },
    {
     "name": "stderr",
     "output_type": "stream",
     "text": [
      "Processing test tiles:  32%|█████           | 1192/3779 [00:16<00:36, 71.60it/s]"
     ]
    },
    {
     "name": "stdout",
     "output_type": "stream",
     "text": [
      "----------Prediction data loaded for tile AO1901632, year 2018-----------\n",
      "----------Prediction data loaded for tile ZM1348317, year 2023-----------\n",
      "----------Prediction data loaded for tile SD4074027, year 2023-----------\n",
      "----------Prediction data loaded for tile CD3984555, year 2021-----------\n",
      "----------Prediction data loaded for tile ZW0144008, year 2023-----------\n",
      "----------Prediction data loaded for tile ML3693272, year 2023-----------\n",
      "----------Prediction data loaded for tile NG1509403, year 2019-----------\n",
      "----------Prediction data loaded for tile TZ0839307, year 2021-----------\n",
      "----------Prediction data loaded for tile SD4407706, year 2022-----------\n",
      "----------Prediction data loaded for tile TZ1515473, year 2019-----------\n",
      "----------Prediction data loaded for tile TZ0435563, year 2023-----------\n",
      "----------Prediction data loaded for tile NG0357392, year 2021-----------\n",
      "----------Prediction data loaded for tile MZ0903115, year 2023-----------\n",
      "----------Prediction data loaded for tile ET0024209, year 2019-----------\n",
      "----------Prediction data loaded for tile NE3490845, year 2023-----------\n"
     ]
    },
    {
     "name": "stderr",
     "output_type": "stream",
     "text": [
      "Processing test tiles:  32%|█████           | 1208/3779 [00:16<00:38, 67.39it/s]"
     ]
    },
    {
     "name": "stdout",
     "output_type": "stream",
     "text": [
      "----------Prediction data loaded for tile KE0891479, year 2020-----------\n",
      "----------Prediction data loaded for tile NG1676768, year 2017-----------\n",
      "----------Prediction data loaded for tile TZ1473576, year 2023-----------\n",
      "----------Prediction data loaded for tile TD4149010, year 2017-----------\n",
      "----------Prediction data loaded for tile ML3643710, year 2018-----------\n",
      "----------Prediction data loaded for tile BF0618203, year 2018-----------\n",
      "----------Prediction data loaded for tile CD3183307, year 2018-----------\n",
      "----------Prediction data loaded for tile NG1281039, year 2020-----------\n",
      "----------Prediction data loaded for tile ZA1123040, year 2023-----------\n",
      "----------Prediction data loaded for tile SN0480835, year 2023-----------\n",
      "----------Prediction data loaded for tile ET1480391, year 2017-----------\n",
      "----------Prediction data loaded for tile CD0988977, year 2023-----------\n",
      "----------Prediction data loaded for tile CD5770046, year 2023-----------\n"
     ]
    },
    {
     "name": "stderr",
     "output_type": "stream",
     "text": [
      "Processing test tiles:  32%|█████▏          | 1216/3779 [00:16<00:37, 68.82it/s]"
     ]
    },
    {
     "name": "stdout",
     "output_type": "stream",
     "text": [
      "----------Prediction data loaded for tile SD5157711, year 2023-----------\n",
      "----------Prediction data loaded for tile MW0256073, year 2018-----------\n",
      "----------Prediction data loaded for tile NG1736356, year 2021-----------\n",
      "----------Prediction data loaded for tile SD4572065, year 2023-----------\n",
      "----------Prediction data loaded for tile SD5838204, year 2019-----------\n",
      "----------Prediction data loaded for tile SD5217921, year 2023-----------\n",
      "----------Prediction data loaded for tile GN0708930, year 2019-----------\n",
      "----------Prediction data loaded for tile BJ0040383, year 2018-----------\n",
      "----------Prediction data loaded for tile SD6729338, year 2023-----------\n",
      "----------Prediction data loaded for tile TZ0818490, year 2018-----------\n",
      "----------Prediction data loaded for tile NG1524907, year 2022-----------\n",
      "----------Prediction data loaded for tile MW0272125, year 2019-----------\n",
      "----------Prediction data loaded for tile TD3716355, year 2023-----------\n",
      "----------Prediction data loaded for tile NG1541631, year 2020-----------\n",
      "----------Prediction data loaded for tile SD4119307, year 2018-----------\n"
     ]
    },
    {
     "name": "stderr",
     "output_type": "stream",
     "text": [
      "Processing test tiles:  33%|█████▏          | 1232/3779 [00:17<00:36, 70.53it/s]"
     ]
    },
    {
     "name": "stdout",
     "output_type": "stream",
     "text": [
      "----------Prediction data loaded for tile BF0523936, year 2023-----------\n",
      "----------Prediction data loaded for tile TZ1504092, year 2023-----------\n",
      "----------Prediction data loaded for tile NG1121097, year 2018-----------\n",
      "----------Prediction data loaded for tile BJ0245397, year 2021-----------\n",
      "----------Prediction data loaded for tile TZ0369225, year 2023-----------\n",
      "----------Prediction data loaded for tile ET0931068, year 2023-----------\n",
      "----------Prediction data loaded for tile NG1166773, year 2021-----------\n",
      "----------Prediction data loaded for tile MZ0618178, year 2021-----------\n",
      "----------Prediction data loaded for tile ZM1296486, year 2022-----------\n",
      "----------Prediction data loaded for tile NG2054402, year 2022-----------\n",
      "----------Prediction data loaded for tile ET2895657, year 2022-----------\n",
      "----------Prediction data loaded for tile SD5282900, year 2020-----------\n",
      "----------Prediction data loaded for tile MW0345442, year 2023-----------\n",
      "----------Prediction data loaded for tile ET1941382, year 2023-----------\n",
      "----------Prediction data loaded for tile NG2088410, year 2019-----------\n"
     ]
    },
    {
     "name": "stderr",
     "output_type": "stream",
     "text": [
      "Processing test tiles:  33%|█████▎          | 1248/3779 [00:17<00:35, 71.35it/s]"
     ]
    },
    {
     "name": "stdout",
     "output_type": "stream",
     "text": [
      "----------Prediction data loaded for tile NE3907414, year 2023-----------\n",
      "----------Prediction data loaded for tile ZA0667540, year 2020-----------\n",
      "----------Prediction data loaded for tile NG0791389, year 2020-----------\n",
      "----------Prediction data loaded for tile NA0068072, year 2019-----------\n",
      "----------Prediction data loaded for tile KE1647528, year 2021-----------\n",
      "----------Prediction data loaded for tile MZ1204822, year 2022-----------\n",
      "----------Prediction data loaded for tile ZW0884535, year 2022-----------\n",
      "----------Prediction data loaded for tile ZM1705882, year 2023-----------\n",
      "----------Prediction data loaded for tile NA0128737, year 2023-----------\n",
      "----------Prediction data loaded for tile NG1378169, year 2021-----------\n",
      "----------Prediction data loaded for tile BF0277118, year 2018-----------\n",
      "----------Prediction data loaded for tile NG0659561, year 2023-----------\n",
      "----------Prediction data loaded for tile ET1483642, year 2017-----------\n",
      "----------Prediction data loaded for tile KE1656363, year 2017-----------\n",
      "----------Prediction data loaded for tile ET0939650, year 2020-----------\n"
     ]
    },
    {
     "name": "stderr",
     "output_type": "stream",
     "text": [
      "Processing test tiles:  33%|█████▎          | 1264/3779 [00:17<00:35, 71.52it/s]"
     ]
    },
    {
     "name": "stdout",
     "output_type": "stream",
     "text": [
      "----------Prediction data loaded for tile MZ0489264, year 2017-----------\n",
      "----------Prediction data loaded for tile BI0023623, year 2019-----------\n",
      "----------Prediction data loaded for tile ZM0540916, year 2018-----------\n",
      "----------Prediction data loaded for tile RW0069554, year 2022-----------\n",
      "----------Prediction data loaded for tile ZW0424965, year 2023-----------\n",
      "----------Prediction data loaded for tile NG1568747, year 2022-----------\n",
      "----------Prediction data loaded for tile UG0076824, year 2023-----------\n",
      "----------Prediction data loaded for tile BF0753865, year 2023-----------\n",
      "----------Prediction data loaded for tile NE3525212, year 2019-----------\n",
      "----------Prediction data loaded for tile MW0161470, year 2017-----------\n",
      "----------Prediction data loaded for tile AO3600196, year 2022-----------\n",
      "----------Prediction data loaded for tile NA0094664, year 2018-----------\n",
      "----------Prediction data loaded for tile NG1834371, year 2023-----------\n",
      "----------Prediction data loaded for tile NG0979844, year 2019-----------\n",
      "----------Prediction data loaded for tile TD3080744, year 2021-----------\n"
     ]
    },
    {
     "name": "stderr",
     "output_type": "stream",
     "text": [
      "Processing test tiles:  34%|█████▍          | 1280/3779 [00:17<00:34, 72.56it/s]"
     ]
    },
    {
     "name": "stdout",
     "output_type": "stream",
     "text": [
      "----------Prediction data loaded for tile TD3191520, year 2018-----------\n",
      "----------Prediction data loaded for tile GN0325032, year 2019-----------\n",
      "----------Prediction data loaded for tile ML3731051, year 2023-----------\n",
      "----------Prediction data loaded for tile SD4567544, year 2019-----------\n",
      "----------Prediction data loaded for tile SD4628227, year 2023-----------\n",
      "----------Prediction data loaded for tile CD0442990, year 2021-----------\n",
      "----------Prediction data loaded for tile ML4010052, year 2019-----------\n",
      "----------Prediction data loaded for tile ET0224666, year 2023-----------\n",
      "----------Prediction data loaded for tile CD5820447, year 2022-----------\n",
      "----------Prediction data loaded for tile MW0152264, year 2018-----------\n",
      "----------Prediction data loaded for tile ZA1174212, year 2018-----------\n",
      "----------Prediction data loaded for tile ZM0932381, year 2021-----------\n",
      "----------Prediction data loaded for tile ZM2213703, year 2021-----------\n",
      "----------Prediction data loaded for tile ZM0461968, year 2021-----------\n",
      "----------Prediction data loaded for tile ZM2295847, year 2021-----------\n",
      "----------Prediction data loaded for tile CG0771106, year 2022-----------\n",
      "----------Prediction data loaded for tile ZM2079799, year 2021-----------\n"
     ]
    },
    {
     "name": "stderr",
     "output_type": "stream",
     "text": [
      "Processing test tiles:  34%|█████▌          | 1300/3779 [00:17<00:28, 85.58it/s]"
     ]
    },
    {
     "name": "stdout",
     "output_type": "stream",
     "text": [
      "----------Prediction data loaded for tile CG0642149, year 2022-----------\n",
      "----------Prediction data loaded for tile ZM2480863, year 2021-----------\n",
      "----------Prediction data loaded for tile TZ0621709, year 2018-----------\n",
      "----------Prediction data loaded for tile ZM2219002, year 2021-----------\n",
      "----------Prediction data loaded for tile TZ0647646, year 2018-----------\n",
      "----------Prediction data loaded for tile CG0656419, year 2022-----------\n",
      "----------Prediction data loaded for tile ZM0043002, year 2021-----------\n",
      "----------Prediction data loaded for tile CG0731501, year 2022-----------\n",
      "----------Prediction data loaded for tile CG0679042, year 2019-----------\n",
      "----------Prediction data loaded for tile TZ0370691, year 2018-----------\n",
      "----------Prediction data loaded for tile TZ0656896, year 2018-----------\n",
      "----------Prediction data loaded for tile TZ0620351, year 2018-----------\n",
      "----------Prediction data loaded for tile ZM2187890, year 2021-----------\n",
      "----------Prediction data loaded for tile CG0923145, year 2022-----------\n",
      "----------Prediction data loaded for tile ZM2485115, year 2021-----------\n",
      "----------Prediction data loaded for tile TZ0198026, year 2018-----------\n",
      "----------Prediction data loaded for tile CD2492703, year 2019-----------\n",
      "----------Prediction data loaded for tile TZ0697861, year 2018-----------\n",
      "----------Prediction data loaded for tile CG0563474, year 2022-----------\n",
      "----------Prediction data loaded for tile ZM1227640, year 2021-----------\n",
      "----------Prediction data loaded for tile TZ0738108, year 2018-----------\n"
     ]
    },
    {
     "name": "stderr",
     "output_type": "stream",
     "text": [
      "Processing test tiles:  35%|█████▌          | 1321/3779 [00:18<00:26, 93.01it/s]"
     ]
    },
    {
     "name": "stdout",
     "output_type": "stream",
     "text": [
      "----------Prediction data loaded for tile TZ0781807, year 2018-----------\n",
      "----------Prediction data loaded for tile ZM2117591, year 2021-----------\n",
      "----------Prediction data loaded for tile BF0865894, year 2018-----------\n",
      "----------Prediction data loaded for tile ZM0386443, year 2021-----------\n",
      "----------Prediction data loaded for tile TZ0688282, year 2018-----------\n",
      "----------Prediction data loaded for tile ZM2310085, year 2021-----------\n",
      "----------Prediction data loaded for tile ZM2139930, year 2021-----------\n",
      "----------Prediction data loaded for tile ZM2160265, year 2021-----------\n",
      "----------Prediction data loaded for tile ZM1656379, year 2021-----------\n",
      "----------Prediction data loaded for tile TZ0827048, year 2018-----------\n",
      "----------Prediction data loaded for tile TZ0198018, year 2018-----------\n",
      "----------Prediction data loaded for tile ZM2417519, year 2021-----------\n",
      "----------Prediction data loaded for tile CG0000548, year 2022-----------\n",
      "----------Prediction data loaded for tile CG0751988, year 2022-----------\n",
      "----------Prediction data loaded for tile TZ0714018, year 2018-----------\n",
      "----------Prediction data loaded for tile CG0000065, year 2022-----------\n",
      "----------Prediction data loaded for tile ZM1458572, year 2021-----------\n",
      "----------Prediction data loaded for tile TZ0190796, year 2018-----------\n",
      "----------Prediction data loaded for tile CG0644813, year 2022-----------\n",
      "----------Prediction data loaded for tile ZM0396400, year 2021-----------\n",
      "----------Prediction data loaded for tile TZ0383208, year 2018-----------\n"
     ]
    },
    {
     "name": "stderr",
     "output_type": "stream",
     "text": [
      "Processing test tiles:  35%|█████▋          | 1341/3779 [00:18<00:27, 89.80it/s]"
     ]
    },
    {
     "name": "stdout",
     "output_type": "stream",
     "text": [
      "----------Prediction data loaded for tile ZM2332572, year 2021-----------\n",
      "----------Prediction data loaded for tile ZM1911527, year 2021-----------\n",
      "----------Prediction data loaded for tile ZM0982611, year 2021-----------\n",
      "----------Prediction data loaded for tile ZM0061244, year 2021-----------\n",
      "----------Prediction data loaded for tile ZM0980997, year 2021-----------\n",
      "----------Prediction data loaded for tile ZM0811677, year 2021-----------\n",
      "----------Prediction data loaded for tile ZM2236432, year 2021-----------\n",
      "----------Prediction data loaded for tile BF0899439, year 2018-----------\n",
      "----------Prediction data loaded for tile ZM0424538, year 2021-----------\n",
      "----------Prediction data loaded for tile ZM2475772, year 2021-----------\n",
      "----------Prediction data loaded for tile CG0527738, year 2019-----------\n",
      "----------Prediction data loaded for tile TZ0680353, year 2018-----------\n",
      "----------Prediction data loaded for tile CG0042789, year 2022-----------\n",
      "----------Prediction data loaded for tile CG0032367, year 2022-----------\n",
      "----------Prediction data loaded for tile ZM2137844, year 2021-----------\n",
      "----------Prediction data loaded for tile CG0591566, year 2022-----------\n",
      "----------Prediction data loaded for tile TZ0632358, year 2018-----------\n",
      "----------Prediction data loaded for tile CG0068698, year 2022-----------\n"
     ]
    },
    {
     "name": "stderr",
     "output_type": "stream",
     "text": [
      "Processing test tiles:  36%|█████▊          | 1362/3779 [00:18<00:25, 93.55it/s]"
     ]
    },
    {
     "name": "stdout",
     "output_type": "stream",
     "text": [
      "----------Prediction data loaded for tile ZM2399797, year 2021-----------\n",
      "----------Prediction data loaded for tile ZM1238414, year 2021-----------\n",
      "----------Prediction data loaded for tile TZ0902058, year 2018-----------\n",
      "----------Prediction data loaded for tile CG0904697, year 2022-----------\n",
      "----------Prediction data loaded for tile ZM1888408, year 2021-----------\n",
      "----------Prediction data loaded for tile ZM1467337, year 2021-----------\n",
      "----------Prediction data loaded for tile CG0649747, year 2022-----------\n",
      "----------Prediction data loaded for tile CG0750146, year 2022-----------\n",
      "----------Prediction data loaded for tile ZM0204088, year 2021-----------\n",
      "----------Prediction data loaded for tile TZ0391645, year 2018-----------\n",
      "----------Prediction data loaded for tile TZ0621849, year 2018-----------\n",
      "----------Prediction data loaded for tile ZM2422150, year 2021-----------\n",
      "----------Prediction data loaded for tile TZ0696245, year 2018-----------\n",
      "----------Prediction data loaded for tile ZM2445635, year 2021-----------\n",
      "----------Prediction data loaded for tile TZ0191859, year 2018-----------\n",
      "----------Prediction data loaded for tile CD1043043, year 2019-----------\n",
      "----------Prediction data loaded for tile TZ0638295, year 2018-----------\n",
      "----------Prediction data loaded for tile CG0616934, year 2022-----------\n",
      "----------Prediction data loaded for tile ZM2488825, year 2021-----------\n",
      "----------Prediction data loaded for tile ZM2394394, year 2021-----------\n"
     ]
    },
    {
     "name": "stderr",
     "output_type": "stream",
     "text": [
      "Processing test tiles:  37%|█████▊          | 1382/3779 [00:18<00:24, 96.57it/s]"
     ]
    },
    {
     "name": "stdout",
     "output_type": "stream",
     "text": [
      "----------Prediction data loaded for tile ZM1578201, year 2021-----------\n",
      "----------Prediction data loaded for tile CG0945146, year 2022-----------\n",
      "----------Prediction data loaded for tile ZM2319007, year 2021-----------\n",
      "----------Prediction data loaded for tile ZM2310176, year 2021-----------\n",
      "----------Prediction data loaded for tile TZ0693127, year 2018-----------\n",
      "----------Prediction data loaded for tile TZ0857954, year 2018-----------\n",
      "----------Prediction data loaded for tile CG0009977, year 2022-----------\n",
      "----------Prediction data loaded for tile TZ0373467, year 2018-----------\n",
      "----------Prediction data loaded for tile TZ0641514, year 2018-----------\n",
      "----------Prediction data loaded for tile ZM1986959, year 2021-----------\n",
      "----------Prediction data loaded for tile TZ0913662, year 2018-----------\n",
      "----------Prediction data loaded for tile TZ0365176, year 2018-----------\n",
      "----------Prediction data loaded for tile TZ0505018, year 2018-----------\n",
      "----------Prediction data loaded for tile ZM2264538, year 2021-----------\n",
      "----------Prediction data loaded for tile ZM2361579, year 2021-----------\n",
      "----------Prediction data loaded for tile CG0014082, year 2022-----------\n",
      "----------Prediction data loaded for tile CG0125306, year 2022-----------\n",
      "----------Prediction data loaded for tile CG0069472, year 2019-----------\n",
      "----------Prediction data loaded for tile CG0944012, year 2022-----------\n",
      "----------Prediction data loaded for tile CG0053095, year 2022-----------\n",
      "----------Prediction data loaded for tile ZM0823003, year 2021-----------\n"
     ]
    },
    {
     "name": "stderr",
     "output_type": "stream",
     "text": [
      "Processing test tiles:  37%|█████▉          | 1404/3779 [00:18<00:24, 98.57it/s]"
     ]
    },
    {
     "name": "stdout",
     "output_type": "stream",
     "text": [
      "----------Prediction data loaded for tile ZM1078709, year 2021-----------\n",
      "----------Prediction data loaded for tile ZM1489126, year 2021-----------\n",
      "----------Prediction data loaded for tile ZM0253611, year 2021-----------\n",
      "----------Prediction data loaded for tile CG0510272, year 2019-----------\n",
      "----------Prediction data loaded for tile ZM2220204, year 2021-----------\n",
      "----------Prediction data loaded for tile ZM2211915, year 2021-----------\n",
      "----------Prediction data loaded for tile TZ0933266, year 2018-----------\n",
      "----------Prediction data loaded for tile TZ0685151, year 2018-----------\n",
      "----------Prediction data loaded for tile ZM2336168, year 2021-----------\n",
      "----------Prediction data loaded for tile ZM2169968, year 2021-----------\n",
      "----------Prediction data loaded for tile TZ0496595, year 2018-----------\n",
      "----------Prediction data loaded for tile TZ0366551, year 2018-----------\n",
      "----------Prediction data loaded for tile ZM0706544, year 2021-----------\n",
      "----------Prediction data loaded for tile CG0004503, year 2022-----------\n",
      "----------Prediction data loaded for tile ZM1712155, year 2021-----------\n",
      "----------Prediction data loaded for tile ZM1829067, year 2021-----------\n",
      "----------Prediction data loaded for tile CG0734702, year 2022-----------\n",
      "----------Prediction data loaded for tile ZM2011173, year 2021-----------\n",
      "----------Prediction data loaded for tile CG0430696, year 2022-----------\n",
      "----------Prediction data loaded for tile TZ0875094, year 2018-----------\n",
      "----------Prediction data loaded for tile ZM0033846, year 2021-----------\n"
     ]
    },
    {
     "name": "stderr",
     "output_type": "stream",
     "text": [
      "Processing test tiles:  38%|██████          | 1425/3779 [00:19<00:23, 98.96it/s]"
     ]
    },
    {
     "name": "stdout",
     "output_type": "stream",
     "text": [
      "----------Prediction data loaded for tile TZ0505017, year 2018-----------\n",
      "----------Prediction data loaded for tile ZM0618430, year 2021-----------\n",
      "----------Prediction data loaded for tile ZM1346434, year 2021-----------\n",
      "----------Prediction data loaded for tile CG0506339, year 2022-----------\n",
      "----------Prediction data loaded for tile ZM2304231, year 2021-----------\n",
      "----------Prediction data loaded for tile CG0010641, year 2022-----------\n",
      "----------Prediction data loaded for tile CG0773869, year 2022-----------\n",
      "----------Prediction data loaded for tile ZM2476416, year 2021-----------\n",
      "----------Prediction data loaded for tile CG0718612, year 2022-----------\n",
      "----------Prediction data loaded for tile CG0686030, year 2022-----------\n",
      "----------Prediction data loaded for tile CG0752905, year 2022-----------\n",
      "----------Prediction data loaded for tile ZM0302432, year 2021-----------\n",
      "----------Prediction data loaded for tile ZM0083040, year 2021-----------\n",
      "----------Prediction data loaded for tile ZM1236307, year 2021-----------\n",
      "----------Prediction data loaded for tile TZ0650552, year 2018-----------\n",
      "----------Prediction data loaded for tile ZM2359748, year 2021-----------\n",
      "----------Prediction data loaded for tile CG0192661, year 2022-----------\n",
      "----------Prediction data loaded for tile CG0908935, year 2022-----------\n",
      "----------Prediction data loaded for tile ZM2412661, year 2021-----------\n",
      "----------Prediction data loaded for tile ZM2491953, year 2021-----------\n",
      "----------Prediction data loaded for tile TZ0766499, year 2018-----------\n"
     ]
    },
    {
     "name": "stderr",
     "output_type": "stream",
     "text": [
      "Processing test tiles:  38%|██████          | 1446/3779 [00:19<00:23, 99.29it/s]"
     ]
    },
    {
     "name": "stdout",
     "output_type": "stream",
     "text": [
      "----------Prediction data loaded for tile ZM2033581, year 2021-----------\n",
      "----------Prediction data loaded for tile ZM0932456, year 2021-----------\n",
      "----------Prediction data loaded for tile TZ0198036, year 2018-----------\n",
      "----------Prediction data loaded for tile TZ0497995, year 2018-----------\n",
      "----------Prediction data loaded for tile TZ0800694, year 2018-----------\n",
      "----------Prediction data loaded for tile TZ0463492, year 2018-----------\n",
      "----------Prediction data loaded for tile CG0196382, year 2022-----------\n",
      "----------Prediction data loaded for tile ZM2311332, year 2021-----------\n",
      "----------Prediction data loaded for tile CG0279271, year 2019-----------\n",
      "----------Prediction data loaded for tile TZ0771591, year 2018-----------\n",
      "----------Prediction data loaded for tile TZ0807644, year 2018-----------\n",
      "----------Prediction data loaded for tile ZM2419389, year 2021-----------\n",
      "----------Prediction data loaded for tile CG0649891, year 2019-----------\n",
      "----------Prediction data loaded for tile TZ0806363, year 2018-----------\n",
      "----------Prediction data loaded for tile CG0091831, year 2019-----------\n",
      "----------Prediction data loaded for tile CG0735546, year 2022-----------\n",
      "----------Prediction data loaded for tile TZ0646111, year 2018-----------\n",
      "----------Prediction data loaded for tile CG0077015, year 2022-----------\n",
      "----------Prediction data loaded for tile TZ0603990, year 2018-----------\n",
      "----------Prediction data loaded for tile TZ0611415, year 2018-----------\n",
      "----------Prediction data loaded for tile CG0090311, year 2019-----------\n"
     ]
    },
    {
     "name": "stderr",
     "output_type": "stream",
     "text": [
      "Processing test tiles:  39%|██████▏         | 1467/3779 [00:19<00:23, 99.53it/s]"
     ]
    },
    {
     "name": "stdout",
     "output_type": "stream",
     "text": [
      "----------Prediction data loaded for tile CG0530649, year 2022-----------\n",
      "----------Prediction data loaded for tile TZ0692926, year 2018-----------\n",
      "----------Prediction data loaded for tile CG0037871, year 2022-----------\n",
      "----------Prediction data loaded for tile ZM1706637, year 2021-----------\n",
      "----------Prediction data loaded for tile CG0049030, year 2022-----------\n",
      "----------Prediction data loaded for tile ZM0540536, year 2021-----------\n",
      "----------Prediction data loaded for tile ZM1488538, year 2021-----------\n",
      "----------Prediction data loaded for tile CG0777391, year 2022-----------\n",
      "----------Prediction data loaded for tile TZ0799408, year 2018-----------\n",
      "----------Prediction data loaded for tile TZ0380419, year 2018-----------\n",
      "----------Prediction data loaded for tile BF0784867, year 2018-----------\n",
      "----------Prediction data loaded for tile ZM0186374, year 2021-----------\n",
      "----------Prediction data loaded for tile CG0759372, year 2022-----------\n",
      "----------Prediction data loaded for tile CG0436499, year 2022-----------\n",
      "----------Prediction data loaded for tile CG0169033, year 2022-----------\n",
      "----------Prediction data loaded for tile ZM2267070, year 2021-----------\n",
      "----------Prediction data loaded for tile ZM2275008, year 2021-----------\n",
      "----------Prediction data loaded for tile TZ0804637, year 2018-----------\n",
      "----------Prediction data loaded for tile CG0570216, year 2022-----------\n",
      "----------Prediction data loaded for tile ZM1622949, year 2021-----------\n",
      "----------Prediction data loaded for tile ZM2370828, year 2021-----------\n"
     ]
    },
    {
     "name": "stderr",
     "output_type": "stream",
     "text": [
      "Processing test tiles:  39%|██████▎         | 1488/3779 [00:19<00:22, 99.85it/s]"
     ]
    },
    {
     "name": "stdout",
     "output_type": "stream",
     "text": [
      "----------Prediction data loaded for tile CG0253230, year 2019-----------\n",
      "----------Prediction data loaded for tile ZM1719919, year 2021-----------\n",
      "----------Prediction data loaded for tile TZ0443147, year 2018-----------\n",
      "----------Prediction data loaded for tile TZ0633886, year 2018-----------\n",
      "----------Prediction data loaded for tile CG0342176, year 2022-----------\n",
      "----------Prediction data loaded for tile TZ0641353, year 2018-----------\n",
      "----------Prediction data loaded for tile ZM2288316, year 2021-----------\n",
      "----------Prediction data loaded for tile ZM2293344, year 2021-----------\n",
      "----------Prediction data loaded for tile ZM0708692, year 2021-----------\n",
      "----------Prediction data loaded for tile TZ0917639, year 2018-----------\n",
      "----------Prediction data loaded for tile TZ0919581, year 2018-----------\n",
      "----------Prediction data loaded for tile ZM0239807, year 2021-----------\n",
      "----------Prediction data loaded for tile TZ0667775, year 2018-----------\n",
      "----------Prediction data loaded for tile ZM0541560, year 2021-----------\n",
      "----------Prediction data loaded for tile ZM1309629, year 2021-----------\n",
      "----------Prediction data loaded for tile ZM0203728, year 2021-----------\n",
      "----------Prediction data loaded for tile ZM2145201, year 2021-----------\n",
      "----------Prediction data loaded for tile CG0331921, year 2022-----------\n",
      "----------Prediction data loaded for tile ZM0370649, year 2021-----------\n",
      "----------Prediction data loaded for tile CG0674619, year 2022-----------\n",
      "----------Prediction data loaded for tile TZ0680352, year 2018-----------\n"
     ]
    },
    {
     "name": "stderr",
     "output_type": "stream",
     "text": [
      "Processing test tiles:  40%|██████▍         | 1509/3779 [00:20<00:22, 99.93it/s]"
     ]
    },
    {
     "name": "stdout",
     "output_type": "stream",
     "text": [
      "----------Prediction data loaded for tile TZ0399961, year 2018-----------\n",
      "----------Prediction data loaded for tile CG0197413, year 2022-----------\n",
      "----------Prediction data loaded for tile CG1095349, year 2022-----------\n",
      "----------Prediction data loaded for tile TZ0627845, year 2018-----------\n",
      "----------Prediction data loaded for tile ZM2131550, year 2021-----------\n",
      "----------Prediction data loaded for tile CG0101059, year 2019-----------\n",
      "----------Prediction data loaded for tile TZ0702358, year 2018-----------\n",
      "----------Prediction data loaded for tile TZ0686740, year 2018-----------\n",
      "----------Prediction data loaded for tile ZM1841419, year 2021-----------\n",
      "----------Prediction data loaded for tile TZ0684976, year 2018-----------\n",
      "----------Prediction data loaded for tile TZ0195947, year 2018-----------\n",
      "----------Prediction data loaded for tile CG0753624, year 2022-----------\n",
      "----------Prediction data loaded for tile CG0527375, year 2022-----------\n",
      "----------Prediction data loaded for tile ZM0867916, year 2021-----------\n",
      "----------Prediction data loaded for tile TZ0233436, year 2018-----------\n",
      "----------Prediction data loaded for tile ZM1318274, year 2021-----------\n",
      "----------Prediction data loaded for tile CG0647947, year 2022-----------\n",
      "----------Prediction data loaded for tile TZ0797684, year 2018-----------\n",
      "----------Prediction data loaded for tile CG0757331, year 2022-----------\n",
      "----------Prediction data loaded for tile CG0196433, year 2022-----------\n",
      "----------Prediction data loaded for tile CG0623977, year 2022-----------\n"
     ]
    },
    {
     "name": "stderr",
     "output_type": "stream",
     "text": [
      "Processing test tiles:  40%|██████▍         | 1529/3779 [00:20<00:22, 99.73it/s]"
     ]
    },
    {
     "name": "stdout",
     "output_type": "stream",
     "text": [
      "----------Prediction data loaded for tile TZ0434904, year 2018-----------\n",
      "----------Prediction data loaded for tile ZM1716286, year 2021-----------\n",
      "----------Prediction data loaded for tile ZM0192064, year 2021-----------\n",
      "----------Prediction data loaded for tile CG0023565, year 2022-----------\n",
      "----------Prediction data loaded for tile TZ0189780, year 2018-----------\n",
      "----------Prediction data loaded for tile ZM2326909, year 2021-----------\n",
      "----------Prediction data loaded for tile ZM1717612, year 2021-----------\n",
      "----------Prediction data loaded for tile TZ0413734, year 2018-----------\n",
      "----------Prediction data loaded for tile ZM2349650, year 2021-----------\n",
      "----------Prediction data loaded for tile NGS000000052, year 2017-----------\n",
      "----------Prediction data loaded for tile CG0763936, year 2022-----------\n",
      "----------Prediction data loaded for tile CG0535612, year 2022-----------\n",
      "----------Prediction data loaded for tile CG0675513, year 2022-----------\n",
      "----------Prediction data loaded for tile TZ0684973, year 2018-----------\n",
      "----------Prediction data loaded for tile TZ0773232, year 2018-----------\n",
      "----------Prediction data loaded for tile ZM1159197, year 2021-----------\n",
      "----------Prediction data loaded for tile ZM2312630, year 2021-----------\n",
      "----------Prediction data loaded for tile ZM2423780, year 2021-----------\n",
      "----------Prediction data loaded for tile CG0026778, year 2022-----------\n",
      "----------Prediction data loaded for tile ZM0861772, year 2021-----------\n",
      "----------Prediction data loaded for tile ZM2305901, year 2021-----------\n"
     ]
    },
    {
     "name": "stderr",
     "output_type": "stream",
     "text": [
      "Processing test tiles:  41%|██████▌         | 1549/3779 [00:20<00:22, 99.53it/s]"
     ]
    },
    {
     "name": "stdout",
     "output_type": "stream",
     "text": [
      "----------Prediction data loaded for tile TZ0238971, year 2018-----------\n",
      "----------Prediction data loaded for tile ZM1164925, year 2021-----------\n",
      "----------Prediction data loaded for tile TZ0195945, year 2018-----------\n",
      "----------Prediction data loaded for tile ZM2438023, year 2021-----------\n",
      "----------Prediction data loaded for tile ZM2512041, year 2021-----------\n",
      "----------Prediction data loaded for tile TZ0193946, year 2018-----------\n",
      "----------Prediction data loaded for tile ZM1023336, year 2021-----------\n",
      "----------Prediction data loaded for tile TZ0664649, year 2018-----------\n",
      "----------Prediction data loaded for tile ZM2355411, year 2021-----------\n",
      "----------Prediction data loaded for tile ZM2295370, year 2021-----------\n",
      "----------Prediction data loaded for tile TZ0444515, year 2018-----------\n",
      "----------Prediction data loaded for tile TZ0650551, year 2018-----------\n",
      "----------Prediction data loaded for tile TZ0419811, year 2018-----------\n",
      "----------Prediction data loaded for tile TZ0428019, year 2018-----------\n",
      "----------Prediction data loaded for tile ZM2512667, year 2021-----------\n",
      "----------Prediction data loaded for tile CG0785628, year 2022-----------\n",
      "----------Prediction data loaded for tile ZM0051978, year 2021-----------\n",
      "----------Prediction data loaded for tile CG0617893, year 2022-----------\n",
      "----------Prediction data loaded for tile ZM2347321, year 2021-----------\n",
      "----------Prediction data loaded for tile TZ0708787, year 2018-----------\n",
      "----------Prediction data loaded for tile ZM1076233, year 2021-----------\n"
     ]
    },
    {
     "name": "stderr",
     "output_type": "stream",
     "text": [
      "Processing test tiles:  42%|██████▋         | 1569/3779 [00:20<00:22, 99.58it/s]"
     ]
    },
    {
     "name": "stdout",
     "output_type": "stream",
     "text": [
      "----------Prediction data loaded for tile ZM1583127, year 2021-----------\n",
      "----------Prediction data loaded for tile TZ0413735, year 2018-----------\n",
      "----------Prediction data loaded for tile CG0785625, year 2022-----------\n",
      "----------Prediction data loaded for tile CG0585399, year 2022-----------\n",
      "----------Prediction data loaded for tile CG0036184, year 2022-----------\n",
      "----------Prediction data loaded for tile CG0747296, year 2022-----------\n",
      "----------Prediction data loaded for tile CG0194430, year 2022-----------\n",
      "----------Prediction data loaded for tile CG0208371, year 2022-----------\n",
      "----------Prediction data loaded for tile ZM0196756, year 2021-----------\n",
      "----------Prediction data loaded for tile CG0743803, year 2022-----------\n",
      "----------Prediction data loaded for tile TZ0909824, year 2018-----------\n",
      "----------Prediction data loaded for tile TZ0603991, year 2018-----------\n",
      "----------Prediction data loaded for tile ZM0322087, year 2021-----------\n",
      "----------Prediction data loaded for tile ZM2403302, year 2021-----------\n",
      "----------Prediction data loaded for tile CG0450565, year 2022-----------\n",
      "----------Prediction data loaded for tile ZM2412439, year 2021-----------\n",
      "----------Prediction data loaded for tile TZ0402723, year 2018-----------\n",
      "----------Prediction data loaded for tile ZM1634599, year 2021-----------\n",
      "----------Prediction data loaded for tile CG0724561, year 2022-----------\n",
      "----------Prediction data loaded for tile TZ0845060, year 2018-----------\n",
      "----------Prediction data loaded for tile TZ0653638, year 2018-----------\n"
     ]
    },
    {
     "name": "stderr",
     "output_type": "stream",
     "text": [
      "Processing test tiles:  42%|██████▋         | 1589/3779 [00:20<00:21, 99.70it/s]"
     ]
    },
    {
     "name": "stdout",
     "output_type": "stream",
     "text": [
      "----------Prediction data loaded for tile ZM2417497, year 2021-----------\n",
      "----------Prediction data loaded for tile TZ0639825, year 2018-----------\n",
      "----------Prediction data loaded for tile ZM1921657, year 2021-----------\n",
      "----------Prediction data loaded for tile CG0772982, year 2022-----------\n",
      "----------Prediction data loaded for tile ZM1975354, year 2021-----------\n",
      "----------Prediction data loaded for tile ZM1634645, year 2021-----------\n",
      "----------Prediction data loaded for tile CG0221165, year 2022-----------\n",
      "----------Prediction data loaded for tile TZ0852325, year 2018-----------\n",
      "----------Prediction data loaded for tile CG0100291, year 2019-----------\n",
      "----------Prediction data loaded for tile TZ0649184, year 2018-----------\n",
      "----------Prediction data loaded for tile TZ0495197, year 2018-----------\n",
      "----------Prediction data loaded for tile TZ0199057, year 2018-----------\n",
      "----------Prediction data loaded for tile CG0165355, year 2022-----------\n",
      "----------Prediction data loaded for tile ZM2498682, year 2021-----------\n",
      "----------Prediction data loaded for tile ZM0402937, year 2021-----------\n",
      "----------Prediction data loaded for tile TZ0412378, year 2018-----------\n",
      "----------Prediction data loaded for tile ZM2096868, year 2021-----------\n"
     ]
    },
    {
     "name": "stderr",
     "output_type": "stream",
     "text": [
      "Processing test tiles:  43%|██████▊         | 1608/3779 [00:21<00:25, 84.33it/s]"
     ]
    },
    {
     "name": "stdout",
     "output_type": "stream",
     "text": [
      "----------Prediction data loaded for tile ZM1935028, year 2021-----------\n",
      "----------Prediction data loaded for tile TZ0937185, year 2018-----------\n",
      "----------Prediction data loaded for tile ZM1933346, year 2021-----------\n",
      "----------Prediction data loaded for tile CG0446772, year 2022-----------\n",
      "----------Prediction data loaded for tile CG0666865, year 2022-----------\n",
      "----------Prediction data loaded for tile TZ0838291, year 2018-----------\n",
      "----------Prediction data loaded for tile CG0685506, year 2022-----------\n",
      "----------Prediction data loaded for tile TZ0689922, year 2018-----------\n",
      "----------Prediction data loaded for tile ZM1702968, year 2021-----------\n",
      "----------Prediction data loaded for tile CG0684969, year 2022-----------\n",
      "----------Prediction data loaded for tile TZ0693105, year 2018-----------\n",
      "----------Prediction data loaded for tile ZM2304141, year 2021-----------\n",
      "----------Prediction data loaded for tile ZM1858604, year 2021-----------\n",
      "----------Prediction data loaded for tile NG1355729, year 2017-----------\n",
      "----------Prediction data loaded for tile CD4445656, year 2017-----------\n",
      "----------Prediction data loaded for tile SD4730843, year 2023-----------\n",
      "----------Prediction data loaded for tile SD4806742, year 2023-----------\n"
     ]
    },
    {
     "name": "stderr",
     "output_type": "stream",
     "text": [
      "Processing test tiles:  43%|██████▊         | 1617/3779 [00:21<00:26, 80.38it/s]"
     ]
    },
    {
     "name": "stdout",
     "output_type": "stream",
     "text": [
      "----------Prediction data loaded for tile ML4032092, year 2023-----------\n",
      "----------Prediction data loaded for tile CM0312999, year 2019-----------\n",
      "----------Prediction data loaded for tile NG2790126, year 2017-----------\n",
      "----------Prediction data loaded for tile NG0056377, year 2022-----------\n",
      "----------Prediction data loaded for tile SN0616367, year 2018-----------\n",
      "----------Prediction data loaded for tile NG1938701, year 2019-----------\n",
      "----------Prediction data loaded for tile TG0106949, year 2021-----------\n",
      "----------Prediction data loaded for tile UG0040286, year 2023-----------\n",
      "----------Prediction data loaded for tile TZ1504098, year 2023-----------\n",
      "----------Prediction data loaded for tile NE3937083, year 2023-----------\n",
      "----------Prediction data loaded for tile ET0425098, year 2022-----------\n",
      "----------Prediction data loaded for tile BF0362314, year 2020-----------\n",
      "----------Prediction data loaded for tile ZA1039426, year 2018-----------\n",
      "----------Prediction data loaded for tile SD4200622, year 2019-----------\n",
      "----------Prediction data loaded for tile NG0271165, year 2021-----------\n"
     ]
    },
    {
     "name": "stderr",
     "output_type": "stream",
     "text": [
      "Processing test tiles:  43%|██████▉         | 1634/3779 [00:21<00:28, 76.09it/s]"
     ]
    },
    {
     "name": "stdout",
     "output_type": "stream",
     "text": [
      "----------Prediction data loaded for tile NG1221271, year 2018-----------\n",
      "----------Prediction data loaded for tile TZ1819782, year 2023-----------\n",
      "----------Prediction data loaded for tile MW0237622, year 2022-----------\n",
      "----------Prediction data loaded for tile ML3779217, year 2023-----------\n",
      "----------Prediction data loaded for tile ET3094967, year 2021-----------\n",
      "----------Prediction data loaded for tile KE1551303, year 2017-----------\n",
      "----------Prediction data loaded for tile SD5485862, year 2020-----------\n",
      "----------Prediction data loaded for tile SN0132248, year 2019-----------\n",
      "----------Prediction data loaded for tile ZM1398904, year 2019-----------\n",
      "----------Prediction data loaded for tile ZW0463656, year 2019-----------\n",
      "----------Prediction data loaded for tile KE1312669, year 2017-----------\n",
      "----------Prediction data loaded for tile NG1281132, year 2020-----------\n",
      "----------Prediction data loaded for tile ZW0272081, year 2019-----------\n",
      "----------Prediction data loaded for tile ZW0529883, year 2017-----------\n",
      "----------Prediction data loaded for tile ET2589220, year 2021-----------\n"
     ]
    },
    {
     "name": "stderr",
     "output_type": "stream",
     "text": [
      "Processing test tiles:  44%|██████▉         | 1650/3779 [00:21<00:30, 69.44it/s]"
     ]
    },
    {
     "name": "stdout",
     "output_type": "stream",
     "text": [
      "----------Prediction data loaded for tile NG0438685, year 2018-----------\n",
      "----------Prediction data loaded for tile NG0457216, year 2023-----------\n",
      "----------Prediction data loaded for tile ZA0829031, year 2017-----------\n",
      "----------Prediction data loaded for tile SD4983964, year 2021-----------\n",
      "----------Prediction data loaded for tile ZA1260184, year 2018-----------\n",
      "----------Prediction data loaded for tile TZ0744177, year 2019-----------\n",
      "----------Prediction data loaded for tile ZM2206781, year 2017-----------\n",
      "----------Prediction data loaded for tile BF0608099, year 2022-----------\n",
      "----------Prediction data loaded for tile BF0836958, year 2019-----------\n",
      "----------Prediction data loaded for tile ML3832710, year 2019-----------\n",
      "----------Prediction data loaded for tile CD6030290, year 2021-----------\n",
      "----------Prediction data loaded for tile ML3854004, year 2020-----------\n"
     ]
    },
    {
     "name": "stderr",
     "output_type": "stream",
     "text": [
      "Processing test tiles:  44%|███████         | 1666/3779 [00:21<00:31, 67.80it/s]"
     ]
    },
    {
     "name": "stdout",
     "output_type": "stream",
     "text": [
      "----------Prediction data loaded for tile ET2374477, year 2020-----------\n",
      "----------Prediction data loaded for tile ZA2431001, year 2019-----------\n",
      "----------Prediction data loaded for tile SZ0054370, year 2017-----------\n",
      "----------Prediction data loaded for tile ET0818874, year 2020-----------\n",
      "----------Prediction data loaded for tile ZA0085149, year 2018-----------\n",
      "----------Prediction data loaded for tile CI0087035, year 2020-----------\n",
      "----------Prediction data loaded for tile TZ0778038, year 2020-----------\n",
      "----------Prediction data loaded for tile TZ0759430, year 2021-----------\n",
      "----------Prediction data loaded for tile SD5610664, year 2021-----------\n",
      "----------Prediction data loaded for tile AO2281148, year 2020-----------\n",
      "----------Prediction data loaded for tile SN0472825, year 2022-----------\n",
      "----------Prediction data loaded for tile NE3964248, year 2020-----------\n",
      "----------Prediction data loaded for tile NG0764897, year 2020-----------\n",
      "----------Prediction data loaded for tile NG0532671, year 2022-----------\n",
      "----------Prediction data loaded for tile SD5285747, year 2019-----------\n"
     ]
    },
    {
     "name": "stderr",
     "output_type": "stream",
     "text": [
      "Processing test tiles:  44%|███████         | 1674/3779 [00:22<00:30, 69.07it/s]"
     ]
    },
    {
     "name": "stdout",
     "output_type": "stream",
     "text": [
      "----------Prediction data loaded for tile CD4742000, year 2020-----------\n",
      "----------Prediction data loaded for tile ZM2244708, year 2020-----------\n",
      "----------Prediction data loaded for tile NG1313302, year 2018-----------\n",
      "----------Prediction data loaded for tile NG1903963, year 2018-----------\n",
      "----------Prediction data loaded for tile CD0756147, year 2021-----------\n",
      "----------Prediction data loaded for tile MZ0436048, year 2020-----------\n",
      "----------Prediction data loaded for tile ZM1363050, year 2018-----------\n",
      "----------Prediction data loaded for tile SD4203281, year 2017-----------\n",
      "----------Prediction data loaded for tile TZ0581119, year 2020-----------\n",
      "----------Prediction data loaded for tile TZ2498382, year 2020-----------\n",
      "----------Prediction data loaded for tile TZ0122705, year 2018-----------\n",
      "----------Prediction data loaded for tile CI0318636, year 2019-----------\n",
      "----------Prediction data loaded for tile SD5211997, year 2020-----------\n",
      "----------Prediction data loaded for tile NG0274764, year 2022-----------\n",
      "----------Prediction data loaded for tile TZ0747734, year 2020-----------\n"
     ]
    },
    {
     "name": "stderr",
     "output_type": "stream",
     "text": [
      "Processing test tiles:  45%|███████▏        | 1690/3779 [00:22<00:29, 70.61it/s]"
     ]
    },
    {
     "name": "stdout",
     "output_type": "stream",
     "text": [
      "----------Prediction data loaded for tile ZA1083242, year 2022-----------\n",
      "----------Prediction data loaded for tile CI0509246, year 2022-----------\n",
      "----------Prediction data loaded for tile NE4007108, year 2023-----------\n",
      "----------Prediction data loaded for tile BF0827990, year 2018-----------\n",
      "----------Prediction data loaded for tile TZ2340826, year 2022-----------\n",
      "----------Prediction data loaded for tile KE1267818, year 2019-----------\n",
      "----------Prediction data loaded for tile ML4036999, year 2019-----------\n",
      "----------Prediction data loaded for tile ZA1025406, year 2018-----------\n",
      "----------Prediction data loaded for tile ET2458846, year 2021-----------\n",
      "----------Prediction data loaded for tile NG0400149, year 2021-----------\n",
      "----------Prediction data loaded for tile TZ2077120, year 2020-----------\n",
      "----------Prediction data loaded for tile ET0926395, year 2021-----------\n",
      "----------Prediction data loaded for tile NG2125503, year 2018-----------\n",
      "----------Prediction data loaded for tile ML4031539, year 2017-----------\n",
      "----------Prediction data loaded for tile NE3951221, year 2020-----------\n"
     ]
    },
    {
     "name": "stderr",
     "output_type": "stream",
     "text": [
      "Processing test tiles:  45%|███████▏        | 1706/3779 [00:22<00:29, 71.29it/s]"
     ]
    },
    {
     "name": "stdout",
     "output_type": "stream",
     "text": [
      "----------Prediction data loaded for tile TZ0859606, year 2021-----------\n",
      "----------Prediction data loaded for tile UG0263037, year 2021-----------\n",
      "----------Prediction data loaded for tile GM0024736, year 2021-----------\n",
      "----------Prediction data loaded for tile MW0257021, year 2018-----------\n",
      "----------Prediction data loaded for tile ZW0570312, year 2018-----------\n",
      "----------Prediction data loaded for tile BF0424102, year 2018-----------\n",
      "----------Prediction data loaded for tile AO3970577, year 2018-----------\n",
      "----------Prediction data loaded for tile BJ0125878, year 2022-----------\n",
      "----------Prediction data loaded for tile ET2614250, year 2020-----------\n",
      "----------Prediction data loaded for tile ML3168987, year 2020-----------\n",
      "----------Prediction data loaded for tile TZ0260345, year 2017-----------\n",
      "----------Prediction data loaded for tile ML3621931, year 2023-----------\n",
      "----------Prediction data loaded for tile SD5969164, year 2022-----------\n",
      "----------Prediction data loaded for tile TG0165063, year 2023-----------\n",
      "----------Prediction data loaded for tile NG1225866, year 2019-----------\n"
     ]
    },
    {
     "name": "stderr",
     "output_type": "stream",
     "text": [
      "Processing test tiles:  46%|███████▎        | 1722/3779 [00:22<00:28, 71.54it/s]"
     ]
    },
    {
     "name": "stdout",
     "output_type": "stream",
     "text": [
      "----------Prediction data loaded for tile BJ0151061, year 2019-----------\n",
      "----------Prediction data loaded for tile NG0292006, year 2022-----------\n",
      "----------Prediction data loaded for tile ET2195749, year 2022-----------\n",
      "----------Prediction data loaded for tile TG0107784, year 2021-----------\n",
      "----------Prediction data loaded for tile BJ0366105, year 2021-----------\n",
      "----------Prediction data loaded for tile SD5723557, year 2018-----------\n",
      "----------Prediction data loaded for tile ZW0269503, year 2019-----------\n",
      "----------Prediction data loaded for tile BJ0098208, year 2020-----------\n",
      "----------Prediction data loaded for tile NG1216943, year 2023-----------\n",
      "----------Prediction data loaded for tile KE1562934, year 2017-----------\n",
      "----------Prediction data loaded for tile SD5597284, year 2022-----------\n",
      "----------Prediction data loaded for tile GN0297374, year 2021-----------\n",
      "----------Prediction data loaded for tile SD5236011, year 2018-----------\n",
      "----------Prediction data loaded for tile RW0000819, year 2017-----------\n",
      "----------Prediction data loaded for tile NG0876605, year 2021-----------\n"
     ]
    },
    {
     "name": "stderr",
     "output_type": "stream",
     "text": [
      "Processing test tiles:  46%|███████▎        | 1738/3779 [00:22<00:28, 71.93it/s]"
     ]
    },
    {
     "name": "stdout",
     "output_type": "stream",
     "text": [
      "----------Prediction data loaded for tile ZM1525127, year 2018-----------\n",
      "----------Prediction data loaded for tile ET1473110, year 2019-----------\n",
      "----------Prediction data loaded for tile UG0374333, year 2018-----------\n",
      "----------Prediction data loaded for tile ZW0288048, year 2022-----------\n",
      "----------Prediction data loaded for tile NG1178927, year 2023-----------\n",
      "----------Prediction data loaded for tile KE1391105, year 2019-----------\n",
      "----------Prediction data loaded for tile MZ2034271, year 2023-----------\n",
      "----------Prediction data loaded for tile NE3085284, year 2019-----------\n",
      "----------Prediction data loaded for tile SD4663466, year 2019-----------\n",
      "----------Prediction data loaded for tile ET1489816, year 2017-----------\n",
      "----------Prediction data loaded for tile TZ1860386, year 2020-----------\n",
      "----------Prediction data loaded for tile BJ0039536, year 2020-----------\n",
      "----------Prediction data loaded for tile TZ2125001, year 2017-----------\n",
      "----------Prediction data loaded for tile MZ0619345, year 2019-----------\n",
      "----------Prediction data loaded for tile ZM1637005, year 2022-----------\n"
     ]
    },
    {
     "name": "stderr",
     "output_type": "stream",
     "text": [
      "Processing test tiles:  46%|███████▍        | 1754/3779 [00:23<00:28, 72.01it/s]"
     ]
    },
    {
     "name": "stdout",
     "output_type": "stream",
     "text": [
      "----------Prediction data loaded for tile ET1933963, year 2017-----------\n",
      "----------Prediction data loaded for tile ET0175856, year 2018-----------\n",
      "----------Prediction data loaded for tile ZW0213244, year 2022-----------\n",
      "----------Prediction data loaded for tile ET1080368, year 2021-----------\n",
      "----------Prediction data loaded for tile TD4091530, year 2017-----------\n",
      "----------Prediction data loaded for tile CD1205979, year 2021-----------\n",
      "----------Prediction data loaded for tile CI0533038, year 2022-----------\n",
      "----------Prediction data loaded for tile SD5990304, year 2020-----------\n",
      "----------Prediction data loaded for tile BJ0320703, year 2018-----------\n",
      "----------Prediction data loaded for tile ML4016135, year 2020-----------\n",
      "----------Prediction data loaded for tile NG1598606, year 2022-----------\n",
      "----------Prediction data loaded for tile NG1388643, year 2017-----------\n",
      "----------Prediction data loaded for tile ZW0479551, year 2019-----------\n",
      "----------Prediction data loaded for tile NG2005401, year 2021-----------\n",
      "----------Prediction data loaded for tile TZ0517010, year 2023-----------\n"
     ]
    },
    {
     "name": "stderr",
     "output_type": "stream",
     "text": [
      "Processing test tiles:  47%|███████▍        | 1770/3779 [00:23<00:27, 72.04it/s]"
     ]
    },
    {
     "name": "stdout",
     "output_type": "stream",
     "text": [
      "----------Prediction data loaded for tile SD4360444, year 2019-----------\n",
      "----------Prediction data loaded for tile NG1616698, year 2020-----------\n",
      "----------Prediction data loaded for tile TZ0037851, year 2019-----------\n",
      "----------Prediction data loaded for tile CD4645211, year 2023-----------\n",
      "----------Prediction data loaded for tile ML3780513, year 2021-----------\n",
      "----------Prediction data loaded for tile NE3180785, year 2023-----------\n",
      "----------Prediction data loaded for tile MW0305226, year 2022-----------\n",
      "----------Prediction data loaded for tile SN0317694, year 2021-----------\n",
      "----------Prediction data loaded for tile RW0008466, year 2020-----------\n",
      "----------Prediction data loaded for tile ZW0449932, year 2023-----------\n",
      "----------Prediction data loaded for tile TD3573615, year 2019-----------\n",
      "----------Prediction data loaded for tile TZ0451932, year 2023-----------\n",
      "----------Prediction data loaded for tile UG0512453, year 2022-----------\n",
      "----------Prediction data loaded for tile NG0973002, year 2019-----------\n",
      "----------Prediction data loaded for tile SN0017944, year 2018-----------\n"
     ]
    },
    {
     "name": "stderr",
     "output_type": "stream",
     "text": [
      "Processing test tiles:  47%|███████▌        | 1786/3779 [00:23<00:27, 72.00it/s]"
     ]
    },
    {
     "name": "stdout",
     "output_type": "stream",
     "text": [
      "----------Prediction data loaded for tile SD4435384, year 2018-----------\n",
      "----------Prediction data loaded for tile NE3665420, year 2021-----------\n",
      "----------Prediction data loaded for tile SD4347229, year 2019-----------\n",
      "----------Prediction data loaded for tile NG1516531, year 2023-----------\n",
      "----------Prediction data loaded for tile KE1449945, year 2018-----------\n",
      "----------Prediction data loaded for tile NG0392509, year 2019-----------\n",
      "----------Prediction data loaded for tile MW0083413, year 2020-----------\n",
      "----------Prediction data loaded for tile NG2269125, year 2017-----------\n",
      "----------Prediction data loaded for tile NG0394447, year 2021-----------\n",
      "----------Prediction data loaded for tile SD5379402, year 2017-----------\n",
      "----------Prediction data loaded for tile TD4258536, year 2020-----------\n",
      "----------Prediction data loaded for tile SD6008429, year 2018-----------\n",
      "----------Prediction data loaded for tile CI0098577, year 2021-----------\n",
      "----------Prediction data loaded for tile CD3894712, year 2023-----------\n",
      "----------Prediction data loaded for tile ET0905930, year 2022-----------\n"
     ]
    },
    {
     "name": "stderr",
     "output_type": "stream",
     "text": [
      "Processing test tiles:  47%|███████▌        | 1794/3779 [00:23<00:27, 72.02it/s]"
     ]
    },
    {
     "name": "stdout",
     "output_type": "stream",
     "text": [
      "----------Prediction data loaded for tile ET0831384, year 2022-----------\n",
      "----------Prediction data loaded for tile AO2973630, year 2019-----------\n",
      "----------Prediction data loaded for tile MZ0619029, year 2022-----------\n",
      "----------Prediction data loaded for tile TZ1039667, year 2021-----------\n",
      "----------Prediction data loaded for tile NG1306186, year 2018-----------\n",
      "----------Prediction data loaded for tile ML3239753, year 2019-----------\n",
      "----------Prediction data loaded for tile NG1687452, year 2020-----------\n",
      "----------Prediction data loaded for tile TZ0480951, year 2018-----------\n",
      "----------Prediction data loaded for tile SD5061506, year 2018-----------\n",
      "----------Prediction data loaded for tile UG0493532, year 2018-----------\n",
      "----------Prediction data loaded for tile AO2834009, year 2019-----------\n",
      "----------Prediction data loaded for tile SD3830973, year 2017-----------\n",
      "----------Prediction data loaded for tile ZM1380433, year 2023-----------\n",
      "----------Prediction data loaded for tile NG0098818, year 2018-----------\n",
      "----------Prediction data loaded for tile NG2098282, year 2021-----------\n"
     ]
    },
    {
     "name": "stderr",
     "output_type": "stream",
     "text": [
      "Processing test tiles:  48%|███████▋        | 1810/3779 [00:23<00:27, 72.20it/s]"
     ]
    },
    {
     "name": "stdout",
     "output_type": "stream",
     "text": [
      "----------Prediction data loaded for tile ET2920721, year 2019-----------\n",
      "----------Prediction data loaded for tile ET1898520, year 2023-----------\n",
      "----------Prediction data loaded for tile KE0958324, year 2023-----------\n",
      "----------Prediction data loaded for tile UG0775908, year 2020-----------\n",
      "----------Prediction data loaded for tile ZW0243751, year 2020-----------\n",
      "----------Prediction data loaded for tile NG2142597, year 2020-----------\n",
      "----------Prediction data loaded for tile ET1357418, year 2020-----------\n",
      "----------Prediction data loaded for tile TD3259721, year 2021-----------\n",
      "----------Prediction data loaded for tile ZW0440201, year 2018-----------\n",
      "----------Prediction data loaded for tile UG0356785, year 2018-----------\n",
      "----------Prediction data loaded for tile TZ0376311, year 2023-----------\n",
      "----------Prediction data loaded for tile SD4194310, year 2017-----------\n",
      "----------Prediction data loaded for tile ZW0894731, year 2022-----------\n",
      "----------Prediction data loaded for tile SD4733385, year 2021-----------\n",
      "----------Prediction data loaded for tile NG1074976, year 2021-----------\n"
     ]
    },
    {
     "name": "stderr",
     "output_type": "stream",
     "text": [
      "Processing test tiles:  48%|███████▋        | 1826/3779 [00:24<00:27, 72.14it/s]"
     ]
    },
    {
     "name": "stdout",
     "output_type": "stream",
     "text": [
      "----------Prediction data loaded for tile TZ0097533, year 2017-----------\n",
      "----------Prediction data loaded for tile RW0043949, year 2022-----------\n",
      "----------Prediction data loaded for tile UG0406973, year 2017-----------\n",
      "----------Prediction data loaded for tile SN0105065, year 2020-----------\n",
      "----------Prediction data loaded for tile NE3383253, year 2022-----------\n",
      "----------Prediction data loaded for tile CM0306241, year 2017-----------\n",
      "----------Prediction data loaded for tile ER0233227, year 2019-----------\n",
      "----------Prediction data loaded for tile KE0875593, year 2021-----------\n",
      "----------Prediction data loaded for tile NG2470146, year 2018-----------\n",
      "----------Prediction data loaded for tile TZ2989394, year 2019-----------\n",
      "----------Prediction data loaded for tile ZA1929673, year 2018-----------\n",
      "----------Prediction data loaded for tile ET0876468, year 2022-----------\n",
      "----------Prediction data loaded for tile ZA1724257, year 2019-----------\n",
      "----------Prediction data loaded for tile ZM1522783, year 2020-----------\n",
      "----------Prediction data loaded for tile NG2052337, year 2020-----------\n"
     ]
    },
    {
     "name": "stderr",
     "output_type": "stream",
     "text": [
      "Processing test tiles:  49%|███████▊        | 1842/3779 [00:24<00:26, 71.86it/s]"
     ]
    },
    {
     "name": "stdout",
     "output_type": "stream",
     "text": [
      "----------Prediction data loaded for tile BF0617781, year 2019-----------\n",
      "----------Prediction data loaded for tile TZ0334014, year 2019-----------\n",
      "----------Prediction data loaded for tile AO3092887, year 2022-----------\n",
      "----------Prediction data loaded for tile BJ0176207, year 2018-----------\n",
      "----------Prediction data loaded for tile KE0932223, year 2020-----------\n",
      "----------Prediction data loaded for tile TZ1841780, year 2017-----------\n",
      "----------Prediction data loaded for tile ZA0175814, year 2021-----------\n",
      "----------Prediction data loaded for tile TD4219292, year 2021-----------\n",
      "----------Prediction data loaded for tile ML3916825, year 2023-----------\n",
      "----------Prediction data loaded for tile NG1611666, year 2021-----------\n",
      "----------Prediction data loaded for tile SD4289641, year 2023-----------\n",
      "----------Prediction data loaded for tile MZ1161426, year 2023-----------\n",
      "----------Prediction data loaded for tile NE3741379, year 2019-----------\n",
      "----------Prediction data loaded for tile NE3807756, year 2023-----------\n",
      "----------Prediction data loaded for tile ET1572412, year 2020-----------\n"
     ]
    },
    {
     "name": "stderr",
     "output_type": "stream",
     "text": [
      "Processing test tiles:  49%|███████▊        | 1858/3779 [00:24<00:26, 71.93it/s]"
     ]
    },
    {
     "name": "stdout",
     "output_type": "stream",
     "text": [
      "----------Prediction data loaded for tile NG2274562, year 2022-----------\n",
      "----------Prediction data loaded for tile TD4260037, year 2017-----------\n",
      "----------Prediction data loaded for tile SD3636587, year 2021-----------\n",
      "----------Prediction data loaded for tile BF0472862, year 2021-----------\n",
      "----------Prediction data loaded for tile ZA2342548, year 2019-----------\n",
      "----------Prediction data loaded for tile SD4199401, year 2019-----------\n",
      "----------Prediction data loaded for tile NG0240578, year 2022-----------\n",
      "----------Prediction data loaded for tile SN0509899, year 2020-----------\n",
      "----------Prediction data loaded for tile NG0263653, year 2017-----------\n",
      "----------Prediction data loaded for tile NG0246608, year 2019-----------\n",
      "----------Prediction data loaded for tile NE3969956, year 2020-----------\n",
      "----------Prediction data loaded for tile KE1263384, year 2018-----------\n",
      "----------Prediction data loaded for tile MZ1895526, year 2019-----------\n",
      "----------Prediction data loaded for tile BF0704564, year 2023-----------\n",
      "----------Prediction data loaded for tile NE3922897, year 2017-----------\n"
     ]
    },
    {
     "name": "stderr",
     "output_type": "stream",
     "text": [
      "Processing test tiles:  50%|███████▉        | 1874/3779 [00:24<00:26, 72.10it/s]"
     ]
    },
    {
     "name": "stdout",
     "output_type": "stream",
     "text": [
      "----------Prediction data loaded for tile SO1725888, year 2021-----------\n",
      "----------Prediction data loaded for tile SO1807142, year 2023-----------\n",
      "----------Prediction data loaded for tile NG1730290, year 2020-----------\n",
      "----------Prediction data loaded for tile SD4586835, year 2022-----------\n",
      "----------Prediction data loaded for tile NG2007930, year 2022-----------\n",
      "----------Prediction data loaded for tile ZA0252473, year 2017-----------\n",
      "----------Prediction data loaded for tile TZ0792150, year 2023-----------\n",
      "----------Prediction data loaded for tile ZW0355189, year 2022-----------\n",
      "----------Prediction data loaded for tile ZA2026675, year 2017-----------\n",
      "----------Prediction data loaded for tile ZW0403928, year 2020-----------\n",
      "----------Prediction data loaded for tile ET2500055, year 2023-----------\n",
      "----------Prediction data loaded for tile ML3744257, year 2017-----------\n",
      "----------Prediction data loaded for tile ET0730490, year 2023-----------\n",
      "----------Prediction data loaded for tile ET1761847, year 2017-----------\n",
      "----------Prediction data loaded for tile SD3869760, year 2021-----------\n"
     ]
    },
    {
     "name": "stderr",
     "output_type": "stream",
     "text": [
      "Processing test tiles:  50%|████████        | 1890/3779 [00:25<00:26, 71.57it/s]"
     ]
    },
    {
     "name": "stdout",
     "output_type": "stream",
     "text": [
      "----------Prediction data loaded for tile ZA0901037, year 2022-----------\n",
      "----------Prediction data loaded for tile TZ1208254, year 2017-----------\n",
      "----------Prediction data loaded for tile SD4773146, year 2022-----------\n",
      "----------Prediction data loaded for tile CM0122607, year 2020-----------\n",
      "----------Prediction data loaded for tile ET0067697, year 2018-----------\n",
      "----------Prediction data loaded for tile NE3120520, year 2020-----------\n",
      "----------Prediction data loaded for tile ET2516132, year 2018-----------\n",
      "----------Prediction data loaded for tile TZ1677031, year 2019-----------\n",
      "----------Prediction data loaded for tile NG1674587, year 2023-----------\n",
      "----------Prediction data loaded for tile NG1329586, year 2023-----------\n",
      "----------Prediction data loaded for tile BJ0341139, year 2020-----------\n",
      "----------Prediction data loaded for tile ZA1003955, year 2019-----------\n",
      "----------Prediction data loaded for tile NG1174218, year 2020-----------\n",
      "----------Prediction data loaded for tile SN0165906, year 2018-----------\n",
      "----------Prediction data loaded for tile NG0625272, year 2019-----------\n",
      "----------Prediction data loaded for tile SD5392099, year 2023-----------\n",
      "----------Prediction data loaded for tile NG0881238, year 2019-----------\n",
      "----------Prediction data loaded for tile UG0325601, year 2019-----------\n",
      "----------Prediction data loaded for tile CD4544048, year 2019-----------\n",
      "----------Prediction data loaded for tile BJ0309761, year 2022-----------\n",
      "----------Prediction data loaded for tile MZ0704817, year 2018-----------\n"
     ]
    },
    {
     "name": "stderr",
     "output_type": "stream",
     "text": [
      "Processing test tiles:  50%|████████        | 1898/3779 [00:25<00:32, 57.41it/s]"
     ]
    },
    {
     "name": "stdout",
     "output_type": "stream",
     "text": [
      "----------Prediction data loaded for tile AO2121229, year 2017-----------\n",
      "----------Prediction data loaded for tile AO1867584, year 2022-----------\n",
      "----------Prediction data loaded for tile ZM1807355, year 2018-----------\n"
     ]
    },
    {
     "name": "stderr",
     "output_type": "stream",
     "text": [
      "Processing test tiles:  50%|████████        | 1906/3779 [00:25<00:30, 60.89it/s]"
     ]
    },
    {
     "name": "stdout",
     "output_type": "stream",
     "text": [
      "----------Prediction data loaded for tile TD4134549, year 2021-----------\n",
      "----------Prediction data loaded for tile NG2766708, year 2018-----------\n",
      "----------Prediction data loaded for tile ZM2397788, year 2020-----------\n",
      "----------Prediction data loaded for tile SO1778887, year 2018-----------\n",
      "----------Prediction data loaded for tile ET1554023, year 2021-----------\n",
      "----------Prediction data loaded for tile TZ2410618, year 2020-----------\n",
      "----------Prediction data loaded for tile NG1220522, year 2020-----------\n",
      "----------Prediction data loaded for tile NG1504971, year 2019-----------\n",
      "----------Prediction data loaded for tile TZ1300135, year 2022-----------\n",
      "----------Prediction data loaded for tile ZA1610120, year 2017-----------\n",
      "----------Prediction data loaded for tile SD5081018, year 2019-----------\n",
      "----------Prediction data loaded for tile NG0315724, year 2021-----------\n"
     ]
    },
    {
     "name": "stderr",
     "output_type": "stream",
     "text": [
      "Processing test tiles:  51%|████████        | 1914/3779 [00:25<00:29, 63.45it/s]"
     ]
    },
    {
     "name": "stdout",
     "output_type": "stream",
     "text": [
      "----------Prediction data loaded for tile TZ1142573, year 2021-----------\n",
      "----------Prediction data loaded for tile ML4064430, year 2018-----------\n",
      "----------Prediction data loaded for tile ML4208779, year 2023-----------\n"
     ]
    },
    {
     "name": "stderr",
     "output_type": "stream",
     "text": [
      "Processing test tiles:  51%|████████▏       | 1921/3779 [00:25<00:28, 64.83it/s]"
     ]
    },
    {
     "name": "stdout",
     "output_type": "stream",
     "text": [
      "----------Prediction data loaded for tile NG0826092, year 2019-----------\n",
      "----------Prediction data loaded for tile NG2762335, year 2020-----------\n",
      "----------Prediction data loaded for tile NE3964296, year 2021-----------\n",
      "----------Prediction data loaded for tile NG0496192, year 2020-----------\n",
      "----------Prediction data loaded for tile NE3383247, year 2023-----------\n",
      "----------Prediction data loaded for tile TZ0157479, year 2022-----------\n",
      "----------Prediction data loaded for tile ZW1051802, year 2017-----------\n",
      "----------Prediction data loaded for tile NG0868083, year 2022-----------\n",
      "----------Prediction data loaded for tile ZM1697988, year 2021-----------\n",
      "----------Prediction data loaded for tile SD4181142, year 2021-----------\n",
      "----------Prediction data loaded for tile ML3752314, year 2020-----------\n",
      "----------Prediction data loaded for tile ZM1339723, year 2021-----------\n"
     ]
    },
    {
     "name": "stderr",
     "output_type": "stream",
     "text": [
      "Processing test tiles:  51%|████████▏       | 1929/3779 [00:25<00:27, 66.67it/s]"
     ]
    },
    {
     "name": "stdout",
     "output_type": "stream",
     "text": [
      "----------Prediction data loaded for tile TZ1669269, year 2019-----------\n",
      "----------Prediction data loaded for tile ET2242192, year 2023-----------\n",
      "----------Prediction data loaded for tile TG0113449, year 2017-----------\n"
     ]
    },
    {
     "name": "stderr",
     "output_type": "stream",
     "text": [
      "Processing test tiles:  51%|████████▏       | 1937/3779 [00:25<00:27, 68.19it/s]"
     ]
    },
    {
     "name": "stdout",
     "output_type": "stream",
     "text": [
      "----------Prediction data loaded for tile ZW0248791, year 2020-----------\n",
      "----------Prediction data loaded for tile SD4615118, year 2020-----------\n",
      "----------Prediction data loaded for tile AO3004395, year 2018-----------\n",
      "----------Prediction data loaded for tile NG0885549, year 2021-----------\n",
      "----------Prediction data loaded for tile ET2430566, year 2022-----------\n",
      "----------Prediction data loaded for tile SD4855692, year 2023-----------\n",
      "----------Prediction data loaded for tile SD5697149, year 2020-----------\n",
      "----------Prediction data loaded for tile ET3126613, year 2021-----------\n",
      "----------Prediction data loaded for tile NA0167000, year 2018-----------\n",
      "----------Prediction data loaded for tile CD6462484, year 2017-----------\n",
      "----------Prediction data loaded for tile NE3770535, year 2018-----------\n",
      "----------Prediction data loaded for tile NG0449830, year 2021-----------\n"
     ]
    },
    {
     "name": "stderr",
     "output_type": "stream",
     "text": [
      "Processing test tiles:  51%|████████▏       | 1945/3779 [00:25<00:26, 69.03it/s]"
     ]
    },
    {
     "name": "stdout",
     "output_type": "stream",
     "text": [
      "----------Prediction data loaded for tile ZW0138930, year 2021-----------\n",
      "----------Prediction data loaded for tile ET0070262, year 2021-----------\n",
      "----------Prediction data loaded for tile MZ0489285, year 2022-----------\n"
     ]
    },
    {
     "name": "stderr",
     "output_type": "stream",
     "text": [
      "Processing test tiles:  52%|████████▎       | 1953/3779 [00:26<00:26, 69.95it/s]"
     ]
    },
    {
     "name": "stdout",
     "output_type": "stream",
     "text": [
      "----------Prediction data loaded for tile NG0440945, year 2023-----------\n",
      "----------Prediction data loaded for tile NG1391325, year 2020-----------\n",
      "----------Prediction data loaded for tile ZM1613524, year 2017-----------\n",
      "----------Prediction data loaded for tile ZA1696556, year 2023-----------\n",
      "----------Prediction data loaded for tile SD3991459, year 2018-----------\n",
      "----------Prediction data loaded for tile ZA1932948, year 2017-----------\n",
      "----------Prediction data loaded for tile NG0621148, year 2017-----------\n",
      "----------Prediction data loaded for tile NG1686504, year 2020-----------\n",
      "----------Prediction data loaded for tile NG1518608, year 2018-----------\n",
      "----------Prediction data loaded for tile NG0774377, year 2018-----------\n",
      "----------Prediction data loaded for tile SN0469572, year 2019-----------\n",
      "----------Prediction data loaded for tile AO3774375, year 2017-----------\n",
      "----------Prediction data loaded for tile NE3619428, year 2021-----------\n",
      "----------Prediction data loaded for tile NG0944591, year 2023-----------\n",
      "----------Prediction data loaded for tile NG0267368, year 2018-----------\n"
     ]
    },
    {
     "name": "stderr",
     "output_type": "stream",
     "text": [
      "Processing test tiles:  52%|████████▎       | 1961/3779 [00:26<00:25, 70.51it/s]"
     ]
    },
    {
     "name": "stdout",
     "output_type": "stream",
     "text": [
      "----------Prediction data loaded for tile BF0718563, year 2022-----------\n",
      "----------Prediction data loaded for tile TZ0337984, year 2019-----------\n",
      "----------Prediction data loaded for tile NA0062029, year 2017-----------\n",
      "----------Prediction data loaded for tile NE3664029, year 2023-----------\n",
      "----------Prediction data loaded for tile SO1636820, year 2022-----------\n",
      "----------Prediction data loaded for tile CI0440803, year 2019-----------\n",
      "----------Prediction data loaded for tile ZA1112527, year 2017-----------\n",
      "----------Prediction data loaded for tile NG2324227, year 2017-----------\n"
     ]
    },
    {
     "name": "stderr",
     "output_type": "stream",
     "text": [
      "Processing test tiles:  52%|████████▎       | 1969/3779 [00:26<00:25, 70.88it/s]"
     ]
    },
    {
     "name": "stdout",
     "output_type": "stream",
     "text": [
      "----------Prediction data loaded for tile ZA2383806, year 2022-----------\n",
      "----------Prediction data loaded for tile ML3781153, year 2022-----------\n",
      "----------Prediction data loaded for tile TZ1199583, year 2020-----------\n",
      "----------Prediction data loaded for tile ET0026244, year 2017-----------\n",
      "----------Prediction data loaded for tile KE1007951, year 2018-----------\n",
      "----------Prediction data loaded for tile ET1435158, year 2017-----------\n",
      "----------Prediction data loaded for tile ZA1468911, year 2017-----------\n"
     ]
    },
    {
     "name": "stderr",
     "output_type": "stream",
     "text": [
      "Processing test tiles:  52%|████████▎       | 1977/3779 [00:26<00:25, 71.29it/s]"
     ]
    },
    {
     "name": "stdout",
     "output_type": "stream",
     "text": [
      "----------Prediction data loaded for tile NG1497642, year 2020-----------\n",
      "----------Prediction data loaded for tile TD3156472, year 2017-----------\n",
      "----------Prediction data loaded for tile TZ2643265, year 2017-----------\n",
      "----------Prediction data loaded for tile CM0682433, year 2021-----------\n",
      "----------Prediction data loaded for tile SN0431091, year 2018-----------\n",
      "----------Prediction data loaded for tile AO2512956, year 2019-----------\n",
      "----------Prediction data loaded for tile AO2923017, year 2023-----------\n",
      "----------Prediction data loaded for tile SD5369131, year 2022-----------\n"
     ]
    },
    {
     "name": "stderr",
     "output_type": "stream",
     "text": [
      "Processing test tiles:  53%|████████▍       | 1985/3779 [00:26<00:25, 71.24it/s]"
     ]
    },
    {
     "name": "stdout",
     "output_type": "stream",
     "text": [
      "----------Prediction data loaded for tile KE1389619, year 2023-----------\n",
      "----------Prediction data loaded for tile MW0262792, year 2017-----------\n",
      "----------Prediction data loaded for tile KE1783493, year 2020-----------\n",
      "----------Prediction data loaded for tile TZ0577648, year 2023-----------\n",
      "----------Prediction data loaded for tile SD5800425, year 2017-----------\n",
      "----------Prediction data loaded for tile SD4820024, year 2018-----------\n",
      "----------Prediction data loaded for tile BF0284318, year 2018-----------\n"
     ]
    },
    {
     "name": "stderr",
     "output_type": "stream",
     "text": [
      "Processing test tiles:  53%|████████▍       | 1993/3779 [00:26<00:24, 71.47it/s]"
     ]
    },
    {
     "name": "stdout",
     "output_type": "stream",
     "text": [
      "----------Prediction data loaded for tile SN0437740, year 2021-----------\n",
      "----------Prediction data loaded for tile SN0477877, year 2021-----------\n",
      "----------Prediction data loaded for tile ZW0327358, year 2017-----------\n",
      "----------Prediction data loaded for tile NG1991727, year 2018-----------\n",
      "----------Prediction data loaded for tile SO1600267, year 2019-----------\n",
      "----------Prediction data loaded for tile SD5845873, year 2022-----------\n",
      "----------Prediction data loaded for tile ET0331039, year 2021-----------\n",
      "----------Prediction data loaded for tile NG1809216, year 2021-----------\n"
     ]
    },
    {
     "name": "stderr",
     "output_type": "stream",
     "text": [
      "Processing test tiles:  53%|████████▍       | 2001/3779 [00:26<00:24, 71.69it/s]"
     ]
    },
    {
     "name": "stdout",
     "output_type": "stream",
     "text": [
      "----------Prediction data loaded for tile ZM2413565, year 2021-----------\n",
      "----------Prediction data loaded for tile UG0460481, year 2022-----------\n",
      "----------Prediction data loaded for tile TZ0610795, year 2017-----------\n",
      "----------Prediction data loaded for tile KE1648530, year 2019-----------\n",
      "----------Prediction data loaded for tile NG1027223, year 2019-----------\n",
      "----------Prediction data loaded for tile SD4863477, year 2023-----------\n",
      "----------Prediction data loaded for tile NG0324200, year 2017-----------\n"
     ]
    },
    {
     "name": "stderr",
     "output_type": "stream",
     "text": [
      "Processing test tiles:  53%|████████▌       | 2009/3779 [00:26<00:24, 71.75it/s]"
     ]
    },
    {
     "name": "stdout",
     "output_type": "stream",
     "text": [
      "----------Prediction data loaded for tile ZA0121438, year 2022-----------\n",
      "----------Prediction data loaded for tile KE1134766, year 2020-----------\n",
      "----------Prediction data loaded for tile SD4546918, year 2018-----------\n",
      "----------Prediction data loaded for tile ZA1138257, year 2017-----------\n",
      "----------Prediction data loaded for tile TD4049020, year 2017-----------\n",
      "----------Prediction data loaded for tile ET1070191, year 2020-----------\n",
      "----------Prediction data loaded for tile NG1025825, year 2020-----------\n",
      "----------Prediction data loaded for tile BF0755099, year 2023-----------\n"
     ]
    },
    {
     "name": "stderr",
     "output_type": "stream",
     "text": [
      "Processing test tiles:  53%|████████▌       | 2017/3779 [00:26<00:24, 71.92it/s]"
     ]
    },
    {
     "name": "stdout",
     "output_type": "stream",
     "text": [
      "----------Prediction data loaded for tile UG0559446, year 2022-----------\n",
      "----------Prediction data loaded for tile NG1893433, year 2017-----------\n",
      "----------Prediction data loaded for tile AO2907330, year 2018-----------\n",
      "----------Prediction data loaded for tile TG0118000, year 2020-----------\n",
      "----------Prediction data loaded for tile MZ0526600, year 2021-----------\n",
      "----------Prediction data loaded for tile ZA1361591, year 2022-----------\n",
      "----------Prediction data loaded for tile BJ0072437, year 2023-----------\n"
     ]
    },
    {
     "name": "stderr",
     "output_type": "stream",
     "text": [
      "Processing test tiles:  54%|████████▌       | 2025/3779 [00:27<00:24, 72.03it/s]"
     ]
    },
    {
     "name": "stdout",
     "output_type": "stream",
     "text": [
      "----------Prediction data loaded for tile NG1623140, year 2017-----------\n",
      "----------Prediction data loaded for tile UG0124807, year 2018-----------\n",
      "----------Prediction data loaded for tile BF0235183, year 2017-----------\n",
      "----------Prediction data loaded for tile SN0314806, year 2023-----------\n",
      "----------Prediction data loaded for tile ET1659929, year 2018-----------\n",
      "----------Prediction data loaded for tile NG0307118, year 2017-----------\n",
      "----------Prediction data loaded for tile NG1712063, year 2022-----------\n",
      "----------Prediction data loaded for tile KE1460980, year 2020-----------\n",
      "----------Prediction data loaded for tile NE3871300, year 2023-----------\n",
      "----------Prediction data loaded for tile NG0133508, year 2023-----------\n",
      "----------Prediction data loaded for tile ZW0622280, year 2021-----------\n",
      "----------Prediction data loaded for tile ET0012957, year 2020-----------\n"
     ]
    },
    {
     "name": "stderr",
     "output_type": "stream",
     "text": [
      "Processing test tiles:  54%|████████▌       | 2033/3779 [00:27<00:24, 72.04it/s]"
     ]
    },
    {
     "name": "stdout",
     "output_type": "stream",
     "text": [
      "----------Prediction data loaded for tile ML3724850, year 2019-----------\n",
      "----------Prediction data loaded for tile TG0003062, year 2019-----------\n",
      "----------Prediction data loaded for tile SD5757146, year 2023-----------\n"
     ]
    },
    {
     "name": "stderr",
     "output_type": "stream",
     "text": [
      "Processing test tiles:  54%|████████▋       | 2041/3779 [00:27<00:24, 72.08it/s]"
     ]
    },
    {
     "name": "stdout",
     "output_type": "stream",
     "text": [
      "----------Prediction data loaded for tile SD4975691, year 2023-----------\n",
      "----------Prediction data loaded for tile TD3823621, year 2022-----------\n",
      "----------Prediction data loaded for tile SD4059994, year 2018-----------\n",
      "----------Prediction data loaded for tile ET1509677, year 2017-----------\n",
      "----------Prediction data loaded for tile NG0944489, year 2023-----------\n",
      "----------Prediction data loaded for tile NG1943319, year 2017-----------\n",
      "----------Prediction data loaded for tile NG2030455, year 2022-----------\n",
      "----------Prediction data loaded for tile TD3908304, year 2023-----------\n",
      "----------Prediction data loaded for tile ZW0756633, year 2023-----------\n",
      "----------Prediction data loaded for tile MZ0744216, year 2023-----------\n",
      "----------Prediction data loaded for tile TZ1519435, year 2022-----------\n",
      "----------Prediction data loaded for tile SD5520798, year 2018-----------\n"
     ]
    },
    {
     "name": "stderr",
     "output_type": "stream",
     "text": [
      "Processing test tiles:  54%|████████▋       | 2049/3779 [00:27<00:23, 72.15it/s]"
     ]
    },
    {
     "name": "stdout",
     "output_type": "stream",
     "text": [
      "----------Prediction data loaded for tile ET2598480, year 2020-----------\n",
      "----------Prediction data loaded for tile MZ2640144, year 2022-----------\n",
      "----------Prediction data loaded for tile ZA0954866, year 2022-----------\n"
     ]
    },
    {
     "name": "stderr",
     "output_type": "stream",
     "text": [
      "Processing test tiles:  54%|████████▋       | 2057/3779 [00:27<00:23, 71.92it/s]"
     ]
    },
    {
     "name": "stdout",
     "output_type": "stream",
     "text": [
      "----------Prediction data loaded for tile TD3183245, year 2017-----------\n",
      "----------Prediction data loaded for tile TD2984417, year 2018-----------\n",
      "----------Prediction data loaded for tile TZ0359557, year 2020-----------\n",
      "----------Prediction data loaded for tile ET3200304, year 2022-----------\n",
      "----------Prediction data loaded for tile ML3583430, year 2018-----------\n",
      "----------Prediction data loaded for tile MZ0426430, year 2017-----------\n",
      "----------Prediction data loaded for tile SD4439841, year 2023-----------\n",
      "----------Prediction data loaded for tile SO1778030, year 2022-----------\n",
      "----------Prediction data loaded for tile SD5288010, year 2023-----------\n",
      "----------Prediction data loaded for tile TZ0204314, year 2017-----------\n",
      "----------Prediction data loaded for tile UG0336030, year 2020-----------\n",
      "----------Prediction data loaded for tile NG1018705, year 2023-----------\n"
     ]
    },
    {
     "name": "stderr",
     "output_type": "stream",
     "text": [
      "Processing test tiles:  55%|████████▋       | 2065/3779 [00:27<00:23, 71.96it/s]"
     ]
    },
    {
     "name": "stdout",
     "output_type": "stream",
     "text": [
      "----------Prediction data loaded for tile ZW0548910, year 2017-----------\n",
      "----------Prediction data loaded for tile MW0070277, year 2020-----------\n",
      "----------Prediction data loaded for tile NG0854451, year 2022-----------\n"
     ]
    },
    {
     "name": "stderr",
     "output_type": "stream",
     "text": [
      "Processing test tiles:  55%|████████▊       | 2073/3779 [00:27<00:23, 71.92it/s]"
     ]
    },
    {
     "name": "stdout",
     "output_type": "stream",
     "text": [
      "----------Prediction data loaded for tile TZ1160951, year 2018-----------\n",
      "----------Prediction data loaded for tile TD3960070, year 2020-----------\n",
      "----------Prediction data loaded for tile SO1732552, year 2021-----------\n",
      "----------Prediction data loaded for tile NG0430147, year 2022-----------\n",
      "----------Prediction data loaded for tile ZA1665829, year 2022-----------\n",
      "----------Prediction data loaded for tile MZ0614711, year 2018-----------\n",
      "----------Prediction data loaded for tile KE0955412, year 2019-----------\n",
      "----------Prediction data loaded for tile SD5321520, year 2018-----------\n",
      "----------Prediction data loaded for tile ET2204278, year 2023-----------\n",
      "----------Prediction data loaded for tile ET2559050, year 2023-----------\n",
      "----------Prediction data loaded for tile NG0653523, year 2017-----------\n",
      "----------Prediction data loaded for tile ET1591705, year 2023-----------\n",
      "----------Prediction data loaded for tile ZW0954238, year 2020-----------\n",
      "----------Prediction data loaded for tile KE1127253, year 2022-----------\n",
      "----------Prediction data loaded for tile CI0132486, year 2023-----------\n"
     ]
    },
    {
     "name": "stderr",
     "output_type": "stream",
     "text": [
      "Processing test tiles:  55%|████████▊       | 2081/3779 [00:27<00:23, 71.84it/s]"
     ]
    },
    {
     "name": "stdout",
     "output_type": "stream",
     "text": [
      "----------Prediction data loaded for tile TZ0537677, year 2022-----------\n",
      "----------Prediction data loaded for tile NG1628816, year 2022-----------\n",
      "----------Prediction data loaded for tile SD3924378, year 2020-----------\n",
      "----------Prediction data loaded for tile SN0596340, year 2023-----------\n",
      "----------Prediction data loaded for tile NG1839901, year 2017-----------\n",
      "----------Prediction data loaded for tile NG1613752, year 2020-----------\n",
      "----------Prediction data loaded for tile NE3710894, year 2022-----------\n",
      "----------Prediction data loaded for tile TD3363116, year 2017-----------\n"
     ]
    },
    {
     "name": "stderr",
     "output_type": "stream",
     "text": [
      "Processing test tiles:  55%|████████▊       | 2089/3779 [00:27<00:23, 71.89it/s]"
     ]
    },
    {
     "name": "stdout",
     "output_type": "stream",
     "text": [
      "----------Prediction data loaded for tile ET2603451, year 2019-----------\n",
      "----------Prediction data loaded for tile RW0038996, year 2018-----------\n",
      "----------Prediction data loaded for tile ZA1555034, year 2018-----------\n",
      "----------Prediction data loaded for tile BJ0070883, year 2019-----------\n",
      "----------Prediction data loaded for tile ZA0934878, year 2018-----------\n",
      "----------Prediction data loaded for tile SN0269446, year 2021-----------\n",
      "----------Prediction data loaded for tile TZ1115021, year 2017-----------\n"
     ]
    },
    {
     "name": "stderr",
     "output_type": "stream",
     "text": [
      "Processing test tiles:  55%|████████▉       | 2097/3779 [00:28<00:23, 71.98it/s]"
     ]
    },
    {
     "name": "stdout",
     "output_type": "stream",
     "text": [
      "----------Prediction data loaded for tile SD4780998, year 2017-----------\n",
      "----------Prediction data loaded for tile SD5613625, year 2022-----------\n",
      "----------Prediction data loaded for tile MZ0995382, year 2023-----------\n",
      "----------Prediction data loaded for tile TZ1625623, year 2017-----------\n",
      "----------Prediction data loaded for tile CG0853817, year 2022-----------\n",
      "----------Prediction data loaded for tile ML4161482, year 2018-----------\n",
      "----------Prediction data loaded for tile CD0765766, year 2017-----------\n",
      "----------Prediction data loaded for tile TD3968944, year 2018-----------\n"
     ]
    },
    {
     "name": "stderr",
     "output_type": "stream",
     "text": [
      "Processing test tiles:  56%|████████▉       | 2105/3779 [00:28<00:23, 72.06it/s]"
     ]
    },
    {
     "name": "stdout",
     "output_type": "stream",
     "text": [
      "----------Prediction data loaded for tile ZA1088256, year 2018-----------\n",
      "----------Prediction data loaded for tile NG2737946, year 2021-----------\n",
      "----------Prediction data loaded for tile ET3109960, year 2019-----------\n",
      "----------Prediction data loaded for tile TZ0497130, year 2019-----------\n",
      "----------Prediction data loaded for tile SD5996880, year 2023-----------\n",
      "----------Prediction data loaded for tile UG0706464, year 2017-----------\n",
      "----------Prediction data loaded for tile CD5521206, year 2018-----------\n"
     ]
    },
    {
     "name": "stderr",
     "output_type": "stream",
     "text": [
      "Processing test tiles:  56%|████████▉       | 2113/3779 [00:28<00:23, 72.01it/s]"
     ]
    },
    {
     "name": "stdout",
     "output_type": "stream",
     "text": [
      "----------Prediction data loaded for tile SD5274679, year 2020-----------\n",
      "----------Prediction data loaded for tile BI0071276, year 2022-----------\n",
      "----------Prediction data loaded for tile SD4105254, year 2021-----------\n",
      "----------Prediction data loaded for tile ET2302086, year 2018-----------\n",
      "----------Prediction data loaded for tile ET0737599, year 2021-----------\n",
      "----------Prediction data loaded for tile SD4101330, year 2022-----------\n",
      "----------Prediction data loaded for tile NG2495504, year 2018-----------\n",
      "----------Prediction data loaded for tile NE3501359, year 2021-----------\n"
     ]
    },
    {
     "name": "stderr",
     "output_type": "stream",
     "text": [
      "Processing test tiles:  56%|████████▉       | 2121/3779 [00:28<00:22, 72.13it/s]"
     ]
    },
    {
     "name": "stdout",
     "output_type": "stream",
     "text": [
      "----------Prediction data loaded for tile NE3832249, year 2022-----------\n",
      "----------Prediction data loaded for tile NG0123797, year 2022-----------\n",
      "----------Prediction data loaded for tile NG1933225, year 2019-----------\n",
      "----------Prediction data loaded for tile NG1465303, year 2022-----------\n",
      "----------Prediction data loaded for tile NG2385745, year 2019-----------\n",
      "----------Prediction data loaded for tile NG0395987, year 2022-----------\n",
      "----------Prediction data loaded for tile TZ1841194, year 2018-----------\n"
     ]
    },
    {
     "name": "stderr",
     "output_type": "stream",
     "text": [
      "Processing test tiles:  56%|█████████       | 2129/3779 [00:28<00:22, 71.83it/s]"
     ]
    },
    {
     "name": "stdout",
     "output_type": "stream",
     "text": [
      "----------Prediction data loaded for tile KE1389176, year 2022-----------\n",
      "----------Prediction data loaded for tile UG0422383, year 2018-----------\n",
      "----------Prediction data loaded for tile TZ0021479, year 2017-----------\n",
      "----------Prediction data loaded for tile NG2356900, year 2020-----------\n",
      "----------Prediction data loaded for tile NE3221500, year 2017-----------\n",
      "----------Prediction data loaded for tile TZ1709953, year 2017-----------\n",
      "----------Prediction data loaded for tile ET2347866, year 2021-----------\n",
      "----------Prediction data loaded for tile SD5579959, year 2018-----------\n"
     ]
    },
    {
     "name": "stderr",
     "output_type": "stream",
     "text": [
      "Processing test tiles:  57%|█████████       | 2137/3779 [00:28<00:22, 71.89it/s]"
     ]
    },
    {
     "name": "stdout",
     "output_type": "stream",
     "text": [
      "----------Prediction data loaded for tile ZA1353817, year 2018-----------\n",
      "----------Prediction data loaded for tile SD4835390, year 2022-----------\n",
      "----------Prediction data loaded for tile TD2760182, year 2019-----------\n",
      "----------Prediction data loaded for tile TZ1475825, year 2020-----------\n",
      "----------Prediction data loaded for tile UG0287842, year 2020-----------\n",
      "----------Prediction data loaded for tile KE1891289, year 2023-----------\n",
      "----------Prediction data loaded for tile MZ0819417, year 2022-----------\n"
     ]
    },
    {
     "name": "stderr",
     "output_type": "stream",
     "text": [
      "Processing test tiles:  57%|█████████       | 2145/3779 [00:28<00:22, 71.92it/s]"
     ]
    },
    {
     "name": "stdout",
     "output_type": "stream",
     "text": [
      "----------Prediction data loaded for tile SD5259685, year 2021-----------\n",
      "----------Prediction data loaded for tile NG0926950, year 2019-----------\n",
      "----------Prediction data loaded for tile BF0142083, year 2020-----------\n",
      "----------Prediction data loaded for tile KE1121054, year 2023-----------\n",
      "----------Prediction data loaded for tile CD5189203, year 2021-----------\n",
      "----------Prediction data loaded for tile KE0874281, year 2023-----------\n",
      "----------Prediction data loaded for tile ML4252618, year 2021-----------\n",
      "----------Prediction data loaded for tile ET0566732, year 2017-----------\n",
      "----------Prediction data loaded for tile NG1313130, year 2023-----------\n",
      "----------Prediction data loaded for tile ZA0057127, year 2019-----------\n",
      "----------Prediction data loaded for tile AO2979356, year 2019-----------\n",
      "----------Prediction data loaded for tile ZM2173854, year 2022-----------\n"
     ]
    },
    {
     "name": "stderr",
     "output_type": "stream",
     "text": [
      "Processing test tiles:  57%|█████████       | 2153/3779 [00:28<00:22, 71.98it/s]"
     ]
    },
    {
     "name": "stdout",
     "output_type": "stream",
     "text": [
      "----------Prediction data loaded for tile SN0079195, year 2022-----------\n",
      "----------Prediction data loaded for tile AO2512758, year 2020-----------\n",
      "----------Prediction data loaded for tile TZ2237060, year 2023-----------\n"
     ]
    },
    {
     "name": "stderr",
     "output_type": "stream",
     "text": [
      "Processing test tiles:  57%|█████████▏      | 2161/3779 [00:28<00:22, 72.02it/s]"
     ]
    },
    {
     "name": "stdout",
     "output_type": "stream",
     "text": [
      "----------Prediction data loaded for tile NG0051982, year 2019-----------\n",
      "----------Prediction data loaded for tile NG1241888, year 2018-----------\n",
      "----------Prediction data loaded for tile ET2286002, year 2018-----------\n",
      "----------Prediction data loaded for tile ZW0962774, year 2018-----------\n",
      "----------Prediction data loaded for tile ZW0565797, year 2018-----------\n",
      "----------Prediction data loaded for tile ZA0990896, year 2021-----------\n",
      "----------Prediction data loaded for tile CD3632086, year 2017-----------\n",
      "----------Prediction data loaded for tile TD3959433, year 2021-----------\n",
      "----------Prediction data loaded for tile ET2854470, year 2019-----------\n",
      "----------Prediction data loaded for tile MZ0945520, year 2022-----------\n",
      "----------Prediction data loaded for tile SZ0053636, year 2019-----------\n",
      "----------Prediction data loaded for tile NE3292077, year 2021-----------\n"
     ]
    },
    {
     "name": "stderr",
     "output_type": "stream",
     "text": [
      "Processing test tiles:  57%|█████████▏      | 2169/3779 [00:29<00:22, 71.91it/s]"
     ]
    },
    {
     "name": "stdout",
     "output_type": "stream",
     "text": [
      "----------Prediction data loaded for tile ZW0652851, year 2021-----------\n",
      "----------Prediction data loaded for tile NG1906844, year 2023-----------\n",
      "----------Prediction data loaded for tile TZ0163633, year 2017-----------\n"
     ]
    },
    {
     "name": "stderr",
     "output_type": "stream",
     "text": [
      "Processing test tiles:  58%|█████████▏      | 2177/3779 [00:29<00:22, 71.68it/s]"
     ]
    },
    {
     "name": "stdout",
     "output_type": "stream",
     "text": [
      "----------Prediction data loaded for tile NG1758183, year 2022-----------\n",
      "----------Prediction data loaded for tile NG1987828, year 2017-----------\n",
      "----------Prediction data loaded for tile NG2283847, year 2020-----------\n",
      "----------Prediction data loaded for tile NG2063880, year 2022-----------\n",
      "----------Prediction data loaded for tile MZ0976927, year 2021-----------\n",
      "----------Prediction data loaded for tile NG0576804, year 2019-----------\n",
      "----------Prediction data loaded for tile TZ0703028, year 2017-----------\n",
      "----------Prediction data loaded for tile TZ1093620, year 2019-----------\n",
      "----------Prediction data loaded for tile MZ2586303, year 2018-----------\n",
      "----------Prediction data loaded for tile CD6011879, year 2017-----------\n",
      "----------Prediction data loaded for tile TZ1295939, year 2023-----------\n",
      "----------Prediction data loaded for tile BF0209620, year 2021-----------\n"
     ]
    },
    {
     "name": "stderr",
     "output_type": "stream",
     "text": [
      "Processing test tiles:  58%|█████████▎      | 2185/3779 [00:29<00:22, 71.78it/s]"
     ]
    },
    {
     "name": "stdout",
     "output_type": "stream",
     "text": [
      "----------Prediction data loaded for tile TZ0567484, year 2020-----------\n",
      "----------Prediction data loaded for tile ZM1075580, year 2019-----------\n",
      "----------Prediction data loaded for tile KE1484949, year 2021-----------\n"
     ]
    },
    {
     "name": "stderr",
     "output_type": "stream",
     "text": [
      "Processing test tiles:  58%|█████████▎      | 2193/3779 [00:29<00:22, 71.88it/s]"
     ]
    },
    {
     "name": "stdout",
     "output_type": "stream",
     "text": [
      "----------Prediction data loaded for tile MW0260828, year 2021-----------\n",
      "----------Prediction data loaded for tile TZ0057377, year 2020-----------\n",
      "----------Prediction data loaded for tile ET1444754, year 2017-----------\n",
      "----------Prediction data loaded for tile ZA1711012, year 2019-----------\n",
      "----------Prediction data loaded for tile BF0473242, year 2023-----------\n",
      "----------Prediction data loaded for tile ML3250501, year 2020-----------\n",
      "----------Prediction data loaded for tile ET1296368, year 2022-----------\n",
      "----------Prediction data loaded for tile NA0119685, year 2017-----------\n",
      "----------Prediction data loaded for tile MZ1501615, year 2021-----------\n",
      "----------Prediction data loaded for tile SD4561024, year 2023-----------\n",
      "----------Prediction data loaded for tile ML3062667, year 2021-----------\n",
      "----------Prediction data loaded for tile ZA0858748, year 2019-----------\n",
      "----------Prediction data loaded for tile SD4806502, year 2017-----------\n",
      "----------Prediction data loaded for tile NG0616450, year 2017-----------\n",
      "----------Prediction data loaded for tile TZ0909916, year 2017-----------\n"
     ]
    },
    {
     "name": "stderr",
     "output_type": "stream",
     "text": [
      "Processing test tiles:  58%|█████████▎      | 2201/3779 [00:29<00:21, 71.78it/s]"
     ]
    },
    {
     "name": "stdout",
     "output_type": "stream",
     "text": [
      "----------Prediction data loaded for tile ET0884658, year 2023-----------\n",
      "----------Prediction data loaded for tile ZW0558140, year 2021-----------\n",
      "----------Prediction data loaded for tile NG0112324, year 2021-----------\n",
      "----------Prediction data loaded for tile ET0886092, year 2017-----------\n",
      "----------Prediction data loaded for tile TD4125273, year 2021-----------\n",
      "----------Prediction data loaded for tile ET1150023, year 2018-----------\n",
      "----------Prediction data loaded for tile NG0086415, year 2023-----------\n",
      "----------Prediction data loaded for tile ML3602684, year 2023-----------\n"
     ]
    },
    {
     "name": "stderr",
     "output_type": "stream",
     "text": [
      "Processing test tiles:  58%|█████████▎      | 2209/3779 [00:29<00:21, 71.83it/s]"
     ]
    },
    {
     "name": "stdout",
     "output_type": "stream",
     "text": [
      "----------Prediction data loaded for tile CD5260161, year 2017-----------\n",
      "----------Prediction data loaded for tile CD5103485, year 2022-----------\n",
      "----------Prediction data loaded for tile CM0285916, year 2023-----------\n",
      "----------Prediction data loaded for tile ZA0345358, year 2022-----------\n",
      "----------Prediction data loaded for tile NG2018343, year 2019-----------\n",
      "----------Prediction data loaded for tile MW0330716, year 2022-----------\n",
      "----------Prediction data loaded for tile SN0154638, year 2019-----------\n"
     ]
    },
    {
     "name": "stderr",
     "output_type": "stream",
     "text": [
      "Processing test tiles:  59%|█████████▍      | 2217/3779 [00:29<00:21, 71.97it/s]"
     ]
    },
    {
     "name": "stdout",
     "output_type": "stream",
     "text": [
      "----------Prediction data loaded for tile ET1901786, year 2020-----------\n",
      "----------Prediction data loaded for tile TZ2711340, year 2019-----------\n",
      "----------Prediction data loaded for tile NG0637261, year 2019-----------\n",
      "----------Prediction data loaded for tile MW0196835, year 2021-----------\n",
      "----------Prediction data loaded for tile ML3598965, year 2021-----------\n",
      "----------Prediction data loaded for tile TZ2483055, year 2019-----------\n",
      "----------Prediction data loaded for tile NG2018338, year 2020-----------\n",
      "----------Prediction data loaded for tile TZ0061539, year 2022-----------\n"
     ]
    },
    {
     "name": "stderr",
     "output_type": "stream",
     "text": [
      "Processing test tiles:  59%|█████████▍      | 2225/3779 [00:29<00:21, 71.91it/s]"
     ]
    },
    {
     "name": "stdout",
     "output_type": "stream",
     "text": [
      "----------Prediction data loaded for tile NG0543637, year 2017-----------\n",
      "----------Prediction data loaded for tile BF0469540, year 2021-----------\n",
      "----------Prediction data loaded for tile ML3584002, year 2018-----------\n",
      "----------Prediction data loaded for tile ET1394743, year 2019-----------\n",
      "----------Prediction data loaded for tile CI0610961, year 2020-----------\n",
      "----------Prediction data loaded for tile BJ0093488, year 2020-----------\n",
      "----------Prediction data loaded for tile MZ2586874, year 2020-----------\n"
     ]
    },
    {
     "name": "stderr",
     "output_type": "stream",
     "text": [
      "Processing test tiles:  59%|█████████▍      | 2233/3779 [00:29<00:21, 72.01it/s]"
     ]
    },
    {
     "name": "stdout",
     "output_type": "stream",
     "text": [
      "----------Prediction data loaded for tile MZ0878081, year 2018-----------\n",
      "----------Prediction data loaded for tile ML3864241, year 2021-----------\n",
      "----------Prediction data loaded for tile ET1664394, year 2020-----------\n",
      "----------Prediction data loaded for tile BI0071633, year 2021-----------\n",
      "----------Prediction data loaded for tile BJ0161067, year 2023-----------\n",
      "----------Prediction data loaded for tile NG1075099, year 2022-----------\n",
      "----------Prediction data loaded for tile TZ2182304, year 2019-----------\n",
      "----------Prediction data loaded for tile ZM1203859, year 2018-----------\n"
     ]
    },
    {
     "name": "stderr",
     "output_type": "stream",
     "text": [
      "Processing test tiles:  59%|█████████▍      | 2241/3779 [00:30<00:21, 71.99it/s]"
     ]
    },
    {
     "name": "stdout",
     "output_type": "stream",
     "text": [
      "----------Prediction data loaded for tile SO0221072, year 2021-----------\n",
      "----------Prediction data loaded for tile ET3275676, year 2019-----------\n",
      "----------Prediction data loaded for tile ET0475847, year 2022-----------\n",
      "----------Prediction data loaded for tile NG0408446, year 2017-----------\n",
      "----------Prediction data loaded for tile ZW1158005, year 2017-----------\n",
      "----------Prediction data loaded for tile TD4215609, year 2021-----------\n",
      "----------Prediction data loaded for tile ER0238946, year 2022-----------\n"
     ]
    },
    {
     "name": "stderr",
     "output_type": "stream",
     "text": [
      "Processing test tiles:  60%|█████████▌      | 2249/3779 [00:30<00:21, 71.97it/s]"
     ]
    },
    {
     "name": "stdout",
     "output_type": "stream",
     "text": [
      "----------Prediction data loaded for tile BJ0352210, year 2021-----------\n",
      "----------Prediction data loaded for tile MZ0864816, year 2021-----------\n",
      "----------Prediction data loaded for tile CM0293645, year 2023-----------\n",
      "----------Prediction data loaded for tile SD3520149, year 2020-----------\n",
      "----------Prediction data loaded for tile TG0167825, year 2022-----------\n",
      "----------Prediction data loaded for tile ZA2034916, year 2021-----------\n",
      "----------Prediction data loaded for tile SN0385090, year 2022-----------\n",
      "----------Prediction data loaded for tile ZM1328283, year 2019-----------\n",
      "----------Prediction data loaded for tile ZW0340891, year 2020-----------\n",
      "----------Prediction data loaded for tile NG2129060, year 2018-----------\n",
      "----------Prediction data loaded for tile NG1983893, year 2022-----------\n"
     ]
    },
    {
     "name": "stderr",
     "output_type": "stream",
     "text": [
      "Processing test tiles:  60%|█████████▌      | 2257/3779 [00:30<00:22, 68.39it/s]"
     ]
    },
    {
     "name": "stdout",
     "output_type": "stream",
     "text": [
      "----------Prediction data loaded for tile NG2371567, year 2021-----------\n",
      "----------Prediction data loaded for tile TZ2455991, year 2017-----------\n",
      "----------Prediction data loaded for tile TZ1584180, year 2020-----------\n",
      "----------Prediction data loaded for tile ZW0548049, year 2023-----------\n",
      "----------Prediction data loaded for tile ET1815186, year 2023-----------\n",
      "----------Prediction data loaded for tile NE3894911, year 2023-----------\n",
      "----------Prediction data loaded for tile ZW0132154, year 2022-----------\n",
      "----------Prediction data loaded for tile TZ1676389, year 2017-----------\n"
     ]
    },
    {
     "name": "stderr",
     "output_type": "stream",
     "text": [
      "Processing test tiles:  60%|█████████▌      | 2264/3779 [00:30<00:24, 62.26it/s]"
     ]
    },
    {
     "name": "stdout",
     "output_type": "stream",
     "text": [
      "----------Prediction data loaded for tile TZ0060717, year 2019-----------\n",
      "----------Prediction data loaded for tile AO2574504, year 2017-----------\n",
      "----------Prediction data loaded for tile AO2954155, year 2018-----------\n",
      "----------Prediction data loaded for tile NG2061800, year 2022-----------\n"
     ]
    },
    {
     "name": "stderr",
     "output_type": "stream",
     "text": [
      "Processing test tiles:  60%|█████████▌      | 2272/3779 [00:30<00:23, 64.82it/s]"
     ]
    },
    {
     "name": "stdout",
     "output_type": "stream",
     "text": [
      "----------Prediction data loaded for tile NG0746731, year 2023-----------\n",
      "----------Prediction data loaded for tile ET1157210, year 2022-----------\n",
      "----------Prediction data loaded for tile TD2894732, year 2021-----------\n",
      "----------Prediction data loaded for tile ET1720315, year 2020-----------\n",
      "----------Prediction data loaded for tile CM0191710, year 2021-----------\n",
      "----------Prediction data loaded for tile ET1564247, year 2017-----------\n",
      "----------Prediction data loaded for tile ZW0103320, year 2022-----------\n",
      "----------Prediction data loaded for tile ET1415187, year 2023-----------\n",
      "----------Prediction data loaded for tile NG1852043, year 2020-----------\n",
      "----------Prediction data loaded for tile CI0889611, year 2022-----------\n",
      "----------Prediction data loaded for tile TZ0856091, year 2020-----------\n"
     ]
    },
    {
     "name": "stderr",
     "output_type": "stream",
     "text": [
      "Processing test tiles:  60%|█████████▋      | 2280/3779 [00:30<00:22, 66.85it/s]"
     ]
    },
    {
     "name": "stdout",
     "output_type": "stream",
     "text": [
      "----------Prediction data loaded for tile UG0436800, year 2017-----------\n",
      "----------Prediction data loaded for tile MZ0816575, year 2020-----------\n",
      "----------Prediction data loaded for tile TZ2438662, year 2018-----------\n",
      "----------Prediction data loaded for tile NE3988180, year 2022-----------\n"
     ]
    },
    {
     "name": "stderr",
     "output_type": "stream",
     "text": [
      "Processing test tiles:  61%|█████████▋      | 2287/3779 [00:30<00:22, 67.45it/s]"
     ]
    },
    {
     "name": "stdout",
     "output_type": "stream",
     "text": [
      "----------Prediction data loaded for tile NG1459985, year 2020-----------\n",
      "----------Prediction data loaded for tile UG0313127, year 2018-----------\n",
      "----------Prediction data loaded for tile SN0305183, year 2017-----------\n",
      "----------Prediction data loaded for tile BF0478615, year 2017-----------\n",
      "----------Prediction data loaded for tile ZM0319576, year 2023-----------\n",
      "----------Prediction data loaded for tile BF0841245, year 2020-----------\n",
      "----------Prediction data loaded for tile TD3280480, year 2023-----------\n",
      "----------Prediction data loaded for tile ZW0142258, year 2020-----------\n",
      "----------Prediction data loaded for tile UG0693794, year 2017-----------\n",
      "----------Prediction data loaded for tile CD0463490, year 2019-----------\n",
      "----------Prediction data loaded for tile NG0592533, year 2020-----------\n"
     ]
    },
    {
     "name": "stderr",
     "output_type": "stream",
     "text": [
      "Processing test tiles:  61%|█████████▋      | 2295/3779 [00:30<00:21, 68.81it/s]"
     ]
    },
    {
     "name": "stdout",
     "output_type": "stream",
     "text": [
      "----------Prediction data loaded for tile TD4193450, year 2018-----------\n",
      "----------Prediction data loaded for tile NG2462896, year 2021-----------\n",
      "----------Prediction data loaded for tile AO2548827, year 2018-----------\n",
      "----------Prediction data loaded for tile NG0826076, year 2017-----------\n",
      "----------Prediction data loaded for tile MZ0620313, year 2018-----------\n",
      "----------Prediction data loaded for tile ZW0384989, year 2017-----------\n",
      "----------Prediction data loaded for tile ET0104778, year 2020-----------\n",
      "----------Prediction data loaded for tile NG2220390, year 2020-----------\n"
     ]
    },
    {
     "name": "stderr",
     "output_type": "stream",
     "text": [
      "Processing test tiles:  61%|█████████▊      | 2303/3779 [00:30<00:21, 69.71it/s]"
     ]
    },
    {
     "name": "stdout",
     "output_type": "stream",
     "text": [
      "----------Prediction data loaded for tile ZW1242001, year 2019-----------\n",
      "----------Prediction data loaded for tile NG2370217, year 2019-----------\n",
      "----------Prediction data loaded for tile BJ0258412, year 2020-----------\n",
      "----------Prediction data loaded for tile SD3836230, year 2019-----------\n",
      "----------Prediction data loaded for tile ZA0828929, year 2017-----------\n",
      "----------Prediction data loaded for tile TD4208114, year 2019-----------\n",
      "----------Prediction data loaded for tile TD4106727, year 2020-----------\n"
     ]
    },
    {
     "name": "stderr",
     "output_type": "stream",
     "text": [
      "Processing test tiles:  61%|█████████▊      | 2311/3779 [00:31<00:20, 70.60it/s]"
     ]
    },
    {
     "name": "stdout",
     "output_type": "stream",
     "text": [
      "----------Prediction data loaded for tile SD5442991, year 2023-----------\n",
      "----------Prediction data loaded for tile ZM1416389, year 2021-----------\n",
      "----------Prediction data loaded for tile ZW0340019, year 2019-----------\n",
      "----------Prediction data loaded for tile ET2044599, year 2023-----------\n",
      "----------Prediction data loaded for tile ET1670923, year 2023-----------\n",
      "----------Prediction data loaded for tile UG0489018, year 2018-----------\n",
      "----------Prediction data loaded for tile BJ0155071, year 2021-----------\n",
      "----------Prediction data loaded for tile BJ0238420, year 2020-----------\n"
     ]
    },
    {
     "name": "stderr",
     "output_type": "stream",
     "text": [
      "Processing test tiles:  61%|█████████▊      | 2319/3779 [00:31<00:20, 71.08it/s]"
     ]
    },
    {
     "name": "stdout",
     "output_type": "stream",
     "text": [
      "----------Prediction data loaded for tile TG0071627, year 2018-----------\n",
      "----------Prediction data loaded for tile ET0822505, year 2023-----------\n",
      "----------Prediction data loaded for tile SD3634258, year 2020-----------\n",
      "----------Prediction data loaded for tile NG2742597, year 2022-----------\n",
      "----------Prediction data loaded for tile CM0088423, year 2019-----------\n",
      "----------Prediction data loaded for tile NG1376966, year 2023-----------\n",
      "----------Prediction data loaded for tile MW0224348, year 2020-----------\n"
     ]
    },
    {
     "name": "stderr",
     "output_type": "stream",
     "text": [
      "Processing test tiles:  62%|█████████▊      | 2327/3779 [00:31<00:20, 71.44it/s]"
     ]
    },
    {
     "name": "stdout",
     "output_type": "stream",
     "text": [
      "----------Prediction data loaded for tile BF0598111, year 2019-----------\n",
      "----------Prediction data loaded for tile ZW0695599, year 2018-----------\n",
      "----------Prediction data loaded for tile ZW0262920, year 2023-----------\n",
      "----------Prediction data loaded for tile ZW0354675, year 2019-----------\n",
      "----------Prediction data loaded for tile NG1271096, year 2023-----------\n",
      "----------Prediction data loaded for tile ML4179998, year 2019-----------\n",
      "----------Prediction data loaded for tile ET2409140, year 2017-----------\n",
      "----------Prediction data loaded for tile SD4998188, year 2021-----------\n"
     ]
    },
    {
     "name": "stderr",
     "output_type": "stream",
     "text": [
      "Processing test tiles:  62%|█████████▉      | 2335/3779 [00:31<00:20, 71.18it/s]"
     ]
    },
    {
     "name": "stdout",
     "output_type": "stream",
     "text": [
      "----------Prediction data loaded for tile ET2849878, year 2019-----------\n",
      "----------Prediction data loaded for tile TZ2536320, year 2017-----------\n",
      "----------Prediction data loaded for tile NG2345885, year 2020-----------\n",
      "----------Prediction data loaded for tile NG0472018, year 2018-----------\n",
      "----------Prediction data loaded for tile ML3457301, year 2019-----------\n",
      "----------Prediction data loaded for tile TD2794129, year 2018-----------\n",
      "----------Prediction data loaded for tile ZM2437293, year 2018-----------\n"
     ]
    },
    {
     "name": "stderr",
     "output_type": "stream",
     "text": [
      "Processing test tiles:  62%|█████████▉      | 2343/3779 [00:31<00:20, 71.54it/s]"
     ]
    },
    {
     "name": "stdout",
     "output_type": "stream",
     "text": [
      "----------Prediction data loaded for tile ET2440060, year 2022-----------\n",
      "----------Prediction data loaded for tile SD4645919, year 2019-----------\n",
      "----------Prediction data loaded for tile ZM1603032, year 2019-----------\n",
      "----------Prediction data loaded for tile CD5277572, year 2019-----------\n",
      "----------Prediction data loaded for tile TG0111556, year 2018-----------\n",
      "----------Prediction data loaded for tile SN0328005, year 2020-----------\n",
      "----------Prediction data loaded for tile ZW0084255, year 2021-----------\n",
      "----------Prediction data loaded for tile CM0190557, year 2017-----------\n"
     ]
    },
    {
     "name": "stderr",
     "output_type": "stream",
     "text": [
      "Processing test tiles:  62%|█████████▉      | 2351/3779 [00:31<00:19, 71.78it/s]"
     ]
    },
    {
     "name": "stdout",
     "output_type": "stream",
     "text": [
      "----------Prediction data loaded for tile TZ2491327, year 2019-----------\n",
      "----------Prediction data loaded for tile ET0422278, year 2020-----------\n",
      "----------Prediction data loaded for tile ML3059998, year 2017-----------\n",
      "----------Prediction data loaded for tile MW0089425, year 2018-----------\n",
      "----------Prediction data loaded for tile NE3718782, year 2023-----------\n",
      "----------Prediction data loaded for tile BF0469936, year 2018-----------\n",
      "----------Prediction data loaded for tile ML3860735, year 2023-----------\n",
      "----------Prediction data loaded for tile SD5769058, year 2022-----------\n",
      "----------Prediction data loaded for tile NG1342286, year 2022-----------\n",
      "----------Prediction data loaded for tile SD5148975, year 2020-----------\n",
      "----------Prediction data loaded for tile NG1309077, year 2022-----------\n"
     ]
    },
    {
     "name": "stderr",
     "output_type": "stream",
     "text": [
      "Processing test tiles:  62%|█████████▉      | 2359/3779 [00:31<00:19, 71.79it/s]"
     ]
    },
    {
     "name": "stdout",
     "output_type": "stream",
     "text": [
      "----------Prediction data loaded for tile BJ0094927, year 2019-----------\n",
      "----------Prediction data loaded for tile ZM2250940, year 2017-----------\n",
      "----------Prediction data loaded for tile NG0682046, year 2018-----------\n",
      "----------Prediction data loaded for tile SN0225965, year 2019-----------\n"
     ]
    },
    {
     "name": "stderr",
     "output_type": "stream",
     "text": [
      "Processing test tiles:  63%|██████████      | 2367/3779 [00:31<00:19, 72.04it/s]"
     ]
    },
    {
     "name": "stdout",
     "output_type": "stream",
     "text": [
      "----------Prediction data loaded for tile BF0472429, year 2022-----------\n",
      "----------Prediction data loaded for tile ET0058032, year 2020-----------\n",
      "----------Prediction data loaded for tile NG1787071, year 2021-----------\n",
      "----------Prediction data loaded for tile NG1452376, year 2022-----------\n",
      "----------Prediction data loaded for tile ZM1771834, year 2019-----------\n",
      "----------Prediction data loaded for tile NE3871524, year 2022-----------\n",
      "----------Prediction data loaded for tile UG0205455, year 2019-----------\n",
      "----------Prediction data loaded for tile AO2975232, year 2020-----------\n",
      "----------Prediction data loaded for tile SD3855777, year 2020-----------\n",
      "----------Prediction data loaded for tile ZA1018207, year 2019-----------\n",
      "----------Prediction data loaded for tile NG2366721, year 2020-----------\n"
     ]
    },
    {
     "name": "stderr",
     "output_type": "stream",
     "text": [
      "Processing test tiles:  63%|██████████      | 2375/3779 [00:31<00:19, 72.11it/s]"
     ]
    },
    {
     "name": "stdout",
     "output_type": "stream",
     "text": [
      "----------Prediction data loaded for tile ML3377407, year 2017-----------\n",
      "----------Prediction data loaded for tile TZ0496120, year 2018-----------\n",
      "----------Prediction data loaded for tile TZ0868963, year 2020-----------\n",
      "----------Prediction data loaded for tile NG0527110, year 2021-----------\n"
     ]
    },
    {
     "name": "stderr",
     "output_type": "stream",
     "text": [
      "Processing test tiles:  63%|██████████      | 2383/3779 [00:32<00:19, 72.15it/s]"
     ]
    },
    {
     "name": "stdout",
     "output_type": "stream",
     "text": [
      "----------Prediction data loaded for tile NG0467740, year 2022-----------\n",
      "----------Prediction data loaded for tile NG1914369, year 2022-----------\n",
      "----------Prediction data loaded for tile KE1183929, year 2017-----------\n",
      "----------Prediction data loaded for tile NG1334587, year 2022-----------\n",
      "----------Prediction data loaded for tile TZ1557220, year 2023-----------\n",
      "----------Prediction data loaded for tile SN0509298, year 2021-----------\n",
      "----------Prediction data loaded for tile CI0018271, year 2022-----------\n",
      "----------Prediction data loaded for tile SD5009330, year 2021-----------\n",
      "----------Prediction data loaded for tile NG0984365, year 2020-----------\n",
      "----------Prediction data loaded for tile MZ0597521, year 2021-----------\n",
      "----------Prediction data loaded for tile TZ0982865, year 2020-----------\n"
     ]
    },
    {
     "name": "stderr",
     "output_type": "stream",
     "text": [
      "Processing test tiles:  63%|██████████      | 2391/3779 [00:32<00:19, 72.20it/s]"
     ]
    },
    {
     "name": "stdout",
     "output_type": "stream",
     "text": [
      "----------Prediction data loaded for tile ZW0845166, year 2021-----------\n",
      "----------Prediction data loaded for tile ET2361482, year 2023-----------\n",
      "----------Prediction data loaded for tile ET0897869, year 2018-----------\n",
      "----------Prediction data loaded for tile SD4453654, year 2021-----------\n"
     ]
    },
    {
     "name": "stderr",
     "output_type": "stream",
     "text": [
      "Processing test tiles:  63%|██████████▏     | 2399/3779 [00:32<00:19, 72.26it/s]"
     ]
    },
    {
     "name": "stdout",
     "output_type": "stream",
     "text": [
      "----------Prediction data loaded for tile SO1350779, year 2017-----------\n",
      "----------Prediction data loaded for tile MW0249661, year 2017-----------\n",
      "----------Prediction data loaded for tile NG0285322, year 2017-----------\n",
      "----------Prediction data loaded for tile GN0287003, year 2019-----------\n",
      "----------Prediction data loaded for tile ML3880756, year 2022-----------\n",
      "----------Prediction data loaded for tile TZ0659491, year 2021-----------\n",
      "----------Prediction data loaded for tile ZM0672940, year 2018-----------\n",
      "----------Prediction data loaded for tile SD4894317, year 2019-----------\n",
      "----------Prediction data loaded for tile NE3767887, year 2021-----------\n",
      "----------Prediction data loaded for tile ZA2290688, year 2021-----------\n",
      "----------Prediction data loaded for tile TD4250979, year 2018-----------\n"
     ]
    },
    {
     "name": "stderr",
     "output_type": "stream",
     "text": [
      "Processing test tiles:  64%|██████████▏     | 2407/3779 [00:32<00:19, 72.02it/s]"
     ]
    },
    {
     "name": "stdout",
     "output_type": "stream",
     "text": [
      "----------Prediction data loaded for tile ET1686461, year 2019-----------\n",
      "----------Prediction data loaded for tile TZ0361937, year 2020-----------\n",
      "----------Prediction data loaded for tile NG0221287, year 2023-----------\n",
      "----------Prediction data loaded for tile MZ0769266, year 2019-----------\n",
      "----------Prediction data loaded for tile ZM0815882, year 2022-----------\n",
      "----------Prediction data loaded for tile TZ0515259, year 2021-----------\n",
      "----------Prediction data loaded for tile NG0596288, year 2022-----------\n",
      "----------Prediction data loaded for tile SD3839365, year 2022-----------\n",
      "----------Prediction data loaded for tile SN0269298, year 2023-----------\n",
      "----------Prediction data loaded for tile SD4082104, year 2022-----------\n",
      "----------Prediction data loaded for tile NG1381953, year 2017-----------\n"
     ]
    },
    {
     "name": "stderr",
     "output_type": "stream",
     "text": [
      "Processing test tiles:  64%|██████████▏     | 2415/3779 [00:32<00:18, 71.97it/s]"
     ]
    },
    {
     "name": "stdout",
     "output_type": "stream",
     "text": [
      "----------Prediction data loaded for tile NG0802965, year 2018-----------\n",
      "----------Prediction data loaded for tile MZ0939992, year 2021-----------\n",
      "----------Prediction data loaded for tile ZA1617715, year 2021-----------\n",
      "----------Prediction data loaded for tile NE3487658, year 2020-----------\n",
      "----------Prediction data loaded for tile NA0060609, year 2022-----------\n",
      "----------Prediction data loaded for tile ET0603606, year 2023-----------\n"
     ]
    },
    {
     "name": "stderr",
     "output_type": "stream",
     "text": [
      "Processing test tiles:  64%|██████████▎     | 2423/3779 [00:32<00:20, 66.64it/s]"
     ]
    },
    {
     "name": "stdout",
     "output_type": "stream",
     "text": [
      "----------Prediction data loaded for tile BF0494151, year 2019-----------\n",
      "----------Prediction data loaded for tile ZW0527792, year 2018-----------\n",
      "----------Prediction data loaded for tile ZW0785929, year 2019-----------\n",
      "----------Prediction data loaded for tile ZW0487478, year 2020-----------\n",
      "----------Prediction data loaded for tile BF0872000, year 2019-----------\n",
      "----------Prediction data loaded for tile TD4240910, year 2017-----------\n",
      "----------Prediction data loaded for tile ZW0301124, year 2021-----------\n"
     ]
    },
    {
     "name": "stderr",
     "output_type": "stream",
     "text": [
      "Processing test tiles:  64%|██████████▎     | 2431/3779 [00:32<00:19, 68.22it/s]"
     ]
    },
    {
     "name": "stdout",
     "output_type": "stream",
     "text": [
      "----------Prediction data loaded for tile BF0412212, year 2022-----------\n",
      "----------Prediction data loaded for tile NE3944381, year 2018-----------\n",
      "----------Prediction data loaded for tile NE3668815, year 2021-----------\n",
      "----------Prediction data loaded for tile ZW0417792, year 2022-----------\n",
      "----------Prediction data loaded for tile NG0354956, year 2023-----------\n",
      "----------Prediction data loaded for tile KE1315475, year 2019-----------\n",
      "----------Prediction data loaded for tile NG0458990, year 2022-----------\n",
      "----------Prediction data loaded for tile NG1313149, year 2020-----------\n"
     ]
    },
    {
     "name": "stderr",
     "output_type": "stream",
     "text": [
      "Processing test tiles:  65%|██████████▎     | 2439/3779 [00:32<00:19, 69.35it/s]"
     ]
    },
    {
     "name": "stdout",
     "output_type": "stream",
     "text": [
      "----------Prediction data loaded for tile SD4746789, year 2020-----------\n",
      "----------Prediction data loaded for tile NG0539200, year 2023-----------\n",
      "----------Prediction data loaded for tile ML3320925, year 2023-----------\n",
      "----------Prediction data loaded for tile ZM1865259, year 2019-----------\n",
      "----------Prediction data loaded for tile TD3400570, year 2023-----------\n",
      "----------Prediction data loaded for tile SD4430437, year 2019-----------\n",
      "----------Prediction data loaded for tile NG1473126, year 2021-----------\n",
      "----------Prediction data loaded for tile ET1278747, year 2023-----------\n",
      "----------Prediction data loaded for tile NG0028453, year 2021-----------\n",
      "----------Prediction data loaded for tile UG0331616, year 2018-----------\n",
      "----------Prediction data loaded for tile SD5080455, year 2017-----------\n"
     ]
    },
    {
     "name": "stderr",
     "output_type": "stream",
     "text": [
      "Processing test tiles:  65%|██████████▎     | 2447/3779 [00:32<00:19, 70.03it/s]"
     ]
    },
    {
     "name": "stdout",
     "output_type": "stream",
     "text": [
      "----------Prediction data loaded for tile NG1057374, year 2020-----------\n",
      "----------Prediction data loaded for tile ZM1524230, year 2021-----------\n",
      "----------Prediction data loaded for tile TZ0037892, year 2019-----------\n",
      "----------Prediction data loaded for tile MZ1142595, year 2022-----------\n"
     ]
    },
    {
     "name": "stderr",
     "output_type": "stream",
     "text": [
      "Processing test tiles:  65%|██████████▍     | 2455/3779 [00:33<00:18, 70.62it/s]"
     ]
    },
    {
     "name": "stdout",
     "output_type": "stream",
     "text": [
      "----------Prediction data loaded for tile BJ0079296, year 2021-----------\n",
      "----------Prediction data loaded for tile NE3815370, year 2019-----------\n",
      "----------Prediction data loaded for tile BF0898863, year 2022-----------\n",
      "----------Prediction data loaded for tile ET0563978, year 2019-----------\n",
      "----------Prediction data loaded for tile KE1622230, year 2018-----------\n",
      "----------Prediction data loaded for tile ZA2035224, year 2020-----------\n",
      "----------Prediction data loaded for tile SD4687524, year 2023-----------\n",
      "----------Prediction data loaded for tile NG2432107, year 2021-----------\n",
      "----------Prediction data loaded for tile NG0976374, year 2019-----------\n",
      "----------Prediction data loaded for tile TZ0445180, year 2020-----------\n",
      "----------Prediction data loaded for tile CI0297963, year 2021-----------\n"
     ]
    },
    {
     "name": "stderr",
     "output_type": "stream",
     "text": [
      "Processing test tiles:  65%|██████████▍     | 2463/3779 [00:33<00:18, 71.04it/s]"
     ]
    },
    {
     "name": "stdout",
     "output_type": "stream",
     "text": [
      "----------Prediction data loaded for tile ET1691146, year 2019-----------\n",
      "----------Prediction data loaded for tile MZ1381367, year 2020-----------\n",
      "----------Prediction data loaded for tile MW0212957, year 2023-----------\n",
      "----------Prediction data loaded for tile TZ0060939, year 2020-----------\n"
     ]
    },
    {
     "name": "stderr",
     "output_type": "stream",
     "text": [
      "Processing test tiles:  65%|██████████▍     | 2471/3779 [00:33<00:18, 71.48it/s]"
     ]
    },
    {
     "name": "stdout",
     "output_type": "stream",
     "text": [
      "----------Prediction data loaded for tile SD5146829, year 2023-----------\n",
      "----------Prediction data loaded for tile SD4917969, year 2018-----------\n",
      "----------Prediction data loaded for tile TD4067778, year 2022-----------\n",
      "----------Prediction data loaded for tile NG0582195, year 2022-----------\n",
      "----------Prediction data loaded for tile KE1205053, year 2023-----------\n",
      "----------Prediction data loaded for tile TZ1198650, year 2021-----------\n",
      "----------Prediction data loaded for tile NE4000620, year 2018-----------\n",
      "----------Prediction data loaded for tile BF0829701, year 2023-----------\n",
      "----------Prediction data loaded for tile SD5090514, year 2017-----------\n",
      "----------Prediction data loaded for tile NG0094819, year 2017-----------\n",
      "----------Prediction data loaded for tile NG2257804, year 2020-----------\n"
     ]
    },
    {
     "name": "stderr",
     "output_type": "stream",
     "text": [
      "Processing test tiles:  66%|██████████▍     | 2479/3779 [00:33<00:18, 71.60it/s]"
     ]
    },
    {
     "name": "stdout",
     "output_type": "stream",
     "text": [
      "----------Prediction data loaded for tile BJ0359682, year 2020-----------\n",
      "----------Prediction data loaded for tile BJ0240583, year 2019-----------\n",
      "----------Prediction data loaded for tile TG0015913, year 2020-----------\n",
      "----------Prediction data loaded for tile TZ1453695, year 2020-----------\n"
     ]
    },
    {
     "name": "stderr",
     "output_type": "stream",
     "text": [
      "Processing test tiles:  66%|██████████▌     | 2487/3779 [00:33<00:17, 71.95it/s]"
     ]
    },
    {
     "name": "stdout",
     "output_type": "stream",
     "text": [
      "----------Prediction data loaded for tile TZ2153726, year 2018-----------\n",
      "----------Prediction data loaded for tile SD5498194, year 2018-----------\n",
      "----------Prediction data loaded for tile SD5868115, year 2020-----------\n",
      "----------Prediction data loaded for tile TZ2612154, year 2022-----------\n",
      "----------Prediction data loaded for tile TD3929315, year 2021-----------\n",
      "----------Prediction data loaded for tile CI0415464, year 2022-----------\n",
      "----------Prediction data loaded for tile ZM1650044, year 2017-----------\n",
      "----------Prediction data loaded for tile BF0845292, year 2023-----------\n",
      "----------Prediction data loaded for tile MZ0761195, year 2018-----------\n",
      "----------Prediction data loaded for tile ET0251170, year 2023-----------\n",
      "----------Prediction data loaded for tile TZ1225673, year 2023-----------\n"
     ]
    },
    {
     "name": "stderr",
     "output_type": "stream",
     "text": [
      "Processing test tiles:  66%|██████████▌     | 2495/3779 [00:33<00:17, 72.04it/s]"
     ]
    },
    {
     "name": "stdout",
     "output_type": "stream",
     "text": [
      "----------Prediction data loaded for tile NG2320282, year 2020-----------\n",
      "----------Prediction data loaded for tile ZM1141873, year 2021-----------\n",
      "----------Prediction data loaded for tile MZ1625360, year 2019-----------\n",
      "----------Prediction data loaded for tile SD5651188, year 2017-----------\n",
      "----------Prediction data loaded for tile ZM2458246, year 2023-----------\n",
      "----------Prediction data loaded for tile NG0945930, year 2018-----------\n",
      "----------Prediction data loaded for tile CI0127388, year 2020-----------\n",
      "----------Prediction data loaded for tile NG1133824, year 2017-----------\n",
      "----------Prediction data loaded for tile TG0163537, year 2018-----------\n"
     ]
    },
    {
     "name": "stderr",
     "output_type": "stream",
     "text": [
      "Processing test tiles:  66%|██████████▌     | 2503/3779 [00:33<00:19, 66.03it/s]"
     ]
    },
    {
     "name": "stdout",
     "output_type": "stream",
     "text": [
      "----------Prediction data loaded for tile BF0865017, year 2018-----------\n",
      "----------Prediction data loaded for tile ZA0862412, year 2017-----------\n",
      "----------Prediction data loaded for tile NG2184931, year 2022-----------\n",
      "----------Prediction data loaded for tile NG1703872, year 2020-----------\n",
      "----------Prediction data loaded for tile SD5477087, year 2019-----------\n",
      "----------Prediction data loaded for tile ZA1195879, year 2020-----------\n",
      "----------Prediction data loaded for tile BJ0205353, year 2019-----------\n",
      "----------Prediction data loaded for tile SN0277451, year 2020-----------\n",
      "----------Prediction data loaded for tile SD4693603, year 2021-----------\n"
     ]
    },
    {
     "name": "stderr",
     "output_type": "stream",
     "text": [
      "Processing test tiles:  66%|██████████▋     | 2511/3779 [00:33<00:18, 67.73it/s]"
     ]
    },
    {
     "name": "stdout",
     "output_type": "stream",
     "text": [
      "----------Prediction data loaded for tile TD4170382, year 2020-----------\n",
      "----------Prediction data loaded for tile ZA0964268, year 2017-----------\n",
      "----------Prediction data loaded for tile SD4464036, year 2021-----------\n",
      "----------Prediction data loaded for tile AO2899801, year 2020-----------\n",
      "----------Prediction data loaded for tile MZ0691080, year 2017-----------\n",
      "----------Prediction data loaded for tile TZ1313014, year 2023-----------\n"
     ]
    },
    {
     "name": "stderr",
     "output_type": "stream",
     "text": [
      "Processing test tiles:  67%|██████████▋     | 2519/3779 [00:34<00:18, 68.88it/s]"
     ]
    },
    {
     "name": "stdout",
     "output_type": "stream",
     "text": [
      "----------Prediction data loaded for tile ET0572061, year 2020-----------\n",
      "----------Prediction data loaded for tile NG0779164, year 2023-----------\n",
      "----------Prediction data loaded for tile NG1640064, year 2017-----------\n",
      "----------Prediction data loaded for tile ZW0189953, year 2017-----------\n",
      "----------Prediction data loaded for tile ZM1529341, year 2022-----------\n",
      "----------Prediction data loaded for tile ZW0156130, year 2019-----------\n",
      "----------Prediction data loaded for tile MW0086690, year 2018-----------\n",
      "----------Prediction data loaded for tile ET1706746, year 2019-----------\n",
      "----------Prediction data loaded for tile NG0570012, year 2021-----------\n"
     ]
    },
    {
     "name": "stderr",
     "output_type": "stream",
     "text": [
      "Processing test tiles:  67%|██████████▋     | 2527/3779 [00:34<00:17, 69.83it/s]"
     ]
    },
    {
     "name": "stdout",
     "output_type": "stream",
     "text": [
      "----------Prediction data loaded for tile BJ0076537, year 2021-----------\n",
      "----------Prediction data loaded for tile NA0241035, year 2021-----------\n",
      "----------Prediction data loaded for tile UG0727648, year 2022-----------\n",
      "----------Prediction data loaded for tile NG2496767, year 2022-----------\n",
      "----------Prediction data loaded for tile BJ0111385, year 2017-----------\n",
      "----------Prediction data loaded for tile ZW0317596, year 2020-----------\n",
      "----------Prediction data loaded for tile TZ0050053, year 2021-----------\n",
      "----------Prediction data loaded for tile ET2708309, year 2020-----------\n",
      "----------Prediction data loaded for tile UG0117942, year 2022-----------\n",
      "----------Prediction data loaded for tile BF0533692, year 2023-----------\n"
     ]
    },
    {
     "name": "stderr",
     "output_type": "stream",
     "text": [
      "Processing test tiles:  67%|██████████▋     | 2535/3779 [00:34<00:17, 70.49it/s]"
     ]
    },
    {
     "name": "stdout",
     "output_type": "stream",
     "text": [
      "----------Prediction data loaded for tile AO3063267, year 2019-----------\n",
      "----------Prediction data loaded for tile ET0221273, year 2019-----------\n",
      "----------Prediction data loaded for tile ML3327006, year 2017-----------\n",
      "----------Prediction data loaded for tile NG1677499, year 2022-----------\n",
      "----------Prediction data loaded for tile ZM1379061, year 2020-----------\n"
     ]
    },
    {
     "name": "stderr",
     "output_type": "stream",
     "text": [
      "Processing test tiles:  67%|██████████▊     | 2543/3779 [00:34<00:17, 71.03it/s]"
     ]
    },
    {
     "name": "stdout",
     "output_type": "stream",
     "text": [
      "----------Prediction data loaded for tile MZ0887589, year 2023-----------\n",
      "----------Prediction data loaded for tile MZ0731734, year 2018-----------\n",
      "----------Prediction data loaded for tile ZA0789912, year 2021-----------\n",
      "----------Prediction data loaded for tile ET1573915, year 2021-----------\n",
      "----------Prediction data loaded for tile ET0140703, year 2018-----------\n",
      "----------Prediction data loaded for tile UG0421555, year 2020-----------\n",
      "----------Prediction data loaded for tile NG2377743, year 2017-----------\n",
      "----------Prediction data loaded for tile ET3229506, year 2021-----------\n",
      "----------Prediction data loaded for tile TG0184710, year 2020-----------\n",
      "----------Prediction data loaded for tile ET1927985, year 2020-----------\n"
     ]
    },
    {
     "name": "stderr",
     "output_type": "stream",
     "text": [
      "Processing test tiles:  68%|██████████▊     | 2551/3779 [00:34<00:17, 70.79it/s]"
     ]
    },
    {
     "name": "stdout",
     "output_type": "stream",
     "text": [
      "----------Prediction data loaded for tile ET2531011, year 2019-----------\n",
      "----------Prediction data loaded for tile ZA2701312, year 2019-----------\n",
      "----------Prediction data loaded for tile TZ1703537, year 2017-----------\n",
      "----------Prediction data loaded for tile SD4245626, year 2019-----------\n",
      "----------Prediction data loaded for tile ZA2202161, year 2019-----------\n"
     ]
    },
    {
     "name": "stderr",
     "output_type": "stream",
     "text": [
      "Processing test tiles:  68%|██████████▊     | 2559/3779 [00:34<00:17, 71.17it/s]"
     ]
    },
    {
     "name": "stdout",
     "output_type": "stream",
     "text": [
      "----------Prediction data loaded for tile ET2453726, year 2017-----------\n",
      "----------Prediction data loaded for tile BF0328143, year 2022-----------\n",
      "----------Prediction data loaded for tile AO2598104, year 2017-----------\n",
      "----------Prediction data loaded for tile ET1460295, year 2018-----------\n",
      "----------Prediction data loaded for tile TZ1109694, year 2017-----------\n",
      "----------Prediction data loaded for tile ML3185773, year 2017-----------\n",
      "----------Prediction data loaded for tile NG1097394, year 2022-----------\n",
      "----------Prediction data loaded for tile TZ0832078, year 2017-----------\n",
      "----------Prediction data loaded for tile ML3608183, year 2023-----------\n",
      "----------Prediction data loaded for tile ET1762235, year 2019-----------\n"
     ]
    },
    {
     "name": "stderr",
     "output_type": "stream",
     "text": [
      "Processing test tiles:  68%|██████████▊     | 2567/3779 [00:34<00:16, 71.47it/s]"
     ]
    },
    {
     "name": "stdout",
     "output_type": "stream",
     "text": [
      "----------Prediction data loaded for tile TD4088262, year 2017-----------\n",
      "----------Prediction data loaded for tile CD2111120, year 2017-----------\n",
      "----------Prediction data loaded for tile UG0378553, year 2019-----------\n",
      "----------Prediction data loaded for tile BJ0279284, year 2020-----------\n",
      "----------Prediction data loaded for tile BF0364105, year 2022-----------\n"
     ]
    },
    {
     "name": "stderr",
     "output_type": "stream",
     "text": [
      "Processing test tiles:  68%|██████████▉     | 2575/3779 [00:34<00:16, 71.73it/s]"
     ]
    },
    {
     "name": "stdout",
     "output_type": "stream",
     "text": [
      "----------Prediction data loaded for tile SD4921547, year 2017-----------\n",
      "----------Prediction data loaded for tile AO2594263, year 2017-----------\n",
      "----------Prediction data loaded for tile ML3467452, year 2019-----------\n",
      "----------Prediction data loaded for tile NE3963526, year 2017-----------\n",
      "----------Prediction data loaded for tile NG0065871, year 2022-----------\n",
      "----------Prediction data loaded for tile SN0158782, year 2017-----------\n",
      "----------Prediction data loaded for tile ZA1980328, year 2018-----------\n",
      "----------Prediction data loaded for tile NG1526039, year 2019-----------\n",
      "----------Prediction data loaded for tile ET1215573, year 2017-----------\n",
      "----------Prediction data loaded for tile ML4232951, year 2017-----------\n"
     ]
    },
    {
     "name": "stderr",
     "output_type": "stream",
     "text": [
      "Processing test tiles:  68%|██████████▉     | 2583/3779 [00:34<00:16, 71.78it/s]"
     ]
    },
    {
     "name": "stdout",
     "output_type": "stream",
     "text": [
      "----------Prediction data loaded for tile NG0612380, year 2023-----------\n",
      "----------Prediction data loaded for tile NG1713541, year 2018-----------\n",
      "----------Prediction data loaded for tile NE3338037, year 2021-----------\n",
      "----------Prediction data loaded for tile UG0745895, year 2020-----------\n",
      "----------Prediction data loaded for tile TZ0432724, year 2017-----------\n",
      "----------Prediction data loaded for tile ZA1298325, year 2022-----------\n",
      "----------Prediction data loaded for tile ZW0994022, year 2023-----------\n",
      "----------Prediction data loaded for tile NG0717375, year 2023-----------\n",
      "----------Prediction data loaded for tile SD5170589, year 2022-----------\n",
      "----------Prediction data loaded for tile UG0450428, year 2023-----------\n",
      "----------Prediction data loaded for tile ZW0637696, year 2017-----------\n"
     ]
    },
    {
     "name": "stderr",
     "output_type": "stream",
     "text": [
      "Processing test tiles:  69%|██████████▉     | 2591/3779 [00:35<00:16, 71.95it/s]"
     ]
    },
    {
     "name": "stdout",
     "output_type": "stream",
     "text": [
      "----------Prediction data loaded for tile ZA2164498, year 2019-----------\n",
      "----------Prediction data loaded for tile NG0795827, year 2017-----------\n",
      "----------Prediction data loaded for tile NG2155285, year 2022-----------\n",
      "----------Prediction data loaded for tile CI0125844, year 2020-----------\n"
     ]
    },
    {
     "name": "stderr",
     "output_type": "stream",
     "text": [
      "Processing test tiles:  69%|███████████     | 2599/3779 [00:35<00:16, 72.22it/s]"
     ]
    },
    {
     "name": "stdout",
     "output_type": "stream",
     "text": [
      "----------Prediction data loaded for tile NG1028659, year 2017-----------\n",
      "----------Prediction data loaded for tile ET3122364, year 2019-----------\n",
      "----------Prediction data loaded for tile NE3972301, year 2021-----------\n",
      "----------Prediction data loaded for tile RW0050463, year 2021-----------\n",
      "----------Prediction data loaded for tile NG2348106, year 2019-----------\n",
      "----------Prediction data loaded for tile SN0462611, year 2020-----------\n",
      "----------Prediction data loaded for tile NG0853730, year 2023-----------\n",
      "----------Prediction data loaded for tile ZW0761511, year 2017-----------\n",
      "----------Prediction data loaded for tile MZ0415863, year 2023-----------\n",
      "----------Prediction data loaded for tile TD4161687, year 2017-----------\n",
      "----------Prediction data loaded for tile SD3836493, year 2017-----------\n"
     ]
    },
    {
     "name": "stderr",
     "output_type": "stream",
     "text": [
      "Processing test tiles:  69%|███████████     | 2607/3779 [00:35<00:16, 71.99it/s]"
     ]
    },
    {
     "name": "stdout",
     "output_type": "stream",
     "text": [
      "----------Prediction data loaded for tile NG0557758, year 2020-----------\n",
      "----------Prediction data loaded for tile SL0076973, year 2020-----------\n",
      "----------Prediction data loaded for tile BJ0052283, year 2020-----------\n",
      "----------Prediction data loaded for tile ET1361413, year 2022-----------\n",
      "----------Prediction data loaded for tile TZ0477360, year 2020-----------\n",
      "----------Prediction data loaded for tile NG1747412, year 2021-----------\n",
      "----------Prediction data loaded for tile NE3929265, year 2017-----------\n",
      "----------Prediction data loaded for tile NG0592359, year 2021-----------\n",
      "----------Prediction data loaded for tile NG0161749, year 2017-----------\n"
     ]
    },
    {
     "name": "stderr",
     "output_type": "stream",
     "text": [
      "Processing test tiles:  69%|███████████     | 2615/3779 [00:35<00:16, 72.02it/s]"
     ]
    },
    {
     "name": "stdout",
     "output_type": "stream",
     "text": [
      "----------Prediction data loaded for tile ET0770074, year 2023-----------\n",
      "----------Prediction data loaded for tile ZA0862370, year 2021-----------\n",
      "----------Prediction data loaded for tile ET0949990, year 2022-----------\n",
      "----------Prediction data loaded for tile BF0341608, year 2021-----------\n",
      "----------Prediction data loaded for tile ZW0254209, year 2017-----------\n",
      "----------Prediction data loaded for tile TD3995781, year 2023-----------\n"
     ]
    },
    {
     "name": "stderr",
     "output_type": "stream",
     "text": [
      "Processing test tiles:  69%|███████████     | 2623/3779 [00:35<00:16, 72.02it/s]"
     ]
    },
    {
     "name": "stdout",
     "output_type": "stream",
     "text": [
      "----------Prediction data loaded for tile SO1837432, year 2021-----------\n",
      "----------Prediction data loaded for tile MZ2421809, year 2021-----------\n",
      "----------Prediction data loaded for tile NG0926505, year 2017-----------\n",
      "----------Prediction data loaded for tile NG0314634, year 2017-----------\n",
      "----------Prediction data loaded for tile UG0262986, year 2021-----------\n",
      "----------Prediction data loaded for tile ET2518058, year 2021-----------\n",
      "----------Prediction data loaded for tile SD5001745, year 2017-----------\n",
      "----------Prediction data loaded for tile ML3253319, year 2022-----------\n",
      "----------Prediction data loaded for tile ZW0323729, year 2020-----------\n"
     ]
    },
    {
     "name": "stderr",
     "output_type": "stream",
     "text": [
      "Processing test tiles:  70%|███████████▏    | 2631/3779 [00:35<00:15, 72.14it/s]"
     ]
    },
    {
     "name": "stdout",
     "output_type": "stream",
     "text": [
      "----------Prediction data loaded for tile TD2938834, year 2023-----------\n",
      "----------Prediction data loaded for tile ML3484799, year 2020-----------\n",
      "----------Prediction data loaded for tile NG0099066, year 2017-----------\n",
      "----------Prediction data loaded for tile NG1360379, year 2018-----------\n",
      "----------Prediction data loaded for tile UG0241161, year 2022-----------\n",
      "----------Prediction data loaded for tile ZW0612277, year 2019-----------\n"
     ]
    },
    {
     "name": "stderr",
     "output_type": "stream",
     "text": [
      "Processing test tiles:  70%|███████████▏    | 2639/3779 [00:35<00:15, 72.14it/s]"
     ]
    },
    {
     "name": "stdout",
     "output_type": "stream",
     "text": [
      "----------Prediction data loaded for tile ZM1812357, year 2021-----------\n",
      "----------Prediction data loaded for tile NG0099025, year 2020-----------\n",
      "----------Prediction data loaded for tile ML3604672, year 2019-----------\n",
      "----------Prediction data loaded for tile TD4118933, year 2019-----------\n",
      "----------Prediction data loaded for tile ZM1875519, year 2020-----------\n",
      "----------Prediction data loaded for tile SD6029311, year 2020-----------\n",
      "----------Prediction data loaded for tile SD5251685, year 2019-----------\n",
      "----------Prediction data loaded for tile ZM1381330, year 2021-----------\n",
      "----------Prediction data loaded for tile AO2693170, year 2022-----------\n"
     ]
    },
    {
     "name": "stderr",
     "output_type": "stream",
     "text": [
      "Processing test tiles:  70%|███████████▏    | 2647/3779 [00:35<00:15, 71.99it/s]"
     ]
    },
    {
     "name": "stdout",
     "output_type": "stream",
     "text": [
      "----------Prediction data loaded for tile ZM1688640, year 2021-----------\n",
      "----------Prediction data loaded for tile SD6066072, year 2017-----------\n",
      "----------Prediction data loaded for tile CD6447302, year 2021-----------\n",
      "----------Prediction data loaded for tile NG1739562, year 2017-----------\n",
      "----------Prediction data loaded for tile NG1203908, year 2017-----------\n",
      "----------Prediction data loaded for tile NE3720133, year 2023-----------\n",
      "----------Prediction data loaded for tile NE3145301, year 2022-----------\n",
      "----------Prediction data loaded for tile ZW1091545, year 2022-----------\n",
      "----------Prediction data loaded for tile NG1677254, year 2019-----------\n",
      "----------Prediction data loaded for tile RW0022709, year 2022-----------\n"
     ]
    },
    {
     "name": "stderr",
     "output_type": "stream",
     "text": [
      "Processing test tiles:  70%|███████████▏    | 2655/3779 [00:35<00:15, 72.14it/s]"
     ]
    },
    {
     "name": "stdout",
     "output_type": "stream",
     "text": [
      "----------Prediction data loaded for tile ET1901675, year 2022-----------\n",
      "----------Prediction data loaded for tile ET2167249, year 2022-----------\n",
      "----------Prediction data loaded for tile ET2603437, year 2020-----------\n",
      "----------Prediction data loaded for tile NG1012152, year 2018-----------\n",
      "----------Prediction data loaded for tile NG0877529, year 2018-----------\n"
     ]
    },
    {
     "name": "stderr",
     "output_type": "stream",
     "text": [
      "Processing test tiles:  70%|███████████▎    | 2663/3779 [00:36<00:15, 72.33it/s]"
     ]
    },
    {
     "name": "stdout",
     "output_type": "stream",
     "text": [
      "----------Prediction data loaded for tile NG2318366, year 2017-----------\n",
      "----------Prediction data loaded for tile SD4949438, year 2020-----------\n",
      "----------Prediction data loaded for tile SD5091318, year 2017-----------\n",
      "----------Prediction data loaded for tile SD5758907, year 2020-----------\n",
      "----------Prediction data loaded for tile ET1438195, year 2018-----------\n",
      "----------Prediction data loaded for tile ML3788079, year 2021-----------\n",
      "----------Prediction data loaded for tile ZW0502840, year 2020-----------\n",
      "----------Prediction data loaded for tile KE0725718, year 2019-----------\n",
      "----------Prediction data loaded for tile NG0788929, year 2021-----------\n",
      "----------Prediction data loaded for tile SN0342040, year 2020-----------\n"
     ]
    },
    {
     "name": "stderr",
     "output_type": "stream",
     "text": [
      "Processing test tiles:  71%|███████████▎    | 2671/3779 [00:36<00:15, 72.42it/s]"
     ]
    },
    {
     "name": "stdout",
     "output_type": "stream",
     "text": [
      "----------Prediction data loaded for tile NG1730007, year 2019-----------\n",
      "----------Prediction data loaded for tile UG0181753, year 2020-----------\n",
      "----------Prediction data loaded for tile SD5062375, year 2023-----------\n",
      "----------Prediction data loaded for tile BF0646813, year 2017-----------\n",
      "----------Prediction data loaded for tile NA0428781, year 2018-----------\n"
     ]
    },
    {
     "name": "stderr",
     "output_type": "stream",
     "text": [
      "Processing test tiles:  71%|███████████▎    | 2679/3779 [00:36<00:15, 72.20it/s]"
     ]
    },
    {
     "name": "stdout",
     "output_type": "stream",
     "text": [
      "----------Prediction data loaded for tile ML4041662, year 2020-----------\n",
      "----------Prediction data loaded for tile NG2394047, year 2021-----------\n",
      "----------Prediction data loaded for tile CM0163664, year 2023-----------\n",
      "----------Prediction data loaded for tile ET2318209, year 2021-----------\n",
      "----------Prediction data loaded for tile MW0344455, year 2022-----------\n",
      "----------Prediction data loaded for tile TZ2441903, year 2021-----------\n",
      "----------Prediction data loaded for tile ZM1718115, year 2021-----------\n",
      "----------Prediction data loaded for tile ZM2412656, year 2022-----------\n",
      "----------Prediction data loaded for tile NG0535035, year 2017-----------\n",
      "----------Prediction data loaded for tile KE1204856, year 2023-----------\n"
     ]
    },
    {
     "name": "stderr",
     "output_type": "stream",
     "text": [
      "Processing test tiles:  71%|███████████▍    | 2687/3779 [00:36<00:15, 72.10it/s]"
     ]
    },
    {
     "name": "stdout",
     "output_type": "stream",
     "text": [
      "----------Prediction data loaded for tile CM0082392, year 2018-----------\n",
      "----------Prediction data loaded for tile NG0163337, year 2021-----------\n",
      "----------Prediction data loaded for tile NE3689060, year 2019-----------\n",
      "----------Prediction data loaded for tile NE3881721, year 2023-----------\n",
      "----------Prediction data loaded for tile SN0160363, year 2017-----------\n"
     ]
    },
    {
     "name": "stderr",
     "output_type": "stream",
     "text": [
      "Processing test tiles:  71%|███████████▍    | 2695/3779 [00:36<00:15, 71.72it/s]"
     ]
    },
    {
     "name": "stdout",
     "output_type": "stream",
     "text": [
      "----------Prediction data loaded for tile CM0154791, year 2022-----------\n",
      "----------Prediction data loaded for tile TZ2435939, year 2022-----------\n",
      "----------Prediction data loaded for tile KE1120581, year 2023-----------\n",
      "----------Prediction data loaded for tile NG0756593, year 2023-----------\n",
      "----------Prediction data loaded for tile ML3470954, year 2023-----------\n",
      "----------Prediction data loaded for tile TZ0366564, year 2021-----------\n",
      "----------Prediction data loaded for tile ET1438649, year 2017-----------\n",
      "----------Prediction data loaded for tile TZ1786158, year 2020-----------\n",
      "----------Prediction data loaded for tile TZ1561517, year 2022-----------\n",
      "----------Prediction data loaded for tile SD5382221, year 2019-----------\n"
     ]
    },
    {
     "name": "stderr",
     "output_type": "stream",
     "text": [
      "Processing test tiles:  72%|███████████▍    | 2703/3779 [00:36<00:14, 71.80it/s]"
     ]
    },
    {
     "name": "stdout",
     "output_type": "stream",
     "text": [
      "----------Prediction data loaded for tile SN0521377, year 2020-----------\n",
      "----------Prediction data loaded for tile ZW1171327, year 2023-----------\n",
      "----------Prediction data loaded for tile BF0514381, year 2020-----------\n",
      "----------Prediction data loaded for tile BJ0053804, year 2020-----------\n",
      "----------Prediction data loaded for tile SD5640485, year 2020-----------\n",
      "----------Prediction data loaded for tile SD4744811, year 2017-----------\n",
      "----------Prediction data loaded for tile ET0462257, year 2018-----------\n",
      "----------Prediction data loaded for tile ET0974858, year 2018-----------\n",
      "----------Prediction data loaded for tile TZ2231761, year 2023-----------\n",
      "----------Prediction data loaded for tile BJ0329437, year 2023-----------\n",
      "----------Prediction data loaded for tile ML3819043, year 2017-----------\n"
     ]
    },
    {
     "name": "stderr",
     "output_type": "stream",
     "text": [
      "Processing test tiles:  72%|███████████▍    | 2711/3779 [00:36<00:14, 71.61it/s]"
     ]
    },
    {
     "name": "stdout",
     "output_type": "stream",
     "text": [
      "----------Prediction data loaded for tile MZ0493064, year 2020-----------\n",
      "----------Prediction data loaded for tile AO2125647, year 2022-----------\n",
      "----------Prediction data loaded for tile ZA1785708, year 2022-----------\n",
      "----------Prediction data loaded for tile ET1573199, year 2021-----------\n"
     ]
    },
    {
     "name": "stderr",
     "output_type": "stream",
     "text": [
      "Processing test tiles:  72%|███████████▌    | 2719/3779 [00:36<00:14, 71.80it/s]"
     ]
    },
    {
     "name": "stdout",
     "output_type": "stream",
     "text": [
      "----------Prediction data loaded for tile KE1650479, year 2023-----------\n",
      "----------Prediction data loaded for tile TD4191561, year 2018-----------\n",
      "----------Prediction data loaded for tile ET1565036, year 2022-----------\n",
      "----------Prediction data loaded for tile ZM1376168, year 2018-----------\n",
      "----------Prediction data loaded for tile SO1690460, year 2023-----------\n",
      "----------Prediction data loaded for tile NG0333097, year 2023-----------\n",
      "----------Prediction data loaded for tile BJ0178403, year 2019-----------\n",
      "----------Prediction data loaded for tile BF0075496, year 2017-----------\n",
      "----------Prediction data loaded for tile TZ2435786, year 2023-----------\n",
      "----------Prediction data loaded for tile TZ0220564, year 2017-----------\n",
      "----------Prediction data loaded for tile CM0137707, year 2023-----------\n"
     ]
    },
    {
     "name": "stderr",
     "output_type": "stream",
     "text": [
      "Processing test tiles:  72%|███████████▌    | 2727/3779 [00:36<00:14, 71.92it/s]"
     ]
    },
    {
     "name": "stdout",
     "output_type": "stream",
     "text": [
      "----------Prediction data loaded for tile SD4690862, year 2018-----------\n",
      "----------Prediction data loaded for tile NG1766390, year 2023-----------\n",
      "----------Prediction data loaded for tile BF0826742, year 2020-----------\n",
      "----------Prediction data loaded for tile NG1022041, year 2022-----------\n",
      "----------Prediction data loaded for tile NG1185677, year 2020-----------\n",
      "----------Prediction data loaded for tile SD5382522, year 2017-----------\n",
      "----------Prediction data loaded for tile KE1093906, year 2020-----------\n",
      "----------Prediction data loaded for tile CM0055071, year 2023-----------\n",
      "----------Prediction data loaded for tile ZA2347222, year 2023-----------\n"
     ]
    },
    {
     "name": "stderr",
     "output_type": "stream",
     "text": [
      "Processing test tiles:  72%|███████████▌    | 2735/3779 [00:37<00:14, 72.01it/s]"
     ]
    },
    {
     "name": "stdout",
     "output_type": "stream",
     "text": [
      "----------Prediction data loaded for tile TZ0091507, year 2021-----------\n",
      "----------Prediction data loaded for tile SD5458402, year 2017-----------\n",
      "----------Prediction data loaded for tile ZW1148310, year 2020-----------\n",
      "----------Prediction data loaded for tile NG2380847, year 2019-----------\n",
      "----------Prediction data loaded for tile SD5786170, year 2019-----------\n",
      "----------Prediction data loaded for tile SD5718931, year 2020-----------\n"
     ]
    },
    {
     "name": "stderr",
     "output_type": "stream",
     "text": [
      "Processing test tiles:  73%|███████████▌    | 2743/3779 [00:37<00:14, 71.81it/s]"
     ]
    },
    {
     "name": "stdout",
     "output_type": "stream",
     "text": [
      "----------Prediction data loaded for tile SD5740856, year 2018-----------\n",
      "----------Prediction data loaded for tile RW0008282, year 2022-----------\n",
      "----------Prediction data loaded for tile SD4669027, year 2023-----------\n",
      "----------Prediction data loaded for tile NG2053693, year 2018-----------\n",
      "----------Prediction data loaded for tile NG2473159, year 2017-----------\n",
      "----------Prediction data loaded for tile NG1030970, year 2023-----------\n",
      "----------Prediction data loaded for tile SD5432835, year 2022-----------\n",
      "----------Prediction data loaded for tile SD4555106, year 2018-----------\n",
      "----------Prediction data loaded for tile TZ1608217, year 2023-----------\n"
     ]
    },
    {
     "name": "stderr",
     "output_type": "stream",
     "text": [
      "Processing test tiles:  73%|███████████▋    | 2751/3779 [00:37<00:15, 66.65it/s]"
     ]
    },
    {
     "name": "stdout",
     "output_type": "stream",
     "text": [
      "----------Prediction data loaded for tile ZA0178107, year 2023-----------\n",
      "----------Prediction data loaded for tile NE3932581, year 2022-----------\n",
      "----------Prediction data loaded for tile CF0570962, year 2017-----------\n",
      "----------Prediction data loaded for tile NG1241998, year 2023-----------\n",
      "----------Prediction data loaded for tile ZM1771826, year 2020-----------\n",
      "----------Prediction data loaded for tile NG2733983, year 2022-----------\n"
     ]
    },
    {
     "name": "stderr",
     "output_type": "stream",
     "text": [
      "Processing test tiles:  73%|███████████▋    | 2758/3779 [00:37<00:16, 62.36it/s]"
     ]
    },
    {
     "name": "stdout",
     "output_type": "stream",
     "text": [
      "----------Prediction data loaded for tile NG1873555, year 2017-----------\n",
      "----------Prediction data loaded for tile AO3004341, year 2023-----------\n",
      "----------Prediction data loaded for tile TD4051802, year 2017-----------\n",
      "----------Prediction data loaded for tile NG1290180, year 2020-----------\n",
      "----------Prediction data loaded for tile SD3671475, year 2020-----------\n"
     ]
    },
    {
     "name": "stderr",
     "output_type": "stream",
     "text": [
      "Processing test tiles:  73%|███████████▋    | 2765/3779 [00:37<00:15, 64.20it/s]"
     ]
    },
    {
     "name": "stdout",
     "output_type": "stream",
     "text": [
      "----------Prediction data loaded for tile MZ1095557, year 2022-----------\n",
      "----------Prediction data loaded for tile ZA1140996, year 2017-----------\n",
      "----------Prediction data loaded for tile NG0497451, year 2018-----------\n",
      "----------Prediction data loaded for tile ZM0712559, year 2023-----------\n",
      "----------Prediction data loaded for tile TD3154692, year 2017-----------\n",
      "----------Prediction data loaded for tile TD3774757, year 2019-----------\n",
      "----------Prediction data loaded for tile ET2198048, year 2020-----------\n",
      "----------Prediction data loaded for tile BF0662616, year 2022-----------\n",
      "----------Prediction data loaded for tile CD1203414, year 2020-----------\n",
      "----------Prediction data loaded for tile AO1892294, year 2021-----------\n"
     ]
    },
    {
     "name": "stderr",
     "output_type": "stream",
     "text": [
      "Processing test tiles:  73%|███████████▋    | 2773/3779 [00:37<00:15, 66.36it/s]"
     ]
    },
    {
     "name": "stdout",
     "output_type": "stream",
     "text": [
      "----------Prediction data loaded for tile NG0861721, year 2021-----------\n",
      "----------Prediction data loaded for tile TZ2320652, year 2017-----------\n",
      "----------Prediction data loaded for tile BW1746174, year 2020-----------\n",
      "----------Prediction data loaded for tile ZW0558761, year 2021-----------\n",
      "----------Prediction data loaded for tile AO2924841, year 2021-----------\n"
     ]
    },
    {
     "name": "stderr",
     "output_type": "stream",
     "text": [
      "Processing test tiles:  74%|███████████▊    | 2781/3779 [00:37<00:14, 67.57it/s]"
     ]
    },
    {
     "name": "stdout",
     "output_type": "stream",
     "text": [
      "----------Prediction data loaded for tile ZW0156355, year 2017-----------\n",
      "----------Prediction data loaded for tile ET1660874, year 2020-----------\n",
      "----------Prediction data loaded for tile NG2353303, year 2018-----------\n",
      "----------Prediction data loaded for tile ML3648874, year 2023-----------\n",
      "----------Prediction data loaded for tile NG0652589, year 2017-----------\n",
      "----------Prediction data loaded for tile BF0344342, year 2018-----------\n",
      "----------Prediction data loaded for tile NG1637801, year 2018-----------\n",
      "----------Prediction data loaded for tile SD4632556, year 2022-----------\n",
      "----------Prediction data loaded for tile KE1147376, year 2023-----------\n",
      "----------Prediction data loaded for tile SD5733340, year 2017-----------\n"
     ]
    },
    {
     "name": "stderr",
     "output_type": "stream",
     "text": [
      "Processing test tiles:  74%|███████████▊    | 2789/3779 [00:37<00:14, 68.73it/s]"
     ]
    },
    {
     "name": "stdout",
     "output_type": "stream",
     "text": [
      "----------Prediction data loaded for tile ZW1050333, year 2023-----------\n",
      "----------Prediction data loaded for tile NG0045661, year 2023-----------\n",
      "----------Prediction data loaded for tile SD4843627, year 2017-----------\n",
      "----------Prediction data loaded for tile NE3535339, year 2019-----------\n",
      "----------Prediction data loaded for tile NG1067586, year 2018-----------\n",
      "----------Prediction data loaded for tile NG1077372, year 2023-----------\n",
      "----------Prediction data loaded for tile MZ0624272, year 2017-----------\n",
      "----------Prediction data loaded for tile CM0687014, year 2019-----------\n",
      "----------Prediction data loaded for tile NG1501440, year 2018-----------\n",
      "----------Prediction data loaded for tile ZM2225611, year 2021-----------\n",
      "----------Prediction data loaded for tile ET1387569, year 2017-----------\n"
     ]
    },
    {
     "name": "stderr",
     "output_type": "stream",
     "text": [
      "Processing test tiles:  74%|███████████▊    | 2797/3779 [00:37<00:14, 69.75it/s]"
     ]
    },
    {
     "name": "stdout",
     "output_type": "stream",
     "text": [
      "----------Prediction data loaded for tile ML3601579, year 2017-----------\n",
      "----------Prediction data loaded for tile SN0276572, year 2022-----------\n",
      "----------Prediction data loaded for tile NG0216066, year 2017-----------\n",
      "----------Prediction data loaded for tile MZ0715879, year 2020-----------\n"
     ]
    },
    {
     "name": "stderr",
     "output_type": "stream",
     "text": [
      "Processing test tiles:  74%|███████████▉    | 2805/3779 [00:38<00:13, 69.80it/s]"
     ]
    },
    {
     "name": "stdout",
     "output_type": "stream",
     "text": [
      "----------Prediction data loaded for tile SD5693412, year 2021-----------\n",
      "----------Prediction data loaded for tile KE1383764, year 2018-----------\n",
      "----------Prediction data loaded for tile TZ1637091, year 2021-----------\n",
      "----------Prediction data loaded for tile ZM2280164, year 2019-----------\n",
      "----------Prediction data loaded for tile TD4255226, year 2022-----------\n",
      "----------Prediction data loaded for tile NG1940426, year 2021-----------\n",
      "----------Prediction data loaded for tile NE4000087, year 2021-----------\n",
      "----------Prediction data loaded for tile NG0386886, year 2023-----------\n",
      "----------Prediction data loaded for tile TZ2359764, year 2022-----------\n",
      "----------Prediction data loaded for tile NG1694765, year 2019-----------\n",
      "----------Prediction data loaded for tile AO2213573, year 2019-----------\n"
     ]
    },
    {
     "name": "stderr",
     "output_type": "stream",
     "text": [
      "Processing test tiles:  74%|███████████▉    | 2813/3779 [00:38<00:13, 70.52it/s]"
     ]
    },
    {
     "name": "stdout",
     "output_type": "stream",
     "text": [
      "----------Prediction data loaded for tile SD4861424, year 2019-----------\n",
      "----------Prediction data loaded for tile SN0224014, year 2018-----------\n",
      "----------Prediction data loaded for tile SD5128601, year 2017-----------\n",
      "----------Prediction data loaded for tile ET1601243, year 2017-----------\n",
      "----------Prediction data loaded for tile UG0279779, year 2019-----------\n",
      "----------Prediction data loaded for tile SD5836249, year 2018-----------\n",
      "----------Prediction data loaded for tile ET2209225, year 2018-----------\n",
      "----------Prediction data loaded for tile NG0247891, year 2017-----------\n",
      "----------Prediction data loaded for tile CI0831635, year 2023-----------\n"
     ]
    },
    {
     "name": "stderr",
     "output_type": "stream",
     "text": [
      "Processing test tiles:  75%|███████████▉    | 2821/3779 [00:38<00:13, 71.05it/s]"
     ]
    },
    {
     "name": "stdout",
     "output_type": "stream",
     "text": [
      "----------Prediction data loaded for tile ET1155180, year 2017-----------\n",
      "----------Prediction data loaded for tile ML3242213, year 2017-----------\n",
      "----------Prediction data loaded for tile SD5711960, year 2017-----------\n",
      "----------Prediction data loaded for tile MZ0804322, year 2018-----------\n",
      "----------Prediction data loaded for tile TZ0899542, year 2022-----------\n",
      "----------Prediction data loaded for tile SD4304185, year 2022-----------\n"
     ]
    },
    {
     "name": "stderr",
     "output_type": "stream",
     "text": [
      "Processing test tiles:  75%|███████████▉    | 2829/3779 [00:38<00:13, 71.42it/s]"
     ]
    },
    {
     "name": "stdout",
     "output_type": "stream",
     "text": [
      "----------Prediction data loaded for tile ZA1200535, year 2017-----------\n",
      "----------Prediction data loaded for tile ET3411197, year 2020-----------\n",
      "----------Prediction data loaded for tile NE3183712, year 2020-----------\n",
      "----------Prediction data loaded for tile TD2739817, year 2017-----------\n",
      "----------Prediction data loaded for tile SD4155637, year 2021-----------\n",
      "----------Prediction data loaded for tile ZW0174114, year 2022-----------\n",
      "----------Prediction data loaded for tile SO1562904, year 2022-----------\n",
      "----------Prediction data loaded for tile BF0799099, year 2021-----------\n",
      "----------Prediction data loaded for tile SN0427353, year 2023-----------\n"
     ]
    },
    {
     "name": "stderr",
     "output_type": "stream",
     "text": [
      "Processing test tiles:  75%|████████████    | 2837/3779 [00:38<00:13, 71.45it/s]"
     ]
    },
    {
     "name": "stdout",
     "output_type": "stream",
     "text": [
      "----------Prediction data loaded for tile ZA0990036, year 2022-----------\n",
      "----------Prediction data loaded for tile NG1938066, year 2022-----------\n",
      "----------Prediction data loaded for tile UG0728716, year 2022-----------\n",
      "----------Prediction data loaded for tile NG1717561, year 2023-----------\n",
      "----------Prediction data loaded for tile BJ0034434, year 2020-----------\n",
      "----------Prediction data loaded for tile NG0405348, year 2021-----------\n"
     ]
    },
    {
     "name": "stderr",
     "output_type": "stream",
     "text": [
      "Processing test tiles:  75%|████████████    | 2845/3779 [00:38<00:13, 71.78it/s]"
     ]
    },
    {
     "name": "stdout",
     "output_type": "stream",
     "text": [
      "----------Prediction data loaded for tile ET1424168, year 2020-----------\n",
      "----------Prediction data loaded for tile TZ2913467, year 2020-----------\n",
      "----------Prediction data loaded for tile CI0112794, year 2023-----------\n",
      "----------Prediction data loaded for tile ET0762215, year 2023-----------\n",
      "----------Prediction data loaded for tile ET0757617, year 2022-----------\n",
      "----------Prediction data loaded for tile UG0578450, year 2022-----------\n",
      "----------Prediction data loaded for tile TZ1752942, year 2020-----------\n",
      "----------Prediction data loaded for tile ZW0737501, year 2023-----------\n",
      "----------Prediction data loaded for tile SD4341186, year 2022-----------\n"
     ]
    },
    {
     "name": "stderr",
     "output_type": "stream",
     "text": [
      "Processing test tiles:  75%|████████████    | 2853/3779 [00:38<00:12, 71.92it/s]"
     ]
    },
    {
     "name": "stdout",
     "output_type": "stream",
     "text": [
      "----------Prediction data loaded for tile TZ2803138, year 2019-----------\n",
      "----------Prediction data loaded for tile ZW0833272, year 2020-----------\n",
      "----------Prediction data loaded for tile BI0014188, year 2020-----------\n",
      "----------Prediction data loaded for tile NG1225545, year 2023-----------\n",
      "----------Prediction data loaded for tile ET1406949, year 2019-----------\n",
      "----------Prediction data loaded for tile SD4301576, year 2021-----------\n",
      "----------Prediction data loaded for tile CM0220493, year 2023-----------\n",
      "----------Prediction data loaded for tile SD5326943, year 2019-----------\n",
      "----------Prediction data loaded for tile MZ1863958, year 2019-----------\n",
      "----------Prediction data loaded for tile ZM1061333, year 2017-----------\n"
     ]
    },
    {
     "name": "stderr",
     "output_type": "stream",
     "text": [
      "Processing test tiles:  76%|████████████    | 2861/3779 [00:38<00:12, 71.96it/s]"
     ]
    },
    {
     "name": "stdout",
     "output_type": "stream",
     "text": [
      "----------Prediction data loaded for tile NG1230024, year 2020-----------\n",
      "----------Prediction data loaded for tile BF0632392, year 2022-----------\n",
      "----------Prediction data loaded for tile ET0290190, year 2022-----------\n",
      "----------Prediction data loaded for tile ZW0076004, year 2017-----------\n",
      "----------Prediction data loaded for tile ZM2319591, year 2022-----------\n"
     ]
    },
    {
     "name": "stderr",
     "output_type": "stream",
     "text": [
      "Processing test tiles:  76%|████████████▏   | 2869/3779 [00:38<00:12, 72.17it/s]"
     ]
    },
    {
     "name": "stdout",
     "output_type": "stream",
     "text": [
      "----------Prediction data loaded for tile SD5020905, year 2021-----------\n",
      "----------Prediction data loaded for tile BJ0346146, year 2022-----------\n",
      "----------Prediction data loaded for tile ZW0991471, year 2020-----------\n",
      "----------Prediction data loaded for tile TZ2424675, year 2019-----------\n",
      "----------Prediction data loaded for tile SO0499809, year 2023-----------\n",
      "----------Prediction data loaded for tile CM0317633, year 2017-----------\n",
      "----------Prediction data loaded for tile TD4121464, year 2017-----------\n",
      "----------Prediction data loaded for tile SO1700494, year 2021-----------\n",
      "----------Prediction data loaded for tile NG2450335, year 2022-----------\n",
      "----------Prediction data loaded for tile NG1627866, year 2021-----------\n"
     ]
    },
    {
     "name": "stderr",
     "output_type": "stream",
     "text": [
      "Processing test tiles:  76%|████████████▏   | 2877/3779 [00:39<00:12, 72.24it/s]"
     ]
    },
    {
     "name": "stdout",
     "output_type": "stream",
     "text": [
      "----------Prediction data loaded for tile SD5318085, year 2021-----------\n",
      "----------Prediction data loaded for tile KE1739988, year 2018-----------\n",
      "----------Prediction data loaded for tile AO2482672, year 2019-----------\n",
      "----------Prediction data loaded for tile NG1856521, year 2021-----------\n",
      "----------Prediction data loaded for tile NE3797845, year 2020-----------\n"
     ]
    },
    {
     "name": "stderr",
     "output_type": "stream",
     "text": [
      "Processing test tiles:  76%|████████████▏   | 2885/3779 [00:39<00:12, 72.23it/s]"
     ]
    },
    {
     "name": "stdout",
     "output_type": "stream",
     "text": [
      "----------Prediction data loaded for tile SD5361413, year 2023-----------\n",
      "----------Prediction data loaded for tile MW0341690, year 2023-----------\n",
      "----------Prediction data loaded for tile ZM1380562, year 2018-----------\n",
      "----------Prediction data loaded for tile CI0429255, year 2019-----------\n",
      "----------Prediction data loaded for tile AO3158261, year 2019-----------\n",
      "----------Prediction data loaded for tile SO1422343, year 2022-----------\n",
      "----------Prediction data loaded for tile BI0010307, year 2022-----------\n",
      "----------Prediction data loaded for tile ZM1711489, year 2021-----------\n",
      "----------Prediction data loaded for tile SD5159250, year 2021-----------\n",
      "----------Prediction data loaded for tile UG0670680, year 2021-----------\n"
     ]
    },
    {
     "name": "stderr",
     "output_type": "stream",
     "text": [
      "Processing test tiles:  77%|████████████▏   | 2893/3779 [00:39<00:12, 72.39it/s]"
     ]
    },
    {
     "name": "stdout",
     "output_type": "stream",
     "text": [
      "----------Prediction data loaded for tile NG0145693, year 2023-----------\n",
      "----------Prediction data loaded for tile ZA2141191, year 2020-----------\n",
      "----------Prediction data loaded for tile CI0398521, year 2022-----------\n",
      "----------Prediction data loaded for tile SD4713908, year 2019-----------\n",
      "----------Prediction data loaded for tile ZM2364894, year 2017-----------\n"
     ]
    },
    {
     "name": "stderr",
     "output_type": "stream",
     "text": [
      "Processing test tiles:  77%|████████████▎   | 2901/3779 [00:39<00:12, 72.02it/s]"
     ]
    },
    {
     "name": "stdout",
     "output_type": "stream",
     "text": [
      "----------Prediction data loaded for tile NG1211853, year 2017-----------\n",
      "----------Prediction data loaded for tile SD4225682, year 2021-----------\n",
      "----------Prediction data loaded for tile KE1884693, year 2019-----------\n",
      "----------Prediction data loaded for tile ML3099837, year 2018-----------\n",
      "----------Prediction data loaded for tile SD4912854, year 2023-----------\n",
      "----------Prediction data loaded for tile NG1319599, year 2017-----------\n",
      "----------Prediction data loaded for tile TZ1676102, year 2023-----------\n",
      "----------Prediction data loaded for tile ZM0991493, year 2019-----------\n",
      "----------Prediction data loaded for tile NG0394712, year 2021-----------\n",
      "----------Prediction data loaded for tile AO2313961, year 2020-----------\n"
     ]
    },
    {
     "name": "stderr",
     "output_type": "stream",
     "text": [
      "Processing test tiles:  77%|████████████▎   | 2909/3779 [00:39<00:12, 72.10it/s]"
     ]
    },
    {
     "name": "stdout",
     "output_type": "stream",
     "text": [
      "----------Prediction data loaded for tile TZ1717668, year 2017-----------\n",
      "----------Prediction data loaded for tile NE3493450, year 2020-----------\n",
      "----------Prediction data loaded for tile ET1532413, year 2017-----------\n",
      "----------Prediction data loaded for tile NE3259532, year 2022-----------\n",
      "----------Prediction data loaded for tile ZM1880148, year 2021-----------\n",
      "----------Prediction data loaded for tile ZM2281488, year 2019-----------\n",
      "----------Prediction data loaded for tile ET1049438, year 2020-----------\n",
      "----------Prediction data loaded for tile NG1430448, year 2023-----------\n",
      "----------Prediction data loaded for tile SD7571808, year 2018-----------\n",
      "----------Prediction data loaded for tile NG1726194, year 2023-----------\n"
     ]
    },
    {
     "name": "stderr",
     "output_type": "stream",
     "text": [
      "Processing test tiles:  77%|████████████▎   | 2917/3779 [00:39<00:13, 65.79it/s]"
     ]
    },
    {
     "name": "stdout",
     "output_type": "stream",
     "text": [
      "----------Prediction data loaded for tile SD4279228, year 2019-----------\n",
      "----------Prediction data loaded for tile ZA0667057, year 2019-----------\n",
      "----------Prediction data loaded for tile ZW1193346, year 2020-----------\n",
      "----------Prediction data loaded for tile ML3890674, year 2021-----------\n",
      "----------Prediction data loaded for tile MW0162724, year 2022-----------\n",
      "----------Prediction data loaded for tile ZW0660965, year 2019-----------\n",
      "----------Prediction data loaded for tile AO2812839, year 2021-----------\n",
      "----------Prediction data loaded for tile SD5144043, year 2019-----------\n"
     ]
    },
    {
     "name": "stderr",
     "output_type": "stream",
     "text": [
      "Processing test tiles:  77%|████████████▍   | 2925/3779 [00:39<00:12, 67.55it/s]"
     ]
    },
    {
     "name": "stdout",
     "output_type": "stream",
     "text": [
      "----------Prediction data loaded for tile TZ1176691, year 2019-----------\n",
      "----------Prediction data loaded for tile TD3061640, year 2018-----------\n",
      "----------Prediction data loaded for tile ML4140125, year 2019-----------\n",
      "----------Prediction data loaded for tile AO2416863, year 2020-----------\n",
      "----------Prediction data loaded for tile NE3795613, year 2021-----------\n",
      "----------Prediction data loaded for tile NG0622367, year 2022-----------\n",
      "----------Prediction data loaded for tile NE3853137, year 2022-----------\n"
     ]
    },
    {
     "name": "stderr",
     "output_type": "stream",
     "text": [
      "Processing test tiles:  78%|████████████▍   | 2933/3779 [00:39<00:12, 69.03it/s]"
     ]
    },
    {
     "name": "stdout",
     "output_type": "stream",
     "text": [
      "----------Prediction data loaded for tile SD4487684, year 2021-----------\n",
      "----------Prediction data loaded for tile ZA0918199, year 2018-----------\n",
      "----------Prediction data loaded for tile ET2003082, year 2021-----------\n",
      "----------Prediction data loaded for tile NG1559418, year 2023-----------\n",
      "----------Prediction data loaded for tile SD4042589, year 2020-----------\n",
      "----------Prediction data loaded for tile SN0326327, year 2020-----------\n",
      "----------Prediction data loaded for tile ZA0467840, year 2018-----------\n",
      "----------Prediction data loaded for tile KE1573464, year 2018-----------\n"
     ]
    },
    {
     "name": "stderr",
     "output_type": "stream",
     "text": [
      "Processing test tiles:  78%|████████████▍   | 2940/3779 [00:39<00:12, 69.27it/s]"
     ]
    },
    {
     "name": "stdout",
     "output_type": "stream",
     "text": [
      "----------Prediction data loaded for tile NG1717234, year 2020-----------\n",
      "----------Prediction data loaded for tile SD5471292, year 2022-----------\n",
      "----------Prediction data loaded for tile ER0309704, year 2023-----------\n",
      "----------Prediction data loaded for tile TZ0459589, year 2023-----------\n",
      "----------Prediction data loaded for tile CD3728579, year 2018-----------\n",
      "----------Prediction data loaded for tile SD5660214, year 2022-----------\n",
      "----------Prediction data loaded for tile NE3871705, year 2017-----------\n"
     ]
    },
    {
     "name": "stderr",
     "output_type": "stream",
     "text": [
      "Processing test tiles:  78%|████████████▍   | 2948/3779 [00:40<00:11, 70.32it/s]"
     ]
    },
    {
     "name": "stdout",
     "output_type": "stream",
     "text": [
      "----------Prediction data loaded for tile TD4088582, year 2020-----------\n",
      "----------Prediction data loaded for tile NG0910122, year 2019-----------\n",
      "----------Prediction data loaded for tile ZM1311683, year 2022-----------\n",
      "----------Prediction data loaded for tile NG2518912, year 2019-----------\n",
      "----------Prediction data loaded for tile ZM1486471, year 2021-----------\n",
      "----------Prediction data loaded for tile ZW0167002, year 2022-----------\n",
      "----------Prediction data loaded for tile BJ0219988, year 2018-----------\n",
      "----------Prediction data loaded for tile ET1549399, year 2019-----------\n"
     ]
    },
    {
     "name": "stderr",
     "output_type": "stream",
     "text": [
      "Processing test tiles:  78%|████████████▌   | 2956/3779 [00:40<00:11, 70.90it/s]"
     ]
    },
    {
     "name": "stdout",
     "output_type": "stream",
     "text": [
      "----------Prediction data loaded for tile TZ1501920, year 2021-----------\n",
      "----------Prediction data loaded for tile SD4532091, year 2019-----------\n",
      "----------Prediction data loaded for tile UG0413346, year 2022-----------\n",
      "----------Prediction data loaded for tile TG0022083, year 2017-----------\n",
      "----------Prediction data loaded for tile SD6080797, year 2020-----------\n",
      "----------Prediction data loaded for tile MZ0456680, year 2020-----------\n",
      "----------Prediction data loaded for tile TZ1948625, year 2018-----------\n",
      "----------Prediction data loaded for tile ET1740822, year 2020-----------\n",
      "----------Prediction data loaded for tile ER0257831, year 2017-----------\n",
      "----------Prediction data loaded for tile ET0539872, year 2020-----------\n"
     ]
    },
    {
     "name": "stderr",
     "output_type": "stream",
     "text": [
      "Processing test tiles:  78%|████████████▌   | 2964/3779 [00:40<00:11, 71.34it/s]"
     ]
    },
    {
     "name": "stdout",
     "output_type": "stream",
     "text": [
      "----------Prediction data loaded for tile TZ0954433, year 2019-----------\n",
      "----------Prediction data loaded for tile ML3723262, year 2019-----------\n",
      "----------Prediction data loaded for tile NG2117298, year 2023-----------\n",
      "----------Prediction data loaded for tile SD4498349, year 2021-----------\n",
      "----------Prediction data loaded for tile TZ0633371, year 2022-----------\n"
     ]
    },
    {
     "name": "stderr",
     "output_type": "stream",
     "text": [
      "Processing test tiles:  79%|████████████▌   | 2972/3779 [00:40<00:11, 71.40it/s]"
     ]
    },
    {
     "name": "stdout",
     "output_type": "stream",
     "text": [
      "----------Prediction data loaded for tile MZ2658981, year 2021-----------\n",
      "----------Prediction data loaded for tile NG1698912, year 2021-----------\n",
      "----------Prediction data loaded for tile BF0571759, year 2023-----------\n",
      "----------Prediction data loaded for tile KE1144153, year 2018-----------\n",
      "----------Prediction data loaded for tile NG0792351, year 2018-----------\n",
      "----------Prediction data loaded for tile NG0341855, year 2019-----------\n",
      "----------Prediction data loaded for tile TZ0848460, year 2020-----------\n",
      "----------Prediction data loaded for tile UG0782599, year 2021-----------\n",
      "----------Prediction data loaded for tile SD4855770, year 2023-----------\n",
      "----------Prediction data loaded for tile SD5619717, year 2019-----------\n"
     ]
    },
    {
     "name": "stderr",
     "output_type": "stream",
     "text": [
      "Processing test tiles:  79%|████████████▌   | 2980/3779 [00:40<00:11, 70.30it/s]"
     ]
    },
    {
     "name": "stdout",
     "output_type": "stream",
     "text": [
      "----------Prediction data loaded for tile TZ0389736, year 2022-----------\n",
      "----------Prediction data loaded for tile NA0216483, year 2020-----------\n",
      "----------Prediction data loaded for tile NE3299981, year 2022-----------\n",
      "----------Prediction data loaded for tile TZ1077822, year 2018-----------\n",
      "----------Prediction data loaded for tile UG0408966, year 2017-----------\n"
     ]
    },
    {
     "name": "stderr",
     "output_type": "stream",
     "text": [
      "Processing test tiles:  79%|████████████▋   | 2988/3779 [00:40<00:11, 70.78it/s]"
     ]
    },
    {
     "name": "stdout",
     "output_type": "stream",
     "text": [
      "----------Prediction data loaded for tile ZW0858026, year 2018-----------\n",
      "----------Prediction data loaded for tile SD5293173, year 2022-----------\n",
      "----------Prediction data loaded for tile ZW0682241, year 2017-----------\n",
      "----------Prediction data loaded for tile BJ0043883, year 2020-----------\n",
      "----------Prediction data loaded for tile SN0270330, year 2019-----------\n",
      "----------Prediction data loaded for tile SD5425559, year 2022-----------\n",
      "----------Prediction data loaded for tile ZW0996779, year 2020-----------\n",
      "----------Prediction data loaded for tile NG1068168, year 2023-----------\n",
      "----------Prediction data loaded for tile TZ0624881, year 2020-----------\n",
      "----------Prediction data loaded for tile UG0509929, year 2020-----------\n"
     ]
    },
    {
     "name": "stderr",
     "output_type": "stream",
     "text": [
      "Processing test tiles:  79%|████████████▋   | 2996/3779 [00:40<00:11, 71.11it/s]"
     ]
    },
    {
     "name": "stdout",
     "output_type": "stream",
     "text": [
      "----------Prediction data loaded for tile NA0166187, year 2017-----------\n",
      "----------Prediction data loaded for tile ZA2032536, year 2020-----------\n",
      "----------Prediction data loaded for tile BF0248585, year 2019-----------\n",
      "----------Prediction data loaded for tile ZW1065410, year 2021-----------\n",
      "----------Prediction data loaded for tile TZ1282346, year 2021-----------\n"
     ]
    },
    {
     "name": "stderr",
     "output_type": "stream",
     "text": [
      "Processing test tiles:  79%|████████████▋   | 3004/3779 [00:40<00:10, 71.55it/s]"
     ]
    },
    {
     "name": "stdout",
     "output_type": "stream",
     "text": [
      "----------Prediction data loaded for tile ET1657688, year 2018-----------\n",
      "----------Prediction data loaded for tile ZA1683644, year 2021-----------\n",
      "----------Prediction data loaded for tile ET0866990, year 2020-----------\n",
      "----------Prediction data loaded for tile TD3750155, year 2020-----------\n",
      "----------Prediction data loaded for tile AO2718379, year 2018-----------\n",
      "----------Prediction data loaded for tile NG0531270, year 2019-----------\n",
      "----------Prediction data loaded for tile ZA1018433, year 2019-----------\n",
      "----------Prediction data loaded for tile SD5676016, year 2020-----------\n",
      "----------Prediction data loaded for tile SD3739851, year 2017-----------\n",
      "----------Prediction data loaded for tile NG0394617, year 2019-----------\n"
     ]
    },
    {
     "name": "stderr",
     "output_type": "stream",
     "text": [
      "Processing test tiles:  80%|████████████▊   | 3012/3779 [00:40<00:10, 71.77it/s]"
     ]
    },
    {
     "name": "stdout",
     "output_type": "stream",
     "text": [
      "----------Prediction data loaded for tile BJ0014570, year 2022-----------\n",
      "----------Prediction data loaded for tile NG1460265, year 2017-----------\n",
      "----------Prediction data loaded for tile ZM1005838, year 2023-----------\n",
      "----------Prediction data loaded for tile ZM1697557, year 2023-----------\n",
      "----------Prediction data loaded for tile UG0185402, year 2017-----------\n"
     ]
    },
    {
     "name": "stderr",
     "output_type": "stream",
     "text": [
      "Processing test tiles:  80%|████████████▊   | 3020/3779 [00:41<00:10, 71.92it/s]"
     ]
    },
    {
     "name": "stdout",
     "output_type": "stream",
     "text": [
      "----------Prediction data loaded for tile NG1043844, year 2018-----------\n",
      "----------Prediction data loaded for tile SD5593384, year 2022-----------\n",
      "----------Prediction data loaded for tile ML3620133, year 2017-----------\n",
      "----------Prediction data loaded for tile NG2131874, year 2019-----------\n",
      "----------Prediction data loaded for tile ET2277878, year 2018-----------\n",
      "----------Prediction data loaded for tile ML3819157, year 2018-----------\n",
      "----------Prediction data loaded for tile NG1503048, year 2017-----------\n",
      "----------Prediction data loaded for tile CD5583255, year 2023-----------\n",
      "----------Prediction data loaded for tile ZW0221898, year 2022-----------\n",
      "----------Prediction data loaded for tile UG0430204, year 2021-----------\n"
     ]
    },
    {
     "name": "stderr",
     "output_type": "stream",
     "text": [
      "Processing test tiles:  80%|████████████▊   | 3028/3779 [00:41<00:10, 72.03it/s]"
     ]
    },
    {
     "name": "stdout",
     "output_type": "stream",
     "text": [
      "----------Prediction data loaded for tile NG0578716, year 2019-----------\n",
      "----------Prediction data loaded for tile ZM1402682, year 2020-----------\n",
      "----------Prediction data loaded for tile TZ0153526, year 2017-----------\n",
      "----------Prediction data loaded for tile ZA0864138, year 2021-----------\n",
      "----------Prediction data loaded for tile TZ0590770, year 2019-----------\n",
      "----------Prediction data loaded for tile CI0072400, year 2018-----------\n",
      "----------Prediction data loaded for tile MZ0537786, year 2017-----------\n",
      "----------Prediction data loaded for tile TD2844485, year 2017-----------\n",
      "----------Prediction data loaded for tile BJ0132769, year 2021-----------\n",
      "----------Prediction data loaded for tile TZ0789835, year 2018-----------\n",
      "----------Prediction data loaded for tile NG0394436, year 2018-----------\n",
      "----------Prediction data loaded for tile ET1946909, year 2020-----------\n"
     ]
    },
    {
     "name": "stderr",
     "output_type": "stream",
     "text": [
      "Processing test tiles:  80%|████████████▊   | 3036/3779 [00:41<00:10, 72.25it/s]"
     ]
    },
    {
     "name": "stdout",
     "output_type": "stream",
     "text": [
      "----------Prediction data loaded for tile TZ0937430, year 2020-----------\n",
      "----------Prediction data loaded for tile NG1348217, year 2020-----------\n",
      "----------Prediction data loaded for tile ZW0147090, year 2023-----------\n",
      "----------Prediction data loaded for tile ZA1972589, year 2019-----------\n",
      "----------Prediction data loaded for tile NG0394923, year 2022-----------\n",
      "----------Prediction data loaded for tile TZ0458366, year 2018-----------\n",
      "----------Prediction data loaded for tile TZ2432538, year 2017-----------\n",
      "----------Prediction data loaded for tile CD1157984, year 2021-----------\n"
     ]
    },
    {
     "name": "stderr",
     "output_type": "stream",
     "text": [
      "Processing test tiles:  81%|████████████▉   | 3044/3779 [00:41<00:10, 72.19it/s]"
     ]
    },
    {
     "name": "stdout",
     "output_type": "stream",
     "text": [
      "----------Prediction data loaded for tile TZ2209684, year 2019-----------\n",
      "----------Prediction data loaded for tile KE1351145, year 2020-----------\n",
      "----------Prediction data loaded for tile NG0233303, year 2022-----------\n",
      "----------Prediction data loaded for tile NG1158306, year 2023-----------\n",
      "----------Prediction data loaded for tile SD5948046, year 2019-----------\n",
      "----------Prediction data loaded for tile ET1657907, year 2022-----------\n",
      "----------Prediction data loaded for tile NG2227177, year 2020-----------\n"
     ]
    },
    {
     "name": "stderr",
     "output_type": "stream",
     "text": [
      "Processing test tiles:  81%|████████████▉   | 3052/3779 [00:41<00:10, 72.38it/s]"
     ]
    },
    {
     "name": "stdout",
     "output_type": "stream",
     "text": [
      "----------Prediction data loaded for tile NG0750023, year 2021-----------\n",
      "----------Prediction data loaded for tile NG1600720, year 2022-----------\n",
      "----------Prediction data loaded for tile ET0845551, year 2023-----------\n",
      "----------Prediction data loaded for tile NG0632559, year 2021-----------\n",
      "----------Prediction data loaded for tile ET0572123, year 2021-----------\n",
      "----------Prediction data loaded for tile ZA0245563, year 2022-----------\n",
      "----------Prediction data loaded for tile ML3885058, year 2022-----------\n",
      "----------Prediction data loaded for tile TZ1878480, year 2020-----------\n"
     ]
    },
    {
     "name": "stderr",
     "output_type": "stream",
     "text": [
      "Processing test tiles:  81%|████████████▉   | 3060/3779 [00:41<00:09, 72.47it/s]"
     ]
    },
    {
     "name": "stdout",
     "output_type": "stream",
     "text": [
      "----------Prediction data loaded for tile ZW0440818, year 2020-----------\n",
      "----------Prediction data loaded for tile SD5067768, year 2022-----------\n",
      "----------Prediction data loaded for tile NE3940904, year 2022-----------\n",
      "----------Prediction data loaded for tile TZ2082397, year 2022-----------\n",
      "----------Prediction data loaded for tile ZM1534097, year 2023-----------\n",
      "----------Prediction data loaded for tile NE3635410, year 2021-----------\n",
      "----------Prediction data loaded for tile NG1177677, year 2019-----------\n"
     ]
    },
    {
     "name": "stderr",
     "output_type": "stream",
     "text": [
      "Processing test tiles:  81%|████████████▉   | 3068/3779 [00:41<00:09, 72.42it/s]"
     ]
    },
    {
     "name": "stdout",
     "output_type": "stream",
     "text": [
      "----------Prediction data loaded for tile KE1189892, year 2017-----------\n",
      "----------Prediction data loaded for tile ET1503102, year 2021-----------\n",
      "----------Prediction data loaded for tile NG2295736, year 2018-----------\n",
      "----------Prediction data loaded for tile NG1093469, year 2022-----------\n",
      "----------Prediction data loaded for tile MZ1216951, year 2018-----------\n",
      "----------Prediction data loaded for tile ZM1737336, year 2017-----------\n",
      "----------Prediction data loaded for tile BF0532147, year 2023-----------\n",
      "----------Prediction data loaded for tile SD4195151, year 2017-----------\n"
     ]
    },
    {
     "name": "stderr",
     "output_type": "stream",
     "text": [
      "Processing test tiles:  81%|█████████████   | 3076/3779 [00:41<00:09, 72.44it/s]"
     ]
    },
    {
     "name": "stdout",
     "output_type": "stream",
     "text": [
      "----------Prediction data loaded for tile ET1455258, year 2019-----------\n",
      "----------Prediction data loaded for tile CD5660879, year 2017-----------\n",
      "----------Prediction data loaded for tile SN0561855, year 2018-----------\n",
      "----------Prediction data loaded for tile TZ2412806, year 2020-----------\n",
      "----------Prediction data loaded for tile NG0930352, year 2017-----------\n",
      "----------Prediction data loaded for tile KE1420068, year 2018-----------\n",
      "----------Prediction data loaded for tile NG0332164, year 2019-----------\n",
      "----------Prediction data loaded for tile AO3120286, year 2017-----------\n",
      "----------Prediction data loaded for tile CM0056375, year 2019-----------\n",
      "----------Prediction data loaded for tile SN0459873, year 2021-----------\n"
     ]
    },
    {
     "name": "stderr",
     "output_type": "stream",
     "text": [
      "Processing test tiles:  82%|█████████████   | 3084/3779 [00:41<00:09, 72.41it/s]"
     ]
    },
    {
     "name": "stdout",
     "output_type": "stream",
     "text": [
      "----------Prediction data loaded for tile BF0683134, year 2018-----------\n",
      "----------Prediction data loaded for tile SD4068636, year 2018-----------\n",
      "----------Prediction data loaded for tile AO2513440, year 2018-----------\n",
      "----------Prediction data loaded for tile NE3032846, year 2023-----------\n",
      "----------Prediction data loaded for tile SD3789232, year 2023-----------\n"
     ]
    },
    {
     "name": "stderr",
     "output_type": "stream",
     "text": [
      "Processing test tiles:  82%|█████████████   | 3092/3779 [00:42<00:09, 72.59it/s]"
     ]
    },
    {
     "name": "stdout",
     "output_type": "stream",
     "text": [
      "----------Prediction data loaded for tile BF0383943, year 2017-----------\n",
      "----------Prediction data loaded for tile NG1971089, year 2017-----------\n",
      "----------Prediction data loaded for tile ZW0638469, year 2023-----------\n",
      "----------Prediction data loaded for tile NG1690090, year 2019-----------\n",
      "----------Prediction data loaded for tile KE1471747, year 2019-----------\n",
      "----------Prediction data loaded for tile SN0461720, year 2018-----------\n",
      "----------Prediction data loaded for tile SD4504838, year 2018-----------\n",
      "----------Prediction data loaded for tile TD2894168, year 2020-----------\n",
      "----------Prediction data loaded for tile ZW0865974, year 2019-----------\n",
      "----------Prediction data loaded for tile ZW0937116, year 2023-----------\n"
     ]
    },
    {
     "name": "stderr",
     "output_type": "stream",
     "text": [
      "Processing test tiles:  82%|█████████████▏  | 3100/3779 [00:42<00:09, 72.46it/s]"
     ]
    },
    {
     "name": "stdout",
     "output_type": "stream",
     "text": [
      "----------Prediction data loaded for tile NG0644471, year 2023-----------\n",
      "----------Prediction data loaded for tile MZ1916144, year 2018-----------\n",
      "----------Prediction data loaded for tile TZ0451827, year 2023-----------\n",
      "----------Prediction data loaded for tile ZW0746677, year 2018-----------\n",
      "----------Prediction data loaded for tile BJ0328333, year 2019-----------\n"
     ]
    },
    {
     "name": "stderr",
     "output_type": "stream",
     "text": [
      "Processing test tiles:  82%|█████████████▏  | 3108/3779 [00:42<00:09, 72.38it/s]"
     ]
    },
    {
     "name": "stdout",
     "output_type": "stream",
     "text": [
      "----------Prediction data loaded for tile NG2642146, year 2020-----------\n",
      "----------Prediction data loaded for tile NG2145431, year 2021-----------\n",
      "----------Prediction data loaded for tile ZM1644831, year 2018-----------\n",
      "----------Prediction data loaded for tile NG2096376, year 2021-----------\n",
      "----------Prediction data loaded for tile BJ0118753, year 2022-----------\n",
      "----------Prediction data loaded for tile SD5590769, year 2022-----------\n",
      "----------Prediction data loaded for tile AO2630111, year 2018-----------\n",
      "----------Prediction data loaded for tile ZA0150315, year 2021-----------\n",
      "----------Prediction data loaded for tile AO3829621, year 2020-----------\n",
      "----------Prediction data loaded for tile TZ0700404, year 2019-----------\n"
     ]
    },
    {
     "name": "stderr",
     "output_type": "stream",
     "text": [
      "Processing test tiles:  82%|█████████████▏  | 3116/3779 [00:42<00:09, 72.10it/s]"
     ]
    },
    {
     "name": "stdout",
     "output_type": "stream",
     "text": [
      "----------Prediction data loaded for tile NE3942982, year 2020-----------\n",
      "----------Prediction data loaded for tile NG2031642, year 2019-----------\n",
      "----------Prediction data loaded for tile BF0501820, year 2018-----------\n",
      "----------Prediction data loaded for tile NG1051334, year 2017-----------\n",
      "----------Prediction data loaded for tile NG1627623, year 2021-----------\n"
     ]
    },
    {
     "name": "stderr",
     "output_type": "stream",
     "text": [
      "Processing test tiles:  83%|█████████████▏  | 3124/3779 [00:42<00:09, 72.15it/s]"
     ]
    },
    {
     "name": "stdout",
     "output_type": "stream",
     "text": [
      "----------Prediction data loaded for tile ZW0144217, year 2020-----------\n",
      "----------Prediction data loaded for tile ZM1827161, year 2019-----------\n",
      "----------Prediction data loaded for tile NG0838816, year 2023-----------\n",
      "----------Prediction data loaded for tile TZ2254368, year 2018-----------\n",
      "----------Prediction data loaded for tile TD3439543, year 2023-----------\n",
      "----------Prediction data loaded for tile CD5129121, year 2021-----------\n",
      "----------Prediction data loaded for tile CD0313482, year 2021-----------\n",
      "----------Prediction data loaded for tile AO2030820, year 2023-----------\n",
      "----------Prediction data loaded for tile TZ2903791, year 2022-----------\n",
      "----------Prediction data loaded for tile NG0802008, year 2019-----------\n"
     ]
    },
    {
     "name": "stderr",
     "output_type": "stream",
     "text": [
      "Processing test tiles:  83%|█████████████▎  | 3132/3779 [00:42<00:08, 72.09it/s]"
     ]
    },
    {
     "name": "stdout",
     "output_type": "stream",
     "text": [
      "----------Prediction data loaded for tile CD4429571, year 2018-----------\n",
      "----------Prediction data loaded for tile CM0226264, year 2023-----------\n",
      "----------Prediction data loaded for tile NE3289247, year 2020-----------\n",
      "----------Prediction data loaded for tile ZW1082254, year 2023-----------\n",
      "----------Prediction data loaded for tile NG1057204, year 2017-----------\n"
     ]
    },
    {
     "name": "stderr",
     "output_type": "stream",
     "text": [
      "Processing test tiles:  83%|█████████████▎  | 3140/3779 [00:42<00:08, 72.24it/s]"
     ]
    },
    {
     "name": "stdout",
     "output_type": "stream",
     "text": [
      "----------Prediction data loaded for tile ZA0665847, year 2021-----------\n",
      "----------Prediction data loaded for tile MZ0735477, year 2022-----------\n",
      "----------Prediction data loaded for tile MW0345550, year 2021-----------\n",
      "----------Prediction data loaded for tile ET1153635, year 2017-----------\n",
      "----------Prediction data loaded for tile SD3960954, year 2023-----------\n",
      "----------Prediction data loaded for tile AO2936449, year 2020-----------\n",
      "----------Prediction data loaded for tile MW0333496, year 2020-----------\n",
      "----------Prediction data loaded for tile SD4136023, year 2018-----------\n",
      "----------Prediction data loaded for tile SD5117678, year 2019-----------\n",
      "----------Prediction data loaded for tile KE1223315, year 2018-----------\n"
     ]
    },
    {
     "name": "stderr",
     "output_type": "stream",
     "text": [
      "Processing test tiles:  83%|█████████████▎  | 3148/3779 [00:42<00:08, 71.98it/s]"
     ]
    },
    {
     "name": "stdout",
     "output_type": "stream",
     "text": [
      "----------Prediction data loaded for tile CD4662475, year 2023-----------\n",
      "----------Prediction data loaded for tile ET2972246, year 2020-----------\n",
      "----------Prediction data loaded for tile NG1675544, year 2020-----------\n",
      "----------Prediction data loaded for tile ZA0988819, year 2018-----------\n",
      "----------Prediction data loaded for tile CD5369739, year 2023-----------\n",
      "----------Prediction data loaded for tile UG0240284, year 2017-----------\n",
      "----------Prediction data loaded for tile ZW0091599, year 2018-----------\n",
      "----------Prediction data loaded for tile TZ1455143, year 2018-----------\n",
      "----------Prediction data loaded for tile ZW0705976, year 2022-----------\n",
      "----------Prediction data loaded for tile MW0130067, year 2020-----------\n",
      "----------Prediction data loaded for tile ZM1983686, year 2018-----------\n",
      "----------Prediction data loaded for tile ET2181566, year 2019-----------\n"
     ]
    },
    {
     "name": "stderr",
     "output_type": "stream",
     "text": [
      "Processing test tiles:  84%|█████████████▎  | 3156/3779 [00:42<00:08, 72.15it/s]"
     ]
    },
    {
     "name": "stdout",
     "output_type": "stream",
     "text": [
      "----------Prediction data loaded for tile CI0769882, year 2019-----------\n",
      "----------Prediction data loaded for tile ET2863510, year 2020-----------\n",
      "----------Prediction data loaded for tile ET1187100, year 2022-----------\n",
      "----------Prediction data loaded for tile NE3896576, year 2020-----------\n",
      "----------Prediction data loaded for tile ET2461699, year 2020-----------\n",
      "----------Prediction data loaded for tile ZW0493008, year 2018-----------\n",
      "----------Prediction data loaded for tile SD4342009, year 2020-----------\n",
      "----------Prediction data loaded for tile NG2284980, year 2023-----------\n"
     ]
    },
    {
     "name": "stderr",
     "output_type": "stream",
     "text": [
      "Processing test tiles:  84%|█████████████▍  | 3164/3779 [00:43<00:08, 72.06it/s]"
     ]
    },
    {
     "name": "stdout",
     "output_type": "stream",
     "text": [
      "----------Prediction data loaded for tile CI0150491, year 2021-----------\n",
      "----------Prediction data loaded for tile ET2451361, year 2022-----------\n",
      "----------Prediction data loaded for tile ET2097939, year 2020-----------\n",
      "----------Prediction data loaded for tile NG0895319, year 2017-----------\n",
      "----------Prediction data loaded for tile KE1195629, year 2020-----------\n",
      "----------Prediction data loaded for tile MZ0410837, year 2020-----------\n",
      "----------Prediction data loaded for tile ZM1750703, year 2022-----------\n"
     ]
    },
    {
     "name": "stderr",
     "output_type": "stream",
     "text": [
      "Processing test tiles:  84%|█████████████▍  | 3172/3779 [00:43<00:08, 72.09it/s]"
     ]
    },
    {
     "name": "stdout",
     "output_type": "stream",
     "text": [
      "----------Prediction data loaded for tile ZA1562660, year 2021-----------\n",
      "----------Prediction data loaded for tile KE1583076, year 2020-----------\n",
      "----------Prediction data loaded for tile KE0819399, year 2021-----------\n",
      "----------Prediction data loaded for tile SD4481972, year 2021-----------\n",
      "----------Prediction data loaded for tile NG2004523, year 2022-----------\n",
      "----------Prediction data loaded for tile UG0401590, year 2017-----------\n",
      "----------Prediction data loaded for tile UG0255063, year 2020-----------\n",
      "----------Prediction data loaded for tile KE0828416, year 2018-----------\n"
     ]
    },
    {
     "name": "stderr",
     "output_type": "stream",
     "text": [
      "Processing test tiles:  84%|█████████████▍  | 3180/3779 [00:43<00:08, 72.26it/s]"
     ]
    },
    {
     "name": "stdout",
     "output_type": "stream",
     "text": [
      "----------Prediction data loaded for tile AO0277614, year 2023-----------\n",
      "----------Prediction data loaded for tile AO2888189, year 2017-----------\n",
      "----------Prediction data loaded for tile BF0737190, year 2022-----------\n",
      "----------Prediction data loaded for tile NG1246940, year 2019-----------\n",
      "----------Prediction data loaded for tile ET1261460, year 2022-----------\n",
      "----------Prediction data loaded for tile NG1473839, year 2018-----------\n",
      "----------Prediction data loaded for tile NG0669056, year 2017-----------\n"
     ]
    },
    {
     "name": "stderr",
     "output_type": "stream",
     "text": [
      "Processing test tiles:  84%|█████████████▍  | 3188/3779 [00:43<00:08, 72.00it/s]"
     ]
    },
    {
     "name": "stdout",
     "output_type": "stream",
     "text": [
      "----------Prediction data loaded for tile UG0125148, year 2021-----------\n",
      "----------Prediction data loaded for tile KE1374070, year 2021-----------\n",
      "----------Prediction data loaded for tile AO2691266, year 2022-----------\n",
      "----------Prediction data loaded for tile BJ0232638, year 2021-----------\n",
      "----------Prediction data loaded for tile ZM2289147, year 2017-----------\n",
      "----------Prediction data loaded for tile BF0309180, year 2022-----------\n",
      "----------Prediction data loaded for tile ZA2559016, year 2017-----------\n",
      "----------Prediction data loaded for tile NG2390290, year 2019-----------\n"
     ]
    },
    {
     "name": "stderr",
     "output_type": "stream",
     "text": [
      "Processing test tiles:  85%|█████████████▌  | 3196/3779 [00:43<00:08, 72.20it/s]"
     ]
    },
    {
     "name": "stdout",
     "output_type": "stream",
     "text": [
      "----------Prediction data loaded for tile TZ1560466, year 2023-----------\n",
      "----------Prediction data loaded for tile ZW0862220, year 2018-----------\n",
      "----------Prediction data loaded for tile ET2038516, year 2022-----------\n",
      "----------Prediction data loaded for tile MW0385906, year 2023-----------\n",
      "----------Prediction data loaded for tile TD4073791, year 2017-----------\n",
      "----------Prediction data loaded for tile SD4978325, year 2022-----------\n",
      "----------Prediction data loaded for tile BI0019973, year 2023-----------\n",
      "----------Prediction data loaded for tile TZ0943310, year 2020-----------\n",
      "----------Prediction data loaded for tile KE1283324, year 2021-----------\n",
      "----------Prediction data loaded for tile SD3795067, year 2018-----------\n"
     ]
    },
    {
     "name": "stderr",
     "output_type": "stream",
     "text": [
      "Processing test tiles:  85%|█████████████▌  | 3204/3779 [00:43<00:07, 72.29it/s]"
     ]
    },
    {
     "name": "stdout",
     "output_type": "stream",
     "text": [
      "----------Prediction data loaded for tile SD4685827, year 2017-----------\n",
      "----------Prediction data loaded for tile SD4790106, year 2021-----------\n",
      "----------Prediction data loaded for tile MW0279234, year 2022-----------\n",
      "----------Prediction data loaded for tile ML4072988, year 2023-----------\n",
      "----------Prediction data loaded for tile ZW0227065, year 2019-----------\n"
     ]
    },
    {
     "name": "stderr",
     "output_type": "stream",
     "text": [
      "Processing test tiles:  85%|█████████████▌  | 3212/3779 [00:43<00:07, 72.38it/s]"
     ]
    },
    {
     "name": "stdout",
     "output_type": "stream",
     "text": [
      "----------Prediction data loaded for tile SD4073170, year 2019-----------\n",
      "----------Prediction data loaded for tile CD5744154, year 2022-----------\n",
      "----------Prediction data loaded for tile ZW1005138, year 2020-----------\n",
      "----------Prediction data loaded for tile NG2301993, year 2019-----------\n",
      "----------Prediction data loaded for tile NG0781256, year 2021-----------\n",
      "----------Prediction data loaded for tile UG0782844, year 2018-----------\n",
      "----------Prediction data loaded for tile ET0549328, year 2019-----------\n",
      "----------Prediction data loaded for tile UG0490262, year 2019-----------\n",
      "----------Prediction data loaded for tile NE2993976, year 2020-----------\n",
      "----------Prediction data loaded for tile NG0929233, year 2020-----------\n"
     ]
    },
    {
     "name": "stderr",
     "output_type": "stream",
     "text": [
      "Processing test tiles:  85%|█████████████▋  | 3220/3779 [00:43<00:07, 72.47it/s]"
     ]
    },
    {
     "name": "stdout",
     "output_type": "stream",
     "text": [
      "----------Prediction data loaded for tile NG1832970, year 2020-----------\n",
      "----------Prediction data loaded for tile SD5021251, year 2019-----------\n",
      "----------Prediction data loaded for tile NG0566731, year 2022-----------\n",
      "----------Prediction data loaded for tile CF0509864, year 2021-----------\n",
      "----------Prediction data loaded for tile ZM1222587, year 2023-----------\n"
     ]
    },
    {
     "name": "stderr",
     "output_type": "stream",
     "text": [
      "Processing test tiles:  85%|█████████████▋  | 3228/3779 [00:43<00:07, 72.55it/s]"
     ]
    },
    {
     "name": "stdout",
     "output_type": "stream",
     "text": [
      "----------Prediction data loaded for tile NG0830257, year 2017-----------\n",
      "----------Prediction data loaded for tile TD2918742, year 2017-----------\n",
      "----------Prediction data loaded for tile TZ0359440, year 2019-----------\n",
      "----------Prediction data loaded for tile SD5904026, year 2021-----------\n",
      "----------Prediction data loaded for tile SD5123259, year 2018-----------\n",
      "----------Prediction data loaded for tile SO1678275, year 2021-----------\n",
      "----------Prediction data loaded for tile SN0392849, year 2019-----------\n",
      "----------Prediction data loaded for tile NG1228603, year 2017-----------\n",
      "----------Prediction data loaded for tile TZ1713209, year 2023-----------\n",
      "----------Prediction data loaded for tile TZ1814317, year 2022-----------\n"
     ]
    },
    {
     "name": "stderr",
     "output_type": "stream",
     "text": [
      "Processing test tiles:  86%|█████████████▋  | 3236/3779 [00:44<00:07, 72.52it/s]"
     ]
    },
    {
     "name": "stdout",
     "output_type": "stream",
     "text": [
      "----------Prediction data loaded for tile ZW0771476, year 2019-----------\n",
      "----------Prediction data loaded for tile UG0569881, year 2019-----------\n",
      "----------Prediction data loaded for tile MZ0226774, year 2020-----------\n",
      "----------Prediction data loaded for tile NG0943618, year 2021-----------\n",
      "----------Prediction data loaded for tile ZW0880595, year 2017-----------\n"
     ]
    },
    {
     "name": "stderr",
     "output_type": "stream",
     "text": [
      "Processing test tiles:  86%|█████████████▋  | 3244/3779 [00:44<00:07, 72.58it/s]"
     ]
    },
    {
     "name": "stdout",
     "output_type": "stream",
     "text": [
      "----------Prediction data loaded for tile AO2550802, year 2019-----------\n",
      "----------Prediction data loaded for tile TD4115163, year 2020-----------\n",
      "----------Prediction data loaded for tile SD4501909, year 2022-----------\n",
      "----------Prediction data loaded for tile TZ2389281, year 2019-----------\n",
      "----------Prediction data loaded for tile SD5003771, year 2020-----------\n",
      "----------Prediction data loaded for tile NG2351994, year 2018-----------\n",
      "----------Prediction data loaded for tile TZ0858408, year 2023-----------\n",
      "----------Prediction data loaded for tile TZ2417305, year 2020-----------\n",
      "----------Prediction data loaded for tile NG0470613, year 2018-----------\n",
      "----------Prediction data loaded for tile SD4222212, year 2021-----------\n"
     ]
    },
    {
     "name": "stderr",
     "output_type": "stream",
     "text": [
      "Processing test tiles:  86%|█████████████▊  | 3252/3779 [00:44<00:07, 72.54it/s]"
     ]
    },
    {
     "name": "stdout",
     "output_type": "stream",
     "text": [
      "----------Prediction data loaded for tile NG1356527, year 2018-----------\n",
      "----------Prediction data loaded for tile TZ1307289, year 2023-----------\n",
      "----------Prediction data loaded for tile KE1349621, year 2020-----------\n",
      "----------Prediction data loaded for tile GN0302281, year 2019-----------\n",
      "----------Prediction data loaded for tile CI0450817, year 2019-----------\n"
     ]
    },
    {
     "name": "stderr",
     "output_type": "stream",
     "text": [
      "Processing test tiles:  86%|█████████████▊  | 3260/3779 [00:44<00:07, 72.41it/s]"
     ]
    },
    {
     "name": "stdout",
     "output_type": "stream",
     "text": [
      "----------Prediction data loaded for tile TZ0136211, year 2019-----------\n",
      "----------Prediction data loaded for tile MZ0409753, year 2022-----------\n",
      "----------Prediction data loaded for tile AO2467394, year 2021-----------\n",
      "----------Prediction data loaded for tile NG1276429, year 2019-----------\n",
      "----------Prediction data loaded for tile SN0454982, year 2020-----------\n",
      "----------Prediction data loaded for tile NG0551110, year 2020-----------\n",
      "----------Prediction data loaded for tile CI0093673, year 2020-----------\n",
      "----------Prediction data loaded for tile NG2288621, year 2018-----------\n",
      "----------Prediction data loaded for tile TZ0905045, year 2018-----------\n",
      "----------Prediction data loaded for tile ET0433089, year 2022-----------\n"
     ]
    },
    {
     "name": "stderr",
     "output_type": "stream",
     "text": [
      "Processing test tiles:  86%|█████████████▊  | 3268/3779 [00:44<00:07, 71.68it/s]"
     ]
    },
    {
     "name": "stdout",
     "output_type": "stream",
     "text": [
      "----------Prediction data loaded for tile NG1099167, year 2020-----------\n",
      "----------Prediction data loaded for tile SD3737533, year 2020-----------\n",
      "----------Prediction data loaded for tile NG1229637, year 2017-----------\n",
      "----------Prediction data loaded for tile NG1165108, year 2020-----------\n",
      "----------Prediction data loaded for tile ML3689779, year 2017-----------\n",
      "----------Prediction data loaded for tile NG1735055, year 2021-----------\n",
      "----------Prediction data loaded for tile CI0181894, year 2021-----------\n",
      "----------Prediction data loaded for tile ET1007425, year 2020-----------\n",
      "----------Prediction data loaded for tile KE1458349, year 2023-----------\n",
      "----------Prediction data loaded for tile CD5012574, year 2021-----------\n",
      "----------Prediction data loaded for tile NG0691960, year 2023-----------\n"
     ]
    },
    {
     "name": "stderr",
     "output_type": "stream",
     "text": [
      "Processing test tiles:  87%|█████████████▊  | 3276/3779 [00:44<00:07, 69.74it/s]"
     ]
    },
    {
     "name": "stdout",
     "output_type": "stream",
     "text": [
      "----------Prediction data loaded for tile SN0397311, year 2017-----------\n",
      "----------Prediction data loaded for tile ZA0828460, year 2018-----------\n",
      "----------Prediction data loaded for tile ML4239452, year 2017-----------\n",
      "----------Prediction data loaded for tile NG0467699, year 2019-----------\n",
      "----------Prediction data loaded for tile MZ1157636, year 2019-----------\n",
      "----------Prediction data loaded for tile ZM1581389, year 2021-----------\n",
      "----------Prediction data loaded for tile MZ0884070, year 2019-----------\n",
      "----------Prediction data loaded for tile TZ0322091, year 2017-----------\n"
     ]
    },
    {
     "name": "stderr",
     "output_type": "stream",
     "text": [
      "Processing test tiles:  87%|█████████████▉  | 3284/3779 [00:44<00:07, 69.93it/s]"
     ]
    },
    {
     "name": "stdout",
     "output_type": "stream",
     "text": [
      "----------Prediction data loaded for tile SD4478315, year 2020-----------\n",
      "----------Prediction data loaded for tile MZ0645089, year 2020-----------\n",
      "----------Prediction data loaded for tile KE0821862, year 2022-----------\n",
      "----------Prediction data loaded for tile TD4197225, year 2019-----------\n",
      "----------Prediction data loaded for tile TZ1655432, year 2019-----------\n",
      "----------Prediction data loaded for tile ZW0338682, year 2021-----------\n",
      "----------Prediction data loaded for tile BJ0175666, year 2021-----------\n"
     ]
    },
    {
     "name": "stderr",
     "output_type": "stream",
     "text": [
      "Processing test tiles:  87%|█████████████▉  | 3292/3779 [00:44<00:06, 70.78it/s]"
     ]
    },
    {
     "name": "stdout",
     "output_type": "stream",
     "text": [
      "----------Prediction data loaded for tile UG0511420, year 2017-----------\n",
      "----------Prediction data loaded for tile ML3997923, year 2018-----------\n",
      "----------Prediction data loaded for tile SN0545463, year 2017-----------\n",
      "----------Prediction data loaded for tile NE3316227, year 2021-----------\n",
      "----------Prediction data loaded for tile NG1771430, year 2020-----------\n",
      "----------Prediction data loaded for tile ET0066827, year 2022-----------\n",
      "----------Prediction data loaded for tile BW0522047, year 2022-----------\n",
      "----------Prediction data loaded for tile BF0769560, year 2020-----------\n"
     ]
    },
    {
     "name": "stderr",
     "output_type": "stream",
     "text": [
      "Processing test tiles:  87%|█████████████▉  | 3300/3779 [00:44<00:06, 71.17it/s]"
     ]
    },
    {
     "name": "stdout",
     "output_type": "stream",
     "text": [
      "----------Prediction data loaded for tile ML4000203, year 2019-----------\n",
      "----------Prediction data loaded for tile ML4087917, year 2022-----------\n",
      "----------Prediction data loaded for tile TZ1305508, year 2017-----------\n",
      "----------Prediction data loaded for tile ZA1999272, year 2017-----------\n",
      "----------Prediction data loaded for tile BJ0006001, year 2020-----------\n",
      "----------Prediction data loaded for tile NE3745886, year 2018-----------\n",
      "----------Prediction data loaded for tile ML3722264, year 2018-----------\n",
      "----------Prediction data loaded for tile ZM2052095, year 2023-----------\n",
      "----------Prediction data loaded for tile ET0475663, year 2022-----------\n",
      "----------Prediction data loaded for tile NG1892691, year 2023-----------\n"
     ]
    },
    {
     "name": "stderr",
     "output_type": "stream",
     "text": [
      "Processing test tiles:  88%|██████████████  | 3308/3779 [00:45<00:06, 71.43it/s]"
     ]
    },
    {
     "name": "stdout",
     "output_type": "stream",
     "text": [
      "----------Prediction data loaded for tile TD3908306, year 2023-----------\n",
      "----------Prediction data loaded for tile UG0322402, year 2019-----------\n",
      "----------Prediction data loaded for tile NG0406470, year 2017-----------\n",
      "----------Prediction data loaded for tile ML3823374, year 2021-----------\n",
      "----------Prediction data loaded for tile NG1712484, year 2023-----------\n"
     ]
    },
    {
     "name": "stderr",
     "output_type": "stream",
     "text": [
      "Processing test tiles:  88%|██████████████  | 3316/3779 [00:45<00:06, 71.69it/s]"
     ]
    },
    {
     "name": "stdout",
     "output_type": "stream",
     "text": [
      "----------Prediction data loaded for tile SD4860485, year 2022-----------\n",
      "----------Prediction data loaded for tile TD3401125, year 2020-----------\n",
      "----------Prediction data loaded for tile UG0373010, year 2020-----------\n",
      "----------Prediction data loaded for tile TZ1549948, year 2020-----------\n",
      "----------Prediction data loaded for tile SO1589457, year 2017-----------\n",
      "----------Prediction data loaded for tile ML3543705, year 2022-----------\n",
      "----------Prediction data loaded for tile TZ1149057, year 2022-----------\n",
      "----------Prediction data loaded for tile ER0322632, year 2020-----------\n",
      "----------Prediction data loaded for tile ZW0517075, year 2020-----------\n",
      "----------Prediction data loaded for tile SN0227633, year 2018-----------\n"
     ]
    },
    {
     "name": "stderr",
     "output_type": "stream",
     "text": [
      "Processing test tiles:  88%|██████████████  | 3324/3779 [00:45<00:06, 71.85it/s]"
     ]
    },
    {
     "name": "stdout",
     "output_type": "stream",
     "text": [
      "----------Prediction data loaded for tile ZM2119042, year 2020-----------\n",
      "----------Prediction data loaded for tile TZ2378459, year 2019-----------\n",
      "----------Prediction data loaded for tile TZ2792933, year 2018-----------\n",
      "----------Prediction data loaded for tile MW0249292, year 2018-----------\n",
      "----------Prediction data loaded for tile NG0373606, year 2017-----------\n"
     ]
    },
    {
     "name": "stderr",
     "output_type": "stream",
     "text": [
      "Processing test tiles:  88%|██████████████  | 3332/3779 [00:45<00:06, 71.71it/s]"
     ]
    },
    {
     "name": "stdout",
     "output_type": "stream",
     "text": [
      "----------Prediction data loaded for tile BJ0226013, year 2017-----------\n",
      "----------Prediction data loaded for tile MW0072898, year 2020-----------\n",
      "----------Prediction data loaded for tile ET0783405, year 2021-----------\n",
      "----------Prediction data loaded for tile NG0191942, year 2022-----------\n",
      "----------Prediction data loaded for tile ML3655289, year 2020-----------\n",
      "----------Prediction data loaded for tile SD5283176, year 2020-----------\n",
      "----------Prediction data loaded for tile TZ0091474, year 2019-----------\n",
      "----------Prediction data loaded for tile ZA2453110, year 2021-----------\n",
      "----------Prediction data loaded for tile SD4398929, year 2020-----------\n",
      "----------Prediction data loaded for tile NG1682301, year 2019-----------\n"
     ]
    },
    {
     "name": "stderr",
     "output_type": "stream",
     "text": [
      "Processing test tiles:  88%|██████████████▏ | 3340/3779 [00:45<00:06, 71.89it/s]"
     ]
    },
    {
     "name": "stdout",
     "output_type": "stream",
     "text": [
      "----------Prediction data loaded for tile ET1920142, year 2020-----------\n",
      "----------Prediction data loaded for tile ML4101663, year 2020-----------\n",
      "----------Prediction data loaded for tile NG1122198, year 2020-----------\n",
      "----------Prediction data loaded for tile SD6105224, year 2018-----------\n",
      "----------Prediction data loaded for tile TG0140884, year 2019-----------\n"
     ]
    },
    {
     "name": "stderr",
     "output_type": "stream",
     "text": [
      "Processing test tiles:  89%|██████████████▏ | 3348/3779 [00:45<00:05, 72.12it/s]"
     ]
    },
    {
     "name": "stdout",
     "output_type": "stream",
     "text": [
      "----------Prediction data loaded for tile NG0645153, year 2023-----------\n",
      "----------Prediction data loaded for tile TZ0246479, year 2017-----------\n",
      "----------Prediction data loaded for tile NG0587907, year 2018-----------\n",
      "----------Prediction data loaded for tile GM0017812, year 2022-----------\n",
      "----------Prediction data loaded for tile NG1865601, year 2017-----------\n",
      "----------Prediction data loaded for tile GN0641419, year 2017-----------\n",
      "----------Prediction data loaded for tile LS0074954, year 2022-----------\n",
      "----------Prediction data loaded for tile ET0657641, year 2017-----------\n",
      "----------Prediction data loaded for tile ET0049270, year 2019-----------\n",
      "----------Prediction data loaded for tile ER0168319, year 2021-----------\n"
     ]
    },
    {
     "name": "stderr",
     "output_type": "stream",
     "text": [
      "Processing test tiles:  89%|██████████████▏ | 3356/3779 [00:45<00:05, 72.15it/s]"
     ]
    },
    {
     "name": "stdout",
     "output_type": "stream",
     "text": [
      "----------Prediction data loaded for tile ZA1106487, year 2023-----------\n",
      "----------Prediction data loaded for tile TZ1316385, year 2018-----------\n",
      "----------Prediction data loaded for tile ET1065094, year 2021-----------\n",
      "----------Prediction data loaded for tile TD4112336, year 2017-----------\n",
      "----------Prediction data loaded for tile SD5814885, year 2022-----------\n"
     ]
    },
    {
     "name": "stderr",
     "output_type": "stream",
     "text": [
      "Processing test tiles:  89%|██████████████▏ | 3364/3779 [00:45<00:05, 71.95it/s]"
     ]
    },
    {
     "name": "stdout",
     "output_type": "stream",
     "text": [
      "----------Prediction data loaded for tile SD5330904, year 2023-----------\n",
      "----------Prediction data loaded for tile NG2767645, year 2022-----------\n",
      "----------Prediction data loaded for tile NE3720936, year 2022-----------\n",
      "----------Prediction data loaded for tile NG2724119, year 2017-----------\n",
      "----------Prediction data loaded for tile ZA0990187, year 2021-----------\n",
      "----------Prediction data loaded for tile ET1615367, year 2020-----------\n",
      "----------Prediction data loaded for tile ET2692075, year 2021-----------\n",
      "----------Prediction data loaded for tile ET1102763, year 2018-----------\n",
      "----------Prediction data loaded for tile NG1068371, year 2017-----------\n",
      "----------Prediction data loaded for tile NG0605523, year 2021-----------\n"
     ]
    },
    {
     "name": "stderr",
     "output_type": "stream",
     "text": [
      "Processing test tiles:  89%|██████████████▎ | 3372/3779 [00:45<00:05, 72.03it/s]"
     ]
    },
    {
     "name": "stdout",
     "output_type": "stream",
     "text": [
      "----------Prediction data loaded for tile NG0471189, year 2021-----------\n",
      "----------Prediction data loaded for tile NG0797044, year 2019-----------\n",
      "----------Prediction data loaded for tile CI0419745, year 2020-----------\n",
      "----------Prediction data loaded for tile TZ1018964, year 2019-----------\n",
      "----------Prediction data loaded for tile AO2231118, year 2019-----------\n",
      "----------Prediction data loaded for tile AO3049622, year 2022-----------\n",
      "----------Prediction data loaded for tile AO3197376, year 2021-----------\n",
      "----------Prediction data loaded for tile MZ1243428, year 2020-----------\n",
      "----------Prediction data loaded for tile NG2067264, year 2021-----------\n",
      "----------Prediction data loaded for tile SD3604407, year 2021-----------\n",
      "----------Prediction data loaded for tile NG0256613, year 2018-----------\n",
      "----------Prediction data loaded for tile ML3358147, year 2021-----------\n"
     ]
    },
    {
     "name": "stderr",
     "output_type": "stream",
     "text": [
      "Processing test tiles:  89%|██████████████▎ | 3380/3779 [00:46<00:05, 72.14it/s]"
     ]
    },
    {
     "name": "stdout",
     "output_type": "stream",
     "text": [
      "----------Prediction data loaded for tile UG0301796, year 2017-----------\n",
      "----------Prediction data loaded for tile ET0072949, year 2018-----------\n",
      "----------Prediction data loaded for tile NG2368613, year 2018-----------\n",
      "----------Prediction data loaded for tile UG0452091, year 2019-----------\n",
      "----------Prediction data loaded for tile ML3765301, year 2019-----------\n",
      "----------Prediction data loaded for tile SD4894311, year 2020-----------\n",
      "----------Prediction data loaded for tile ZM1234167, year 2020-----------\n",
      "----------Prediction data loaded for tile KE1564968, year 2019-----------\n"
     ]
    },
    {
     "name": "stderr",
     "output_type": "stream",
     "text": [
      "Processing test tiles:  90%|██████████████▎ | 3388/3779 [00:46<00:05, 71.95it/s]"
     ]
    },
    {
     "name": "stdout",
     "output_type": "stream",
     "text": [
      "----------Prediction data loaded for tile MZ0861650, year 2020-----------\n",
      "----------Prediction data loaded for tile ET1988565, year 2020-----------\n",
      "----------Prediction data loaded for tile UG0120638, year 2020-----------\n",
      "----------Prediction data loaded for tile NG1821561, year 2020-----------\n",
      "----------Prediction data loaded for tile NG2443211, year 2023-----------\n",
      "----------Prediction data loaded for tile NG0523901, year 2022-----------\n",
      "----------Prediction data loaded for tile NG2196628, year 2021-----------\n"
     ]
    },
    {
     "name": "stderr",
     "output_type": "stream",
     "text": [
      "Processing test tiles:  90%|██████████████▍ | 3396/3779 [00:46<00:05, 72.12it/s]"
     ]
    },
    {
     "name": "stdout",
     "output_type": "stream",
     "text": [
      "----------Prediction data loaded for tile TD4029290, year 2017-----------\n",
      "----------Prediction data loaded for tile KE1403422, year 2022-----------\n",
      "----------Prediction data loaded for tile ET0833310, year 2020-----------\n",
      "----------Prediction data loaded for tile ET1677821, year 2018-----------\n",
      "----------Prediction data loaded for tile TD4255973, year 2019-----------\n",
      "----------Prediction data loaded for tile CD6729195, year 2020-----------\n",
      "----------Prediction data loaded for tile BF0699117, year 2021-----------\n",
      "----------Prediction data loaded for tile ZM0814280, year 2023-----------\n"
     ]
    },
    {
     "name": "stderr",
     "output_type": "stream",
     "text": [
      "Processing test tiles:  90%|██████████████▍ | 3404/3779 [00:46<00:05, 71.97it/s]"
     ]
    },
    {
     "name": "stdout",
     "output_type": "stream",
     "text": [
      "----------Prediction data loaded for tile ET1867390, year 2018-----------\n",
      "----------Prediction data loaded for tile NG0863505, year 2018-----------\n",
      "----------Prediction data loaded for tile UG0330117, year 2018-----------\n",
      "----------Prediction data loaded for tile ML4018429, year 2020-----------\n",
      "----------Prediction data loaded for tile BF0537882, year 2019-----------\n",
      "----------Prediction data loaded for tile ZA1346502, year 2022-----------\n",
      "----------Prediction data loaded for tile MZ1615503, year 2023-----------\n"
     ]
    },
    {
     "name": "stderr",
     "output_type": "stream",
     "text": [
      "Processing test tiles:  90%|██████████████▍ | 3412/3779 [00:46<00:05, 72.30it/s]"
     ]
    },
    {
     "name": "stdout",
     "output_type": "stream",
     "text": [
      "----------Prediction data loaded for tile NE3524245, year 2019-----------\n",
      "----------Prediction data loaded for tile SO1940929, year 2017-----------\n",
      "----------Prediction data loaded for tile NG2274161, year 2019-----------\n",
      "----------Prediction data loaded for tile ZA2425952, year 2020-----------\n",
      "----------Prediction data loaded for tile NG0437536, year 2020-----------\n",
      "----------Prediction data loaded for tile NG1549591, year 2023-----------\n",
      "----------Prediction data loaded for tile BJ0118975, year 2022-----------\n",
      "----------Prediction data loaded for tile MZ0577251, year 2017-----------\n"
     ]
    },
    {
     "name": "stderr",
     "output_type": "stream",
     "text": [
      "Processing test tiles:  91%|██████████████▍ | 3420/3779 [00:46<00:04, 72.37it/s]"
     ]
    },
    {
     "name": "stdout",
     "output_type": "stream",
     "text": [
      "----------Prediction data loaded for tile ZA1627834, year 2021-----------\n",
      "----------Prediction data loaded for tile CD3895358, year 2021-----------\n",
      "----------Prediction data loaded for tile ET1046038, year 2017-----------\n",
      "----------Prediction data loaded for tile MW0297462, year 2021-----------\n",
      "----------Prediction data loaded for tile NG1593458, year 2023-----------\n",
      "----------Prediction data loaded for tile NG0447849, year 2017-----------\n",
      "----------Prediction data loaded for tile GA0672439, year 2023-----------\n",
      "----------Prediction data loaded for tile TZ0593022, year 2021-----------\n",
      "----------Prediction data loaded for tile NG0879665, year 2023-----------\n",
      "----------Prediction data loaded for tile TD4016187, year 2022-----------\n"
     ]
    },
    {
     "name": "stderr",
     "output_type": "stream",
     "text": [
      "Processing test tiles:  91%|██████████████▌ | 3428/3779 [00:46<00:04, 72.44it/s]"
     ]
    },
    {
     "name": "stdout",
     "output_type": "stream",
     "text": [
      "----------Prediction data loaded for tile TD4104946, year 2019-----------\n",
      "----------Prediction data loaded for tile SD5262427, year 2020-----------\n",
      "----------Prediction data loaded for tile ET1073230, year 2018-----------\n",
      "----------Prediction data loaded for tile BF0676471, year 2023-----------\n",
      "----------Prediction data loaded for tile TD3358709, year 2019-----------\n"
     ]
    },
    {
     "name": "stderr",
     "output_type": "stream",
     "text": [
      "Processing test tiles:  91%|██████████████▌ | 3436/3779 [00:46<00:04, 72.46it/s]"
     ]
    },
    {
     "name": "stdout",
     "output_type": "stream",
     "text": [
      "----------Prediction data loaded for tile NE3774801, year 2017-----------\n",
      "----------Prediction data loaded for tile ZM1622531, year 2022-----------\n",
      "----------Prediction data loaded for tile TZ1095175, year 2023-----------\n",
      "----------Prediction data loaded for tile NE4012913, year 2017-----------\n",
      "----------Prediction data loaded for tile TD3062550, year 2022-----------\n",
      "----------Prediction data loaded for tile NA0240251, year 2019-----------\n",
      "----------Prediction data loaded for tile ML3097438, year 2018-----------\n",
      "----------Prediction data loaded for tile CM0038184, year 2017-----------\n",
      "----------Prediction data loaded for tile CD5373143, year 2020-----------\n",
      "----------Prediction data loaded for tile NG1866232, year 2017-----------\n"
     ]
    },
    {
     "name": "stderr",
     "output_type": "stream",
     "text": [
      "Processing test tiles:  91%|██████████████▌ | 3444/3779 [00:46<00:04, 72.36it/s]"
     ]
    },
    {
     "name": "stdout",
     "output_type": "stream",
     "text": [
      "----------Prediction data loaded for tile TZ2325679, year 2019-----------\n",
      "----------Prediction data loaded for tile SD4216335, year 2023-----------\n",
      "----------Prediction data loaded for tile CD0623885, year 2019-----------\n",
      "----------Prediction data loaded for tile NG2766538, year 2021-----------\n",
      "----------Prediction data loaded for tile ET0584269, year 2023-----------\n"
     ]
    },
    {
     "name": "stderr",
     "output_type": "stream",
     "text": [
      "Processing test tiles:  91%|██████████████▌ | 3452/3779 [00:47<00:04, 72.30it/s]"
     ]
    },
    {
     "name": "stdout",
     "output_type": "stream",
     "text": [
      "----------Prediction data loaded for tile ZM2167021, year 2019-----------\n",
      "----------Prediction data loaded for tile SD3888834, year 2018-----------\n",
      "----------Prediction data loaded for tile TD4142725, year 2020-----------\n",
      "----------Prediction data loaded for tile BJ0373552, year 2018-----------\n",
      "----------Prediction data loaded for tile NG0423680, year 2023-----------\n",
      "----------Prediction data loaded for tile NG1214759, year 2020-----------\n",
      "----------Prediction data loaded for tile SD4455998, year 2023-----------\n",
      "----------Prediction data loaded for tile ET2947568, year 2018-----------\n",
      "----------Prediction data loaded for tile NG0535992, year 2020-----------\n",
      "----------Prediction data loaded for tile ZA1615084, year 2022-----------\n"
     ]
    },
    {
     "name": "stderr",
     "output_type": "stream",
     "text": [
      "Processing test tiles:  92%|██████████████▋ | 3460/3779 [00:47<00:04, 71.97it/s]"
     ]
    },
    {
     "name": "stdout",
     "output_type": "stream",
     "text": [
      "----------Prediction data loaded for tile MZ1131950, year 2023-----------\n",
      "----------Prediction data loaded for tile TD3097953, year 2021-----------\n",
      "----------Prediction data loaded for tile SD5228348, year 2023-----------\n",
      "----------Prediction data loaded for tile UG0410790, year 2023-----------\n",
      "----------Prediction data loaded for tile TD4177854, year 2017-----------\n"
     ]
    },
    {
     "name": "stderr",
     "output_type": "stream",
     "text": [
      "Processing test tiles:  92%|██████████████▋ | 3468/3779 [00:47<00:04, 72.19it/s]"
     ]
    },
    {
     "name": "stdout",
     "output_type": "stream",
     "text": [
      "----------Prediction data loaded for tile SD5677492, year 2023-----------\n",
      "----------Prediction data loaded for tile NE3673920, year 2021-----------\n",
      "----------Prediction data loaded for tile ZM2161980, year 2019-----------\n",
      "----------Prediction data loaded for tile KE1023042, year 2021-----------\n",
      "----------Prediction data loaded for tile NG1193139, year 2023-----------\n",
      "----------Prediction data loaded for tile NG2638680, year 2020-----------\n",
      "----------Prediction data loaded for tile ET0119823, year 2019-----------\n",
      "----------Prediction data loaded for tile ET2682826, year 2020-----------\n",
      "----------Prediction data loaded for tile CM0285183, year 2019-----------\n",
      "----------Prediction data loaded for tile SD4364341, year 2022-----------\n"
     ]
    },
    {
     "name": "stderr",
     "output_type": "stream",
     "text": [
      "Processing test tiles:  92%|██████████████▋ | 3476/3779 [00:47<00:04, 72.07it/s]"
     ]
    },
    {
     "name": "stdout",
     "output_type": "stream",
     "text": [
      "----------Prediction data loaded for tile CI0708095, year 2019-----------\n",
      "----------Prediction data loaded for tile ET0132868, year 2017-----------\n",
      "----------Prediction data loaded for tile ET0707597, year 2019-----------\n",
      "----------Prediction data loaded for tile BF0355953, year 2017-----------\n",
      "----------Prediction data loaded for tile NG1500340, year 2021-----------\n"
     ]
    },
    {
     "name": "stderr",
     "output_type": "stream",
     "text": [
      "Processing test tiles:  92%|██████████████▊ | 3484/3779 [00:47<00:04, 72.37it/s]"
     ]
    },
    {
     "name": "stdout",
     "output_type": "stream",
     "text": [
      "----------Prediction data loaded for tile ET0731544, year 2022-----------\n",
      "----------Prediction data loaded for tile ET1573147, year 2017-----------\n",
      "----------Prediction data loaded for tile SD4846734, year 2018-----------\n",
      "----------Prediction data loaded for tile NG0296275, year 2022-----------\n",
      "----------Prediction data loaded for tile NG1640283, year 2018-----------\n",
      "----------Prediction data loaded for tile TZ1278412, year 2021-----------\n",
      "----------Prediction data loaded for tile AO2635476, year 2018-----------\n",
      "----------Prediction data loaded for tile TD3365950, year 2023-----------\n",
      "----------Prediction data loaded for tile ZA1955950, year 2023-----------\n",
      "----------Prediction data loaded for tile ZA0875180, year 2023-----------\n"
     ]
    },
    {
     "name": "stderr",
     "output_type": "stream",
     "text": [
      "Processing test tiles:  92%|██████████████▊ | 3492/3779 [00:47<00:03, 72.55it/s]"
     ]
    },
    {
     "name": "stdout",
     "output_type": "stream",
     "text": [
      "----------Prediction data loaded for tile TZ1002024, year 2022-----------\n",
      "----------Prediction data loaded for tile TD4225231, year 2020-----------\n",
      "----------Prediction data loaded for tile NE4020921, year 2022-----------\n",
      "----------Prediction data loaded for tile ET0703211, year 2023-----------\n",
      "----------Prediction data loaded for tile TZ0160526, year 2017-----------\n",
      "----------Prediction data loaded for tile MZ1842792, year 2022-----------\n",
      "----------Prediction data loaded for tile NG1139422, year 2021-----------\n",
      "----------Prediction data loaded for tile ET3212843, year 2021-----------\n",
      "----------Prediction data loaded for tile BI0061942, year 2020-----------\n",
      "----------Prediction data loaded for tile ET2401437, year 2017-----------\n",
      "----------Prediction data loaded for tile NG0491678, year 2021-----------\n",
      "----------Prediction data loaded for tile ZM1939781, year 2017-----------\n"
     ]
    },
    {
     "name": "stderr",
     "output_type": "stream",
     "text": [
      "Processing test tiles:  93%|██████████████▊ | 3500/3779 [00:47<00:03, 72.22it/s]"
     ]
    },
    {
     "name": "stdout",
     "output_type": "stream",
     "text": [
      "----------Prediction data loaded for tile CI0196180, year 2022-----------\n",
      "----------Prediction data loaded for tile AO2985345, year 2018-----------\n",
      "----------Prediction data loaded for tile MW0187032, year 2021-----------\n",
      "----------Prediction data loaded for tile TD4064178, year 2017-----------\n",
      "----------Prediction data loaded for tile CI0251664, year 2021-----------\n",
      "----------Prediction data loaded for tile RW0076750, year 2020-----------\n",
      "----------Prediction data loaded for tile KE0970585, year 2019-----------\n",
      "----------Prediction data loaded for tile TG0111258, year 2020-----------\n"
     ]
    },
    {
     "name": "stderr",
     "output_type": "stream",
     "text": [
      "Processing test tiles:  93%|██████████████▊ | 3508/3779 [00:47<00:03, 72.00it/s]"
     ]
    },
    {
     "name": "stdout",
     "output_type": "stream",
     "text": [
      "----------Prediction data loaded for tile ET0553196, year 2018-----------\n",
      "----------Prediction data loaded for tile NG0721174, year 2017-----------\n",
      "----------Prediction data loaded for tile KE1471716, year 2023-----------\n",
      "----------Prediction data loaded for tile SD5180053, year 2018-----------\n",
      "----------Prediction data loaded for tile KE1082355, year 2017-----------\n",
      "----------Prediction data loaded for tile MW0348499, year 2019-----------\n",
      "----------Prediction data loaded for tile CD1240264, year 2018-----------\n"
     ]
    },
    {
     "name": "stderr",
     "output_type": "stream",
     "text": [
      "Processing test tiles:  93%|██████████████▉ | 3516/3779 [00:47<00:03, 71.69it/s]"
     ]
    },
    {
     "name": "stdout",
     "output_type": "stream",
     "text": [
      "----------Prediction data loaded for tile MZ0702284, year 2022-----------\n",
      "----------Prediction data loaded for tile AO2168028, year 2022-----------\n",
      "----------Prediction data loaded for tile SD6243383, year 2021-----------\n",
      "----------Prediction data loaded for tile SD4301267, year 2023-----------\n",
      "----------Prediction data loaded for tile NG0659246, year 2017-----------\n",
      "----------Prediction data loaded for tile NG0235859, year 2020-----------\n",
      "----------Prediction data loaded for tile MW0328067, year 2023-----------\n",
      "----------Prediction data loaded for tile NG0144329, year 2022-----------\n"
     ]
    },
    {
     "name": "stderr",
     "output_type": "stream",
     "text": [
      "Processing test tiles:  93%|██████████████▉ | 3524/3779 [00:48<00:03, 71.47it/s]"
     ]
    },
    {
     "name": "stdout",
     "output_type": "stream",
     "text": [
      "----------Prediction data loaded for tile ZW0440549, year 2018-----------\n",
      "----------Prediction data loaded for tile NE3886804, year 2019-----------\n",
      "----------Prediction data loaded for tile ML3062149, year 2018-----------\n",
      "----------Prediction data loaded for tile TD3716393, year 2021-----------\n",
      "----------Prediction data loaded for tile ET2356280, year 2017-----------\n",
      "----------Prediction data loaded for tile TD4104923, year 2022-----------\n",
      "----------Prediction data loaded for tile ZW0069763, year 2021-----------\n",
      "----------Prediction data loaded for tile NG0776987, year 2017-----------\n",
      "----------Prediction data loaded for tile UG0406117, year 2023-----------\n"
     ]
    },
    {
     "name": "stderr",
     "output_type": "stream",
     "text": [
      "Processing test tiles:  93%|██████████████▉ | 3532/3779 [00:48<00:03, 69.15it/s]"
     ]
    },
    {
     "name": "stdout",
     "output_type": "stream",
     "text": [
      "----------Prediction data loaded for tile NG1461236, year 2019-----------\n",
      "----------Prediction data loaded for tile TG0140997, year 2018-----------\n",
      "----------Prediction data loaded for tile NG1881670, year 2018-----------\n",
      "----------Prediction data loaded for tile ZW0937922, year 2022-----------\n",
      "----------Prediction data loaded for tile NG0445447, year 2020-----------\n"
     ]
    },
    {
     "name": "stderr",
     "output_type": "stream",
     "text": [
      "Processing test tiles:  94%|██████████████▉ | 3540/3779 [00:48<00:03, 69.97it/s]"
     ]
    },
    {
     "name": "stdout",
     "output_type": "stream",
     "text": [
      "----------Prediction data loaded for tile UG0257998, year 2022-----------\n",
      "----------Prediction data loaded for tile CI0300160, year 2019-----------\n",
      "----------Prediction data loaded for tile BJ0196812, year 2021-----------\n",
      "----------Prediction data loaded for tile NG0178591, year 2018-----------\n",
      "----------Prediction data loaded for tile ZA1605014, year 2018-----------\n",
      "----------Prediction data loaded for tile CD0689049, year 2020-----------\n",
      "----------Prediction data loaded for tile NG0156802, year 2019-----------\n",
      "----------Prediction data loaded for tile SD6098499, year 2023-----------\n",
      "----------Prediction data loaded for tile ET1022415, year 2020-----------\n",
      "----------Prediction data loaded for tile MW0226497, year 2019-----------\n"
     ]
    },
    {
     "name": "stderr",
     "output_type": "stream",
     "text": [
      "Processing test tiles:  94%|███████████████ | 3548/3779 [00:48<00:03, 70.21it/s]"
     ]
    },
    {
     "name": "stdout",
     "output_type": "stream",
     "text": [
      "----------Prediction data loaded for tile CD4515420, year 2019-----------\n",
      "----------Prediction data loaded for tile MW0138658, year 2017-----------\n",
      "----------Prediction data loaded for tile MZ0916839, year 2019-----------\n",
      "----------Prediction data loaded for tile TD4179994, year 2018-----------\n",
      "----------Prediction data loaded for tile ZW0910392, year 2018-----------\n"
     ]
    },
    {
     "name": "stderr",
     "output_type": "stream",
     "text": [
      "Processing test tiles:  94%|███████████████ | 3556/3779 [00:48<00:03, 70.71it/s]"
     ]
    },
    {
     "name": "stdout",
     "output_type": "stream",
     "text": [
      "----------Prediction data loaded for tile ET1817818, year 2021-----------\n",
      "----------Prediction data loaded for tile ET2511011, year 2020-----------\n",
      "----------Prediction data loaded for tile ZA0207997, year 2021-----------\n",
      "----------Prediction data loaded for tile CD0355115, year 2022-----------\n",
      "----------Prediction data loaded for tile NG1327101, year 2018-----------\n",
      "----------Prediction data loaded for tile SN0113336, year 2017-----------\n",
      "----------Prediction data loaded for tile NG0405566, year 2023-----------\n",
      "----------Prediction data loaded for tile ZW0078994, year 2018-----------\n",
      "----------Prediction data loaded for tile BJ0233561, year 2021-----------\n",
      "----------Prediction data loaded for tile SD5201169, year 2021-----------\n"
     ]
    },
    {
     "name": "stderr",
     "output_type": "stream",
     "text": [
      "Processing test tiles:  94%|███████████████ | 3564/3779 [00:48<00:03, 70.82it/s]"
     ]
    },
    {
     "name": "stdout",
     "output_type": "stream",
     "text": [
      "----------Prediction data loaded for tile TZ2354633, year 2021-----------\n",
      "----------Prediction data loaded for tile NE3534696, year 2023-----------\n",
      "----------Prediction data loaded for tile KE1599338, year 2021-----------\n",
      "----------Prediction data loaded for tile UG0164051, year 2017-----------\n",
      "----------Prediction data loaded for tile ET0145518, year 2019-----------\n"
     ]
    },
    {
     "name": "stderr",
     "output_type": "stream",
     "text": [
      "Processing test tiles:  95%|███████████████ | 3572/3779 [00:48<00:02, 71.09it/s]"
     ]
    },
    {
     "name": "stdout",
     "output_type": "stream",
     "text": [
      "----------Prediction data loaded for tile NE3437943, year 2023-----------\n",
      "----------Prediction data loaded for tile MW0108599, year 2017-----------\n",
      "----------Prediction data loaded for tile ZA1279305, year 2022-----------\n",
      "----------Prediction data loaded for tile ZW0595736, year 2022-----------\n",
      "----------Prediction data loaded for tile NE3699179, year 2023-----------\n",
      "----------Prediction data loaded for tile SD4988696, year 2019-----------\n",
      "----------Prediction data loaded for tile ET0167077, year 2018-----------\n",
      "----------Prediction data loaded for tile NG1530834, year 2017-----------\n",
      "----------Prediction data loaded for tile TZ0518335, year 2023-----------\n",
      "----------Prediction data loaded for tile NA0077713, year 2020-----------\n"
     ]
    },
    {
     "name": "stderr",
     "output_type": "stream",
     "text": [
      "Processing test tiles:  95%|███████████████▏| 3580/3779 [00:48<00:02, 69.38it/s]"
     ]
    },
    {
     "name": "stdout",
     "output_type": "stream",
     "text": [
      "----------Prediction data loaded for tile AO2381805, year 2020-----------\n",
      "----------Prediction data loaded for tile ET0449743, year 2018-----------\n",
      "----------Prediction data loaded for tile TZ0347439, year 2018-----------\n",
      "----------Prediction data loaded for tile NG1148214, year 2022-----------\n"
     ]
    },
    {
     "name": "stderr",
     "output_type": "stream",
     "text": [
      "Processing test tiles:  95%|███████████████▏| 3587/3779 [00:49<00:02, 68.38it/s]"
     ]
    },
    {
     "name": "stdout",
     "output_type": "stream",
     "text": [
      "----------Prediction data loaded for tile ER0276571, year 2020-----------\n",
      "----------Prediction data loaded for tile SD4467155, year 2020-----------\n",
      "----------Prediction data loaded for tile UG0410283, year 2020-----------\n",
      "----------Prediction data loaded for tile ML3765796, year 2018-----------\n",
      "----------Prediction data loaded for tile TZ0576901, year 2017-----------\n",
      "----------Prediction data loaded for tile SD5400135, year 2019-----------\n",
      "----------Prediction data loaded for tile ML4144025, year 2020-----------\n",
      "----------Prediction data loaded for tile ET0971945, year 2022-----------\n",
      "----------Prediction data loaded for tile SD5350298, year 2021-----------\n",
      "----------Prediction data loaded for tile CG0936219, year 2018-----------\n",
      "----------Prediction data loaded for tile ET2534131, year 2019-----------\n",
      "----------Prediction data loaded for tile NG1430263, year 2018-----------\n",
      "----------Prediction data loaded for tile ER0211563, year 2021-----------\n",
      "----------Prediction data loaded for tile NG1841790, year 2019-----------\n",
      "----------Prediction data loaded for tile CM0669682, year 2023-----------\n"
     ]
    },
    {
     "name": "stderr",
     "output_type": "stream",
     "text": [
      "Processing test tiles:  95%|███████████████▏| 3595/3779 [00:49<00:02, 69.20it/s]"
     ]
    },
    {
     "name": "stdout",
     "output_type": "stream",
     "text": [
      "----------Prediction data loaded for tile SD4655175, year 2018-----------\n",
      "----------Prediction data loaded for tile ZW0783117, year 2021-----------\n",
      "----------Prediction data loaded for tile NE3461226, year 2018-----------\n",
      "----------Prediction data loaded for tile BF0758602, year 2018-----------\n",
      "----------Prediction data loaded for tile UG0356704, year 2018-----------\n",
      "----------Prediction data loaded for tile ZA1387290, year 2018-----------\n",
      "----------Prediction data loaded for tile UG0164190, year 2022-----------\n"
     ]
    },
    {
     "name": "stderr",
     "output_type": "stream",
     "text": [
      "Processing test tiles:  95%|███████████████▎| 3603/3779 [00:49<00:02, 69.91it/s]"
     ]
    },
    {
     "name": "stdout",
     "output_type": "stream",
     "text": [
      "----------Prediction data loaded for tile AO3024062, year 2023-----------\n",
      "----------Prediction data loaded for tile ET1311171, year 2022-----------\n",
      "----------Prediction data loaded for tile ZW0568845, year 2023-----------\n",
      "----------Prediction data loaded for tile SD7229601, year 2023-----------\n",
      "----------Prediction data loaded for tile CM0101583, year 2020-----------\n",
      "----------Prediction data loaded for tile MW0354074, year 2019-----------\n",
      "----------Prediction data loaded for tile RW0077049, year 2022-----------\n",
      "----------Prediction data loaded for tile NG1501010, year 2021-----------\n"
     ]
    },
    {
     "name": "stderr",
     "output_type": "stream",
     "text": [
      "Processing test tiles:  96%|███████████████▎| 3611/3779 [00:49<00:02, 70.44it/s]"
     ]
    },
    {
     "name": "stdout",
     "output_type": "stream",
     "text": [
      "----------Prediction data loaded for tile CI0119017, year 2020-----------\n",
      "----------Prediction data loaded for tile TD4058111, year 2017-----------\n",
      "----------Prediction data loaded for tile TZ1383745, year 2020-----------\n",
      "----------Prediction data loaded for tile SD4214164, year 2022-----------\n",
      "----------Prediction data loaded for tile ML3157993, year 2018-----------\n",
      "----------Prediction data loaded for tile ET1883138, year 2020-----------\n",
      "----------Prediction data loaded for tile ET2179156, year 2018-----------\n"
     ]
    },
    {
     "name": "stderr",
     "output_type": "stream",
     "text": [
      "Processing test tiles:  96%|███████████████▎| 3619/3779 [00:49<00:02, 70.73it/s]"
     ]
    },
    {
     "name": "stdout",
     "output_type": "stream",
     "text": [
      "----------Prediction data loaded for tile AO2766383, year 2021-----------\n",
      "----------Prediction data loaded for tile ET2189807, year 2018-----------\n",
      "----------Prediction data loaded for tile ET0107774, year 2023-----------\n",
      "----------Prediction data loaded for tile CI0629378, year 2021-----------\n",
      "----------Prediction data loaded for tile AO2043336, year 2018-----------\n",
      "----------Prediction data loaded for tile SD5144147, year 2021-----------\n",
      "----------Prediction data loaded for tile NG1409595, year 2019-----------\n",
      "----------Prediction data loaded for tile TD4105642, year 2022-----------\n"
     ]
    },
    {
     "name": "stderr",
     "output_type": "stream",
     "text": [
      "Processing test tiles:  96%|███████████████▎| 3627/3779 [00:49<00:02, 71.01it/s]"
     ]
    },
    {
     "name": "stdout",
     "output_type": "stream",
     "text": [
      "----------Prediction data loaded for tile ZM2399804, year 2020-----------\n",
      "----------Prediction data loaded for tile SD4966414, year 2022-----------\n",
      "----------Prediction data loaded for tile BF0341833, year 2022-----------\n",
      "----------Prediction data loaded for tile TZ0552813, year 2021-----------\n",
      "----------Prediction data loaded for tile SD3933164, year 2021-----------\n",
      "----------Prediction data loaded for tile ET0922638, year 2020-----------\n",
      "----------Prediction data loaded for tile NG1287790, year 2022-----------\n"
     ]
    },
    {
     "name": "stderr",
     "output_type": "stream",
     "text": [
      "Processing test tiles:  96%|███████████████▍| 3635/3779 [00:49<00:02, 71.31it/s]"
     ]
    },
    {
     "name": "stdout",
     "output_type": "stream",
     "text": [
      "----------Prediction data loaded for tile CM0144707, year 2019-----------\n",
      "----------Prediction data loaded for tile TZ0841618, year 2020-----------\n",
      "----------Prediction data loaded for tile CM0319077, year 2022-----------\n",
      "----------Prediction data loaded for tile ZA0955554, year 2018-----------\n",
      "----------Prediction data loaded for tile SD5873200, year 2023-----------\n",
      "----------Prediction data loaded for tile TD3299963, year 2020-----------\n",
      "----------Prediction data loaded for tile ML3649847, year 2022-----------\n",
      "----------Prediction data loaded for tile NE3458720, year 2017-----------\n"
     ]
    },
    {
     "name": "stderr",
     "output_type": "stream",
     "text": [
      "Processing test tiles:  96%|███████████████▍| 3643/3779 [00:49<00:01, 71.28it/s]"
     ]
    },
    {
     "name": "stdout",
     "output_type": "stream",
     "text": [
      "----------Prediction data loaded for tile SD5897295, year 2021-----------\n",
      "----------Prediction data loaded for tile RW0037223, year 2023-----------\n",
      "----------Prediction data loaded for tile ML3323550, year 2022-----------\n",
      "----------Prediction data loaded for tile ZA0964368, year 2017-----------\n",
      "----------Prediction data loaded for tile NA0097756, year 2023-----------\n",
      "----------Prediction data loaded for tile ML3642736, year 2019-----------\n",
      "----------Prediction data loaded for tile ML3118374, year 2017-----------\n",
      "----------Prediction data loaded for tile CD6919190, year 2017-----------\n",
      "----------Prediction data loaded for tile TD3451142, year 2019-----------\n",
      "----------Prediction data loaded for tile NG2394002, year 2019-----------\n"
     ]
    },
    {
     "name": "stderr",
     "output_type": "stream",
     "text": [
      "Processing test tiles:  97%|███████████████▍| 3651/3779 [00:49<00:01, 71.51it/s]"
     ]
    },
    {
     "name": "stdout",
     "output_type": "stream",
     "text": [
      "----------Prediction data loaded for tile ZW0389872, year 2017-----------\n",
      "----------Prediction data loaded for tile ZW0877856, year 2017-----------\n",
      "----------Prediction data loaded for tile ET0340322, year 2019-----------\n",
      "----------Prediction data loaded for tile MW0181694, year 2023-----------\n",
      "----------Prediction data loaded for tile ET0743119, year 2021-----------\n"
     ]
    },
    {
     "name": "stderr",
     "output_type": "stream",
     "text": [
      "Processing test tiles:  97%|███████████████▍| 3659/3779 [00:50<00:01, 71.69it/s]"
     ]
    },
    {
     "name": "stdout",
     "output_type": "stream",
     "text": [
      "----------Prediction data loaded for tile NG1804164, year 2018-----------\n",
      "----------Prediction data loaded for tile TZ1250926, year 2022-----------\n",
      "----------Prediction data loaded for tile TZ1116905, year 2020-----------\n",
      "----------Prediction data loaded for tile NE3353443, year 2020-----------\n",
      "----------Prediction data loaded for tile SN0653762, year 2019-----------\n",
      "----------Prediction data loaded for tile NG0376977, year 2018-----------\n",
      "----------Prediction data loaded for tile ZM0045680, year 2022-----------\n",
      "----------Prediction data loaded for tile SD3783562, year 2022-----------\n",
      "----------Prediction data loaded for tile SN0377191, year 2017-----------\n",
      "----------Prediction data loaded for tile NG1228843, year 2018-----------\n"
     ]
    },
    {
     "name": "stderr",
     "output_type": "stream",
     "text": [
      "Processing test tiles:  97%|███████████████▌| 3667/3779 [00:50<00:01, 71.66it/s]"
     ]
    },
    {
     "name": "stdout",
     "output_type": "stream",
     "text": [
      "----------Prediction data loaded for tile ZM1070699, year 2021-----------\n",
      "----------Prediction data loaded for tile TD3956551, year 2021-----------\n",
      "----------Prediction data loaded for tile NE3627141, year 2021-----------\n",
      "----------Prediction data loaded for tile NG1082377, year 2022-----------\n",
      "----------Prediction data loaded for tile ET1966091, year 2017-----------\n"
     ]
    },
    {
     "name": "stderr",
     "output_type": "stream",
     "text": [
      "Processing test tiles:  97%|███████████████▌| 3675/3779 [00:50<00:01, 71.63it/s]"
     ]
    },
    {
     "name": "stdout",
     "output_type": "stream",
     "text": [
      "----------Prediction data loaded for tile NG2216714, year 2017-----------\n",
      "----------Prediction data loaded for tile ZM1023171, year 2019-----------\n",
      "----------Prediction data loaded for tile TZ1547823, year 2022-----------\n",
      "----------Prediction data loaded for tile ZM1318175, year 2022-----------\n",
      "----------Prediction data loaded for tile NG1978021, year 2019-----------\n",
      "----------Prediction data loaded for tile ET0042672, year 2019-----------\n",
      "----------Prediction data loaded for tile NE3696273, year 2017-----------\n",
      "----------Prediction data loaded for tile TZ0019214, year 2017-----------\n",
      "----------Prediction data loaded for tile BF0798222, year 2022-----------\n",
      "----------Prediction data loaded for tile ZW0245462, year 2019-----------\n"
     ]
    },
    {
     "name": "stderr",
     "output_type": "stream",
     "text": [
      "Processing test tiles:  97%|███████████████▌| 3683/3779 [00:50<00:01, 71.58it/s]"
     ]
    },
    {
     "name": "stdout",
     "output_type": "stream",
     "text": [
      "----------Prediction data loaded for tile TD4053255, year 2022-----------\n",
      "----------Prediction data loaded for tile NG1899175, year 2017-----------\n",
      "----------Prediction data loaded for tile ZA1529628, year 2021-----------\n",
      "----------Prediction data loaded for tile TD4082759, year 2020-----------\n",
      "----------Prediction data loaded for tile ML3588458, year 2017-----------\n"
     ]
    },
    {
     "name": "stderr",
     "output_type": "stream",
     "text": [
      "Processing test tiles:  98%|███████████████▋| 3691/3779 [00:50<00:01, 71.44it/s]"
     ]
    },
    {
     "name": "stdout",
     "output_type": "stream",
     "text": [
      "----------Prediction data loaded for tile NG1269061, year 2019-----------\n",
      "----------Prediction data loaded for tile ZA2007633, year 2019-----------\n",
      "----------Prediction data loaded for tile MZ0951717, year 2021-----------\n",
      "----------Prediction data loaded for tile ET1409038, year 2017-----------\n",
      "----------Prediction data loaded for tile SD5228464, year 2021-----------\n",
      "----------Prediction data loaded for tile ZA0138230, year 2017-----------\n",
      "----------Prediction data loaded for tile SD4917117, year 2023-----------\n",
      "----------Prediction data loaded for tile CD1511885, year 2021-----------\n",
      "----------Prediction data loaded for tile CD1055480, year 2021-----------\n",
      "----------Prediction data loaded for tile NG1016257, year 2019-----------\n"
     ]
    },
    {
     "name": "stderr",
     "output_type": "stream",
     "text": [
      "Processing test tiles:  98%|███████████████▋| 3699/3779 [00:50<00:01, 71.47it/s]"
     ]
    },
    {
     "name": "stdout",
     "output_type": "stream",
     "text": [
      "----------Prediction data loaded for tile TZ0521160, year 2022-----------\n",
      "----------Prediction data loaded for tile ZW0308888, year 2022-----------\n",
      "----------Prediction data loaded for tile ET0680042, year 2022-----------\n",
      "----------Prediction data loaded for tile ZW0490502, year 2019-----------\n",
      "----------Prediction data loaded for tile ZA1100275, year 2023-----------\n"
     ]
    },
    {
     "name": "stderr",
     "output_type": "stream",
     "text": [
      "Processing test tiles:  98%|███████████████▋| 3707/3779 [00:50<00:01, 71.23it/s]"
     ]
    },
    {
     "name": "stdout",
     "output_type": "stream",
     "text": [
      "----------Prediction data loaded for tile BF0528189, year 2022-----------\n",
      "----------Prediction data loaded for tile ET2596317, year 2022-----------\n",
      "----------Prediction data loaded for tile SD5109912, year 2017-----------\n",
      "----------Prediction data loaded for tile ZW0320949, year 2021-----------\n",
      "----------Prediction data loaded for tile NE3811051, year 2021-----------\n",
      "----------Prediction data loaded for tile MW0102164, year 2019-----------\n",
      "----------Prediction data loaded for tile NG2412604, year 2021-----------\n",
      "----------Prediction data loaded for tile SD4823144, year 2019-----------\n",
      "----------Prediction data loaded for tile MZ1296899, year 2019-----------\n",
      "----------Prediction data loaded for tile CI0141088, year 2020-----------\n"
     ]
    },
    {
     "name": "stderr",
     "output_type": "stream",
     "text": [
      "Processing test tiles:  98%|███████████████▋| 3715/3779 [00:50<00:00, 71.22it/s]"
     ]
    },
    {
     "name": "stdout",
     "output_type": "stream",
     "text": [
      "----------Prediction data loaded for tile NG2442363, year 2023-----------\n",
      "----------Prediction data loaded for tile ZM0825413, year 2018-----------\n",
      "----------Prediction data loaded for tile ZW1012099, year 2019-----------\n",
      "----------Prediction data loaded for tile TZ0083211, year 2020-----------\n",
      "----------Prediction data loaded for tile BF0767945, year 2023-----------\n",
      "----------Prediction data loaded for tile BF0641193, year 2022-----------\n",
      "----------Prediction data loaded for tile UG0498747, year 2021-----------\n",
      "----------Prediction data loaded for tile GM0019946, year 2021-----------\n",
      "----------Prediction data loaded for tile TZ0555717, year 2022-----------\n",
      "----------Prediction data loaded for tile GM0034159, year 2019-----------\n",
      "----------Prediction data loaded for tile ET1543127, year 2018-----------\n",
      "----------Prediction data loaded for tile NG0786647, year 2022-----------\n"
     ]
    },
    {
     "name": "stderr",
     "output_type": "stream",
     "text": [
      "Processing test tiles:  99%|███████████████▊| 3723/3779 [00:50<00:00, 71.34it/s]"
     ]
    },
    {
     "name": "stdout",
     "output_type": "stream",
     "text": [
      "----------Prediction data loaded for tile MZ0931074, year 2023-----------\n",
      "----------Prediction data loaded for tile TZ0783349, year 2018-----------\n",
      "----------Prediction data loaded for tile TZ2223118, year 2018-----------\n",
      "----------Prediction data loaded for tile ET3295219, year 2021-----------\n",
      "----------Prediction data loaded for tile NG1620333, year 2022-----------\n",
      "----------Prediction data loaded for tile NE3085598, year 2017-----------\n",
      "----------Prediction data loaded for tile SD4916706, year 2021-----------\n",
      "----------Prediction data loaded for tile ZM0976281, year 2023-----------\n"
     ]
    },
    {
     "name": "stderr",
     "output_type": "stream",
     "text": [
      "Processing test tiles:  99%|███████████████▊| 3731/3779 [00:51<00:00, 71.44it/s]"
     ]
    },
    {
     "name": "stdout",
     "output_type": "stream",
     "text": [
      "----------Prediction data loaded for tile TD2782410, year 2021-----------\n",
      "----------Prediction data loaded for tile ML4244221, year 2023-----------\n",
      "----------Prediction data loaded for tile MZ0734509, year 2020-----------\n",
      "----------Prediction data loaded for tile ZW0142043, year 2022-----------\n",
      "----------Prediction data loaded for tile CD6448723, year 2020-----------\n",
      "----------Prediction data loaded for tile ZA0978991, year 2022-----------\n",
      "----------Prediction data loaded for tile AO3100605, year 2018-----------\n"
     ]
    },
    {
     "name": "stderr",
     "output_type": "stream",
     "text": [
      "Processing test tiles:  99%|███████████████▊| 3739/3779 [00:51<00:00, 71.56it/s]"
     ]
    },
    {
     "name": "stdout",
     "output_type": "stream",
     "text": [
      "----------Prediction data loaded for tile TD3879485, year 2020-----------\n",
      "----------Prediction data loaded for tile SD5543182, year 2021-----------\n",
      "----------Prediction data loaded for tile NG1609027, year 2023-----------\n",
      "----------Prediction data loaded for tile KE1241926, year 2021-----------\n",
      "----------Prediction data loaded for tile NG0166744, year 2022-----------\n",
      "----------Prediction data loaded for tile NG0540210, year 2021-----------\n",
      "----------Prediction data loaded for tile AO3197336, year 2023-----------\n",
      "----------Prediction data loaded for tile ZM1418910, year 2020-----------\n"
     ]
    },
    {
     "name": "stderr",
     "output_type": "stream",
     "text": [
      "Processing test tiles:  99%|███████████████▊| 3747/3779 [00:51<00:00, 71.48it/s]"
     ]
    },
    {
     "name": "stdout",
     "output_type": "stream",
     "text": [
      "----------Prediction data loaded for tile UG0346244, year 2021-----------\n",
      "----------Prediction data loaded for tile ZM1721341, year 2019-----------\n",
      "----------Prediction data loaded for tile BI0022111, year 2018-----------\n",
      "----------Prediction data loaded for tile NE3571504, year 2019-----------\n",
      "----------Prediction data loaded for tile SD5086231, year 2018-----------\n",
      "----------Prediction data loaded for tile ZW0709457, year 2020-----------\n",
      "----------Prediction data loaded for tile NG1705674, year 2020-----------\n"
     ]
    },
    {
     "name": "stderr",
     "output_type": "stream",
     "text": [
      "Processing test tiles:  99%|███████████████▉| 3755/3779 [00:51<00:00, 71.63it/s]"
     ]
    },
    {
     "name": "stdout",
     "output_type": "stream",
     "text": [
      "----------Prediction data loaded for tile AO2983265, year 2020-----------\n",
      "----------Prediction data loaded for tile ZW0282252, year 2023-----------\n",
      "----------Prediction data loaded for tile NG1319834, year 2018-----------\n",
      "----------Prediction data loaded for tile ML3743946, year 2022-----------\n",
      "----------Prediction data loaded for tile CD1322003, year 2020-----------\n",
      "----------Prediction data loaded for tile ZM1728432, year 2021-----------\n",
      "----------Prediction data loaded for tile ET0488155, year 2022-----------\n",
      "----------Prediction data loaded for tile SN0500178, year 2022-----------\n"
     ]
    },
    {
     "name": "stderr",
     "output_type": "stream",
     "text": [
      "Processing test tiles: 100%|███████████████▉| 3763/3779 [00:51<00:00, 71.27it/s]"
     ]
    },
    {
     "name": "stdout",
     "output_type": "stream",
     "text": [
      "----------Prediction data loaded for tile MZ2053045, year 2017-----------\n",
      "----------Prediction data loaded for tile UG0782200, year 2020-----------\n",
      "----------Prediction data loaded for tile CD4401167, year 2017-----------\n",
      "----------Prediction data loaded for tile KE1253492, year 2023-----------\n",
      "----------Prediction data loaded for tile AO3341068, year 2023-----------\n",
      "----------Prediction data loaded for tile ML3975069, year 2020-----------\n",
      "----------Prediction data loaded for tile NG2570010, year 2017-----------\n",
      "----------Prediction data loaded for tile TZ1138911, year 2018-----------\n",
      "----------Prediction data loaded for tile ET2116251, year 2022-----------\n",
      "----------Prediction data loaded for tile ML3013321, year 2020-----------\n"
     ]
    },
    {
     "name": "stderr",
     "output_type": "stream",
     "text": [
      "Processing test tiles: 100%|███████████████▉| 3771/3779 [00:51<00:00, 71.36it/s]"
     ]
    },
    {
     "name": "stdout",
     "output_type": "stream",
     "text": [
      "----------Prediction data loaded for tile SD4666090, year 2019-----------\n",
      "----------Prediction data loaded for tile NG0761816, year 2019-----------\n",
      "----------Prediction data loaded for tile TZ0714909, year 2017-----------\n",
      "----------Prediction data loaded for tile ET0129793, year 2022-----------\n",
      "----------Prediction data loaded for tile NG1602052, year 2023-----------\n"
     ]
    },
    {
     "name": "stderr",
     "output_type": "stream",
     "text": [
      "Processing test tiles: 100%|████████████████| 3779/3779 [00:51<00:00, 73.11it/s]"
     ]
    },
    {
     "name": "stdout",
     "output_type": "stream",
     "text": [
      "----------Prediction data loaded for tile MR3564087, year 2020-----------\n",
      "----------Prediction data loaded for tile ET0883111, year 2018-----------\n",
      "----------Prediction data loaded for tile NE3795474, year 2022-----------\n",
      "----------Prediction data loaded for tile TD4254042, year 2017-----------\n"
     ]
    },
    {
     "name": "stderr",
     "output_type": "stream",
     "text": [
      "\n"
     ]
    },
    {
     "name": "stdout",
     "output_type": "stream",
     "text": [
      "All test tiles saved to ./pickles/pretrain/test_data.pkl with 3779 total chips\n"
     ]
    }
   ],
   "source": [
    "import os\n",
    "import pickle\n",
    "import pandas as pd\n",
    "from datatorch import *\n",
    "\n",
    "# === Configuration ===\n",
    "catalog_csv = \"./pretrain.csv\"\n",
    "data_path = \"/home/airg/data/labels/cropland\"\n",
    "pickle_dir = \"./pickles/pretrain\"\n",
    "pickle_file = os.path.join(pickle_dir, \"test_data.pkl\")\n",
    "\n",
    "os.makedirs(pickle_dir, exist_ok=True)\n",
    "\n",
    "# === Load catalog and find test rows ===\n",
    "catalog_df = pd.read_csv(catalog_csv)\n",
    "test_indices = catalog_df[catalog_df[\"usage\"] == \"test\"].index\n",
    "\n",
    "# === Initialize containers ===\n",
    "all_chips = []\n",
    "all_chip_indices = []\n",
    "all_image_paths = []\n",
    "all_metadata = []\n",
    "all_tile_ids = []\n",
    "all_years = []\n",
    "\n",
    "# === Loop through each test tile ===\n",
    "for catalog_index in tqdm(test_indices, desc=\"Processing test tiles\"):\n",
    "    dataset = ImageData(\n",
    "        data_path=data_path,\n",
    "        log_dir=\"./logs\",\n",
    "        catalog=catalog_df.copy(),\n",
    "        data_size=224,\n",
    "        buffer=0,              \n",
    "        buffer_comp=0,\n",
    "        usage=\"predict\",\n",
    "        img_path_cols=\"image\",\n",
    "        catalog_index=catalog_index,\n",
    "        apply_normalization=True,\n",
    "        normal_strategy=\"min_max\",\n",
    "        stat_procedure=\"lab\",\n",
    "        global_stats=None,\n",
    "        trans=None,\n",
    "        parallel=False,\n",
    "        clip_val=0\n",
    "    )\n",
    "\n",
    "    # Append each tile’s chips and metadata\n",
    "    all_chips.extend(dataset.img)\n",
    "    all_chip_indices.extend(dataset.index)\n",
    "    all_metadata.extend([dataset.meta] * len(dataset.img))\n",
    "    all_image_paths.extend([dataset.catalog[dataset.img_cols[0]]] * len(dataset.img))\n",
    "    all_tile_ids.extend([dataset.tile] * len(dataset.img))\n",
    "    all_years.extend([dataset.year] * len(dataset.img))\n",
    "\n",
    "# === Final pickle object ===\n",
    "to_save = {\n",
    "    \"chips\": all_chips,\n",
    "    \"chip_indices\": all_chip_indices,\n",
    "    \"metadata\": all_metadata,\n",
    "    \"image_paths\": all_image_paths,\n",
    "    \"tile_ids\": all_tile_ids,\n",
    "    \"years\": all_years\n",
    "}\n",
    "\n",
    "# === Save to file ===\n",
    "with open(pickle_file, \"wb\") as f:\n",
    "    pickle.dump(to_save, f)\n",
    "\n",
    "print(f\"All test tiles saved to {pickle_file} with {len(all_chips)} total chips\")\n"
   ]
  },
  {
   "cell_type": "code",
   "execution_count": 47,
   "id": "81a98e01-4b3a-4adb-b900-1728979a0727",
   "metadata": {
    "collapsed": true,
    "jupyter": {
     "outputs_hidden": true
    },
    "tags": []
   },
   "outputs": [
    {
     "name": "stderr",
     "output_type": "stream",
     "text": [
      "Processing test tiles:  13%|█████████████████████████▏                                                                                                                                                                    | 20/151 [00:00<00:01, 103.21it/s]"
     ]
    },
    {
     "name": "stdout",
     "output_type": "stream",
     "text": [
      "----------Prediction data loaded for tile GH0030800, year 2017-----------\n",
      "GH0030800_2017-02.tif GH0030800_4172_2017-02.tif\n",
      "----------Prediction data loaded for tile GH0041214, year 2020-----------\n",
      "GH0041214_2020-02.tif GH0041214_5300_2020-02.tif\n",
      "----------Prediction data loaded for tile GH0457305, year 2019-----------\n",
      "GH0457305_2019-02.tif GH0457305_6388_2019-02.tif\n",
      "----------Prediction data loaded for tile GH0395862, year 2019-----------\n",
      "GH0395862_2019-02.tif GH0395862_7421_2019-02.tif\n",
      "----------Prediction data loaded for tile GH0662635, year 2018-----------\n",
      "GH0662635_2018-02.tif GH0662635_8508_2018-02.tif\n",
      "----------Prediction data loaded for tile GH0218520, year 2021-----------\n",
      "GH0218520_2021-04.tif GH0218520_9589_2021-04.tif\n",
      "----------Prediction data loaded for tile GH0344048, year 2018-----------\n",
      "GH0344048_2018-02.tif GH0344048_9595_2018-02.tif\n",
      "----------Prediction data loaded for tile GH0187827, year 2022-----------\n",
      "GH0187827_2022-03.tif GH0187827_13974_2022-03.tif\n",
      "----------Prediction data loaded for tile GH0245065, year 2021-----------\n",
      "GH0245065_2021-04.tif GH0245065_13979_2021-04.tif\n",
      "----------Prediction data loaded for tile GH0307766, year 2022-----------\n",
      "GH0307766_2022-12.tif GH0307766_13984_2022-12.tif\n",
      "----------Prediction data loaded for tile GH0012756, year 2017-----------\n",
      "GH0012756_2017-02.tif GH0012756_16005_2017-02.tif\n",
      "----------Prediction data loaded for tile GH0086254, year 2018-----------\n",
      "GH0086254_2018-08.tif GH0086254_17017_2018-08.tif\n",
      "----------Prediction data loaded for tile GH0199239, year 2018-----------\n",
      "GH0199239_2018-02.tif GH0199239_17023_2018-02.tif\n",
      "----------Prediction data loaded for tile GH0224089, year 2020-----------\n",
      "GH0224089_2020-12.tif GH0224089_22550_2020-12.tif\n",
      "----------Prediction data loaded for tile GH0218490, year 2019-----------\n",
      "GH0218490_2019-02.tif GH0218490_22545_2019-02.tif\n",
      "----------Prediction data loaded for tile GH0236273, year 2022-----------\n",
      "GH0236273_2022-12.tif GH0236273_22553_2022-12.tif\n",
      "----------Prediction data loaded for tile GH0232753, year 2021-----------\n",
      "GH0232753_2021-04.tif GH0232753_22552_2021-04.tif\n",
      "----------Prediction data loaded for tile GH0552545, year 2021-----------\n",
      "GH0552545_2021-03.tif GH0552545_22585_2021-03.tif\n",
      "----------Prediction data loaded for tile GH0189383, year 2022-----------\n",
      "GH0189383_2022-04.tif GH0189383_22540_2022-04.tif\n",
      "----------Prediction data loaded for tile GH0300581, year 2020-----------\n",
      "GH0300581_2020-02.tif GH0300581_28615_2020-02.tif\n",
      "----------Prediction data loaded for tile GH0171128, year 2017-----------\n",
      "GH0171128_2017-02.tif GH0171128_29745_2017-02.tif\n",
      "----------Prediction data loaded for tile GH0123422, year 2023-----------\n",
      "GH0123422_2023-08.tif GH0123422_31030_2023-08.tif\n",
      "----------Prediction data loaded for tile GH0525092, year 2023-----------\n",
      "GH0525092_2023-12.tif GH0525092_32218_2023-12.tif\n",
      "----------Prediction data loaded for tile GH0215837, year 2018-----------\n",
      "GH0215837_2018-02.tif GH0215837_32323_2018-02.tif\n",
      "----------Prediction data loaded for tile GH0240814, year 2022-----------\n",
      "GH0240814_2022-12.tif GH0240814_32595_2022-12.tif\n"
     ]
    },
    {
     "name": "stderr",
     "output_type": "stream",
     "text": [
      "Processing test tiles:  38%|████████████████████████████████████████████████████████████████████████▉                                                                                                                     | 58/151 [00:00<00:00, 164.93it/s]"
     ]
    },
    {
     "name": "stdout",
     "output_type": "stream",
     "text": [
      "----------Prediction data loaded for tile GH0056928, year 2023-----------\n",
      "GH0056928_2023-04.tif GH0056928_33717_2023-04.tif\n",
      "----------Prediction data loaded for tile GH0573798, year 2019-----------\n",
      "GH0573798_2019-02.tif GH0573798_34188_2019-02.tif\n",
      "----------Prediction data loaded for tile GH0757903, year 2023-----------\n",
      "GH0757903_2023-12.tif GH0757903_34701_2023-12.tif\n",
      "----------Prediction data loaded for tile GH0423394, year 2023-----------\n",
      "GH0423394_2023-12.tif GH0423394_37219_2023-12.tif\n",
      "----------Prediction data loaded for tile GH0286576, year 2018-----------\n",
      "GH0286576_2018-12.tif GH0286576_2018-12.tif\n",
      "----------Prediction data loaded for tile GH0124483, year 2018-----------\n",
      "GH0124483_2018-12.tif GH0124483_2018-12.tif\n",
      "----------Prediction data loaded for tile GH0282000, year 2018-----------\n",
      "GH0282000_2018-12.tif GH0282000_2018-12.tif\n",
      "----------Prediction data loaded for tile GH0164971, year 2018-----------\n",
      "GH0164971_2018-12.tif GH0164971_2018-12.tif\n",
      "----------Prediction data loaded for tile GH0372623, year 2020-----------\n",
      "GH0372623_2020-11.tif GH0372623_2020-11.tif\n",
      "----------Prediction data loaded for tile GH0299784, year 2020-----------\n",
      "GH0299784_2020-11.tif GH0299784_2020-11.tif\n",
      "----------Prediction data loaded for tile GH0087912, year 2018-----------\n",
      "GH0087912_2018-12.tif GH0087912_2018-12.tif\n",
      "----------Prediction data loaded for tile GH0117889, year 2018-----------\n",
      "GH0117889_2018-12.tif GH0117889_2018-12.tif\n",
      "----------Prediction data loaded for tile GH0196342, year 2018-----------\n",
      "GH0196342_2018-12.tif GH0196342_2018-12.tif\n",
      "----------Prediction data loaded for tile GH0078936, year 2018-----------\n",
      "GH0078936_2018-12.tif GH0078936_2018-12.tif\n",
      "----------Prediction data loaded for tile GH0078575, year 2018-----------\n",
      "GH0078575_2018-12.tif GH0078575_2018-12.tif\n",
      "----------Prediction data loaded for tile GH0131023, year 2018-----------\n",
      "GH0131023_2018-12.tif GH0131023_2018-12.tif\n",
      "----------Prediction data loaded for tile GH0460215, year 2020-----------\n",
      "GH0460215_2020-11.tif GH0460215_2020-11.tif\n",
      "----------Prediction data loaded for tile GH0136658, year 2018-----------\n",
      "GH0136658_2018-12.tif GH0136658_2018-12.tif\n",
      "----------Prediction data loaded for tile GH0142104, year 2018-----------\n",
      "GH0142104_2018-12.tif GH0142104_2018-12.tif\n",
      "----------Prediction data loaded for tile GH0176964, year 2018-----------\n",
      "GH0176964_2018-12.tif GH0176964_2018-12.tif\n",
      "----------Prediction data loaded for tile GH0283065, year 2018-----------\n",
      "GH0283065_2018-12.tif GH0283065_2018-12.tif\n",
      "----------Prediction data loaded for tile GH0495635, year 2020-----------\n",
      "GH0495635_2020-11.tif GH0495635_2020-11.tif\n",
      "----------Prediction data loaded for tile GH0083295, year 2018-----------\n",
      "GH0083295_2018-12.tif GH0083295_2018-12.tif\n",
      "----------Prediction data loaded for tile GH0620493, year 2018-----------\n",
      "GH0620493_2018-12.tif GH0620493_2018-12.tif\n",
      "----------Prediction data loaded for tile GH0665918, year 2018-----------\n",
      "GH0665918_2018-12.tif GH0665918_2018-12.tif\n",
      "----------Prediction data loaded for tile GH0130951, year 2018-----------\n",
      "GH0130951_2018-12.tif GH0130951_2018-12.tif\n",
      "----------Prediction data loaded for tile GH0275573, year 2018-----------\n",
      "GH0275573_2018-12.tif GH0275573_2018-12.tif\n",
      "----------Prediction data loaded for tile GH0068887, year 2018-----------\n",
      "GH0068887_2018-12.tif GH0068887_2018-12.tif\n",
      "----------Prediction data loaded for tile GH0686493, year 2018-----------\n",
      "GH0686493_2018-12.tif GH0686493_2018-12.tif\n",
      "----------Prediction data loaded for tile GH0129155, year 2018-----------\n",
      "GH0129155_2018-12.tif GH0129155_2018-12.tif\n",
      "----------Prediction data loaded for tile GH0678330, year 2018-----------\n",
      "GH0678330_2018-12.tif GH0678330_2018-12.tif\n",
      "----------Prediction data loaded for tile GH0654161, year 2018-----------\n",
      "GH0654161_2018-12.tif GH0654161_2018-12.tif\n",
      "----------Prediction data loaded for tile GH0649999, year 2018-----------\n",
      "GH0649999_2018-12.tif GH0649999_2018-12.tif\n",
      "----------Prediction data loaded for tile GH0061776, year 2018-----------\n",
      "GH0061776_2018-12.tif GH0061776_2018-12.tif\n",
      "----------Prediction data loaded for tile GH0000918, year 2018-----------\n",
      "GH0000918_2018-12.tif GH0000918_2018-12.tif\n",
      "----------Prediction data loaded for tile GH0427624, year 2020-----------\n",
      "GH0427624_2020-11.tif GH0427624_2020-11.tif\n",
      "----------Prediction data loaded for tile GH0455219, year 2020-----------\n",
      "GH0455219_2020-11.tif GH0455219_2020-11.tif\n",
      "----------Prediction data loaded for tile GH0426929, year 2020-----------\n",
      "GH0426929_2020-11.tif GH0426929_2020-11.tif\n",
      "----------Prediction data loaded for tile GH0145029, year 2018-----------\n",
      "GH0145029_2018-12.tif GH0145029_2018-12.tif\n",
      "----------Prediction data loaded for tile GH0158130, year 2018-----------\n",
      "GH0158130_2018-12.tif GH0158130_2018-12.tif\n",
      "----------Prediction data loaded for tile GH0461731, year 2020-----------\n",
      "GH0461731_2020-11.tif GH0461731_2020-11.tif\n",
      "----------Prediction data loaded for tile GH0421994, year 2020-----------\n",
      "GH0421994_2020-11.tif GH0421994_2020-11.tif\n",
      "----------Prediction data loaded for tile GH0078604, year 2018-----------\n",
      "GH0078604_2018-12.tif GH0078604_2018-12.tif\n"
     ]
    },
    {
     "name": "stderr",
     "output_type": "stream",
     "text": [
      "Processing test tiles:  69%|██████████████████████████████████████████████████████████████████████████████████████████████████████████████████████████████████▏                                                          | 104/151 [00:00<00:00, 199.66it/s]"
     ]
    },
    {
     "name": "stdout",
     "output_type": "stream",
     "text": [
      "----------Prediction data loaded for tile GH0077402, year 2018-----------\n",
      "GH0077402_2018-12.tif GH0077402_2018-12.tif\n",
      "----------Prediction data loaded for tile GH0039037, year 2018-----------\n",
      "GH0039037_2018-12.tif GH0039037_2018-12.tif\n",
      "----------Prediction data loaded for tile GH0588269, year 2018-----------\n",
      "GH0588269_2018-12.tif GH0588269_2018-12.tif\n",
      "----------Prediction data loaded for tile GH0664214, year 2018-----------\n",
      "GH0664214_2018-12.tif GH0664214_2018-12.tif\n",
      "----------Prediction data loaded for tile GH0588433, year 2018-----------\n",
      "GH0588433_2018-12.tif GH0588433_2018-12.tif\n",
      "----------Prediction data loaded for tile GH0002362, year 2018-----------\n",
      "GH0002362_2018-12.tif GH0002362_2018-12.tif\n",
      "----------Prediction data loaded for tile GH0473216, year 2020-----------\n",
      "GH0473216_2020-11.tif GH0473216_2020-11.tif\n",
      "----------Prediction data loaded for tile GH0638914, year 2018-----------\n",
      "GH0638914_2018-12.tif GH0638914_2018-12.tif\n",
      "----------Prediction data loaded for tile GH0474733, year 2020-----------\n",
      "GH0474733_2020-11.tif GH0474733_2020-11.tif\n",
      "----------Prediction data loaded for tile GH0010054, year 2018-----------\n",
      "GH0010054_2018-12.tif GH0010054_2018-12.tif\n",
      "----------Prediction data loaded for tile GH0480520, year 2020-----------\n",
      "GH0480520_2020-11.tif GH0480520_2020-11.tif\n",
      "----------Prediction data loaded for tile GH0055325, year 2018-----------\n",
      "GH0055325_2018-12.tif GH0055325_2018-12.tif\n",
      "----------Prediction data loaded for tile GH0387143, year 2020-----------\n",
      "GH0387143_2020-11.tif GH0387143_2020-11.tif\n",
      "----------Prediction data loaded for tile GH0692965, year 2018-----------\n",
      "GH0692965_2018-12.tif GH0692965_2018-12.tif\n",
      "----------Prediction data loaded for tile GH0283892, year 2018-----------\n",
      "GH0283892_2018-12.tif GH0283892_2018-12.tif\n",
      "----------Prediction data loaded for tile GH0073545, year 2018-----------\n",
      "GH0073545_2018-12.tif GH0073545_2018-12.tif\n",
      "----------Prediction data loaded for tile GH0102643, year 2018-----------\n",
      "GH0102643_2018-12.tif GH0102643_2018-12.tif\n",
      "----------Prediction data loaded for tile GH0013124, year 2018-----------\n",
      "GH0013124_2018-12.tif GH0013124_2018-12.tif\n",
      "----------Prediction data loaded for tile GH0045222, year 2018-----------\n",
      "GH0045222_2018-12.tif GH0045222_2018-12.tif\n",
      "----------Prediction data loaded for tile GH0288270, year 2018-----------\n",
      "GH0288270_2018-12.tif GH0288270_2018-12.tif\n",
      "----------Prediction data loaded for tile GH0001833, year 2018-----------\n",
      "GH0001833_2018-12.tif GH0001833_2018-12.tif\n",
      "----------Prediction data loaded for tile GH0069258, year 2018-----------\n",
      "GH0069258_2018-12.tif GH0069258_2018-12.tif\n",
      "----------Prediction data loaded for tile GH0060836, year 2018-----------\n",
      "GH0060836_2018-12.tif GH0060836_2018-12.tif\n",
      "----------Prediction data loaded for tile GH0285649, year 2018-----------\n",
      "GH0285649_2018-12.tif GH0285649_2018-12.tif\n",
      "----------Prediction data loaded for tile GH0114283, year 2018-----------\n",
      "GH0114283_2018-12.tif GH0114283_2018-12.tif\n",
      "----------Prediction data loaded for tile GH0264958, year 2018-----------\n",
      "GH0264958_2018-12.tif GH0264958_2018-12.tif\n",
      "----------Prediction data loaded for tile GH0062650, year 2018-----------\n",
      "GH0062650_2018-12.tif GH0062650_2018-12.tif\n",
      "----------Prediction data loaded for tile GH0648106, year 2018-----------\n",
      "GH0648106_2018-12.tif GH0648106_2018-12.tif\n",
      "----------Prediction data loaded for tile GH0265316, year 2020-----------\n",
      "GH0265316_2020-11.tif GH0265316_2020-11.tif\n",
      "----------Prediction data loaded for tile GH0165824, year 2018-----------\n",
      "GH0165824_2018-12.tif GH0165824_2018-12.tif\n",
      "----------Prediction data loaded for tile GH0203483, year 2018-----------\n",
      "GH0203483_2018-12.tif GH0203483_2018-12.tif\n",
      "----------Prediction data loaded for tile GH0140904, year 2018-----------\n",
      "GH0140904_2018-12.tif GH0140904_2018-12.tif\n",
      "----------Prediction data loaded for tile GH0080512, year 2018-----------\n",
      "GH0080512_2018-12.tif GH0080512_2018-12.tif\n",
      "----------Prediction data loaded for tile GH0484852, year 2020-----------\n",
      "GH0484852_2020-11.tif GH0484852_2020-11.tif\n",
      "----------Prediction data loaded for tile GH0339919, year 2020-----------\n",
      "GH0339919_2020-11.tif GH0339919_2020-11.tif\n",
      "----------Prediction data loaded for tile GH0069102, year 2018-----------\n",
      "GH0069102_2018-12.tif GH0069102_2018-12.tif\n",
      "----------Prediction data loaded for tile GH0292750, year 2018-----------\n",
      "GH0292750_2018-12.tif GH0292750_2018-12.tif\n",
      "----------Prediction data loaded for tile GH0084348, year 2018-----------\n",
      "GH0084348_2018-12.tif GH0084348_2018-12.tif\n",
      "----------Prediction data loaded for tile GH0653159, year 2020-----------\n",
      "GH0653159_2020-12.tif GH0653159_6394_2020-12.tif\n",
      "----------Prediction data loaded for tile GH0014335, year 2021-----------\n",
      "GH0014335_2021-04.tif GH0014335_17959_2021-04.tif\n",
      "----------Prediction data loaded for tile GH0321709, year 2022-----------\n",
      "GH0321709_2022-12.tif GH0321709_3076_2022-12.tif\n",
      "----------Prediction data loaded for tile GH0000539, year 2018-----------\n",
      "GH0000539_2018-02.tif GH0000539_15037_2018-02.tif\n"
     ]
    },
    {
     "name": "stderr",
     "output_type": "stream",
     "text": [
      "Processing test tiles:  82%|███████████████████████████████████████████████████████████████████████████████████████████████████████████████████████████████████████████████████████████▏                                 | 124/151 [00:00<00:00, 169.85it/s]"
     ]
    },
    {
     "name": "stdout",
     "output_type": "stream",
     "text": [
      "----------Prediction data loaded for tile GH0433491, year 2022-----------\n",
      "GH0433491_2022-12.tif GH0433491_22321_2022-12.tif\n",
      "----------Prediction data loaded for tile GH0251385, year 2018-----------\n",
      "GH0251385_2018-02.tif GH0251385_13347_2018-02.tif\n",
      "----------Prediction data loaded for tile GH0682438, year 2019-----------\n",
      "GH0682438_2019-02.tif GH0682438_22593_2019-02.tif\n",
      "----------Prediction data loaded for tile GH0288179, year 2020-----------\n",
      "GH0288179_2020-12.tif GH0288179_19121_2020-12.tif\n",
      "----------Prediction data loaded for tile GH0176860, year 2018-----------\n",
      "GH0176860_2018-02.tif GH0176860_41113_2018-02.tif\n",
      "----------Prediction data loaded for tile GH0163936, year 2017-----------\n",
      "GH0163936_2017-02.tif GH0163936_630_2017-02.tif\n",
      "----------Prediction data loaded for tile GH0624670, year 2023-----------\n",
      "GH0624670_2023-03.tif GH0624670_30536_2023-03.tif\n",
      "----------Prediction data loaded for tile GH0644788, year 2017-----------\n",
      "GH0644788_2017-02.tif GH0644788_22390_2017-02.tif\n",
      "----------Prediction data loaded for tile GH0258569, year 2021-----------\n",
      "GH0258569_2021-12.tif GH0258569_40340_2021-12.tif\n",
      "----------Prediction data loaded for tile GH0226726, year 2022-----------\n",
      "GH0226726_2022-12.tif GH0226726_17964_2022-12.tif\n",
      "----------Prediction data loaded for tile GH0059353, year 2017-----------\n",
      "GH0059353_2017-02.tif GH0059353_9583_2017-02.tif\n",
      "----------Prediction data loaded for tile GH0460839, year 2022-----------\n",
      "GH0460839_2022-12.tif GH0460839_17971_2022-12.tif\n",
      "----------Prediction data loaded for tile GH0003848, year 2021-----------\n",
      "GH0003848_2021-08.tif GH0003848_22488_2021-08.tif\n",
      "----------Prediction data loaded for tile GH0313889, year 2023-----------\n",
      "GH0313889_2023-12.tif GH0313889_37016_2023-12.tif\n",
      "----------Prediction data loaded for tile GH0059960, year 2017-----------\n",
      "GH0059960_2017-02.tif GH0059960_22231_2017-02.tif\n",
      "----------Prediction data loaded for tile GH0456539, year 2018-----------\n",
      "GH0456539_2018-02.tif GH0456539_822_2018-02.tif\n",
      "----------Prediction data loaded for tile GH0589100, year 2022-----------\n",
      "GH0589100_2022-08.tif GH0589100_29816_2022-08.tif\n",
      "----------Prediction data loaded for tile GH0020527, year 2023-----------\n",
      "GH0020527_2023-04.tif GH0020527_29865_2023-04.tif\n",
      "----------Prediction data loaded for tile GH0246057, year 2022-----------\n",
      "GH0246057_2022-12.tif GH0246057_41151_2022-12.tif\n",
      "----------Prediction data loaded for tile GH0298405, year 2019-----------\n",
      "GH0298405_2019-02.tif GH0298405_6386_2019-02.tif\n",
      "----------Prediction data loaded for tile GH0245464, year 2020-----------\n",
      "GH0245464_2020-12.tif GH0245464_7417_2020-12.tif\n",
      "----------Prediction data loaded for tile GH0501006, year 2017-----------\n",
      "GH0501006_2017-02.tif GH0501006_10658_2017-02.tif\n",
      "----------Prediction data loaded for tile GH0056531, year 2018-----------\n",
      "GH0056531_2018-02.tif GH0056531_22498_2018-02.tif\n",
      "----------Prediction data loaded for tile GH0570911, year 2017-----------\n",
      "GH0570911_2017-02.tif GH0570911_33031_2017-02.tif\n",
      "----------Prediction data loaded for tile GH0540994, year 2018-----------\n",
      "GH0540994_2018-08.tif GH0540994_22584_2018-08.tif\n",
      "----------Prediction data loaded for tile GH0747247, year 2020-----------\n"
     ]
    },
    {
     "name": "stderr",
     "output_type": "stream",
     "text": [
      "Processing test tiles: 100%|█████████████████████████████████████████████████████████████████████████████████████████████████████████████████████████████████████████████████████████████████████████████████████████████| 151/151 [00:00<00:00, 153.33it/s]"
     ]
    },
    {
     "name": "stdout",
     "output_type": "stream",
     "text": [
      "GH0747247_2020-12.tif GH0747247_9600_2020-12.tif\n",
      "----------Prediction data loaded for tile GH0141970, year 2020-----------\n",
      "GH0141970_2020-02.tif GH0141970_13970_2020-02.tif\n",
      "----------Prediction data loaded for tile GH0285763, year 2022-----------\n",
      "GH0285763_2022-12.tif GH0285763_27134_2022-12.tif\n",
      "----------Prediction data loaded for tile GH0090018, year 2017-----------\n",
      "GH0090018_2017-08.tif GH0090018_13969_2017-08.tif\n",
      "----------Prediction data loaded for tile GH0097202, year 2021-----------\n",
      "GH0097202_2021-04.tif GH0097202_22508_2021-04.tif\n",
      "----------Prediction data loaded for tile GH0064654, year 2020-----------\n",
      "GH0064654_2020-02.tif GH0064654_6374_2020-02.tif\n",
      "----------Prediction data loaded for tile GH0345353, year 2019-----------\n",
      "GH0345353_2019-02.tif GH0345353_34693_2019-02.tif\n",
      "----------Prediction data loaded for tile GH0065558, year 2020-----------\n",
      "GH0065558_2020-02.tif GH0065558_22499_2020-02.tif\n",
      "----------Prediction data loaded for tile GH0635606, year 2019-----------\n",
      "GH0635606_2019-02.tif GH0635606_37667_2019-02.tif\n",
      "----------Prediction data loaded for tile GH0266377, year 2019-----------\n",
      "GH0266377_2019-02.tif GH0266377_31279_2019-02.tif\n",
      "----------Prediction data loaded for tile GH0235985, year 2018-----------\n",
      "GH0235985_2018-02.tif GH0235985_9591_2018-02.tif\n",
      "----------Prediction data loaded for tile GH0013581, year 2021-----------\n",
      "GH0013581_2021-04.tif GH0013581_2402_2021-04.tif\n",
      "----------Prediction data loaded for tile GH0335147, year 2021-----------\n",
      "GH0335147_2021-03.tif GH0335147_9594_2021-03.tif\n",
      "----------Prediction data loaded for tile GH0150657, year 2017-----------\n",
      "GH0150657_2017-02.tif GH0150657_27123_2017-02.tif\n",
      "----------Prediction data loaded for tile GH0233952, year 2022-----------\n",
      "GH0233952_2022-04.tif GH0233952_41159_2022-04.tif\n",
      "----------Prediction data loaded for tile GH0304027, year 2020-----------\n",
      "GH0304027_2020-12.tif GH0304027_1914_2020-12.tif\n",
      "All test tiles saved to ./pickles/finetune/test_data_lbl.pkl with 151 total chips\n"
     ]
    },
    {
     "name": "stderr",
     "output_type": "stream",
     "text": [
      "\n"
     ]
    }
   ],
   "source": [
    "import os\n",
    "import pickle\n",
    "import pandas as pd\n",
    "from pathlib import Path\n",
    "from datatorch import *\n",
    "from tqdm import tqdm\n",
    "\n",
    "# === Configuration ===\n",
    "catalog_csv = \"./finetune.csv\"\n",
    "data_path = \"/home/airg/data/labels/cropland\"\n",
    "pickle_dir = \"./pickles/finetune\"\n",
    "output_file = os.path.join(pickle_dir, \"test_data_lbl.pkl\")\n",
    "\n",
    "os.makedirs(pickle_dir, exist_ok=True)\n",
    "\n",
    "# === Load catalog and find test rows ===\n",
    "catalog_df = pd.read_csv(catalog_csv)\n",
    "test_indices = catalog_df[catalog_df[\"usage\"] == \"test\"].index\n",
    "\n",
    "# === Initialize containers ===\n",
    "all_chips = []\n",
    "all_chip_indices = []\n",
    "all_lbl_paths = []\n",
    "all_metadata = []\n",
    "all_tile_ids = []\n",
    "all_years = []\n",
    "\n",
    "# === Loop through each test tile ===\n",
    "for catalog_index in tqdm(test_indices, desc=\"Processing test tiles\"):\n",
    "    dataset = ImageData(\n",
    "        data_path=data_path,\n",
    "        log_dir=\"./work_dir/logs\",\n",
    "        catalog=catalog_df.copy(),\n",
    "        data_size=224,\n",
    "        buffer=0,              \n",
    "        buffer_comp=0,\n",
    "        usage=\"predict\",\n",
    "        img_path_cols=\"label\",\n",
    "        catalog_index=catalog_index,\n",
    "        apply_normalization=False,\n",
    "        normal_strategy=\"min_max\",\n",
    "        stat_procedure=\"lab\",\n",
    "        global_stats=None,\n",
    "        trans=None,\n",
    "        parallel=False,\n",
    "        clip_val=0\n",
    "    )\n",
    "\n",
    "    # Add image chips and associated metadata\n",
    "    all_chips.extend(dataset.img)\n",
    "    all_chip_indices.extend(dataset.index)\n",
    "    all_metadata.extend([dataset.meta] * len(dataset.img))\n",
    "    all_tile_ids.extend([dataset.tile] * len(dataset.img))\n",
    "    all_years.extend([dataset.year] * len(dataset.img))\n",
    "\n",
    "    full_path = dataset.catalog[\"label\"]\n",
    "    filename = Path(full_path).name\n",
    "    parts = filename.replace(\".tif\", \"\").split(\"_\")\n",
    "\n",
    "    # Format as GHxxxxx_yyyy-mm.tif\n",
    "    if len(parts) == 3:\n",
    "        new_filename = f\"{parts[0]}_{parts[2]}.tif\"\n",
    "    else:\n",
    "        new_filename = filename\n",
    "\n",
    "    print(new_filename, filename)\n",
    "    all_lbl_paths.extend([new_filename] * len(dataset.img))\n",
    "\n",
    "# === Final pickle object ===\n",
    "to_save = {\n",
    "    \"chips\": all_chips,\n",
    "    \"chip_indices\": all_chip_indices,\n",
    "    \"metadata\": all_metadata,\n",
    "    \"label_paths\": all_lbl_paths,\n",
    "    \"tile_ids\": all_tile_ids,\n",
    "    \"years\": all_years\n",
    "}\n",
    "\n",
    "# === Save to file ===\n",
    "with open(output_file, \"wb\") as f:\n",
    "    pickle.dump(to_save, f)\n",
    "\n",
    "print(f\"All test tiles saved to {output_file} with {len(all_chips)} total chips\")\n"
   ]
  },
  {
   "cell_type": "code",
   "execution_count": 48,
   "id": "d297e695-c37f-4b6b-ab8d-d26f0e34c114",
   "metadata": {
    "collapsed": true,
    "jupyter": {
     "outputs_hidden": true
    },
    "tags": []
   },
   "outputs": [
    {
     "name": "stdout",
     "output_type": "stream",
     "text": [
      "Sample label file names:\n",
      "1: GH0030800_2017-02.tif\n",
      "2: GH0041214_2020-02.tif\n",
      "3: GH0457305_2019-02.tif\n",
      "4: GH0395862_2019-02.tif\n",
      "5: GH0662635_2018-02.tif\n",
      "6: GH0218520_2021-04.tif\n",
      "7: GH0344048_2018-02.tif\n",
      "8: GH0187827_2022-03.tif\n",
      "9: GH0245065_2021-04.tif\n",
      "10: GH0307766_2022-12.tif\n",
      "11: GH0012756_2017-02.tif\n",
      "12: GH0086254_2018-08.tif\n",
      "13: GH0199239_2018-02.tif\n",
      "14: GH0224089_2020-12.tif\n",
      "15: GH0218490_2019-02.tif\n",
      "16: GH0236273_2022-12.tif\n",
      "17: GH0232753_2021-04.tif\n",
      "18: GH0552545_2021-03.tif\n",
      "19: GH0189383_2022-04.tif\n",
      "20: GH0300581_2020-02.tif\n",
      "21: GH0171128_2017-02.tif\n",
      "22: GH0123422_2023-08.tif\n",
      "23: GH0525092_2023-12.tif\n",
      "24: GH0215837_2018-02.tif\n",
      "25: GH0240814_2022-12.tif\n",
      "26: GH0056928_2023-04.tif\n",
      "27: GH0573798_2019-02.tif\n",
      "28: GH0757903_2023-12.tif\n",
      "29: GH0423394_2023-12.tif\n",
      "30: GH0286576_2018-12.tif\n",
      "31: GH0124483_2018-12.tif\n",
      "32: GH0282000_2018-12.tif\n",
      "33: GH0164971_2018-12.tif\n",
      "34: GH0372623_2020-11.tif\n",
      "35: GH0299784_2020-11.tif\n",
      "36: GH0087912_2018-12.tif\n",
      "37: GH0117889_2018-12.tif\n",
      "38: GH0196342_2018-12.tif\n",
      "39: GH0078936_2018-12.tif\n",
      "40: GH0078575_2018-12.tif\n",
      "41: GH0131023_2018-12.tif\n",
      "42: GH0460215_2020-11.tif\n",
      "43: GH0136658_2018-12.tif\n",
      "44: GH0142104_2018-12.tif\n",
      "45: GH0176964_2018-12.tif\n",
      "46: GH0283065_2018-12.tif\n",
      "47: GH0495635_2020-11.tif\n",
      "48: GH0083295_2018-12.tif\n",
      "49: GH0620493_2018-12.tif\n",
      "50: GH0665918_2018-12.tif\n",
      "51: GH0130951_2018-12.tif\n",
      "52: GH0275573_2018-12.tif\n",
      "53: GH0068887_2018-12.tif\n",
      "54: GH0686493_2018-12.tif\n",
      "55: GH0129155_2018-12.tif\n",
      "56: GH0678330_2018-12.tif\n",
      "57: GH0654161_2018-12.tif\n",
      "58: GH0649999_2018-12.tif\n",
      "59: GH0061776_2018-12.tif\n",
      "60: GH0000918_2018-12.tif\n",
      "61: GH0427624_2020-11.tif\n",
      "62: GH0455219_2020-11.tif\n",
      "63: GH0426929_2020-11.tif\n",
      "64: GH0145029_2018-12.tif\n",
      "65: GH0158130_2018-12.tif\n",
      "66: GH0461731_2020-11.tif\n",
      "67: GH0421994_2020-11.tif\n",
      "68: GH0078604_2018-12.tif\n",
      "69: GH0077402_2018-12.tif\n",
      "70: GH0039037_2018-12.tif\n",
      "71: GH0588269_2018-12.tif\n",
      "72: GH0664214_2018-12.tif\n",
      "73: GH0588433_2018-12.tif\n",
      "74: GH0002362_2018-12.tif\n",
      "75: GH0473216_2020-11.tif\n",
      "76: GH0638914_2018-12.tif\n",
      "77: GH0474733_2020-11.tif\n",
      "78: GH0010054_2018-12.tif\n",
      "79: GH0480520_2020-11.tif\n",
      "80: GH0055325_2018-12.tif\n",
      "81: GH0387143_2020-11.tif\n",
      "82: GH0692965_2018-12.tif\n",
      "83: GH0283892_2018-12.tif\n",
      "84: GH0073545_2018-12.tif\n",
      "85: GH0102643_2018-12.tif\n",
      "86: GH0013124_2018-12.tif\n",
      "87: GH0045222_2018-12.tif\n",
      "88: GH0288270_2018-12.tif\n",
      "89: GH0001833_2018-12.tif\n",
      "90: GH0069258_2018-12.tif\n",
      "91: GH0060836_2018-12.tif\n",
      "92: GH0285649_2018-12.tif\n",
      "93: GH0114283_2018-12.tif\n",
      "94: GH0264958_2018-12.tif\n",
      "95: GH0062650_2018-12.tif\n",
      "96: GH0648106_2018-12.tif\n",
      "97: GH0265316_2020-11.tif\n",
      "98: GH0165824_2018-12.tif\n",
      "99: GH0203483_2018-12.tif\n",
      "100: GH0140904_2018-12.tif\n",
      "101: GH0080512_2018-12.tif\n",
      "102: GH0484852_2020-11.tif\n",
      "103: GH0339919_2020-11.tif\n",
      "104: GH0069102_2018-12.tif\n",
      "105: GH0292750_2018-12.tif\n",
      "106: GH0084348_2018-12.tif\n",
      "107: GH0653159_2020-12.tif\n",
      "108: GH0014335_2021-04.tif\n",
      "109: GH0321709_2022-12.tif\n",
      "110: GH0000539_2018-02.tif\n",
      "111: GH0433491_2022-12.tif\n",
      "112: GH0251385_2018-02.tif\n",
      "113: GH0682438_2019-02.tif\n",
      "114: GH0288179_2020-12.tif\n",
      "115: GH0176860_2018-02.tif\n",
      "116: GH0163936_2017-02.tif\n",
      "117: GH0624670_2023-03.tif\n",
      "118: GH0644788_2017-02.tif\n",
      "119: GH0258569_2021-12.tif\n",
      "120: GH0226726_2022-12.tif\n",
      "121: GH0059353_2017-02.tif\n",
      "122: GH0460839_2022-12.tif\n",
      "123: GH0003848_2021-08.tif\n",
      "124: GH0313889_2023-12.tif\n",
      "125: GH0059960_2017-02.tif\n",
      "126: GH0456539_2018-02.tif\n",
      "127: GH0589100_2022-08.tif\n",
      "128: GH0020527_2023-04.tif\n",
      "129: GH0246057_2022-12.tif\n",
      "130: GH0298405_2019-02.tif\n",
      "131: GH0245464_2020-12.tif\n",
      "132: GH0501006_2017-02.tif\n",
      "133: GH0056531_2018-02.tif\n",
      "134: GH0570911_2017-02.tif\n",
      "135: GH0540994_2018-08.tif\n",
      "136: GH0747247_2020-12.tif\n",
      "137: GH0141970_2020-02.tif\n",
      "138: GH0285763_2022-12.tif\n",
      "139: GH0090018_2017-08.tif\n",
      "140: GH0097202_2021-04.tif\n",
      "141: GH0064654_2020-02.tif\n",
      "142: GH0345353_2019-02.tif\n",
      "143: GH0065558_2020-02.tif\n",
      "144: GH0635606_2019-02.tif\n",
      "145: GH0266377_2019-02.tif\n",
      "146: GH0235985_2018-02.tif\n",
      "147: GH0013581_2021-04.tif\n",
      "148: GH0335147_2021-03.tif\n",
      "149: GH0150657_2017-02.tif\n",
      "150: GH0233952_2022-04.tif\n"
     ]
    }
   ],
   "source": [
    "import pickle\n",
    "\n",
    "# Path to your pickle file\n",
    "pickle_file = \"./pickles/finetune/test_data_lbl.pkl\"\n",
    "\n",
    "# Load the pickle\n",
    "with open(pickle_file, \"rb\") as f:\n",
    "    data = pickle.load(f)\n",
    "\n",
    "# Print the first 10 label file names\n",
    "print(\"Sample label file names:\")\n",
    "for i, path in enumerate(data[\"label_paths\"][:150]):\n",
    "    print(f\"{i+1}: {path}\")\n"
   ]
  },
  {
   "cell_type": "markdown",
   "id": "2bd1556a-2aa1-43cf-917e-d887bc0a1a2b",
   "metadata": {},
   "source": [
    "## Pickling 2 classes"
   ]
  },
  {
   "cell_type": "code",
   "execution_count": 51,
   "id": "7453fb77-e932-458e-8a26-3fdebc50a944",
   "metadata": {
    "collapsed": true,
    "jupyter": {
     "outputs_hidden": true
    },
    "tags": []
   },
   "outputs": [
    {
     "name": "stderr",
     "output_type": "stream",
     "text": [
      "Processing test tiles:   7%|████████████▋                                                                                                                                                                                  | 10/151 [00:00<00:06, 23.10it/s]"
     ]
    },
    {
     "name": "stdout",
     "output_type": "stream",
     "text": [
      "----------Prediction data loaded for tile GH0030800, year 2017-----------\n",
      "GH0030800_2017-02.tif GH0030800_4172_2017-02.tif\n",
      "----------Prediction data loaded for tile GH0041214, year 2020-----------\n",
      "GH0041214_2020-02.tif GH0041214_5300_2020-02.tif\n",
      "----------Prediction data loaded for tile GH0457305, year 2019-----------\n",
      "GH0457305_2019-02.tif GH0457305_6388_2019-02.tif\n",
      "----------Prediction data loaded for tile GH0395862, year 2019-----------\n",
      "GH0395862_2019-02.tif GH0395862_7421_2019-02.tif\n",
      "----------Prediction data loaded for tile GH0662635, year 2018-----------\n",
      "GH0662635_2018-02.tif GH0662635_8508_2018-02.tif\n",
      "----------Prediction data loaded for tile GH0218520, year 2021-----------\n",
      "GH0218520_2021-04.tif GH0218520_9589_2021-04.tif\n",
      "----------Prediction data loaded for tile GH0344048, year 2018-----------\n",
      "GH0344048_2018-02.tif GH0344048_9595_2018-02.tif\n",
      "----------Prediction data loaded for tile GH0187827, year 2022-----------\n",
      "GH0187827_2022-03.tif GH0187827_13974_2022-03.tif\n",
      "----------Prediction data loaded for tile GH0245065, year 2021-----------\n",
      "GH0245065_2021-04.tif GH0245065_13979_2021-04.tif\n",
      "----------Prediction data loaded for tile GH0307766, year 2022-----------\n",
      "GH0307766_2022-12.tif GH0307766_13984_2022-12.tif\n",
      "----------Prediction data loaded for tile GH0012756, year 2017-----------\n",
      "GH0012756_2017-02.tif GH0012756_16005_2017-02.tif\n",
      "----------Prediction data loaded for tile GH0086254, year 2018-----------\n",
      "GH0086254_2018-08.tif GH0086254_17017_2018-08.tif\n",
      "----------Prediction data loaded for tile GH0199239, year 2018-----------\n",
      "GH0199239_2018-02.tif GH0199239_17023_2018-02.tif\n",
      "----------Prediction data loaded for tile GH0224089, year 2020-----------\n",
      "GH0224089_2020-12.tif GH0224089_22550_2020-12.tif\n",
      "----------Prediction data loaded for tile GH0218490, year 2019-----------\n",
      "GH0218490_2019-02.tif GH0218490_22545_2019-02.tif\n",
      "----------Prediction data loaded for tile GH0236273, year 2022-----------\n",
      "GH0236273_2022-12.tif GH0236273_22553_2022-12.tif\n",
      "----------Prediction data loaded for tile GH0232753, year 2021-----------\n",
      "GH0232753_2021-04.tif GH0232753_22552_2021-04.tif\n",
      "----------Prediction data loaded for tile GH0552545, year 2021-----------\n",
      "GH0552545_2021-03.tif GH0552545_22585_2021-03.tif\n",
      "----------Prediction data loaded for tile GH0189383, year 2022-----------\n",
      "GH0189383_2022-04.tif GH0189383_22540_2022-04.tif\n"
     ]
    },
    {
     "name": "stderr",
     "output_type": "stream",
     "text": [
      "Processing test tiles:  23%|████████████████████████████████████████████▎                                                                                                                                                  | 35/151 [00:00<00:01, 67.49it/s]"
     ]
    },
    {
     "name": "stdout",
     "output_type": "stream",
     "text": [
      "----------Prediction data loaded for tile GH0300581, year 2020-----------\n",
      "GH0300581_2020-02.tif GH0300581_28615_2020-02.tif\n",
      "----------Prediction data loaded for tile GH0171128, year 2017-----------\n",
      "GH0171128_2017-02.tif GH0171128_29745_2017-02.tif\n",
      "----------Prediction data loaded for tile GH0123422, year 2023-----------\n",
      "GH0123422_2023-08.tif GH0123422_31030_2023-08.tif\n",
      "----------Prediction data loaded for tile GH0525092, year 2023-----------\n",
      "GH0525092_2023-12.tif GH0525092_32218_2023-12.tif\n",
      "----------Prediction data loaded for tile GH0215837, year 2018-----------\n",
      "GH0215837_2018-02.tif GH0215837_32323_2018-02.tif\n",
      "----------Prediction data loaded for tile GH0240814, year 2022-----------\n",
      "GH0240814_2022-12.tif GH0240814_32595_2022-12.tif\n",
      "----------Prediction data loaded for tile GH0056928, year 2023-----------\n",
      "GH0056928_2023-04.tif GH0056928_33717_2023-04.tif\n",
      "----------Prediction data loaded for tile GH0573798, year 2019-----------\n",
      "GH0573798_2019-02.tif GH0573798_34188_2019-02.tif\n",
      "----------Prediction data loaded for tile GH0757903, year 2023-----------\n",
      "GH0757903_2023-12.tif GH0757903_34701_2023-12.tif\n",
      "----------Prediction data loaded for tile GH0423394, year 2023-----------\n",
      "GH0423394_2023-12.tif GH0423394_37219_2023-12.tif\n",
      "----------Prediction data loaded for tile GH0286576, year 2018-----------\n",
      "GH0286576_2018-12.tif GH0286576_2018-12.tif\n",
      "----------Prediction data loaded for tile GH0124483, year 2018-----------\n",
      "GH0124483_2018-12.tif GH0124483_2018-12.tif\n",
      "----------Prediction data loaded for tile GH0282000, year 2018-----------\n",
      "GH0282000_2018-12.tif GH0282000_2018-12.tif\n",
      "----------Prediction data loaded for tile GH0164971, year 2018-----------\n",
      "GH0164971_2018-12.tif GH0164971_2018-12.tif\n",
      "----------Prediction data loaded for tile GH0372623, year 2020-----------\n",
      "GH0372623_2020-11.tif GH0372623_2020-11.tif\n",
      "----------Prediction data loaded for tile GH0299784, year 2020-----------\n",
      "GH0299784_2020-11.tif GH0299784_2020-11.tif\n",
      "----------Prediction data loaded for tile GH0087912, year 2018-----------\n",
      "GH0087912_2018-12.tif GH0087912_2018-12.tif\n",
      "----------Prediction data loaded for tile GH0117889, year 2018-----------\n",
      "GH0117889_2018-12.tif GH0117889_2018-12.tif\n",
      "----------Prediction data loaded for tile GH0196342, year 2018-----------\n",
      "GH0196342_2018-12.tif GH0196342_2018-12.tif\n"
     ]
    },
    {
     "name": "stderr",
     "output_type": "stream",
     "text": [
      "Processing test tiles:  30%|████████████████████████████████████████████████████████▉                                                                                                                                      | 45/151 [00:00<00:01, 62.94it/s]"
     ]
    },
    {
     "name": "stdout",
     "output_type": "stream",
     "text": [
      "----------Prediction data loaded for tile GH0078936, year 2018-----------\n",
      "GH0078936_2018-12.tif GH0078936_2018-12.tif\n",
      "----------Prediction data loaded for tile GH0078575, year 2018-----------\n",
      "GH0078575_2018-12.tif GH0078575_2018-12.tif\n",
      "----------Prediction data loaded for tile GH0131023, year 2018-----------\n",
      "GH0131023_2018-12.tif GH0131023_2018-12.tif\n",
      "----------Prediction data loaded for tile GH0460215, year 2020-----------\n",
      "GH0460215_2020-11.tif GH0460215_2020-11.tif\n",
      "----------Prediction data loaded for tile GH0136658, year 2018-----------\n",
      "GH0136658_2018-12.tif GH0136658_2018-12.tif\n",
      "----------Prediction data loaded for tile GH0142104, year 2018-----------\n",
      "GH0142104_2018-12.tif GH0142104_2018-12.tif\n",
      "----------Prediction data loaded for tile GH0176964, year 2018-----------\n",
      "GH0176964_2018-12.tif GH0176964_2018-12.tif\n",
      "----------Prediction data loaded for tile GH0283065, year 2018-----------\n",
      "GH0283065_2018-12.tif GH0283065_2018-12.tif\n",
      "----------Prediction data loaded for tile GH0495635, year 2020-----------\n",
      "GH0495635_2020-11.tif GH0495635_2020-11.tif\n",
      "----------Prediction data loaded for tile GH0083295, year 2018-----------\n",
      "GH0083295_2018-12.tif GH0083295_2018-12.tif\n",
      "----------Prediction data loaded for tile GH0620493, year 2018-----------\n",
      "GH0620493_2018-12.tif GH0620493_2018-12.tif\n",
      "----------Prediction data loaded for tile GH0665918, year 2018-----------\n",
      "GH0665918_2018-12.tif GH0665918_2018-12.tif\n"
     ]
    },
    {
     "name": "stderr",
     "output_type": "stream",
     "text": [
      "Processing test tiles:  36%|████████████████████████████████████████████████████████████████████▎                                                                                                                          | 54/151 [00:01<00:01, 58.55it/s]"
     ]
    },
    {
     "name": "stdout",
     "output_type": "stream",
     "text": [
      "----------Prediction data loaded for tile GH0130951, year 2018-----------\n",
      "GH0130951_2018-12.tif GH0130951_2018-12.tif\n",
      "----------Prediction data loaded for tile GH0275573, year 2018-----------\n",
      "GH0275573_2018-12.tif GH0275573_2018-12.tif\n",
      "----------Prediction data loaded for tile GH0068887, year 2018-----------\n",
      "GH0068887_2018-12.tif GH0068887_2018-12.tif\n",
      "----------Prediction data loaded for tile GH0686493, year 2018-----------\n",
      "GH0686493_2018-12.tif GH0686493_2018-12.tif\n",
      "----------Prediction data loaded for tile GH0129155, year 2018-----------\n",
      "GH0129155_2018-12.tif GH0129155_2018-12.tif\n",
      "----------Prediction data loaded for tile GH0678330, year 2018-----------\n",
      "GH0678330_2018-12.tif GH0678330_2018-12.tif\n",
      "----------Prediction data loaded for tile GH0654161, year 2018-----------\n",
      "GH0654161_2018-12.tif GH0654161_2018-12.tif\n",
      "----------Prediction data loaded for tile GH0649999, year 2018-----------\n",
      "GH0649999_2018-12.tif GH0649999_2018-12.tif\n",
      "----------Prediction data loaded for tile GH0061776, year 2018-----------\n",
      "GH0061776_2018-12.tif GH0061776_2018-12.tif\n",
      "----------Prediction data loaded for tile GH0000918, year 2018-----------\n",
      "GH0000918_2018-12.tif GH0000918_2018-12.tif\n",
      "----------Prediction data loaded for tile GH0427624, year 2020-----------\n",
      "GH0427624_2020-11.tif GH0427624_2020-11.tif\n"
     ]
    },
    {
     "name": "stderr",
     "output_type": "stream",
     "text": [
      "Processing test tiles:  46%|███████████████████████████████████████████████████████████████████████████████████████▎                                                                                                       | 69/151 [00:01<00:01, 59.35it/s]"
     ]
    },
    {
     "name": "stdout",
     "output_type": "stream",
     "text": [
      "----------Prediction data loaded for tile GH0455219, year 2020-----------\n",
      "GH0455219_2020-11.tif GH0455219_2020-11.tif\n",
      "----------Prediction data loaded for tile GH0426929, year 2020-----------\n",
      "GH0426929_2020-11.tif GH0426929_2020-11.tif\n",
      "----------Prediction data loaded for tile GH0145029, year 2018-----------\n",
      "GH0145029_2018-12.tif GH0145029_2018-12.tif\n",
      "----------Prediction data loaded for tile GH0158130, year 2018-----------\n",
      "GH0158130_2018-12.tif GH0158130_2018-12.tif\n",
      "----------Prediction data loaded for tile GH0461731, year 2020-----------\n",
      "GH0461731_2020-11.tif GH0461731_2020-11.tif\n",
      "----------Prediction data loaded for tile GH0421994, year 2020-----------\n",
      "GH0421994_2020-11.tif GH0421994_2020-11.tif\n",
      "----------Prediction data loaded for tile GH0078604, year 2018-----------\n",
      "GH0078604_2018-12.tif GH0078604_2018-12.tif\n",
      "----------Prediction data loaded for tile GH0077402, year 2018-----------\n",
      "GH0077402_2018-12.tif GH0077402_2018-12.tif\n",
      "----------Prediction data loaded for tile GH0039037, year 2018-----------\n",
      "GH0039037_2018-12.tif GH0039037_2018-12.tif\n",
      "----------Prediction data loaded for tile GH0588269, year 2018-----------\n",
      "GH0588269_2018-12.tif GH0588269_2018-12.tif\n",
      "----------Prediction data loaded for tile GH0664214, year 2018-----------\n",
      "GH0664214_2018-12.tif GH0664214_2018-12.tif\n",
      "----------Prediction data loaded for tile GH0588433, year 2018-----------\n",
      "GH0588433_2018-12.tif GH0588433_2018-12.tif\n"
     ]
    },
    {
     "name": "stderr",
     "output_type": "stream",
     "text": [
      "Processing test tiles:  54%|███████████████████████████████████████████████████████████████████████████████████████████████████████▋                                                                                       | 82/151 [00:01<00:01, 55.66it/s]"
     ]
    },
    {
     "name": "stdout",
     "output_type": "stream",
     "text": [
      "----------Prediction data loaded for tile GH0002362, year 2018-----------\n",
      "GH0002362_2018-12.tif GH0002362_2018-12.tif\n",
      "----------Prediction data loaded for tile GH0473216, year 2020-----------\n",
      "GH0473216_2020-11.tif GH0473216_2020-11.tif\n",
      "----------Prediction data loaded for tile GH0638914, year 2018-----------\n",
      "GH0638914_2018-12.tif GH0638914_2018-12.tif\n",
      "----------Prediction data loaded for tile GH0474733, year 2020-----------\n",
      "GH0474733_2020-11.tif GH0474733_2020-11.tif\n",
      "----------Prediction data loaded for tile GH0010054, year 2018-----------\n",
      "GH0010054_2018-12.tif GH0010054_2018-12.tif\n",
      "----------Prediction data loaded for tile GH0480520, year 2020-----------\n",
      "GH0480520_2020-11.tif GH0480520_2020-11.tif\n",
      "----------Prediction data loaded for tile GH0055325, year 2018-----------\n",
      "GH0055325_2018-12.tif GH0055325_2018-12.tif\n",
      "----------Prediction data loaded for tile GH0387143, year 2020-----------\n",
      "GH0387143_2020-11.tif GH0387143_2020-11.tif\n",
      "----------Prediction data loaded for tile GH0692965, year 2018-----------\n",
      "GH0692965_2018-12.tif GH0692965_2018-12.tif\n",
      "----------Prediction data loaded for tile GH0283892, year 2018-----------\n",
      "GH0283892_2018-12.tif GH0283892_2018-12.tif\n",
      "----------Prediction data loaded for tile GH0073545, year 2018-----------\n",
      "GH0073545_2018-12.tif GH0073545_2018-12.tif\n"
     ]
    },
    {
     "name": "stderr",
     "output_type": "stream",
     "text": [
      "Processing test tiles:  61%|████████████████████████████████████████████████████████████████████████████████████████████████████████████████████▎                                                                          | 92/151 [00:01<00:00, 63.15it/s]"
     ]
    },
    {
     "name": "stdout",
     "output_type": "stream",
     "text": [
      "----------Prediction data loaded for tile GH0102643, year 2018-----------\n",
      "GH0102643_2018-12.tif GH0102643_2018-12.tif\n",
      "----------Prediction data loaded for tile GH0013124, year 2018-----------\n",
      "GH0013124_2018-12.tif GH0013124_2018-12.tif\n",
      "----------Prediction data loaded for tile GH0045222, year 2018-----------\n",
      "GH0045222_2018-12.tif GH0045222_2018-12.tif\n",
      "----------Prediction data loaded for tile GH0288270, year 2018-----------\n",
      "GH0288270_2018-12.tif GH0288270_2018-12.tif\n",
      "----------Prediction data loaded for tile GH0001833, year 2018-----------\n",
      "GH0001833_2018-12.tif GH0001833_2018-12.tif\n",
      "----------Prediction data loaded for tile GH0069258, year 2018-----------\n",
      "GH0069258_2018-12.tif GH0069258_2018-12.tif\n",
      "----------Prediction data loaded for tile GH0060836, year 2018-----------\n",
      "GH0060836_2018-12.tif GH0060836_2018-12.tif\n",
      "----------Prediction data loaded for tile GH0285649, year 2018-----------\n",
      "GH0285649_2018-12.tif GH0285649_2018-12.tif\n",
      "----------Prediction data loaded for tile GH0114283, year 2018-----------\n",
      "GH0114283_2018-12.tif GH0114283_2018-12.tif\n",
      "----------Prediction data loaded for tile GH0264958, year 2018-----------\n",
      "GH0264958_2018-12.tif GH0264958_2018-12.tif\n",
      "----------Prediction data loaded for tile GH0062650, year 2018-----------\n",
      "GH0062650_2018-12.tif GH0062650_2018-12.tif\n",
      "----------Prediction data loaded for tile GH0648106, year 2018-----------\n",
      "GH0648106_2018-12.tif GH0648106_2018-12.tif\n",
      "----------Prediction data loaded for tile GH0265316, year 2020-----------\n",
      "GH0265316_2020-11.tif GH0265316_2020-11.tif\n"
     ]
    },
    {
     "name": "stderr",
     "output_type": "stream",
     "text": [
      "Processing test tiles:  70%|████████████████████████████████████████████████████████████████████████████████████████████████████████████████████████████████████                                                          | 105/151 [00:02<00:00, 57.54it/s]"
     ]
    },
    {
     "name": "stdout",
     "output_type": "stream",
     "text": [
      "----------Prediction data loaded for tile GH0165824, year 2018-----------\n",
      "GH0165824_2018-12.tif GH0165824_2018-12.tif\n",
      "----------Prediction data loaded for tile GH0203483, year 2018-----------\n",
      "GH0203483_2018-12.tif GH0203483_2018-12.tif\n",
      "----------Prediction data loaded for tile GH0140904, year 2018-----------\n",
      "GH0140904_2018-12.tif GH0140904_2018-12.tif\n",
      "----------Prediction data loaded for tile GH0080512, year 2018-----------\n",
      "GH0080512_2018-12.tif GH0080512_2018-12.tif\n",
      "----------Prediction data loaded for tile GH0484852, year 2020-----------\n",
      "GH0484852_2020-11.tif GH0484852_2020-11.tif\n",
      "----------Prediction data loaded for tile GH0339919, year 2020-----------\n",
      "GH0339919_2020-11.tif GH0339919_2020-11.tif\n",
      "----------Prediction data loaded for tile GH0069102, year 2018-----------\n",
      "GH0069102_2018-12.tif GH0069102_2018-12.tif\n",
      "----------Prediction data loaded for tile GH0292750, year 2018-----------\n",
      "GH0292750_2018-12.tif GH0292750_2018-12.tif\n",
      "----------Prediction data loaded for tile GH0084348, year 2018-----------\n",
      "GH0084348_2018-12.tif GH0084348_2018-12.tif\n",
      "----------Prediction data loaded for tile GH0653159, year 2020-----------\n",
      "GH0653159_2020-12.tif GH0653159_6394_2020-12.tif\n",
      "----------Prediction data loaded for tile GH0014335, year 2021-----------\n",
      "GH0014335_2021-04.tif GH0014335_17959_2021-04.tif\n"
     ]
    },
    {
     "name": "stderr",
     "output_type": "stream",
     "text": [
      "Processing test tiles:  78%|████████████████████████████████████████████████████████████████████████████████████████████████████████████████████████████████████████████████████▍                                         | 118/151 [00:02<00:00, 58.28it/s]"
     ]
    },
    {
     "name": "stdout",
     "output_type": "stream",
     "text": [
      "----------Prediction data loaded for tile GH0321709, year 2022-----------\n",
      "GH0321709_2022-12.tif GH0321709_3076_2022-12.tif\n",
      "----------Prediction data loaded for tile GH0000539, year 2018-----------\n",
      "GH0000539_2018-02.tif GH0000539_15037_2018-02.tif\n",
      "----------Prediction data loaded for tile GH0433491, year 2022-----------\n",
      "GH0433491_2022-12.tif GH0433491_22321_2022-12.tif\n",
      "----------Prediction data loaded for tile GH0251385, year 2018-----------\n",
      "GH0251385_2018-02.tif GH0251385_13347_2018-02.tif\n",
      "----------Prediction data loaded for tile GH0682438, year 2019-----------\n",
      "GH0682438_2019-02.tif GH0682438_22593_2019-02.tif\n",
      "----------Prediction data loaded for tile GH0288179, year 2020-----------\n",
      "GH0288179_2020-12.tif GH0288179_19121_2020-12.tif\n",
      "----------Prediction data loaded for tile GH0176860, year 2018-----------\n",
      "GH0176860_2018-02.tif GH0176860_41113_2018-02.tif\n",
      "----------Prediction data loaded for tile GH0163936, year 2017-----------\n",
      "GH0163936_2017-02.tif GH0163936_630_2017-02.tif\n",
      "----------Prediction data loaded for tile GH0624670, year 2023-----------\n",
      "GH0624670_2023-03.tif GH0624670_30536_2023-03.tif\n",
      "----------Prediction data loaded for tile GH0644788, year 2017-----------\n",
      "GH0644788_2017-02.tif GH0644788_22390_2017-02.tif\n",
      "----------Prediction data loaded for tile GH0258569, year 2021-----------\n",
      "GH0258569_2021-12.tif GH0258569_40340_2021-12.tif\n",
      "----------Prediction data loaded for tile GH0226726, year 2022-----------\n",
      "GH0226726_2022-12.tif GH0226726_17964_2022-12.tif\n",
      "----------Prediction data loaded for tile GH0059353, year 2017-----------\n",
      "GH0059353_2017-02.tif GH0059353_9583_2017-02.tif\n",
      "----------Prediction data loaded for tile GH0460839, year 2022-----------\n",
      "GH0460839_2022-12.tif GH0460839_17971_2022-12.tif\n"
     ]
    },
    {
     "name": "stderr",
     "output_type": "stream",
     "text": [
      "Processing test tiles:  87%|████████████████████████████████████████████████████████████████████████████████████████████████████████████████████████████████████████████████████████████████████▊                         | 131/151 [00:02<00:00, 52.37it/s]"
     ]
    },
    {
     "name": "stdout",
     "output_type": "stream",
     "text": [
      "----------Prediction data loaded for tile GH0003848, year 2021-----------\n",
      "GH0003848_2021-08.tif GH0003848_22488_2021-08.tif\n",
      "----------Prediction data loaded for tile GH0313889, year 2023-----------\n",
      "GH0313889_2023-12.tif GH0313889_37016_2023-12.tif\n",
      "----------Prediction data loaded for tile GH0059960, year 2017-----------\n",
      "GH0059960_2017-02.tif GH0059960_22231_2017-02.tif\n",
      "----------Prediction data loaded for tile GH0456539, year 2018-----------\n",
      "GH0456539_2018-02.tif GH0456539_822_2018-02.tif\n",
      "----------Prediction data loaded for tile GH0589100, year 2022-----------\n",
      "GH0589100_2022-08.tif GH0589100_29816_2022-08.tif\n",
      "----------Prediction data loaded for tile GH0020527, year 2023-----------\n",
      "GH0020527_2023-04.tif GH0020527_29865_2023-04.tif\n",
      "----------Prediction data loaded for tile GH0246057, year 2022-----------\n",
      "GH0246057_2022-12.tif GH0246057_41151_2022-12.tif\n",
      "----------Prediction data loaded for tile GH0298405, year 2019-----------\n",
      "GH0298405_2019-02.tif GH0298405_6386_2019-02.tif\n",
      "----------Prediction data loaded for tile GH0245464, year 2020-----------\n",
      "GH0245464_2020-12.tif GH0245464_7417_2020-12.tif\n",
      "----------Prediction data loaded for tile GH0501006, year 2017-----------\n",
      "GH0501006_2017-02.tif GH0501006_10658_2017-02.tif\n"
     ]
    },
    {
     "name": "stderr",
     "output_type": "stream",
     "text": [
      "Processing test tiles:  91%|████████████████████████████████████████████████████████████████████████████████████████████████████████████████████████████████████████████████████████████████████████████▍                 | 137/151 [00:02<00:00, 44.39it/s]"
     ]
    },
    {
     "name": "stdout",
     "output_type": "stream",
     "text": [
      "----------Prediction data loaded for tile GH0056531, year 2018-----------\n",
      "GH0056531_2018-02.tif GH0056531_22498_2018-02.tif\n",
      "----------Prediction data loaded for tile GH0570911, year 2017-----------\n",
      "GH0570911_2017-02.tif GH0570911_33031_2017-02.tif\n",
      "----------Prediction data loaded for tile GH0540994, year 2018-----------\n",
      "GH0540994_2018-08.tif GH0540994_22584_2018-08.tif\n",
      "----------Prediction data loaded for tile GH0747247, year 2020-----------\n",
      "GH0747247_2020-12.tif GH0747247_9600_2020-12.tif\n",
      "----------Prediction data loaded for tile GH0141970, year 2020-----------\n",
      "GH0141970_2020-02.tif GH0141970_13970_2020-02.tif\n",
      "----------Prediction data loaded for tile GH0285763, year 2022-----------\n",
      "GH0285763_2022-12.tif GH0285763_27134_2022-12.tif\n"
     ]
    },
    {
     "name": "stderr",
     "output_type": "stream",
     "text": [
      "Processing test tiles: 100%|██████████████████████████████████████████████████████████████████████████████████████████████████████████████████████████████████████████████████████████████████████████████████████████████| 151/151 [00:02<00:00, 52.14it/s]"
     ]
    },
    {
     "name": "stdout",
     "output_type": "stream",
     "text": [
      "----------Prediction data loaded for tile GH0090018, year 2017-----------\n",
      "GH0090018_2017-08.tif GH0090018_13969_2017-08.tif\n",
      "----------Prediction data loaded for tile GH0097202, year 2021-----------\n",
      "GH0097202_2021-04.tif GH0097202_22508_2021-04.tif\n",
      "----------Prediction data loaded for tile GH0064654, year 2020-----------\n",
      "GH0064654_2020-02.tif GH0064654_6374_2020-02.tif\n",
      "----------Prediction data loaded for tile GH0345353, year 2019-----------\n",
      "GH0345353_2019-02.tif GH0345353_34693_2019-02.tif\n",
      "----------Prediction data loaded for tile GH0065558, year 2020-----------\n",
      "GH0065558_2020-02.tif GH0065558_22499_2020-02.tif\n",
      "----------Prediction data loaded for tile GH0635606, year 2019-----------\n",
      "GH0635606_2019-02.tif GH0635606_37667_2019-02.tif\n",
      "----------Prediction data loaded for tile GH0266377, year 2019-----------\n",
      "GH0266377_2019-02.tif GH0266377_31279_2019-02.tif\n",
      "----------Prediction data loaded for tile GH0235985, year 2018-----------\n",
      "GH0235985_2018-02.tif GH0235985_9591_2018-02.tif\n",
      "----------Prediction data loaded for tile GH0013581, year 2021-----------\n",
      "GH0013581_2021-04.tif GH0013581_2402_2021-04.tif\n",
      "----------Prediction data loaded for tile GH0335147, year 2021-----------\n",
      "GH0335147_2021-03.tif GH0335147_9594_2021-03.tif\n",
      "----------Prediction data loaded for tile GH0150657, year 2017-----------\n",
      "GH0150657_2017-02.tif GH0150657_27123_2017-02.tif\n",
      "----------Prediction data loaded for tile GH0233952, year 2022-----------\n",
      "GH0233952_2022-04.tif GH0233952_41159_2022-04.tif\n",
      "----------Prediction data loaded for tile GH0304027, year 2020-----------\n",
      "GH0304027_2020-12.tif GH0304027_1914_2020-12.tif\n"
     ]
    },
    {
     "name": "stderr",
     "output_type": "stream",
     "text": [
      "\n"
     ]
    },
    {
     "name": "stdout",
     "output_type": "stream",
     "text": [
      "All test tiles saved to ./pickles/finetune/test_data_lbl_2cls.pkl with 151 total chips\n"
     ]
    }
   ],
   "source": [
    "import os\n",
    "import pickle\n",
    "import pandas as pd\n",
    "import numpy as np\n",
    "from pathlib import Path\n",
    "from datatorch import ImageData\n",
    "from tqdm import tqdm\n",
    "\n",
    "# === Configuration ===\n",
    "catalog_csv = \"./finetune.csv\"\n",
    "data_path = \"/home/airg/data/labels/cropland\"\n",
    "pickle_dir = \"./pickles/finetune\"\n",
    "output_file = os.path.join(pickle_dir, \"test_data_lbl_2cls.pkl\")\n",
    "\n",
    "os.makedirs(pickle_dir, exist_ok=True)\n",
    "\n",
    "# === Load catalog and find test rows ===\n",
    "catalog_df = pd.read_csv(catalog_csv)\n",
    "test_indices = catalog_df[catalog_df[\"usage\"] == \"test\"].index\n",
    "\n",
    "# === Initialize containers ===\n",
    "all_chips = []\n",
    "all_chip_indices = []\n",
    "all_lbl_paths = []\n",
    "all_metadata = []\n",
    "all_tile_ids = []\n",
    "all_years = []\n",
    "\n",
    "# === Loop through each test tile ===\n",
    "for catalog_index in tqdm(test_indices, desc=\"Processing test tiles\"):\n",
    "    dataset = ImageData(\n",
    "        data_path=data_path,\n",
    "        log_dir=\"./work_dir/logs\",\n",
    "        catalog=catalog_df.copy(),\n",
    "        data_size=224,\n",
    "        buffer=0,\n",
    "        buffer_comp=0,\n",
    "        usage=\"predict\",\n",
    "        img_path_cols=\"label\",\n",
    "        catalog_index=catalog_index,\n",
    "        apply_normalization=False,\n",
    "        normal_strategy=\"min_max\",\n",
    "        stat_procedure=\"lab\",\n",
    "        global_stats=None,\n",
    "        trans=None,\n",
    "        parallel=False,\n",
    "        clip_val=0\n",
    "    )\n",
    "\n",
    "    # Convert labels: replace 2 with 1 to create binary labels\n",
    "    binary_labels = [np.where(chip == 2, 1, chip) for chip in dataset.img]\n",
    "\n",
    "    all_chips.extend(binary_labels)\n",
    "    all_chip_indices.extend(dataset.index)\n",
    "    all_metadata.extend([dataset.meta] * len(binary_labels))\n",
    "    all_tile_ids.extend([dataset.tile] * len(binary_labels))\n",
    "    all_years.extend([dataset.year] * len(binary_labels))\n",
    "\n",
    "    full_path = dataset.catalog[\"label\"]\n",
    "    filename = Path(full_path).name\n",
    "    parts = filename.replace(\".tif\", \"\").split(\"_\")\n",
    "\n",
    "    # Format as GHxxxxx_yyyy-mm.tif\n",
    "    if len(parts) == 3:\n",
    "        new_filename = f\"{parts[0]}_{parts[2]}.tif\"\n",
    "    else:\n",
    "        new_filename = filename\n",
    "\n",
    "    print(new_filename, filename)\n",
    "    all_lbl_paths.extend([new_filename] * len(binary_labels))\n",
    "\n",
    "# === Final pickle object ===\n",
    "to_save = {\n",
    "    \"chips\": all_chips,\n",
    "    \"chip_indices\": all_chip_indices,\n",
    "    \"metadata\": all_metadata,\n",
    "    \"label_paths\": all_lbl_paths,\n",
    "    \"tile_ids\": all_tile_ids,\n",
    "    \"years\": all_years\n",
    "}\n",
    "\n",
    "# === Save to file ===\n",
    "with open(output_file, \"wb\") as f:\n",
    "    pickle.dump(to_save, f)\n",
    "\n",
    "print(f\"All test tiles saved to {output_file} with {len(all_chips)} total chips\")\n"
   ]
  },
  {
   "cell_type": "code",
   "execution_count": 44,
   "id": "8e537468-01f2-4cf3-bf2f-1e10cb48e980",
   "metadata": {
    "tags": []
   },
   "outputs": [
    {
     "data": {
      "text/plain": [
       "('GH0304027_2020-12.tif', 'GH0304027_1914_2020-12.tif')"
      ]
     },
     "execution_count": 44,
     "metadata": {},
     "output_type": "execute_result"
    }
   ],
   "source": [
    "new_filename, filename"
   ]
  },
  {
   "cell_type": "code",
   "execution_count": null,
   "id": "5f2abbf2-644d-4a36-bbd1-a2253eb91430",
   "metadata": {},
   "outputs": [],
   "source": []
  }
 ],
 "metadata": {
  "kernelspec": {
   "display_name": "Python 3 (ipykernel)",
   "language": "python",
   "name": "python3"
  },
  "language_info": {
   "codemirror_mode": {
    "name": "ipython",
    "version": 3
   },
   "file_extension": ".py",
   "mimetype": "text/x-python",
   "name": "python",
   "nbconvert_exporter": "python",
   "pygments_lexer": "ipython3",
   "version": "3.11.6"
  }
 },
 "nbformat": 4,
 "nbformat_minor": 5
}
